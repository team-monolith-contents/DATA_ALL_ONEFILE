{
 "cells": [
  {
   "cell_type": "markdown",
   "id": "727ea7a9-bac0-4bb3-afbc-4981950e3fd1",
   "metadata": {
    "tags": []
   },
   "source": [
    "# **[1-1] 시리즈(Series)와 데이터프레임(DataFrame)**"
   ]
  },
  {
   "cell_type": "markdown",
   "id": "0a5448d2-a09e-484c-adf2-6c2e5d0232b8",
   "metadata": {
    "tags": []
   },
   "source": [
    "## **🎯 학습 목표**\n",
    "**시리즈(Series)와 데이터프레임(DataFrame)이 무엇인지 알아봅니다.**"
   ]
  },
  {
   "cell_type": "markdown",
   "id": "01cb348d-d551-4559-910d-6d97d46c0385",
   "metadata": {},
   "source": [
    "---"
   ]
  },
  {
   "cell_type": "markdown",
   "id": "cefa182a-3671-4265-9e38-e05da0367af9",
   "metadata": {
    "tags": []
   },
   "source": [
    "Pandas에서는 데이터를 표현하기 위해 2가지 자료구조를 사용합니다.  \n",
    "하나는 1차원 데이터를 표현하기 위한 `Series`이고 나머지 하나는 2차원 데이터를 표현하기 위한 `DataFrame`입니다. \n",
    "\n",
    "> - Series: 1개 열의 데이터 (1차원) </br>\n",
    "> > 활용 방법 : `pd.Series(데이터 변수)`\n",
    "> - DataFrame: 여러 Series가 합쳐진 n개 열의 데이터 (2차원)</br>\n",
    "> > 활용 방법 : `pd.DataFrame(데이터 변수)`\n",
    "\n",
    "<table>\n",
    "<tr>\n",
    "    <th><img src=\"https://tmn-bucket-materials-all.s3.ap-northeast-2.amazonaws.com/image/pandas/material_01-01.png\" width=\"750\"></th>\n",
    "</tr>\n",
    "<tr>\n",
    "    <th>판다스 시리즈의 구조</th>\n",
    "</tr>\n",
    "</table>"
   ]
  },
  {
   "cell_type": "markdown",
   "id": "c394efe4-b434-4c7c-a839-dfa9550cfcaa",
   "metadata": {},
   "source": [
    "## 시리즈(Series)와 데이터프레임(DataFrame)의 관계"
   ]
  },
  {
   "cell_type": "markdown",
   "id": "ead296da-36f9-4ea9-b396-4fa51de4e743",
   "metadata": {
    "jp-MarkdownHeadingCollapsed": true,
    "tags": []
   },
   "source": [
    "Pandas의 시리즈(Series)와 데이터프레임(DataFrame)은 포함관계에 있습니다.  \n",
    "시리즈가 모여서 데이터프레임이되고 데이터프레임이 나뉘면 시리즈가 됩니다.\n",
    "\n",
    "이후에 배울 `concat()` 함수를 통해 시리즈를 합쳐 데이터프레임을 만들 수 있습니다.  \n",
    "마찬가지로 이후에 배울 인덱싱을 사용하여 데이터프레임의 하나의 열을 가져오면 시리즈가 됩니다.  \n",
    "\n",
    "아래의 그림을 보면 데이터프레임과 시리즈의 관계를 알 수 있습니다.\n",
    "\n",
    "<table>\n",
    "<tr>\n",
    "    <th><img src=\"https://tmn-bucket-materials-all.s3.ap-northeast-2.amazonaws.com/image/pandas/material_01-06.png\" width=\"750\"></th>\n",
    "</tr>\n",
    "<tr>\n",
    "    <th>시리즈와 데이터프레임의 관계</th>\n",
    "</tr>\n",
    "</table>"
   ]
  },
  {
   "cell_type": "markdown",
   "id": "5893df26-62e4-4f44-9c9b-7845b25f32a6",
   "metadata": {},
   "source": [
    "## Pandas에서의 결측치"
   ]
  },
  {
   "cell_type": "markdown",
   "id": "85d09a51-9b89-4d95-a321-65e1696a142f",
   "metadata": {},
   "source": [
    "Pandas에서 비어있는 값을 **결측치**라고 부릅니다.  \n",
    "데이터에서는 `NaN`으로 표시합니다.  \n",
    "\n",
    "<table>\n",
    "<tr>\n",
    "    <th><img src=\"https://tmn-bucket-materials-all.s3.ap-northeast-2.amazonaws.com/image/pandas/material_01_07.gif\" width=\"750\"></th>\n",
    "</tr>\n",
    "<tr>\n",
    "    <th>시리즈와 데이터프레임의 관계</th>\n",
    "</tr>\n",
    "</table>"
   ]
  },
  {
   "cell_type": "markdown",
   "id": "33df3be9-9a67-44cb-b753-ad290aba80db",
   "metadata": {},
   "source": [
    "> **❓ QUESTIONS:**\n",
    ">\n",
    "> 데이터프레임과 시리즈의 관계를 설명해봅시다.\n"
   ]
  },
  {
   "cell_type": "raw",
   "id": "06cdb56a-bf41-47c9-9972-3839ac1898ca",
   "metadata": {},
   "source": [
    "질문에 대한 대답을 여기에 적어봅시다."
   ]
  },
  {
   "cell_type": "markdown",
   "id": "a07a4f2c",
   "metadata": {
    "tags": []
   },
   "source": [
    "# **[1-2] 시리즈(Series)의 구조**"
   ]
  },
  {
   "cell_type": "markdown",
   "id": "23c47e4f",
   "metadata": {
    "tags": []
   },
   "source": [
    "## **🎯 학습 목표**\n",
    "**시리즈(Series)의 구조에 대해 이해합니다.**"
   ]
  },
  {
   "cell_type": "markdown",
   "id": "558e32c3",
   "metadata": {},
   "source": [
    "---"
   ]
  },
  {
   "cell_type": "markdown",
   "id": "f8f50e14-a9a4-4c5e-9eb2-9c7d86c194a3",
   "metadata": {
    "jp-MarkdownHeadingCollapsed": true,
    "tags": []
   },
   "source": [
    "Pandas에서 시리즈(Series)는 `name`, `data`, `index`으로 구성되어 있습니다.\n",
    "\n",
    "`name`은 Series의 이름입니다.  \n",
    "`data`는 Series가 가지고 있는 데이터들입니다.  \n",
    "`index`는 Series에 포함된 데이터들의 인덱스들입니다.\n",
    "\n",
    "> **✏️ NOTE:** index가 무엇인가요?  \n",
    ">\n",
    "> 인덱스(index, 색인)은 위치 값을 뜻합니다.  \n",
    ">책을 볼 때에 목차를 통해 원하는 내용이 있는 페이지로 바로 이동할 수 있는 것 처럼 인덱스를 통해 원하는 데이터에 접근할 수 있습니다.\n",
    "\n",
    "<table>\n",
    "<tr>\n",
    "    <th><img src=\"https://tmn-bucket-materials-all.s3.ap-northeast-2.amazonaws.com/image/pandas/material_01-02.png\" width=\"750\"></th>\n",
    "</tr>\n",
    "<tr>\n",
    "    <th>판다스 시리즈의 구조</th>\n",
    "</tr>\n",
    "</table>\n",
    "\n",
    "각각 `Series.name`, `Series.data`, `Series.index` 속성들을 통해 확인할 수 있습니다.\n",
    "\n",
    "> **🎨 속성(ATTRIBUTES):**\n",
    ">\n",
    "> `Series.index` : 인덱스들을 저장하고 있는 Index 타입의 속성  \n",
    "> `Series.values` : 데이터를 저장하고 있는 Numpy.array 타입의 속성  \n",
    "> `Series.name` : 이름을 저장하고 있는 문자열 타입의 속성    \n",
    "\n",
    "> **🔨 함수(FUNCTIONS):**\n",
    ">\n",
    "> `list(인자)` : 인자가 list로 바뀔 수 있다면 리스트로 바뀐 값을 반환합니다.  \n",
    "> list로 바뀔 수 없다면 오류를 발생시킵니다.\n",
    "\n",
    "\n"
   ]
  },
  {
   "cell_type": "code",
   "execution_count": null,
   "id": "d3bfedf0-6cf9-438d-8972-a5d5ee117e4d",
   "metadata": {
    "tags": [
     "jce.problems.173.예제_01-Pandas_시리즈의_구성_확인하기"
    ]
   },
   "outputs": [],
   "source": [
    "# 예제_01_Pandas_시리즈의_구성_확인하기\n",
    "\n",
    "import pandas as pd\n",
    "\n",
    "my_series = pd.Series(['apple','banana','cat','dog','egg'],\n",
    "                      index = ['a','b','c','d','e'],\n",
    "                      name = '알파벳')\n",
    "\n",
    "print(my_series)\n",
    "print('#'*100)\n",
    "print(\"Index: \", my_series.index)\n",
    "print(\"Data: \", my_series.values)\n",
    "print(\"Name: \", my_series.name)"
   ]
  },
  {
   "cell_type": "code",
   "execution_count": null,
   "id": "170ad574-f25e-470d-b4da-f576a9215c26",
   "metadata": {
    "tags": [
     "jce.problems.173.예제_02-인덱스와_데이터의_타입_변경하기"
    ]
   },
   "outputs": [],
   "source": [
    "# 예제_02_인덱스와_데이터의_타입_변경하기\n",
    "\n",
    "import pandas as pd\n",
    "\n",
    "my_series = pd.Series(['apple','banana','cat','dog','egg'],\n",
    "                      index = ['a','b','c','d','e'],\n",
    "                      name = '알파벳')\n",
    "\n",
    "print(my_series)\n",
    "print('#'*100)\n",
    "print(\"리스트로 변환 전\")\n",
    "print(\"Index: \", list(my_series.index))\n",
    "print(\"Index type: \", type(my_series.index))\n",
    "print(\"Data: \", list(my_series.values))\n",
    "print(\"Data type: \", type(my_series.values))\n",
    "print('#'*100)\n",
    "print(\"리스트로 변환 후\")\n",
    "print(\"Index: \", list(my_series.index))\n",
    "print(\"Index type: \", type(list(my_series.index)))\n",
    "print(\"Data: \", list(my_series.values))\n",
    "print(\"Index type: \", type(list(my_series.values)))"
   ]
  },
  {
   "cell_type": "markdown",
   "id": "ad1fd070-427e-4d63-99ac-e45af2371b0a",
   "metadata": {},
   "source": [
    "> **❓ QUESTIONS:**\n",
    ">\n",
    "> 리스트(list)와 Pandas의 시리즈(Series)는 어떤 점이 비슷하고 어떤 점이 다른가요??  \n",
    ">또, 딕셔너리(dictionary)와 시리즈(Series)는 어떤 점이 비슷하고 어떤 점이 다른가요??  \n"
   ]
  },
  {
   "cell_type": "raw",
   "id": "0e4129a6-4b3a-46ee-8293-d99ea553049d",
   "metadata": {},
   "source": [
    "질문에 대한 대답을 여기에 적어봅시다."
   ]
  },
  {
   "cell_type": "markdown",
   "id": "6d52665e-160e-4e77-b1ff-ded56e8a3751",
   "metadata": {},
   "source": [
    "### **💯 연습문제를 풀어봅시다**\n",
    "\n",
    "1. <a class=\"jcecodle-mk jcecodle-mk__problem-chip\" data-problem-id=\"B67IHw_tw50\" href='#jce-judge/open/B67IHw_tw50' target='_self'><span>판다스 기초 - 시리즈 인덱스</span></a>\n",
    "\n",
    "\n",
    "2. <a class=\"jcecodle-mk jcecodle-mk__problem-chip\" data-problem-id=\"F_e2WtqdvEY\" href='#jce-judge/open/F_e2WtqdvEY' target='_self'><span>판다스 기초 - 제철과일</span></a>\n",
    "\n",
    "3. <a class=\"jcecodle-mk jcecodle-mk__problem-chip\" data-problem-id=\"X2KlLVDDz00\" href='#jce-judge/open/X2KlLVDDz00' target='_self'><span>판다스 기초 - 시리즈 이름</span></a>\n",
    "\n",
    "4. <a class=\"jcecodle-mk jcecodle-mk__problem-chip\" data-problem-id=\"4MjEBLXXxEM\" href='#jce-judge/open/4MjEBLXXxEM' target='_self'><span>판다스 기초 - 시리즈 요소 확인하기</span></a>"
   ]
  },
  {
   "cell_type": "markdown",
   "id": "8eeea8d8",
   "metadata": {
    "tags": []
   },
   "source": [
    "# **[1-3] 데이터프레임(DataFrame)의 구조**"
   ]
  },
  {
   "cell_type": "markdown",
   "id": "c11349d9",
   "metadata": {
    "tags": []
   },
   "source": [
    "## **🎯 학습 목표**\n",
    "**데이터프레임(DataFrame)의 구조에 대해 이해합니다.**"
   ]
  },
  {
   "cell_type": "markdown",
   "id": "67860ae6",
   "metadata": {},
   "source": [
    "---"
   ]
  },
  {
   "cell_type": "markdown",
   "id": "d7a94153-cb76-40a1-bf75-73a26af3d9d6",
   "metadata": {
    "jp-MarkdownHeadingCollapsed": true,
    "tags": []
   },
   "source": [
    "Pandas에서 데이터프레임(DataFrame)은 `column`, `index`, `data`으로 구성되어 있습니다.\n",
    "\n",
    "`column`은 DataFrame에 포함된 열(column)들입니다.  \n",
    "`index`는 DataFrame에 포함된 행(row)들입니다.  \n",
    "`data`는 DataFrame이 가지고 있는 데이터들입니다. \n",
    "\n",
    "<table>\n",
    "<tr>\n",
    "    <th><img src=\"https://tmn-bucket-materials-all.s3.ap-northeast-2.amazonaws.com/image/pandas/material_01-03.png\" width=\"750\"></th>\n",
    "</tr>\n",
    "<tr>\n",
    "    <th>판다스 시리즈의 구조</th>\n",
    "</tr>\n",
    "</table>\n",
    "\n",
    "각각 `DataFrame.columns`, `DataFrame.index`, `DataFrame.values` 속성들을 통해 확인할 수 있습니다.\n",
    "\n",
    "> **🎨 속성(ATTRIBUTES):**\n",
    ">\n",
    "> `DataFrame.columns` : 열 인덱스들을 저장하고 있는 Index 타입의 속성  \n",
    "> `DataFrame.index` : 행 인덱스들을 저장하고 있는 Index 타입의 속성  \n",
    "> `DataFrame.values` : 데이터를 저장하고 있는 Numpy.array 타입의 속성\n",
    "\n",
    "시리즈(Series)와 마찬가지로 `list()` 함수로 `column`, `index`, `data`를 리스트(list) 타입으로 바꿀 수 있습니다.\n",
    "\n",
    "\n"
   ]
  },
  {
   "cell_type": "code",
   "execution_count": null,
   "id": "68d14109-d83f-4f5c-84c5-0a811749c1e1",
   "metadata": {
    "tags": [
     "jce.problems.173.예제_01-Pandas_Series의_구성_확인하기"
    ]
   },
   "outputs": [],
   "source": [
    "# 예제_01_Pandas_DataFrame의_구성_확인하기\n",
    "\n",
    "import pandas as pd\n",
    "\n",
    "my_dataframe = pd.DataFrame([['a',5,'e'],['b',6,'a'],['c',3,'t'],['d',3,'g'],['e',3,'g']],\n",
    "                         index = ['apple','banana','cat','dog','egg'],\n",
    "                         columns = [['첫글자', '길이', '마지막글자']])\n",
    "\n",
    "print(my_dataframe)\n",
    "print('#'*100)\n",
    "print(\"Index: \", my_dataframe.index)\n",
    "print(\"Column: \", my_dataframe.columns)\n",
    "print(\"Data: \", my_dataframe.values)"
   ]
  },
  {
   "cell_type": "code",
   "execution_count": null,
   "id": "4701724e-d5e1-463e-a11f-2c7d6f5cc07e",
   "metadata": {
    "tags": [
     "jce.problems.173.예제_02-Index와_Data의_타입_변경하기"
    ]
   },
   "outputs": [],
   "source": [
    "# 예제_02_DataFrame의 속성값들의_타입_변경하기\n",
    "\n",
    "import pandas as pd\n",
    "\n",
    "my_dataframe = pd.DataFrame([['a',5,'e'],['b',6,'a'],['c',3,'t'],['d',3,'g'],['e',3,'g']],\n",
    "                         index = ['apple','banana','cat','dog','egg'],\n",
    "                         columns = ['첫글자', '길이', '마지막글자'])\n",
    "\n",
    "print(my_dataframe)\n",
    "print('#'*100)\n",
    "print(\"리스트로 변환 전\")\n",
    "print(\"Column: \", my_dataframe.columns)\n",
    "print(\"Column Type: \", type(my_dataframe.columns))\n",
    "print(\"Index: \", my_dataframe.index)\n",
    "print(\"Index Type: \", type(my_dataframe.index))\n",
    "print(\"Data: \", my_dataframe.values)\n",
    "print(\"Data Type: \", type(my_dataframe.values))\n",
    "print('#'*100)\n",
    "print(\"리스트로 변환 후\")\n",
    "print(\"Column: \", list(my_dataframe.columns))\n",
    "print(\"Column Type: \", type(list(my_dataframe.columns)))\n",
    "print(\"Index: \", list(my_dataframe.index))\n",
    "print(\"Index Type: \", type(list(my_dataframe.index)))\n",
    "print(\"Data: \", list(my_dataframe.values))\n",
    "print(\"Data Type: \", type(list(my_dataframe.values)))"
   ]
  },
  {
   "cell_type": "markdown",
   "id": "e9e0e88a-69a5-422e-beed-d10b0e195390",
   "metadata": {},
   "source": [
    "> **❓ QUESTIONS:**\n",
    ">\n",
    "> 열이 하나만 존재하는 데이터프레임(DataFrame)과 시리즈(Series)는 어떤 점이 비슷하고 어떤 점이 다른가요?\n"
   ]
  },
  {
   "cell_type": "raw",
   "id": "03ed31ee-8174-4f47-b7db-2357217adbc4",
   "metadata": {},
   "source": [
    "질문에 대한 대답을 여기에 적어봅시다."
   ]
  },
  {
   "cell_type": "markdown",
   "id": "f1956aac-7da0-4dc2-bce3-a08ad3037bf2",
   "metadata": {},
   "source": [
    "### **💯 연습문제를 풀어봅시다**\n",
    "\n",
    "1. <a class=\"jcecodle-mk jcecodle-mk__problem-chip\" data-problem-id=\"Jj4KxNJ4NZE\" href='#jce-judge/open/Jj4KxNJ4NZE' target='_self'><span>판다스 기초 - column 확인하기</span></a>\n",
    "\n",
    "2. <a class=\"jcecodle-mk jcecodle-mk__problem-chip\" data-problem-id=\"nyza019DULk\" href='#jce-judge/open/nyza019DULk' target='_self'><span>판다스 기초 - data 확인하기</span></a>\n",
    "\n",
    "\n",
    "3. <a class=\"jcecodle-mk jcecodle-mk__problem-chip\" data-problem-id=\"JUghSoAbOM0\" href='#jce-judge/open/JUghSoAbOM0' target='_self'><span>판다스 기초 - index 확인하기</span></a>\n",
    "\n",
    "\n",
    "4. <a class=\"jcecodle-mk jcecodle-mk__problem-chip\" data-problem-id=\"kFRTYiv15_0\" href='#jce-judge/open/kFRTYiv15_0' target='_self'><span>판다스 기초 - 인덱스, 열, 데이터 리스트</span></a>\n",
    "\n",
    "\n",
    "5. <a class=\"jcecodle-mk jcecodle-mk__problem-chip\" data-problem-id=\"MiKGzQxQIZ4\" href='#jce-judge/open/MiKGzQxQIZ4' target='_self'><span>판다스 기초 - 데이터프레임 요소 확인</span></a>\n",
    "\n",
    "6. <a class=\"jcecodle-mk jcecodle-mk__problem-chip\" data-problem-id=\"EkzhU4G6u90\" href='#jce-judge/open/EkzhU4G6u90' target='_self'><span>판다스 기초 - 옷 색깔</span></a>\n",
    "\n"
   ]
  },
  {
   "cell_type": "markdown",
   "id": "4e1a104a",
   "metadata": {
    "tags": []
   },
   "source": [
    "# **[1-4] 시리즈(Series)와 데이터프레임(DataFrame)의 크기**"
   ]
  },
  {
   "cell_type": "markdown",
   "id": "17873e06",
   "metadata": {
    "tags": []
   },
   "source": [
    "## **🎯 학습 목표**\n",
    "**시리즈(Series)와 데이터프레임(DataFrame)의 크기를 확인할 수 있습니다.**"
   ]
  },
  {
   "cell_type": "markdown",
   "id": "a01235bb",
   "metadata": {},
   "source": [
    "---"
   ]
  },
  {
   "cell_type": "markdown",
   "id": "7c0b7978-e91b-499e-835d-41b2162e7b56",
   "metadata": {
    "jp-MarkdownHeadingCollapsed": true,
    "tags": []
   },
   "source": [
    "데이터를 크기를 파악하는 것도 데이터 분석에서 중요합니다.  \n",
    "시리즈(Series)와 데이터프레임(DataFrame)에 데이터프레임(DataFrame)의 `shape` 속성을 통해 확인할 수 있습니다.\n",
    "\n",
    "> **🎨 속성(ATTRIBUTES):**\n",
    ">\n",
    "> `Series.shape` : 시리즈(Series)의 크기를 (데이터 수,) 형태의 튜플(tuple) 타입 변수를 저장하고 있습니다.  \n",
    "> `DataFrame.shape` : 데이터프레임(DataFrame)의 크기를 (데이터 수,열 수) 형태의 튜플(tuple) 타입의 변수를 저장하고 있습니다.\n",
    "\n",
    "<table>\n",
    "<tr>\n",
    "    <th><img src=\"https://tmn-bucket-materials-all.s3.ap-northeast-2.amazonaws.com/image/pandas/material_01-04.png\" width=\"500\"></th>\n",
    "    <th><img src=\"https://tmn-bucket-materials-all.s3.ap-northeast-2.amazonaws.com/image/pandas/material_01-05.png\" width=\"500\"></th>\n",
    "</tr>\n",
    "<tr>\n",
    "    <th>시리즈의 크기</th>\n",
    "    <th>데이터프레임의 크기</th>\n",
    "</tr>\n",
    "</table>\n",
    "\n",
    "> **✏️ NOTE:** 튜플(tuple)이 무엇인가요?  \n",
    ">\n",
    "> 튜플(tuple)은 리스트와 비슷한 자료형이다.  \n",
    "> 포함 된 요소들을 바꿀 수 없다는 차이점이 있습니다.  \n",
    "> i 인덱스의 요소에 접근하기 위해 리스트와 마찬가지로 tuple[i]의 방법을 사용합니다.\n",
    ">\n",
    "> `Series.shape[0]` : 시리즈(Series)에 포함된 데이터의 수  \n",
    "> `DataFrame.shape[0]` : 데이터프레임(DataFrame)에 포함된 데이터의 수  \n",
    "> `DataFrame.shape[1]` : 데이터프레임(DataFrame)의 열의 수\n",
    ">\n",
    "> 위에서 보이는 방법으로 각 요소를 사용할 수 있습니다.\n"
   ]
  },
  {
   "cell_type": "code",
   "execution_count": null,
   "id": "c0675870-69a5-4076-9e55-ac85c48030c5",
   "metadata": {},
   "outputs": [],
   "source": [
    "# 예제_01_Pandas_Series의_크기_확인하기\n",
    "\n",
    "import pandas as pd\n",
    "\n",
    "my_series = pd.Series(['apple','banana','cat','dog','egg'],\n",
    "                      index = ['a','b','c','d','e'],\n",
    "                      name = '알파벳')\n",
    "\n",
    "print(my_series)\n",
    "print('#'*100)\n",
    "print(\"크기: \", my_series.shape)\n",
    "print(\"데이터 수: \", my_series.shape[0])"
   ]
  },
  {
   "cell_type": "code",
   "execution_count": null,
   "id": "ec365f6d-bdf2-4314-b92f-2ecbb238c7d8",
   "metadata": {},
   "outputs": [],
   "source": [
    "# 예제_02_Pandas_DataFrame의_크기_확인하기\n",
    "\n",
    "import pandas as pd\n",
    "\n",
    "my_dataframe = pd.DataFrame([['a',5,'e'],['b',6,'a'],['c',3,'t'],['d',3,'g'],['e',3,'g']],\n",
    "                         index = ['apple','banana','cat','dog','egg'],\n",
    "                         columns = [['첫글자', '길이', '마지막글자']])\n",
    "\n",
    "print(my_dataframe)\n",
    "print('#'*100)\n",
    "print(\"크기: \", my_dataframe.shape)\n",
    "print(\"데이터 수: \", my_dataframe.shape[0])\n",
    "print(\"열의 수: \", my_dataframe.shape[1])"
   ]
  },
  {
   "cell_type": "markdown",
   "id": "0314cb9e-7ad1-4919-94ea-56a821c5b2e5",
   "metadata": {},
   "source": [
    "### **💯 연습문제를 풀어봅시다**\n",
    "\n",
    "1. <a class=\"jcecodle-mk jcecodle-mk__problem-chip\" data-problem-id=\"ylLF1ww29MM\" href='#jce-judge/open/ylLF1ww29MM' target='_self'><span>판다스 기초 - 시리즈 길이 확인하기</span></a>\n",
    "2. <a class=\"jcecodle-mk jcecodle-mk__problem-chip\" data-problem-id=\"clgT71wmE0Q\" href='#jce-judge/open/clgT71wmE0Q' target='_self'><span>판다스 기초 - 데이터프레임 크기 확인</span></a>\n",
    "\n",
    "3. <a class=\"jcecodle-mk jcecodle-mk__problem-chip\" data-problem-id=\"1rDA3PTfNPM\" href='#jce-judge/open/1rDA3PTfNPM' target='_self'><span>판다스 기초 - 데이터 프레임 크기 확인(2)</span></a>\n",
    "\n",
    "4. <a class=\"jcecodle-mk jcecodle-mk__problem-chip\" data-problem-id=\"xkdpBYcXK5A\" href='#jce-judge/open/xkdpBYcXK5A' target='_self'><span>판다스 기초 - 데이터의 개수</span></a>\n",
    "\n",
    "5. <a class=\"jcecodle-mk jcecodle-mk__problem-chip\" data-problem-id=\"bwEFGVtzsfw\" href='#jce-judge/open/bwEFGVtzsfw' target='_self'><span>판다스 기초 - 열의 개수</span></a>\n",
    "\n"
   ]
  },
  {
   "cell_type": "markdown",
   "id": "64965f37",
   "metadata": {
    "tags": []
   },
   "source": [
    "# **[2-1] 시리즈(Series) 만들기**"
   ]
  },
  {
   "cell_type": "markdown",
   "id": "1c17505c",
   "metadata": {
    "tags": []
   },
   "source": [
    "## **🎯 학습 목표**\n",
    "**리스트(list), 딕셔너리(Dictionary)로부터 시리즈(Series)를 만들어봅시다.**"
   ]
  },
  {
   "cell_type": "markdown",
   "id": "fefd85be",
   "metadata": {},
   "source": [
    "---"
   ]
  },
  {
   "cell_type": "markdown",
   "id": "26e5885b-74fb-4a87-b1e9-00cb1ba4a91f",
   "metadata": {
    "jp-MarkdownHeadingCollapsed": true,
    "tags": []
   },
   "source": [
    "데이터프레임(DataFrame)는 2차원 리스트(2D list)와 중첩 딕셔너리(Nested Dictionary)를 이용해 만들 수 있습니다.\n",
    "\n",
    "> **🔨 함수(FUNCTIONS):**\n",
    ">\n",
    "> **`pd.Series(data=리스트_또는_딕셔너리, index=리스트, name=문자열)`**  \n",
    "> 시리즈(Series)를 만듭니다.  \n",
    ">> **매개변수(parameter)**\n",
    ">>\n",
    ">> **`data`** : 시리즈에 채워지는 데이터입니다.  \n",
    ">> 리스트, 딕셔너리 등이 사용될 수 있습니다.  \n",
    ">> **`index`** : 데이터의 인덱스를 지정하는 리스트입니다.  \n",
    ">> 지정하지 않으면 데이터로 부터 자동으로 만들어집니다.(딕셔너리)  \n",
    ">> 데이터로부터 만들 수 없으면 자동으로 0부터 시작하는 인덱스를 만듭니다.  \n",
    ">> **`name`** : 시리즈의 이름을 지정합니다.  \n",
    ">> 지정하지 않으면 이름이 없는 시리즈가 만들어집니다.  \n",
    ">> 데이터로부터 만들 수 없으면 자동으로 0부터 시작하는 인덱스를 만듭니다.  \n",
    "> ---\n",
    "\n"
   ]
  },
  {
   "cell_type": "markdown",
   "id": "f7835a83-d65e-4cad-b5b1-6faf372ffc76",
   "metadata": {},
   "source": [
    "## 리스트로 시리즈를 만들어봅시다.\n",
    "\n",
    "1차원 리스트로 시리즈를 만들 수 있습니다.  \n",
    "\n",
    "<table>\n",
    "<tr>\n",
    "    <th><img src=\"https://tmn-bucket-materials-all.s3.ap-northeast-2.amazonaws.com/image/pandas/material_02_01.gif\" width=\"750\"></th>\n",
    "</tr>\n",
    "<tr>\n",
    "    <th>리스트로 시리즈 만들기</th>\n",
    "</tr>\n",
    "</table>\n",
    "\n",
    "\n",
    "리스트는 딕셔너리와는 다르게 키 값을 가지고 있지 않기 때문에 `index` 매개변수를 설정해주지 않으면 0부터 시작하는 인덱스와 열이름을 자동으로 만들게됩니다.  \n",
    "\n",
    "<table>\n",
    "<tr>\n",
    "    <th><img src=\"https://tmn-bucket-materials-all.s3.ap-northeast-2.amazonaws.com/image/pandas/material_02_02.gif\" width=\"750\"></th>\n",
    "</tr>\n",
    "<tr>\n",
    "    <th>리스트로 인덱스 설정하여 시리즈 만들기</th>\n",
    "</tr>\n",
    "</table>\n",
    "\n",
    "> **⛔️ 오류(ERROR):**\n",
    ">\n",
    "> 리스트로 시리즈를 만들 때 인덱스의 길이와 데이터의 길이가 맞지 않으면 오류를 발생시킵니다.\n",
    "\n",
    "시리즈를 만들때에 `name` 매개변수를 주면 이름이 있는 시리즈를 만들 수 있습니다.\n"
   ]
  },
  {
   "cell_type": "code",
   "execution_count": null,
   "id": "5f8f50fc-34c5-4165-bfb8-914c73a5b311",
   "metadata": {},
   "outputs": [],
   "source": [
    "# 예제_1_리스트로부터_시리즈_만들기\n",
    "\n",
    "import pandas as pd\n",
    "\n",
    "A = ['사과', '오렌지', '포도', '딸기', '수박']\n",
    "\n",
    "print('#'*30, f\"{'A':^15s}\" , '#' * 30, '\\n') # 출력되는 결과들을 분리해서 보여주기 위한 코드입니다.\n",
    "print(A)\n",
    "print('\\n','#'*30, f\"{'pd.Series(A)':^15s}\" , '#' * 30, '\\n') # 출력되는 결과들을 분리해서 보여주기 위한 코드입니다.\n",
    "print(pd.Series(A))"
   ]
  },
  {
   "cell_type": "code",
   "execution_count": null,
   "id": "6c2f5eee-8bf0-42d8-a561-2faf64c8a955",
   "metadata": {},
   "outputs": [],
   "source": [
    "# 예제_2_리스트에_인덱스_정해서_시리즈_만들기\n",
    "\n",
    "import pandas as pd\n",
    "\n",
    "A = ['사과', '오렌지', '포도', '딸기', '수박']\n",
    "index = ['A', 'B', 'C', 'D', 'E']\n",
    "\n",
    "print('#'*30, f\"{'A':^15s}\" , '#' * 30, '\\n') # 출력되는 결과들을 분리해서 보여주기 위한 코드입니다.\n",
    "print(A)\n",
    "print('#'*30, f\"{'index':^15s}\" , '#' * 30, '\\n') # 출력되는 결과들을 분리해서 보여주기 위한 코드입니다.\n",
    "print(index)\n",
    "print('\\n','#'*30, f\"{'pd.Series(A, index = index)':^15s}\" , '#' * 30, '\\n') # 출력되는 결과들을 분리해서 보여주기 위한 코드입니다.\n",
    "print(pd.Series(A, index = index))"
   ]
  },
  {
   "cell_type": "code",
   "execution_count": null,
   "id": "8d8e71ad-42e8-40a5-8b0e-c64e6c05b33e",
   "metadata": {},
   "outputs": [],
   "source": [
    "# 예제_3_리스트와_인덱스의_길이가_달라_발생하는_오류\n",
    "\n",
    "import pandas as pd\n",
    "\n",
    "A = ['사과', '오렌지', '포도', '딸기', '수박']\n",
    "index = ['A', 'B', 'C', 'D']\n",
    "\n",
    "print('#'*30, f\"{'A':^15s}\" , '#' * 30, '\\n') # 출력되는 결과들을 분리해서 보여주기 위한 코드입니다.\n",
    "print(A)\n",
    "print('#'*30, f\"{'index':^15s}\" , '#' * 30, '\\n') # 출력되는 결과들을 분리해서 보여주기 위한 코드입니다.\n",
    "print(index)\n",
    "print('\\n','#'*30, f\"{'pd.Series(A, index = index)':^15s}\" , '#' * 30, '\\n') # 출력되는 결과들을 분리해서 보여주기 위한 코드입니다.\n",
    "print(pd.Series(A, index = index))"
   ]
  },
  {
   "cell_type": "code",
   "execution_count": null,
   "id": "c476f329-0663-4ca0-9cdb-ce11a684180b",
   "metadata": {},
   "outputs": [],
   "source": [
    "# 예제_4_시리즈에_이름붙여서_만들기\n",
    "\n",
    "import pandas as pd\n",
    "\n",
    "A = ['사과', '오렌지', '포도', '딸기', '수박']\n",
    "\n",
    "print('#'*30, f\"{'A':^15s}\" , '#' * 30, '\\n') # 출력되는 결과들을 분리해서 보여주기 위한 코드입니다.\n",
    "print(A)\n",
    "print('\\n','#'*30, \"{:^15s}\".format(\"pd.Series(A, name='과일')\") , '#' * 30, '\\n') # 출력되는 결과들을 분리해서 보여주기 위한 코드입니다.\n",
    "print(pd.Series(A, name='과일'))"
   ]
  },
  {
   "cell_type": "markdown",
   "id": "c9c20721-018a-4aef-ba5e-7772c5d99281",
   "metadata": {
    "tags": []
   },
   "source": [
    "## 딕셔너리로 시리즈를 만들어봅시다.\n",
    "\n",
    "딕셔너리로도 시리즈를 만들 수 있습니다.   \n",
    "\n",
    "<table>\n",
    "<tr>\n",
    "    <th><img src=\"https://tmn-bucket-materials-all.s3.ap-northeast-2.amazonaws.com/image/pandas/material_02_03.gif\" width=\"750\"></th>\n",
    "</tr>\n",
    "<tr>\n",
    "    <th>딕셔너리로 시리즈 만들기</th>\n",
    "</tr>\n",
    "</table>\n",
    "\n",
    "딕셔너리와는 키 값을 가지고 있기 때문에 `index` 매개변수를 설정해주지 않아도 자동으로 인덱스와 열이름이 자동으로 설정됩니다.  \n",
    "\n",
    "> **⚠️ 주의(WARNING):**\n",
    ">\n",
    "> 딕셔너리로 시리즈를 만들 때 인덱스를 지정하면 매개변수로 전달한 인덱스를 기준으로 시리즈가 만들어집니다.  \n",
    "> 따라서 딕셔너리에 키(Key)가 존재하지 않는 인덱스, 열에는 데이터가 지정되지 않습니다.\n",
    ">\n",
    "> <table>\n",
    "> <tr>\n",
    ">     <th><img src=\"https://tmn-bucket-materials-all.s3.ap-northeast-2.amazonaws.com/image/pandas/material_02_04.gif\" width=\"750\"></th>\n",
    "> </tr>\n",
    "> <tr>\n",
    ">     <th>딕셔너리에 인덱스 설정하여 시리즈 만들기</th>\n",
    "> </tr>\n",
    "> </table>\n",
    "\n",
    "\n",
    "시리즈를 만들때에 `name` 매개변수를 주면 이름이 있는 시리즈를 만들 수 있습니다."
   ]
  },
  {
   "cell_type": "code",
   "execution_count": null,
   "id": "6ffee253-2527-4ea8-af02-9ba72ca6f640",
   "metadata": {},
   "outputs": [],
   "source": [
    "# 예제_5_딕셔너리로부터_시리즈_만들기\n",
    "\n",
    "import pandas as pd\n",
    "\n",
    "A = {'A':'사과', 'B':'오렌지', 'C':'포도', 'D':'딸기', 'E':'수박'}\n",
    "\n",
    "print('#'*30, f\"{'A':^15s}\" , '#' * 30, '\\n') # 출력되는 결과들을 분리해서 보여주기 위한 코드입니다.\n",
    "print(A)\n",
    "print('\\n','#'*30, f\"{'pd.Series(A)':^15s}\" , '#' * 30, '\\n') # 출력되는 결과들을 분리해서 보여주기 위한 코드입니다.\n",
    "print(pd.Series(A))"
   ]
  },
  {
   "cell_type": "code",
   "execution_count": null,
   "id": "d9666bda-18a1-4789-b0f6-b0454e40741f",
   "metadata": {},
   "outputs": [],
   "source": [
    "# 예제_6_딕셔너리로부터_인덱스정해서_시리즈_만들기\n",
    "\n",
    "import pandas as pd\n",
    "\n",
    "A = {'A':'사과', 'B':'오렌지', 'C':'포도', 'D':'딸기', 'E':'수박'}\n",
    "index = ['A', 'C', 'E', 'G']\n",
    "\n",
    "print('#'*30, f\"{'A':^15s}\" , '#' * 30, '\\n') # 출력되는 결과들을 분리해서 보여주기 위한 코드입니다.\n",
    "print(A)\n",
    "print('#'*30, f\"{'index':^15s}\" , '#' * 30, '\\n') # 출력되는 결과들을 분리해서 보여주기 위한 코드입니다.\n",
    "print(index)\n",
    "print('\\n','#'*30, f\"{'pd.Series(A, index = index)':^15s}\" , '#' * 30, '\\n') # 출력되는 결과들을 분리해서 보여주기 위한 코드입니다.\n",
    "print(pd.Series(A, index = index))"
   ]
  },
  {
   "cell_type": "markdown",
   "id": "13263aaa-cc80-4275-bd0e-2f269cf14174",
   "metadata": {},
   "source": [
    "> **❓ 생각해보기(QUESTION):**\n",
    ">\n",
    "> 시리즈를 만들 때에 리스트, 딕셔너리를 사용하는 방법 각각의 장점과 단점이 무엇인지 이야기해 봅시다. "
   ]
  },
  {
   "cell_type": "raw",
   "id": "969075f7-6633-4106-a9a8-25288874022d",
   "metadata": {},
   "source": [
    "질문에 대한 대답을 여기에 적어봅시다."
   ]
  },
  {
   "cell_type": "markdown",
   "id": "22f48678-b3e6-4822-80b7-e98c0c214d97",
   "metadata": {},
   "source": [
    "### **💯 연습문제를 풀어봅시다**\n",
    "\n",
    "1. <a class=\"jcecodle-mk jcecodle-mk__problem-chip\" data-problem-id=\"CrwnIWE7d1E\" href='#jce-judge/open/CrwnIWE7d1E' target='_self'><span>판다스 기초 - 시리즈 만들기 (1)</span></a>\n",
    "\n",
    "2. <a class=\"jcecodle-mk jcecodle-mk__problem-chip\" data-problem-id=\"84ASSq3j5vw\" href='#jce-judge/open/84ASSq3j5vw' target='_self'><span>판다스 기초 - 시리즈 만들기 (2)</span></a>\n",
    "\n",
    "3. <a class=\"jcecodle-mk jcecodle-mk__problem-chip\" data-problem-id=\"85s1anMGz4o\" href='#jce-judge/open/85s1anMGz4o' target='_self'><span>판다스 기초 - 시리즈 만들기 (3)</span></a>\n",
    "\n",
    "4. <a class=\"jcecodle-mk jcecodle-mk__problem-chip\" data-problem-id=\"q6IFlnD9qnI\" href='#jce-judge/open/q6IFlnD9qnI' target='_self'><span>판다스 기초 - 시리즈 만들기 (4)</span></a>\n",
    "\n",
    "5. <a class=\"jcecodle-mk jcecodle-mk__problem-chip\" data-problem-id=\"TDAycODI5Ms\" href='#jce-judge/open/TDAycODI5Ms' target='_self'><span>판다스 기초 - 시리즈 이름 설정</span></a>\n",
    "\n",
    "6. <a class=\"jcecodle-mk jcecodle-mk__problem-chip\" data-problem-id=\"CIjtA1UO4P0\" href='#jce-judge/open/CIjtA1UO4P0' target='_self'><span>판다스 기초 - 아이돌과 노래</span></a>\n",
    "\n",
    "7. <a class=\"jcecodle-mk jcecodle-mk__problem-chip\" data-problem-id=\"XafKcm_cCbg\" href='#jce-judge/open/XafKcm_cCbg' target='_self'><span>판다스 기초 - MBTI시리즈</span></a>\n",
    "\n",
    "8. <a class=\"jcecodle-mk jcecodle-mk__problem-chip\" data-problem-id=\"l704ja9Qjcw\" href='#jce-judge/open/l704ja9Qjcw' target='_self'><span>판다스 기초 - 과일 시리즈</span></a>\n",
    "\n",
    "\n"
   ]
  },
  {
   "cell_type": "markdown",
   "id": "614e0f2d",
   "metadata": {
    "tags": []
   },
   "source": [
    "# **[2-2] 데이터프레임(DataFrame) 만들기**"
   ]
  },
  {
   "cell_type": "markdown",
   "id": "56920632",
   "metadata": {
    "tags": []
   },
   "source": [
    "## **🎯 학습 목표**\n",
    "**리스트(list), 딕셔너리(Dictionary)로부터 데이터프레임(DataFrame)을 만들어봅시다.**"
   ]
  },
  {
   "cell_type": "markdown",
   "id": "c0349a07",
   "metadata": {},
   "source": [
    "---"
   ]
  },
  {
   "cell_type": "markdown",
   "id": "589a40c4-3780-427b-a001-e205cef655f5",
   "metadata": {
    "jp-MarkdownHeadingCollapsed": true,
    "tags": []
   },
   "source": [
    "데이터프레임(DataFrame)는 2차원 리스트(2D list)와 중첩 딕셔너리(Nested Dictionary)를 이용해 만들 수 있습니다.\n",
    "\n",
    "> **🔨 함수(FUNCTIONS):**\n",
    ">\n",
    "> **`pd.DataFrame(data=리스트_또는_딕셔너리_또는_시리즈, columns=리스트, index=리스트)`**  \n",
    "> 데이터프레임(DataFrame)을 만듭니다.  \n",
    ">> **매개변수(parameter)**\n",
    ">>\n",
    ">> **`data`** : 데이터프레임에 채워지는 데이터입니다.  \n",
    ">> 리스트, 딕셔너리, 시리즈, 2차원 리스트, 중첩 딕셔너리 등이 사용될 수 있습니다.  \n",
    ">> **`columns`** : 열들의 이름이 담긴 리스트입니다.  \n",
    ">> 지정하지 않으면 데이터로 부터 자동으로 만들어집니다.(딕셔너리, 이름이 있는 시리즈)  \n",
    ">> 데이터로부터 만들 수 없으면 자동으로 0부터 시작하는 열이름을 만듭니다.  \n",
    ">> **`index`** : 데이터의 행방향 인덱스 지정하는 리스트입니다.  \n",
    ">> 지정하지 않으면 데이터로 부터 자동으로 만들어집니다.(딕셔너리, 이름이 있는 시리즈)  \n",
    ">> 데이터로부터 만들 수 없으면 자동으로 0부터 시작하는 인덱스를 만듭니다.  \n",
    "> ---\n",
    "\n"
   ]
  },
  {
   "cell_type": "markdown",
   "id": "7a85964e-df2b-4d40-9404-1e3dbeebd9ed",
   "metadata": {},
   "source": [
    "## 리스트로 데이터프레임을 만들어봅시다.\n",
    "\n",
    "1차원 리스트로 데이터프레임을 만들면 하나의 열을 가진 데이터프레임이 만들어집니다.  \n",
    "\n",
    "<table>\n",
    "<tr>\n",
    "    <th><img src=\"https://tmn-bucket-materials-all.s3.ap-northeast-2.amazonaws.com/image/pandas/material_02_05.gif\" width=\"750\"></th>\n",
    "</tr>\n",
    "<tr>\n",
    "    <th>1차원 리스트로 데이터프레임 만들기</th>\n",
    "</tr>\n",
    "</table>\n",
    "\n",
    "2차원 리스트를 사용하면 여러개의 열을 가진 데이터프레임을 만들 수 있습니다.  \n",
    "내부의 리스트가 하나의 행이 됩니다.  \n",
    "\n",
    "<table>\n",
    "<tr>\n",
    "    <th><img src=\"https://tmn-bucket-materials-all.s3.ap-northeast-2.amazonaws.com/image/pandas/material_02_06.gif\" width=\"750\"></th>\n",
    "</tr>\n",
    "<tr>\n",
    "    <th>2차원 리스트로 데이터프레임 만들기</th>\n",
    "</tr>\n",
    "</table>\n",
    "\n",
    "리스트는 딕셔너리와는 다르게 키 값을 가지고 있지 않기 때문에 `columns`나 `index` 매개변수를 설정해주지 않으면 0부터 시작하는 인덱스와 열이름을 자동으로 만들게됩니다.  \n",
    "\n",
    "<table>\n",
    "<tr>\n",
    "    <th><img src=\"https://tmn-bucket-materials-all.s3.ap-northeast-2.amazonaws.com/image/pandas/material_02_07.gif\" width=\"750\"></th>\n",
    "</tr>\n",
    "<tr>\n",
    "    <th>2차원 리스트로 인덱스, 열 설정하여 데이터프레임 만들기</th>\n",
    "</tr>\n",
    "</table>\n",
    "\n",
    "> **⛔️ 오류(ERROR):**\n",
    ">\n",
    "> 2중 리스트로 데이터프레임을 만들 때 인덱스의 길이, 열이름 리스트의 길이와 데이터의 길이가 맞지 않으면 오류를 발생시킵니다.\n"
   ]
  },
  {
   "cell_type": "code",
   "execution_count": null,
   "id": "f537eb61-c380-43db-9fa9-5a6ee2316064",
   "metadata": {
    "tags": []
   },
   "outputs": [],
   "source": [
    "# 예제_1_리스트로부터_데이터프레임_만들기\n",
    "\n",
    "import pandas as pd\n",
    "\n",
    "A = ['사과', '오렌지', '포도', '딸기', '수박']\n",
    "\n",
    "print('#'*30, f\"{'A':^15s}\" , '#' * 30, '\\n') # 출력되는 결과들을 분리해서 보여주기 위한 코드입니다.\n",
    "print(A)\n",
    "print('\\n','#'*30, f\"{'pd.DataFrame(A)':^15s}\" , '#' * 30, '\\n') # 출력되는 결과들을 분리해서 보여주기 위한 코드입니다.\n",
    "print(pd.DataFrame(A))"
   ]
  },
  {
   "cell_type": "code",
   "execution_count": null,
   "id": "bd7bf571-32cc-431d-8331-614108b4d0c0",
   "metadata": {},
   "outputs": [],
   "source": [
    "# 예제_2_2차원_리스트로부터_데이터프레임_만들기\n",
    "\n",
    "import pandas as pd\n",
    "\n",
    "A = [['사과',1000], ['오렌지',2300], ['포도',5300], ['딸기',12000], ['수박',20000]]\n",
    "\n",
    "print('#'*30, f\"{'A':^15s}\" , '#' * 30, '\\n') # 출력되는 결과들을 분리해서 보여주기 위한 코드입니다.\n",
    "print(A)\n",
    "print('\\n','#'*30, f\"{'pd.DataFrame(A)':^15s}\" , '#' * 30, '\\n') # 출력되는 결과들을 분리해서 보여주기 위한 코드입니다.\n",
    "print(pd.DataFrame(A))"
   ]
  },
  {
   "cell_type": "code",
   "execution_count": null,
   "id": "72ee5a8a-886f-458f-9275-a8aa530d8df7",
   "metadata": {},
   "outputs": [],
   "source": [
    "# 예제_3_2차원_리스트에_인덱스_열_설정해_데이터프레임_만들기\n",
    "\n",
    "import pandas as pd\n",
    "\n",
    "A = [['사과',1000], ['오렌지',2300], ['포도',5300], ['딸기',12000], ['수박',20000]]\n",
    "index = ['A', 'B', 'C', 'D', 'E']\n",
    "columns = ['과일','가격']\n",
    "\n",
    "print('#'*30, f\"{'A':^15s}\" , '#' * 30, '\\n') # 출력되는 결과들을 분리해서 보여주기 위한 코드입니다.\n",
    "print(A)\n",
    "print('#'*30, f\"{'index':^15s}\" , '#' * 30, '\\n') # 출력되는 결과들을 분리해서 보여주기 위한 코드입니다.\n",
    "print(index)\n",
    "print('#'*30, f\"{'columns':^15s}\" , '#' * 30, '\\n') # 출력되는 결과들을 분리해서 보여주기 위한 코드입니다.\n",
    "print(columns)\n",
    "print('\\n','#'*30, f\"{'pd.DataFrame(A)':^15s}\" , '#' * 30, '\\n') # 출력되는 결과들을 분리해서 보여주기 위한 코드입니다.\n",
    "print(pd.DataFrame(A, index=index, columns=columns))"
   ]
  },
  {
   "cell_type": "code",
   "execution_count": null,
   "id": "06e35873-6dc5-48b4-af1d-42e8616c94ce",
   "metadata": {},
   "outputs": [],
   "source": [
    "# 예제_4_2차원_리스트에_인덱스_열_설정해_데이터프레임_만들떄에_오류발생\n",
    "\n",
    "import pandas as pd\n",
    "\n",
    "A = [['사과',1000], ['오렌지',2300], ['포도',5300], ['딸기',12000], ['수박',20000]]\n",
    "index = ['A', 'B', 'C', 'D', 'E']\n",
    "columns = ['과일']\n",
    "\n",
    "print('#'*30, f\"{'A':^15s}\" , '#' * 30, '\\n') # 출력되는 결과들을 분리해서 보여주기 위한 코드입니다.\n",
    "print(A)\n",
    "print('#'*30, f\"{'index':^15s}\" , '#' * 30, '\\n') # 출력되는 결과들을 분리해서 보여주기 위한 코드입니다.\n",
    "print(index)\n",
    "print('#'*30, f\"{'columns':^15s}\" , '#' * 30, '\\n') # 출력되는 결과들을 분리해서 보여주기 위한 코드입니다.\n",
    "print(columns)\n",
    "print('\\n','#'*30, f\"{'pd.DataFrame(A)':^15s}\" , '#' * 30, '\\n') # 출력되는 결과들을 분리해서 보여주기 위한 코드입니다.\n",
    "print(pd.DataFrame(A, index=index, columns=columns))"
   ]
  },
  {
   "cell_type": "markdown",
   "id": "c643aaea-e00e-44a6-9f39-bfc68fd00165",
   "metadata": {
    "tags": []
   },
   "source": [
    "## 딕셔너리로 데이터프레임을 만들어봅시다.\n",
    "\n",
    "딕셔너리로 데이터프레임을 만들면 하나의 행을 가진 데이터프레임이 만들어집니다.  \n",
    "이때에는 반드시 인덱스를 설정해주어야 합니다.\n",
    "\n",
    "<table>\n",
    "<tr>\n",
    "    <th><img src=\"https://tmn-bucket-materials-all.s3.ap-northeast-2.amazonaws.com/image/pandas/material_02_08.gif\" width=\"750\"></th>\n",
    "</tr>\n",
    "<tr>\n",
    "    <th>딕셔너리로 데이터프레임 만들기</th>\n",
    "</tr>\n",
    "</table>\n",
    "\n",
    "중첩 딕셔너리를 사용하면 여러개의 열을 가진 데이터프레임을 만들 수 있습니다.  \n",
    "내부의 딕셔너리가 하나의 행이 됩니다.  \n",
    "\n",
    "<table>\n",
    "<tr>\n",
    "    <th><img src=\"https://tmn-bucket-materials-all.s3.ap-northeast-2.amazonaws.com/image/pandas/material_02_09.gif\" width=\"750\"></th>\n",
    "</tr>\n",
    "<tr>\n",
    "    <th>중첩 딕셔너리로 데이터프레임 만들기</th>\n",
    "</tr>\n",
    "</table>\n",
    "\n",
    "딕셔너리와는 키 값을 가지고 있기 때문에 `columns`나 `index` 매개변수를 설정해주지 않아도 자동으로 인덱스와 열이름이 자동으로 설정됩니다.  \n",
    "\n",
    "> **⚠️ 주의(WARNING):**\n",
    ">\n",
    "> 중첩 딕셔너리로 데이터프레임을 만들 때 인덱스나 열이름을 지정하면 매개변수로 전달한 인덱스와 열이름을 기준으로 데이터프레임이 만들어집니다.  \n",
    "> 따라서 딕셔너리에 키(Key)가 존재하지 않는 인덱스, 열에는 데이터가 지정되지 않습니다.\n",
    ">\n",
    "> <table>\n",
    "> <tr>\n",
    ">     <th><img src=\"https://tmn-bucket-materials-all.s3.ap-northeast-2.amazonaws.com/image/pandas/material_02_10.gif\" width=\"750\"></th>\n",
    "> </tr>\n",
    "> <tr>\n",
    ">     <th>중첩 딕셔너리로 인덱스, 열 설정하여 데이터프레임 만들기</th>\n",
    "> </tr>\n",
    "> </table>\n",
    "\n",
    "> **⚠️ 주의(WARNING):**\n",
    ">\n",
    "> 중첩 딕셔너리로 데이터프레임을 만들 때 내부 딕셔너리의 모든 키가 인덱스가 됩니다.  \n",
    "> 따라서 내부 딕셔너리들의 키 값이 동일하지 않으면 특정 열에 존재하지 않는 키에는 값이 들어가지 않습니다.\n",
    ">\n",
    "> <table>\n",
    "> <tr>\n",
    ">     <th><img src=\"https://tmn-bucket-materials-all.s3.ap-northeast-2.amazonaws.com/image/pandas/material_02_11.gif\" width=\"750\"></th>\n",
    "> </tr>\n",
    "> <tr>\n",
    ">     <th>키가 다른중첩 딕셔너리로 데이터프레임 만들기</th>\n",
    "> </tr>\n",
    "> </table>\n",
    "\n"
   ]
  },
  {
   "cell_type": "code",
   "execution_count": null,
   "id": "904b3b98-733c-40e5-bb72-e39dd379cced",
   "metadata": {
    "tags": []
   },
   "outputs": [],
   "source": [
    "# 예제_5_딕셔너리로부터_시리즈_만들기\n",
    "\n",
    "import pandas as pd\n",
    "\n",
    "A = {'A':'사과', 'B':'오렌지', 'C':'포도', 'D':'딸기', 'E':'수박'}\n",
    "index = ['과일']\n",
    "\n",
    "print('#'*30, f\"{'A':^15s}\" , '#' * 30, '\\n') # 출력되는 결과들을 분리해서 보여주기 위한 코드입니다.\n",
    "print(A)\n",
    "print('\\n','#'*30, f\"{'pd.DataFrame(A, index = index)':^15s}\" , '#' * 30, '\\n') # 출력되는 결과들을 분리해서 보여주기 위한 코드입니다.\n",
    "print(pd.DataFrame(A, index = index))"
   ]
  },
  {
   "cell_type": "code",
   "execution_count": null,
   "id": "d55f13e8-a83e-4a63-93ff-d20ceee477e7",
   "metadata": {
    "tags": []
   },
   "outputs": [],
   "source": [
    "# 예제_6_중첩_딕셔너리로부터_데이터프레임_만들기\n",
    "\n",
    "import pandas as pd\n",
    "\n",
    "A = {'과일' : {'A':'사과', 'B':'오렌지', 'C':'포도', 'D':'딸기', 'E':'수박'},\n",
    "     '가격' : {'A':1000, 'B':2300, 'C':5300, 'D':12000, 'E':20000}}\n",
    "\n",
    "print('#'*30, f\"{'A':^15s}\" , '#' * 30, '\\n') # 출력되는 결과들을 분리해서 보여주기 위한 코드입니다.\n",
    "print(A)\n",
    "print('\\n','#'*30, f\"{'pd.DataFrame(A)':^15s}\" , '#' * 30, '\\n') # 출력되는 결과들을 분리해서 보여주기 위한 코드입니다.\n",
    "print(pd.DataFrame(A))"
   ]
  },
  {
   "cell_type": "code",
   "execution_count": null,
   "id": "21ab657b-ae46-4a68-9d0c-f76d464c35bf",
   "metadata": {},
   "outputs": [],
   "source": [
    "# 예제_7_중첩_딕셔너리로부터_인덱스와_열_설정하여_데이터프레임_만들기\n",
    "\n",
    "import pandas as pd\n",
    "\n",
    "A = {'과일' : {'A':'사과', 'B':'오렌지', 'C':'포도', 'D':'딸기', 'E':'수박'},\n",
    "     '가격' : {'A':1000, 'B':2300, 'C':5300, 'D':12000, 'E':20000}}\n",
    "\n",
    "index = ['A','C','E','G']\n",
    "\n",
    "columns = ['과일', '판매량']\n",
    "\n",
    "print('#'*30, f\"{'A':^15s}\" , '#' * 30, '\\n') # 출력되는 결과들을 분리해서 보여주기 위한 코드입니다.\n",
    "print(A)\n",
    "print('#'*30, f\"{'index':^15s}\" , '#' * 30, '\\n') # 출력되는 결과들을 분리해서 보여주기 위한 코드입니다.\n",
    "print(index)\n",
    "print('#'*30, f\"{'columns':^15s}\" , '#' * 30, '\\n') # 출력되는 결과들을 분리해서 보여주기 위한 코드입니다.\n",
    "print(columns)\n",
    "print('\\n','#'*30, f\"{'pd.DataFrame(A, index = index, columns = columns)':^15s}\" , '#' * 30, '\\n') # 출력되는 결과들을 분리해서 보여주기 위한 코드입니다.\n",
    "print(pd.DataFrame(A, index = index, columns = columns))"
   ]
  },
  {
   "cell_type": "code",
   "execution_count": null,
   "id": "0eb87fc6-d87c-49b7-b55f-53d8650788c7",
   "metadata": {
    "tags": []
   },
   "outputs": [],
   "source": [
    "# 예제_8_키가_서로_다른_내부_딕셔너리들로_데이터프레임_만들기\n",
    "\n",
    "import pandas as pd\n",
    "\n",
    "A = {'과일' : {'A':'사과', 'B':'오렌지', 'C':'포도', 'D':'딸기', 'E':'수박'},\n",
    "     '가격' : {'A':1000, 'B':2300, 'D':5300, 'E':12000, 'F':20000}}\n",
    "\n",
    "print('#'*30, f\"{'A':^15s}\" , '#' * 30, '\\n') # 출력되는 결과들을 분리해서 보여주기 위한 코드입니다.\n",
    "print(A)\n",
    "print('\\n','#'*30, f\"{'pd.DataFrame(A)':^15s}\" , '#' * 30, '\\n') # 출력되는 결과들을 분리해서 보여주기 위한 코드입니다.\n",
    "print(pd.DataFrame(A))"
   ]
  },
  {
   "cell_type": "markdown",
   "id": "679977a4-35e2-4c29-b6dd-58e01deefc38",
   "metadata": {},
   "source": [
    "> **❓ 생각해보기(QUESTION):**\n",
    ">\n",
    "> 중첩딕셔너리, 이차원 리스트 를 사용하지 않고 여러 열이 존재하는 데이터프레임을 만들 수 있는 방법에는 어떤 것들이 있을까요??"
   ]
  },
  {
   "cell_type": "raw",
   "id": "69db7222-41bb-4761-b521-f615aeb7ee8d",
   "metadata": {},
   "source": [
    "질문에 대한 대답을 여기에 적어봅시다."
   ]
  },
  {
   "cell_type": "markdown",
   "id": "c748332e-fe40-4ee6-940d-502aefc6cf5d",
   "metadata": {},
   "source": [
    "### **💯 연습문제를 풀어봅시다**\n",
    "\n",
    "1. <a class=\"jcecodle-mk jcecodle-mk__problem-chip\" data-problem-id=\"Xh1DevGAlLw\" href='#jce-judge/open/Xh1DevGAlLw' target='_self'><span>판다스 기초 - 데이터프레임 만들기 (1)</span></a>\n",
    "2. <a class=\"jcecodle-mk jcecodle-mk__problem-chip\" data-problem-id=\"ADYF5AHX8GM\" href='#jce-judge/open/ADYF5AHX8GM' target='_self'><span>판다스 기초 - 데이터프레임 만들기 (2)</span></a>\n",
    "3. <a class=\"jcecodle-mk jcecodle-mk__problem-chip\" data-problem-id=\"Izw6Imoo8sw\" href='#jce-judge/open/Izw6Imoo8sw' target='_self'><span>판다스 기초 - 데이터 프레임 만들기 (3)</span></a>\n",
    "4. <a class=\"jcecodle-mk jcecodle-mk__problem-chip\" data-problem-id=\"aq6ucbLA_y4\" href='#jce-judge/open/aq6ucbLA_y4' target='_self'><span>판다스 기초 - 데이터프레임 만들기 (4) </span></a>\n",
    "\n",
    "5. <a class=\"jcecodle-mk jcecodle-mk__problem-chip\" data-problem-id=\"vpBef1UIrLw\" href='#jce-judge/open/vpBef1UIrLw' target='_self'><span>판다스 기초 - column 설정</span></a>\n",
    "\n",
    "\n",
    "6. <a class=\"jcecodle-mk jcecodle-mk__problem-chip\" data-problem-id=\"6Xpf_-O94p8\" href='#jce-judge/open/6Xpf_-O94p8' target='_self'><span>학교급 정리</span></a>\n",
    "\n",
    "7. <a class=\"jcecodle-mk jcecodle-mk__problem-chip\" data-problem-id=\"dvSyyHJ5xVg\" href='#jce-judge/open/dvSyyHJ5xVg' target='_self'><span>1차원 리스트와 데이터 프레임</span></a>\n",
    "\n",
    "8. <a class=\"jcecodle-mk jcecodle-mk__problem-chip\" data-problem-id=\"dOs6vElAXPI\" href='#jce-judge/open/dOs6vElAXPI' target='_self'><span>2차원 리스트와 데이터 프레임</span></a>\n",
    "\n",
    "9. <a class=\"jcecodle-mk jcecodle-mk__problem-chip\" data-problem-id=\"5QU23_sl_qE\" href='#jce-judge/open/5QU23_sl_qE' target='_self'><span>중첩 딕셔너리와 데이터 프레임</span></a>\n"
   ]
  },
  {
   "cell_type": "markdown",
   "id": "817af609",
   "metadata": {
    "tags": []
   },
   "source": [
    "# **[2-3] CSV 파일 읽어오기**"
   ]
  },
  {
   "cell_type": "markdown",
   "id": "4fc30b31",
   "metadata": {
    "tags": []
   },
   "source": [
    "## **🎯 학습 목표**\n",
    "**csv 파일로부터 데이터를 읽어오고 데이터를 csv 파일로 저장해봅시다.**"
   ]
  },
  {
   "cell_type": "markdown",
   "id": "6e06939d",
   "metadata": {},
   "source": [
    "---"
   ]
  },
  {
   "cell_type": "markdown",
   "id": "e3bd3d48-97dc-44e7-90ce-85c0e1df11d4",
   "metadata": {
    "jp-MarkdownHeadingCollapsed": true,
    "tags": []
   },
   "source": [
    "Pandas에서는 CSV 파일로부터 데이터프레임(DataFrame)을 읽어올 수 있습니다.\n",
    "\n",
    "> **✏️ 알아봅시다(NOTE):** CSV(Comma-Seperated Values)가 무엇인가요?  \n",
    ">\n",
    "> 표 형태의 데이터를 저장하는 파일 형식입니다.  \n",
    "> 한 줄이 한 개의 행에 해당하며, 열 사이에는 쉼표(,)를 넣어 구분합니다.\n",
    ">\n",
    "> <table>\n",
    "> <tr>\n",
    ">     <th><img src=\"https://tmn-bucket-materials-all.s3.ap-northeast-2.amazonaws.com/image/pandas/material_02_12.PNG\" width=\"500\"></th>\n",
    "> </tr>\n",
    "> <tr>\n",
    ">     <th>중첩 딕셔너리로 인덱스, 열 설정하여 데이터프레임 만들기</th>\n",
    "> </tr>\n",
    "> </table>\n",
    "\n",
    "\n",
    "> **🔨 함수(FUNCTIONS):**\n",
    ">\n",
    "> **`pd.read_csv(파일이름(문자열), encoding = 인코딩방법(문자열))`**  \n",
    "> 해당 CSV 파일을 읽어 데이터프레임으로 불러옵니다.\n",
    ">> **매개변수(parameter)**\n",
    ">>\n",
    ">> **`encoding`** : 파일의 인코등 방식을 문자열 형태로 전달합니다.  \n",
    "> (utf-8로 인코딩 된 파일은 encoding 매개변수를 넣어주지 않아도 됩니다.\n",
    "> ---\n",
    "> **`DataFrame.to_csv(파일이름(문자열), index = 인덱스포함여부(불))`**  \n",
    "> 데이터프레임을 CSV 파일로 저장합니다.  \n",
    ">> **매개변수(parameter)**\n",
    ">>\n",
    ">> **`index`** : 인덱스의 포함 여부를 나타냅니다.  \n",
    "> True면 index 라는 이름을 가진 열을 생성합니다.  \n",
    "> 따로 매개변수를 설정하지 않으면 True 값을 가집니다.\n",
    "> ---\n",
    "\n",
    "> **✏️ 알아봅시다(NOTE):** 인코딩(encoding)이 무엇인가요?\n",
    ">\n",
    "> 인코딩(encoding)은 사용자가 입력한 문자나 기호들을 컴퓨터가 이용할 수 있는 신호로 만드는 것입니다.  \n",
    "> 다양한 방법이 존재하는데 한국어 데이터는 보통 `utf-8`, `cp949` `euc-kr`의 방법으로 인코딩됩니다.\n",
    "\n",
    "\n"
   ]
  },
  {
   "cell_type": "markdown",
   "id": "42248f77-417a-4709-90b7-105fbb1542e0",
   "metadata": {},
   "source": [
    "## csv 파일로 데이터프레임 만들기\n",
    "\n",
    "`read_csv()` 함수를 사용하면 csv 파일을 읽어 데이터프레임을 생성합니다.\n",
    "이때 인덱스는 0부터 자동으로 생성합니다.\n",
    "\n",
    "<table>\n",
    "<tr>\n",
    "    <th><img src=\"https://tmn-bucket-materials-all.s3.ap-northeast-2.amazonaws.com/image/pandas/material_02_13.gif\" width=\"750\"></th>\n",
    "</tr>\n",
    "<tr>\n",
    "    <th>csv 파일로 데이터프레임 만들기</th>\n",
    "</tr>\n",
    "</table>\n",
    "\n",
    "> **⛔️ 오류(ERROR):**\n",
    ">\n",
    "> 파일이 인코딩 방법을 정확하게 넣어주지 않으면 오류가 발생합니다.  "
   ]
  },
  {
   "cell_type": "code",
   "execution_count": null,
   "id": "60eaafd0-9f83-4125-841c-dbb2e7cf1038",
   "metadata": {
    "tags": []
   },
   "outputs": [],
   "source": [
    "# 예제_1_csv_파일_읽어오기\n",
    "\n",
    "import pandas as pd\n",
    "\n",
    "print('\\n','#'*30, \"{:^15s}\".format(\"pd.read_csv('price_list.csv')\") , '#' * 30, '\\n') # 출력되는 결과들을 분리해서 보여주기 위한 코드입니다.\n",
    "print(pd.read_csv('price_list.csv'))"
   ]
  },
  {
   "cell_type": "code",
   "execution_count": null,
   "id": "1141b756-602e-4b6c-b0f2-3de0a76d6544",
   "metadata": {
    "tags": []
   },
   "outputs": [],
   "source": [
    "# 예제_2_파일이_없어서_실패\n",
    "\n",
    "import pandas as pd\n",
    "\n",
    "print('\\n','#'*30, \"{:^15s}\".format(\"pd.read_csv('price_list2.csv')\") , '#' * 30, '\\n') # 출력되는 결과들을 분리해서 보여주기 위한 코드입니다.\n",
    "print(pd.read_csv('price_list2.csv'))"
   ]
  },
  {
   "cell_type": "markdown",
   "id": "a9031470-025f-455c-ab13-1176350dd92a",
   "metadata": {},
   "source": [
    "## 데이터프레임을 csv 파일로 저장하기\n",
    "\n",
    "데이터프레임에 `to_csv()` 함수를 사용하면 데이터프레임을 csv로 저장해줍니다.  \n",
    "이때 index열을 생성해 인덱스 정보를 저장합니다.  \n",
    "\n",
    "<table>\n",
    "<tr>\n",
    "    <th><img src=\"https://tmn-bucket-materials-all.s3.ap-northeast-2.amazonaws.com/image/pandas/material_02_14.gif\" width=\"750\"></th>\n",
    "</tr>\n",
    "<tr>\n",
    "    <th>데이터프레임을 csv 파일로 저장하기</th>\n",
    "</tr>\n",
    "</table>\n",
    "\n",
    "`index = False` 매개변수를 추가하면 index 열을 생성하지 않습니다.  \n",
    "\n",
    "<table>\n",
    "<tr>\n",
    "    <th><img src=\"https://tmn-bucket-materials-all.s3.ap-northeast-2.amazonaws.com/image/pandas/material_02_15.gif\" width=\"750\"></th>\n",
    "</tr>\n",
    "<tr>\n",
    "    <th>데이터프레임을 인덱스 없이 csv 파일로 저장하기</th>\n",
    "</tr>\n",
    "</table>\n"
   ]
  },
  {
   "cell_type": "code",
   "execution_count": null,
   "id": "77739bbe-1855-45fb-afe6-fb7b1d1c05b1",
   "metadata": {
    "tags": []
   },
   "outputs": [],
   "source": [
    "# 예제_3_데이터프레임_csv_파일로_저장하기\n",
    "\n",
    "import pandas as pd\n",
    "\n",
    "print('\\n','#'*30, \"{:^15s}\".format(\"df\") , '#' * 30, '\\n') # 출력되는 결과들을 분리해서 보여주기 위한 코드입니다.\n",
    "df = pd.read_csv('price_list.csv')\n",
    "print(df)\n",
    "print('\\n','#'*30, \"{:^15s}\".format(\"df.to_csv('price_list_new.csv')\") , '#' * 30, '\\n') # 출력되는 결과들을 분리해서 보여주기 위한 코드입니다.\n",
    "df.to_csv('price_list_new.csv')"
   ]
  },
  {
   "cell_type": "code",
   "execution_count": null,
   "id": "4fca5a06-8f59-4166-9e50-ab7dcf62afd4",
   "metadata": {
    "tags": []
   },
   "outputs": [],
   "source": [
    "# CSV index 없이 저장하는 예시\n",
    "\n",
    "# 예제_3_데이터프레임_인덱스_없이_csv_파일로_저장하기\n",
    "\n",
    "import pandas as pd\n",
    "\n",
    "print('\\n','#'*30, \"{:^15s}\".format(\"df\") , '#' * 30, '\\n') # 출력되는 결과들을 분리해서 보여주기 위한 코드입니다.\n",
    "df = pd.read_csv('price_list.csv')\n",
    "print(df)\n",
    "print('\\n','#'*30, \"{:^15s}\".format(\"df.to_csv('price_list_new.csv', index = False)\") , '#' * 30, '\\n') # 출력되는 결과들을 분리해서 보여주기 위한 코드입니다.\n",
    "df.to_csv('price_list_new.csv', index = False)"
   ]
  },
  {
   "cell_type": "markdown",
   "id": "3075d91a-a2b3-4d89-86be-e16f059a1e27",
   "metadata": {},
   "source": [
    "> **❓ 생각해보기(QUESTION):**\n",
    ">\n",
    "> 데이터를 데이터프레임의 형태로 불러오고, 데이터프레임을 데이터로 저장하는 과정이 중요한 이유는 무엇인가요?"
   ]
  },
  {
   "cell_type": "raw",
   "id": "e280e55b-0a29-48a6-946f-51b8aa887737",
   "metadata": {},
   "source": [
    "질문에 대한 대답을 여기에 적어봅시다."
   ]
  },
  {
   "cell_type": "markdown",
   "id": "603eec65-944d-4dfa-9eaa-f93137173dbe",
   "metadata": {},
   "source": [
    "### **💯 연습문제를 풀어봅시다**\n",
    "\n"
   ]
  },
  {
   "cell_type": "markdown",
   "id": "237e5d61-40cb-4b55-aaff-6737cb568f77",
   "metadata": {
    "tags": []
   },
   "source": [
    "1. CSV 읽어오는 문제\n",
    "2. CSV cp949로 읽어오는 문제"
   ]
  },
  {
   "cell_type": "markdown",
   "id": "5f923315",
   "metadata": {
    "tags": []
   },
   "source": [
    "# **[3-1] 데이터 미리보기**"
   ]
  },
  {
   "cell_type": "markdown",
   "id": "8da42fe6",
   "metadata": {
    "tags": []
   },
   "source": [
    "## **🎯 학습 목표**\n",
    "**데이터의 일부를 원하는만큼 출력 해봅시다.**"
   ]
  },
  {
   "cell_type": "markdown",
   "id": "6a2ea199",
   "metadata": {},
   "source": [
    "---"
   ]
  },
  {
   "cell_type": "markdown",
   "id": "0eefb44f-348e-4ff4-9189-28803a208683",
   "metadata": {
    "jp-MarkdownHeadingCollapsed": true,
    "tags": []
   },
   "source": [
    "다른 사람이 만든 데이터를 사용하기 위해서는 데이터가 어떻게 구성되어 있는지 확인해야 합니다.  \n",
    "`print()` 함수를 이용해 데이터를 출력할 수도 있지만 데이터가 큰 경우에는 중간을 생략합니다.  \n",
    "`head()`, `tail()` 함수를 사용하면 데이터를 원하는 길이만큼 출력할 수 있습니다.\n",
    "\n",
    "> **🔨 함수(FUNCTIONS):**\n",
    ">\n",
    "> **`Series.head(n = 정수)`**  \n",
    "> 시리즈의 처음 n 개의 데이터를 불러옵니다.\n",
    ">> **매개변수(parameter)**\n",
    ">>\n",
    ">> **`n`** : 불러올 데이터의 개수를 정수로 지정합니다.  \n",
    "> 지정하지 않으면 5개의 데이터가 출력됩니다.\n",
    "> ---\n",
    "> **`Series.tail(n = 정수)`**  \n",
    "> 시리즈의 마지막 n 개의 데이터를 불러옵니다.\n",
    ">> **매개변수(parameter)**\n",
    ">>\n",
    ">> **`n`** : 불러올 데이터의 개수를 정수로 지정합니다.  \n",
    "> 지정하지 않으면 5개의 데이터가 출력됩니다.\n",
    "> ---\n",
    "> **`DataFrame.head(n = 정수)`**  \n",
    "> 데이터프레임의 처음 n 개의 데이터를 불러옵니다.\n",
    ">> **매개변수(parameter)**\n",
    ">>\n",
    ">> **`n`** : 불러올 데이터의 개수를 정수로 지정합니다.  \n",
    "> 지정하지 않으면 5개의 데이터가 출력됩니다.\n",
    ">---\n",
    "> **`DataFrame.tail(n = 정수)`**  \n",
    "> 데이터프레임의 마지막 n 개의 데이터를 불러옵니다.\n",
    ">> **매개변수(parameter)**\n",
    ">>\n",
    ">> **`n`** : 불러올 데이터의 개수를 정수로 지정합니다.  \n",
    "> 지정하지 않으면 5개의 데이터가 출력됩니다.\n",
    "> ---\n"
   ]
  },
  {
   "cell_type": "markdown",
   "id": "14a34532-c00f-4663-ab9a-685e9543bde7",
   "metadata": {},
   "source": [
    "## head(), tail() 함수로 원하는 만큼 시리즈 읽어오기\n",
    "\n",
    "`head()`, `tail()` 함수를 사용하면 원하는 만큼 시리즈 데이터를 읽어올 수 있습니다.\n",
    "\n",
    "<table>\n",
    "<tr>\n",
    "    <th><img src=\"https://tmn-bucket-materials-all.s3.ap-northeast-2.amazonaws.com/image/pandas/material_03_01.gif\" width=\"750\"></th>\n",
    "</tr>\n",
    "<tr>\n",
    "    <th>head, tail 함수로 시리즈 데이터 읽어오기</th>\n",
    "</tr>\n",
    "</table>"
   ]
  },
  {
   "cell_type": "code",
   "execution_count": null,
   "id": "6ca4b186-9316-4e35-afc5-af91dd017539",
   "metadata": {
    "tags": []
   },
   "outputs": [],
   "source": [
    "# 예제_1_시리즈_출력하기\n",
    "\n",
    "import pandas as pd\n",
    "\n",
    "school = pd.read_csv('https://tmn-bucket-materials-all.s3.ap-northeast-2.amazonaws.com/data/%EA%B3%A0%EB%93%B1%ED%95%99%EA%B5%90.csv')['학교명']\n",
    "\n",
    "print('#'*30, f\"{'print(school)':^15s}\" , '#' * 30, '\\n') # 출력되는 결과들을 분리해서 보여주기 위한 코드입니다.\n",
    "print(school)\n",
    "print('\\n','#'*30, f\"{'school.head(10)':^15s}\" , '#' * 30, '\\n') # 출력되는 결과들을 분리해서 보여주기 위한 코드입니다.\n",
    "print(school.head(10))\n",
    "print('\\n','#'*30, f\"{'school.tail(10)':^15s}\" , '#' * 30, '\\n') # 출력되는 결과들을 분리해서 보여주기 위한 코드입니다.\n",
    "print(school.tail(5))"
   ]
  },
  {
   "cell_type": "markdown",
   "id": "7f40843f-ad2a-40fd-94bd-336bee35565d",
   "metadata": {},
   "source": [
    "## head(), tail() 함수로 원하는 만큼 데이터프레임 읽어오기\n",
    "\n",
    "`head()`, `tail()` 함수를 사용하면 원하는 만큼 데이터프레임에 데이터를 읽어올 수 있습니다.\n",
    "\n",
    "<table>\n",
    "<tr>\n",
    "    <th><img src=\"https://tmn-bucket-materials-all.s3.ap-northeast-2.amazonaws.com/image/pandas/material_03_02.gif\" width=\"750\"></th>\n",
    "</tr>\n",
    "<tr>\n",
    "    <th>head, tail 함수로 데이터프레임 데이터 읽어오기</th>\n",
    "</tr>\n",
    "</table>"
   ]
  },
  {
   "cell_type": "code",
   "execution_count": null,
   "id": "47087b03-6d28-498e-83d3-6255b2055a76",
   "metadata": {
    "tags": []
   },
   "outputs": [],
   "source": [
    "# 예제_2_데이터프레임_출력하기\n",
    "\n",
    "import pandas as pd\n",
    "\n",
    "school = pd.read_csv('https://tmn-bucket-materials-all.s3.ap-northeast-2.amazonaws.com/data/%EA%B3%A0%EB%93%B1%ED%95%99%EA%B5%90.csv')\n",
    "\n",
    "print('#'*30, f\"{'print(school)':^15s}\" , '#' * 30, '\\n') # 출력되는 결과들을 분리해서 보여주기 위한 코드입니다.\n",
    "print(school)\n",
    "print('\\n','#'*30, f\"{'school.head(10)':^15s}\" , '#' * 30, '\\n') # 출력되는 결과들을 분리해서 보여주기 위한 코드입니다.\n",
    "print(school.head(10))\n",
    "print('\\n','#'*30, f\"{'school.tail(10)':^15s}\" , '#' * 30, '\\n') # 출력되는 결과들을 분리해서 보여주기 위한 코드입니다.\n",
    "print(school.tail(5))"
   ]
  },
  {
   "cell_type": "markdown",
   "id": "b0689a88-0bbb-43c0-a115-02d6b94ea15c",
   "metadata": {},
   "source": [
    "> **❓ 생각해보기(QUESTION):**\n",
    ">\n",
    "> 다른 사람이 만든 데이터를 활용하기 전에 데이터를 확인해야 하는 이유는 무엇일까요?"
   ]
  },
  {
   "cell_type": "raw",
   "id": "7d197f7c-3ebe-4722-acc9-8e47af4e7e7a",
   "metadata": {},
   "source": [
    "질문에 대한 대답을 여기에 적어봅시다."
   ]
  },
  {
   "cell_type": "markdown",
   "id": "c363ef03-64ac-47dc-850b-b0a190a2b8bf",
   "metadata": {},
   "source": [
    "### **💯 연습문제를 풀어봅시다**\n",
    "\n"
   ]
  },
  {
   "cell_type": "markdown",
   "id": "f49fa315-a101-4771-930e-7fdb22b8a103",
   "metadata": {
    "tags": []
   },
   "source": [
    "1. <a class=\"jcecodle-mk jcecodle-mk__problem-chip\" data-problem-id=\"eIqw64lQUsQ\" href='#jce-judge/open/eIqw64lQUsQ' target='_self'><span>시리즈 처음</span></a>\n",
    "\n",
    "\n",
    "2. <a class=\"jcecodle-mk jcecodle-mk__problem-chip\" data-problem-id=\"PIik3l43D-Q\" href='#jce-judge/open/PIik3l43D-Q' target='_self'><span>시리즈 끝</span></a>\n",
    "\n",
    "\n",
    "3. <a class=\"jcecodle-mk jcecodle-mk__problem-chip\" data-problem-id=\"WfLej_479RA\" href='#jce-judge/open/WfLej_479RA' target='_self'><span>데이터의 처음</span></a>\n",
    "\n",
    "4. <a class=\"jcecodle-mk jcecodle-mk__problem-chip\" data-problem-id=\"letS_qsEPmM\" href='#jce-judge/open/letS_qsEPmM' target='_self'><span>데이터의 끝</span></a>\n",
    "\n",
    "\n",
    "\n",
    "5. <a class=\"jcecodle-mk jcecodle-mk__problem-chip\" data-problem-id=\"kkpMpZOlWug\" href='#jce-judge/open/kkpMpZOlWug' target='_self'><span>첫째와 둘째, 막내</span></a>\n",
    "\n",
    "\n",
    "6. <a class=\"jcecodle-mk jcecodle-mk__problem-chip\" data-problem-id=\"3urbitKPCt8\" href='#jce-judge/open/3urbitKPCt8' target='_self'><span>판다스 기초 - 데이터 출력하기</span></a>\n"
   ]
  },
  {
   "cell_type": "markdown",
   "id": "e1c1e440",
   "metadata": {
    "tags": []
   },
   "source": [
    "# **[3-2] 데이터의 구조 정보 확인하기**"
   ]
  },
  {
   "cell_type": "markdown",
   "id": "799310ba",
   "metadata": {
    "tags": []
   },
   "source": [
    "## **🎯 학습 목표**\n",
    "**데이터의 요약된 구조 정보를 출력해봅시다.**"
   ]
  },
  {
   "cell_type": "markdown",
   "id": "00feaf54",
   "metadata": {},
   "source": [
    "---"
   ]
  },
  {
   "cell_type": "markdown",
   "id": "193dea66-99f4-4912-bc20-3a03fc6fef2b",
   "metadata": {
    "jp-MarkdownHeadingCollapsed": true,
    "tags": []
   },
   "source": [
    "데이터의 일부분을 출력하는 것으로는 전체적인 데이터를 파악하기에 무리가 있습니다.  \n",
    "데이터가 크다면 전체를 출력하여도 마찬가지입니다.  \n",
    "\n",
    "Pandas에는 데이터에 대한 전반적인 정보를 정리해주는 기능들이 있습니다.  \n",
    "\n",
    "\n",
    "\n",
    "\n",
    "> **🔨 함수(FUNCTIONS):**\n",
    ">\n",
    "> **`Series.info()`**  \n",
    "> 시리즈의 **총 행의 길이**, **시리즈의 이름**, **비어 있지 않은 데이터의 개수**, **데이터의 타입**, **데이터의 용량**을 알려줍니다.\n",
    "> ---\n",
    "> **`DataFrame.info()`**  \n",
    "> 데이터프레임의 **총 행의 길이**, **각 열의 이름**, **각 열에 비어 있지 않은 데이터의 개수**, **각 열의 데이터 타입**, **데이터의 용량**을 알려줍니다.\n",
    "> ---"
   ]
  },
  {
   "cell_type": "markdown",
   "id": "eb3ab7fc-209e-44ce-9fd8-9f46dca544b2",
   "metadata": {},
   "source": [
    "## info() 함수로 데이터의 정보 확인하기\n",
    "\n",
    "`info()` 함수를 사용하면 데이터의 전반적인 정보를 확인할 수 있습니다.\n",
    "\n",
    "<table>\n",
    "<tr>\n",
    "    <th><img src=\"https://tmn-bucket-materials-all.s3.ap-northeast-2.amazonaws.com/image/pandas/material_03_03.png\" width=\"750\"></th>\n",
    "</tr>\n",
    "<tr>\n",
    "    <th>info() 함수로 데이터의 정보 확인하기</th>\n",
    "</tr>\n",
    "</table>"
   ]
  },
  {
   "cell_type": "code",
   "execution_count": null,
   "id": "4e4b41d1-d0af-4584-b368-7cd4d72e3dca",
   "metadata": {
    "tags": []
   },
   "outputs": [],
   "source": [
    "# 예제_1_시리즈의_데이터_정보_확인하기\n",
    "\n",
    "import pandas as pd\n",
    "\n",
    "school = pd.read_csv('https://tmn-bucket-materials-all.s3.ap-northeast-2.amazonaws.com/data/%EA%B3%A0%EB%93%B1%ED%95%99%EA%B5%90.csv')['학교명']\n",
    "\n",
    "print('#'*30, f\"{'school':^15s}\" , '#' * 30, '\\n') # 출력되는 결과들을 분리해서 보여주기 위한 코드입니다.\n",
    "print(school)\n",
    "print('\\n','#'*30, f\"{'school.info()':^15s}\" , '#' * 30, '\\n') # 출력되는 결과들을 분리해서 보여주기 위한 코드입니다.\n",
    "print(school.info())"
   ]
  },
  {
   "cell_type": "code",
   "execution_count": null,
   "id": "cb44c7b2-8745-402a-83e9-65c687c620a7",
   "metadata": {
    "tags": []
   },
   "outputs": [],
   "source": [
    "# 예제_2_데이터프레임의_데이터_정보_확인하기\n",
    "\n",
    "import pandas as pd\n",
    "\n",
    "school = pd.read_csv('https://tmn-bucket-materials-all.s3.ap-northeast-2.amazonaws.com/data/%EA%B3%A0%EB%93%B1%ED%95%99%EA%B5%90.csv')\n",
    "\n",
    "print('#'*30, f\"{'school':^15s}\" , '#' * 30, '\\n') # 출력되는 결과들을 분리해서 보여주기 위한 코드입니다.\n",
    "print(school)\n",
    "print('\\n','#'*30, f\"{'school.info()':^15s}\" , '#' * 30, '\\n') # 출력되는 결과들을 분리해서 보여주기 위한 코드입니다.\n",
    "print(school.info())"
   ]
  },
  {
   "cell_type": "markdown",
   "id": "f6fff66d-c374-42e8-be00-3f614bcf8e1e",
   "metadata": {},
   "source": [
    "> **❓ 생각해보기(QUESTION):**\n",
    ">\n",
    "> `info()` 함수를 사용하면 데이터를 직접 확인했을 때보다 어떤 점이 좋은가요? "
   ]
  },
  {
   "cell_type": "raw",
   "id": "4064ecbf-e9cb-4fb4-b96c-25636981b5d6",
   "metadata": {},
   "source": [
    "질문에 대한 대답을 여기에 적어봅시다."
   ]
  },
  {
   "cell_type": "markdown",
   "id": "bd51f774-8de5-4cac-9589-255a151734ca",
   "metadata": {},
   "source": [
    "### **💯 연습문제를 풀어봅시다**\n",
    "\n"
   ]
  },
  {
   "cell_type": "markdown",
   "id": "4598c295-6e7d-40ac-9e2e-626c53640242",
   "metadata": {
    "tags": []
   },
   "source": [
    "1. <a class=\"jcecodle-mk jcecodle-mk__problem-chip\" data-problem-id=\"HA4xV3SU1_A\" href='#jce-judge/open/HA4xV3SU1_A' target='_self'><span>판다스 기초 - 데이터 정보 확인하기 (1)</span></a>\n",
    "2. <a class=\"jcecodle-mk jcecodle-mk__problem-chip\" data-problem-id=\"SeZBiTED_n4\" href='#jce-judge/open/SeZBiTED_n4' target='_self'><span>판다스 기초 - 데이터 정보 확인하기 (2)</span></a>\n",
    "3. <a class=\"jcecodle-mk jcecodle-mk__problem-chip\" data-problem-id=\"EQ93k91oXgU\" href='#jce-judge/open/EQ93k91oXgU' target='_self'><span>판다스 기초 - 데이터 정보 확인하기 (3)</span></a>\n"
   ]
  },
  {
   "cell_type": "markdown",
   "id": "b2224461",
   "metadata": {
    "tags": []
   },
   "source": [
    "# **[3-3] 데이터의 통계 정보 확인하기**"
   ]
  },
  {
   "cell_type": "markdown",
   "id": "79e35279",
   "metadata": {
    "tags": []
   },
   "source": [
    "## **🎯 학습 목표**\n",
    "**데이터의 요약된 통계 정보를 출력해봅시다.**"
   ]
  },
  {
   "cell_type": "markdown",
   "id": "7d1e0c77",
   "metadata": {},
   "source": [
    "---"
   ]
  },
  {
   "cell_type": "markdown",
   "id": "778098e1-d728-463a-868b-430a0e30431d",
   "metadata": {
    "jp-MarkdownHeadingCollapsed": true,
    "tags": []
   },
   "source": [
    "Pandas에서는 데이터의 통계 정보도 손쉽게 확인할 수 있습니다.\n",
    "\n",
    "> **🔨 함수(FUNCTIONS):**\n",
    ">\n",
    "> **`Series.describe(include = 문자열)`, `DataFrame.describe(include = 문자열)`**  \n",
    "> 시리즈/데이터프레임의 통계 정보를 알려줍니다.\n",
    ">- count: 데이터 갯수 (비어 있는 값 제외)\n",
    ">- mean: 평균값\n",
    ">- std: 표준편차\n",
    ">- min: 최솟값\n",
    ">- 25%: 크기 순으로 정렬했을때 4분의 1번째에 해당하는 값\n",
    ">- 50%: 크기 순으로 정렬했을때 중앙에 해당하는 값 (중앙값)\n",
    ">- 75%: 크기 순으로 정렬했을때 4분의 3번째에 해당하는 값\n",
    ">- max: 최댓값\n",
    ">> **매개변수(parameter)**\n",
    ">>\n",
    ">> **`include`** : 통계에 포함된 데이터 타입을 지정합니다.\n",
    ">> 'O'를 설정하면 오브젝트(object) 타입 데이터에 대한 추가적인 통계량을 알려줍니다.\n",
    ">>- count: 데이터 갯수 (비어 있는 값 제외)\n",
    ">>- unique: 데이터의 고유값 종류 갯수\n",
    ">>- top: 가장 수가 많은 고유값\n",
    ">>- freq: top에 해당하는 고유값의 갯수\n",
    "> ---"
   ]
  },
  {
   "cell_type": "markdown",
   "id": "d2b836dc-f73e-4f85-8f79-917fb14259f8",
   "metadata": {},
   "source": [
    "## describe() 함수로 데이터의 통계 정보 확인하기\n",
    "\n",
    "`describe()` 함수를 사용하면 데이터의 통계 정보를 확인할 수 있습니다.\n",
    "`include` 매개변수로 `'O'`를 주면 문자 데이터의 통계 정보도 확인할 수 있습니다.\n",
    "\n",
    "<table>\n",
    "<tr>\n",
    "    <th><img src=\"https://tmn-bucket-materials-all.s3.ap-northeast-2.amazonaws.com/image/pandas/material_03_04.png\" width=\"750\"></th>\n",
    "</tr>\n",
    "<tr>\n",
    "    <th>describe() 함수로 통계 데이터 읽어오기</th>\n",
    "</tr>\n",
    "</table>"
   ]
  },
  {
   "cell_type": "code",
   "execution_count": null,
   "id": "76fd50f0-387a-4378-8a54-438b143972e6",
   "metadata": {
    "tags": []
   },
   "outputs": [],
   "source": [
    "# 예제_1_시리즈의_통계_정보_확인하기\n",
    "\n",
    "import pandas as pd\n",
    "\n",
    "school = pd.read_csv('https://tmn-bucket-materials-all.s3.ap-northeast-2.amazonaws.com/data/%EA%B3%A0%EB%93%B1%ED%95%99%EA%B5%90.csv')['학교명']\n",
    "\n",
    "print('#'*30, f\"{'school':^15s}\" , '#' * 30, '\\n') # 출력되는 결과들을 분리해서 보여주기 위한 코드입니다.\n",
    "print(school)\n",
    "print('\\n','#'*30, f\"{'school.describe()':^15s}\" , '#' * 30, '\\n') # 출력되는 결과들을 분리해서 보여주기 위한 코드입니다.\n",
    "print(school.describe())"
   ]
  },
  {
   "cell_type": "code",
   "execution_count": null,
   "id": "c2063a24-f55a-474e-b894-4b73f4ad1f6d",
   "metadata": {
    "tags": []
   },
   "outputs": [],
   "source": [
    "# 예제_2_데이터프레임의_통계_정보_확인하기\n",
    "\n",
    "import pandas as pd\n",
    "\n",
    "school = pd.read_csv('https://tmn-bucket-materials-all.s3.ap-northeast-2.amazonaws.com/data/%EA%B3%A0%EB%93%B1%ED%95%99%EA%B5%90.csv')\n",
    "\n",
    "print('#'*30, f\"{'school':^15s}\" , '#' * 30, '\\n') # 출력되는 결과들을 분리해서 보여주기 위한 코드입니다.\n",
    "print(school)\n",
    "print('\\n','#'*30, f\"{'school.describe()':^15s}\" , '#' * 30, '\\n') # 출력되는 결과들을 분리해서 보여주기 위한 코드입니다.\n",
    "print(school.describe())"
   ]
  },
  {
   "cell_type": "code",
   "execution_count": null,
   "id": "3252c95f-71cf-4978-9e99-c2b42ece1ae0",
   "metadata": {
    "tags": []
   },
   "outputs": [],
   "source": [
    "# 예제_3_데이터프레임의_문자데이터_통계_정보_확인하기\n",
    "\n",
    "import pandas as pd\n",
    "\n",
    "school = pd.read_csv('https://tmn-bucket-materials-all.s3.ap-northeast-2.amazonaws.com/data/%EA%B3%A0%EB%93%B1%ED%95%99%EA%B5%90.csv')\n",
    "\n",
    "print('#'*30, f\"{'school':^15s}\" , '#' * 30, '\\n') # 출력되는 결과들을 분리해서 보여주기 위한 코드입니다.\n",
    "print(school)\n",
    "print('\\n','#'*30, \"{:^15s}\".format('school.describe(include=\\'O\\')') , '#' * 30, '\\n') # 출력되는 결과들을 분리해서 보여주기 위한 코드입니다.\n",
    "print(school.describe(include='O'))"
   ]
  },
  {
   "cell_type": "markdown",
   "id": "c7ba11de-2d55-48e0-ba16-7bdc5c927b1b",
   "metadata": {},
   "source": [
    "> **❓ 생각해보기(QUESTION):**\n",
    ">\n",
    "> 통계 정보를 확인하면 어떤 정보를 추가적으로 알 수 있을까요?"
   ]
  },
  {
   "cell_type": "raw",
   "id": "d7085821-1bc0-4946-82dd-58f6244c351c",
   "metadata": {},
   "source": [
    "질문에 대한 대답을 여기에 적어봅시다."
   ]
  },
  {
   "cell_type": "markdown",
   "id": "e9274ebc-40eb-4802-8429-5a4b432526b2",
   "metadata": {},
   "source": [
    "### **💯 연습문제를 풀어봅시다**\n",
    "\n"
   ]
  },
  {
   "cell_type": "markdown",
   "id": "6e35f536-2ac2-403d-a94c-01637831bf28",
   "metadata": {
    "tags": []
   },
   "source": [
    "1. <a class=\"jcecodle-mk jcecodle-mk__problem-chip\" data-problem-id=\"T0QwboxCL-A\" href='#jce-judge/open/T0QwboxCL-A' target='_self'><span>판다스 기초 - 숫자 데이터 통계 확인하기</span></a>\n",
    "2. <a class=\"jcecodle-mk jcecodle-mk__problem-chip\" data-problem-id=\"0hhVXsFglyk\" href='#jce-judge/open/0hhVXsFglyk' target='_self'><span>판다스 기초 - 숫자 데이터 통게 확인하기 (2)</span></a>\n",
    "3. <a class=\"jcecodle-mk jcecodle-mk__problem-chip\" data-problem-id=\"c1xby3pplU0\" href='#jce-judge/open/c1xby3pplU0' target='_self'><span>판다스 기초 - 문자 데이터 통계 확인하기</span></a>\n",
    "4. <a class=\"jcecodle-mk jcecodle-mk__problem-chip\" data-problem-id=\"va6a0Xko5_E\" href='#jce-judge/open/va6a0Xko5_E' target='_self'><span>판다스 기초 - 문자 데이터 통계 확인하기 (2)</span></a>\n",
    "5. <a class=\"jcecodle-mk jcecodle-mk__problem-chip\" data-problem-id=\"TehwC_5I29I\" href='#jce-judge/open/TehwC_5I29I' target='_self'><span>판다스 기초 - 모든 데이터 통계 확인하기</span></a>\n",
    "\n"
   ]
  },
  {
   "cell_type": "markdown",
   "id": "fe965bbf",
   "metadata": {
    "tags": []
   },
   "source": [
    "# **[4-1] 시리즈(Series) 인덱싱**"
   ]
  },
  {
   "cell_type": "markdown",
   "id": "5f6d6353",
   "metadata": {
    "tags": []
   },
   "source": [
    "## **🎯 학습 목표**\n",
    "**인덱싱을 사용하여 시리즈(Series)에 부분적으로 접근해봅시다.**"
   ]
  },
  {
   "cell_type": "markdown",
   "id": "0cb3bd44",
   "metadata": {},
   "source": [
    "---"
   ]
  },
  {
   "cell_type": "markdown",
   "id": "a2ba31af-b0f2-4b8f-9879-8b6836fd154b",
   "metadata": {
    "jp-MarkdownHeadingCollapsed": true,
    "tags": []
   },
   "source": [
    "데이터를 사용할 때에는 데이터의 전체를 사용할 때도 있지만 데이터의 특정 부분만을 가져와 사용하는 경우가 있습니다.  \n",
    "데이터를 인덱싱(indexing)하여 원하는 부분만 가져와 사용할 수 있습니다.\n",
    "\n",
    "> **✏️ 알아봅시다(NOTE):** 인덱싱(indexing)이 무엇인가요?  \n",
    ">\n",
    "> 인덱싱은 데이터의 특정 부분에 접근하는 방법입니다.  \n",
    "> 데이터에서 원하는 부분만을 가져와 사용할 수 있습니다.\n",
    "> "
   ]
  },
  {
   "cell_type": "markdown",
   "id": "d809eb9d-a9ea-4a4d-ad04-8e4e21bfa9fc",
   "metadata": {
    "tags": []
   },
   "source": [
    "## 위치 정보를 이용해 데이터 인덱싱하기\n",
    "\n",
    "시리즈는 리스트(list) 처럼 원하는 데이터의 위치 정보를 이용해 데이터를 인덱싱할 수 있습니다.\n",
    "\n",
    "> **⚠️ 주의(WARNING):**\n",
    ">\n",
    "> 시리즈의 위치는 리스트와 마찬가지로 0부터 시작됩니다.\n",
    "\n",
    "1. 하나의 데이터 인덱싱하기  \n",
    "`Series[n]`: 시리즈의 'n+1'번째 데이터를 가져옵니다.  \n",
    "\n",
    "<table>\n",
    "<tr>\n",
    "    <th><img src=\"https://tmn-bucket-materials-all.s3.ap-northeast-2.amazonaws.com/image/pandas/material_03_05.gif\" width=\"750\"></th>\n",
    "</tr>\n",
    "<tr>\n",
    "    <th>시리즈에서 하나의 데이터 인덱싱</th>\n",
    "</tr>\n",
    "</table>\n",
    "\n",
    "2. 연속된 여러개의 데이터 인덱싱하기  \n",
    "`Series[a:b]`: 시리즈의 'a+1'번째부터 'b'번째 데이터를 시리즈의 형태로 가져옵니다.  \n",
    "\n",
    "<table>\n",
    "<tr>\n",
    "    <th><img src=\"https://tmn-bucket-materials-all.s3.ap-northeast-2.amazonaws.com/image/pandas/material_03_06.gif\" width=\"750\"></th>\n",
    "</tr>\n",
    "<tr>\n",
    "    <th>시리즈에서 연속된 여러개의 데이터 인덱싱</th>\n",
    "</tr>\n",
    "</table>\n",
    "\n",
    "3. 연속되지 않은 여러개의 데이터 인덱싱하기  \n",
    "`Series[[0, 1]]`: 시리즈의 첫 번째, 두 번째 데이터를 시리즈의 형태로 가져옵니다.  \n",
    "`Series[[1, 0]]`: 시리즈의 두 번째, 첫 번째 데이터를 시리즈의 형태로 가져옵니다.  \n",
    "\n",
    "<table>\n",
    "<tr>\n",
    "    <th><img src=\"https://tmn-bucket-materials-all.s3.ap-northeast-2.amazonaws.com/image/pandas/material_03_07.gif\" width=\"750\"></th>\n",
    "</tr>\n",
    "<tr>\n",
    "    <th>시리즈에서 연속되지 않은 여러개의 데이터 인덱싱</th>\n",
    "</tr>\n",
    "</table>"
   ]
  },
  {
   "cell_type": "code",
   "execution_count": null,
   "id": "70d814ad-dbdd-40a5-9d90-d44ef2b9b816",
   "metadata": {
    "tags": []
   },
   "outputs": [],
   "source": [
    "# 예제_1_시리즈에서_하나의_데이터_인덱싱\n",
    "\n",
    "import pandas as pd\n",
    "\n",
    "df = pd.read_csv('https://tmn-bucket-materials-all.s3.ap-northeast-2.amazonaws.com/data/midterm_exam_result.csv')\n",
    "\n",
    "score = pd.Series(df['프로그래밍'])\n",
    "score.index = df['이름']\n",
    "\n",
    "print('#'*30, f\"{'score':^15s}\" , '#' * 30, '\\n') # 출력되는 결과들을 분리해서 보여주기 위한 코드입니다.\n",
    "print(score)\n",
    "print('\\n','#'*30, f\"{'score[5]':^15s}\" , '#' * 30, '\\n') # 출력되는 결과들을 분리해서 보여주기 위한 코드입니다.\n",
    "print(score[5])\n",
    "print('\\n','#'*30, f\"{'score[5]':^15s}\" , '#' * 30, '\\n') # 출력되는 결과들을 분리해서 보여주기 위한 코드입니다.\n",
    "print(score[13])"
   ]
  },
  {
   "cell_type": "code",
   "execution_count": null,
   "id": "62d58381-73ba-4ffe-8273-241aa15f5cd3",
   "metadata": {
    "tags": []
   },
   "outputs": [],
   "source": [
    "# 예제_2_시리즈에서_연속된_여러개의_데이터_인덱싱\n",
    "\n",
    "import pandas as pd\n",
    "\n",
    "df = pd.read_csv('https://tmn-bucket-materials-all.s3.ap-northeast-2.amazonaws.com/data/midterm_exam_result.csv')\n",
    "\n",
    "score = pd.Series(df['프로그래밍'])\n",
    "score.index = df['이름']\n",
    "\n",
    "print('#'*30, f\"{'score':^15s}\" , '#' * 30, '\\n') # 출력되는 결과들을 분리해서 보여주기 위한 코드입니다.\n",
    "print(score)\n",
    "print('\\n','#'*30, f\"{'score[5:10]':^15s}\" , '#' * 30, '\\n') # 출력되는 결과들을 분리해서 보여주기 위한 코드입니다.\n",
    "print(score[5:10])\n",
    "print('\\n','#'*30, f\"{'score[13:15]':^15s}\" , '#' * 30, '\\n') # 출력되는 결과들을 분리해서 보여주기 위한 코드입니다.\n",
    "print(score[13:15])"
   ]
  },
  {
   "cell_type": "code",
   "execution_count": null,
   "id": "eee37cb0-b2b9-4c75-afc3-640842635fb1",
   "metadata": {
    "tags": []
   },
   "outputs": [],
   "source": [
    "# 예제_3_시리즈에서_연속되지_않은_여러개의_데이터_인덱싱\n",
    "\n",
    "import pandas as pd\n",
    "\n",
    "df = pd.read_csv('https://tmn-bucket-materials-all.s3.ap-northeast-2.amazonaws.com/data/midterm_exam_result.csv')\n",
    "\n",
    "score = pd.Series(df['프로그래밍'])\n",
    "score.index = df['이름']\n",
    "\n",
    "print('#'*30, f\"{'score':^15s}\" , '#' * 30, '\\n') # 출력되는 결과들을 분리해서 보여주기 위한 코드입니다.\n",
    "print(score)\n",
    "print('\\n','#'*30, f\"{'score[[5,6,10,12]]':^15s}\" , '#' * 30, '\\n') # 출력되는 결과들을 분리해서 보여주기 위한 코드입니다.\n",
    "print(score[[5,6,10,12]])\n",
    "print('\\n','#'*30, f\"{'score[[1,3,5]]':^15s}\" , '#' * 30, '\\n') # 출력되는 결과들을 분리해서 보여주기 위한 코드입니다.\n",
    "print(score[[1,3,5]])"
   ]
  },
  {
   "cell_type": "markdown",
   "id": "44d44629-164c-4c5b-a7c1-c4ce4c1ac5e0",
   "metadata": {
    "tags": []
   },
   "source": [
    "## 인덱스 정보를 이용해 데이터 인덱싱하기\n",
    "\n",
    "시리즈는 딕셔너리(dictionary) 처럼 원하는 데이터의 인덱스를 이용해 데이터를 인덱싱할 수 있습니다.\n",
    "\n",
    "> **⛔️ 오류(ERROR):**\n",
    ">\n",
    "> 시리즈에 존재하지 않는 인덱스를 사용하면 오류가 발생합니다.\n",
    "\n",
    "1. 하나의 데이터 인덱싱하기  \n",
    "`Series['인덱스']`: 시리즈의 '인덱스'에 해당하는 데이터를 가져옵니다.  \n",
    "\n",
    "<table>\n",
    "<tr>\n",
    "    <th><img src=\"https://tmn-bucket-materials-all.s3.ap-northeast-2.amazonaws.com/image/pandas/material_04_01_04.gif\" width=\"750\"></th>\n",
    "</tr>\n",
    "<tr>\n",
    "    <th>시리즈에서 인덱스를 정보를 이용해 하나의 데이터 인덱싱</th>\n",
    "</tr>\n",
    "</table>\n",
    "\n",
    "2. 연속된 여러개의 데이터 인덱싱하기  \n",
    "`Series['인덱스1':'인덱스2']`: 시리즈의 '인덱스1'부터 '인덱스2'까지의 데이터를 시리즈의 형태로 가져옵니다.  \n",
    "\n",
    "<table>\n",
    "<tr>\n",
    "    <th><img src=\"https://tmn-bucket-materials-all.s3.ap-northeast-2.amazonaws.com/image/pandas/material_04_01_05.gif\" width=\"750\"></th>\n",
    "</tr>\n",
    "<tr>\n",
    "    <th>시리즈에서 인덱스를 정보를 이용해 연속된 여러개의 데이터 인덱싱</th>\n",
    "</tr>\n",
    "</table>\n",
    "\n",
    "3. 연속되지 않은 여러개의 데이터 인덱싱하기  \n",
    "`Series[['인덱스1', '인덱스2']]`: 시리즈의  '인덱스1', '인덱스2'에 해당하는 데이터를 시리즈의 형태로 가져옵니다.  \n",
    "`Series[['인덱스2', '인덱스1']]`: 시리즈의  '인덱스2', '인덱스1'에 해당하는 데이터를 시리즈의 형태로 가져옵니다.  \n",
    "\n",
    "<table>\n",
    "<tr>\n",
    "    <th><img src=\"https://tmn-bucket-materials-all.s3.ap-northeast-2.amazonaws.com/image/pandas/material_04_01_06.gif\" width=\"750\"></th>\n",
    "</tr>\n",
    "<tr>\n",
    "    <th>시리즈에서 인덱스를 정보를 이용해 연속되지 않은 여러개의 데이터 인덱싱</th>\n",
    "</tr>\n",
    "</table>\n",
    "\n",
    "> **⚠️ 주의(WARNING):**\n",
    ">\n",
    "> [a:b]의 방법으로 연속된 데이터를 인덱싱할 때에 위치 정보를 사용하는지, 인덱스 정보를 사용하는지에 따라 결과가 달라 주의해야 합니다.\n",
    ">  - 위치 정보 이용: [1:3] 4번째 행은 포함되지 않습니다.\n",
    ">  - 인덱스 정보 이용: ['인덱스1':'인덱스2'] '인덱스2' 행이 포함됩니다.\n"
   ]
  },
  {
   "cell_type": "code",
   "execution_count": null,
   "id": "5b557d0a-2240-4ce5-add7-d718b8246973",
   "metadata": {
    "tags": []
   },
   "outputs": [],
   "source": [
    "# 예제_4_시리즈에서_인덱스정보_이용하여_하나의_데이터_인덱싱\n",
    "\n",
    "import pandas as pd\n",
    "\n",
    "df = pd.read_csv('https://tmn-bucket-materials-all.s3.ap-northeast-2.amazonaws.com/data/midterm_exam_result.csv')\n",
    "\n",
    "score = pd.Series(df['프로그래밍'])\n",
    "score.index = df['이름']\n",
    "\n",
    "print('#'*30, f\"{'score':^15s}\" , '#' * 30, '\\n') # 출력되는 결과들을 분리해서 보여주기 위한 코드입니다.\n",
    "print(score)\n",
    "print('\\n','#'*30, \"{:^15s}\".format('score[\"이민서\"]') , '#' * 30, '\\n') # 출력되는 결과들을 분리해서 보여주기 위한 코드입니다.\n",
    "print(score[\"이민서\"])\n",
    "print('\\n','#'*30, \"{:^15s}\".format('score[\"박채원\"]') , '#' * 30, '\\n') # 출력되는 결과들을 분리해서 보여주기 위한 코드입니다.\n",
    "print(score[\"박채원\"])"
   ]
  },
  {
   "cell_type": "code",
   "execution_count": null,
   "id": "02cc6666-c8db-4cf4-82db-a9641220dd24",
   "metadata": {
    "tags": []
   },
   "outputs": [],
   "source": [
    "# 예제_5_시리즈에서_인덱스정보_이용하여_연속된_여러개의_데이터_인덱싱\n",
    "\n",
    "import pandas as pd\n",
    "\n",
    "df = pd.read_csv('https://tmn-bucket-materials-all.s3.ap-northeast-2.amazonaws.com/data/midterm_exam_result.csv')\n",
    "\n",
    "score = pd.Series(df['프로그래밍'])\n",
    "score.index = df['이름']\n",
    "\n",
    "print('#'*30, f\"{'score':^15s}\" , '#' * 30, '\\n') # 출력되는 결과들을 분리해서 보여주기 위한 코드입니다.\n",
    "print(score)\n",
    "print('\\n','#'*30, \"{:^15s}\".format('score[\"이민서\":\"박채원\"]') , '#' * 30, '\\n') # 출력되는 결과들을 분리해서 보여주기 위한 코드입니다.\n",
    "print(score[\"이민서\":\"박채원\"])\n",
    "print('\\n','#'*30, \"{:^15s}\".format('score[\"박채원\":\"정예준\"]') , '#' * 30, '\\n') # 출력되는 결과들을 분리해서 보여주기 위한 코드입니다.\n",
    "print(score[\"박채원\":\"정예준\"])"
   ]
  },
  {
   "cell_type": "code",
   "execution_count": null,
   "id": "2cd9df66-7d25-4a13-8683-ef082cedf635",
   "metadata": {
    "tags": []
   },
   "outputs": [],
   "source": [
    "# 예제_6_시리즈에서_인덱스정보_이용하여_연속되지_않은_여러개의_데이터_인덱싱\n",
    "\n",
    "import pandas as pd\n",
    "\n",
    "df = pd.read_csv('https://tmn-bucket-materials-all.s3.ap-northeast-2.amazonaws.com/data/midterm_exam_result.csv')\n",
    "\n",
    "score = pd.Series(df['프로그래밍'])\n",
    "score.index = df['이름']\n",
    "\n",
    "print('#'*30, f\"{'score':^15s}\" , '#' * 30, '\\n') # 출력되는 결과들을 분리해서 보여주기 위한 코드입니다.\n",
    "print(score)\n",
    "print('\\n','#'*30, \"{:^15s}\".format('score[[\"이민서\",\"채수아\",\"김서준\",\"박채원\"]]') , '#' * 30, '\\n') # 출력되는 결과들을 분리해서 보여주기 위한 코드입니다.\n",
    "print(score[[\"이민서\",\"채수아\",\"김서준\",\"박채원\"]])\n",
    "print('\\n','#'*30, \"{:^15s}\".format('(score[[\"박채원\",\"박도윤\",\"정예준\"]]') , '#' * 30, '\\n') # 출력되는 결과들을 분리해서 보여주기 위한 코드입니다.\n",
    "print(score[[\"박채원\",\"박도윤\",\"정예준\"]])"
   ]
  },
  {
   "cell_type": "markdown",
   "id": "804b8e17-3042-490b-852a-873a62d746b3",
   "metadata": {},
   "source": [
    "> **❓ 생각해보기(QUESTION):**\n",
    ">\n",
    "> 어떠한 경우에 인덱싱을 통해 특정 데이터에 접근해야 할까요?"
   ]
  },
  {
   "cell_type": "raw",
   "id": "31b1f407-64e2-44a0-b3c5-91945b6dce1b",
   "metadata": {},
   "source": [
    "질문에 대한 대답을 여기에 적어봅시다."
   ]
  },
  {
   "cell_type": "markdown",
   "id": "98d65e26-4a56-49d8-9628-536522033248",
   "metadata": {
    "tags": []
   },
   "source": [
    "### **💯 연습문제를 풀어봅시다**\n",
    "\n"
   ]
  },
  {
   "cell_type": "markdown",
   "id": "e029ae0a-c2de-4170-9fe7-70f048f5773d",
   "metadata": {
    "tags": []
   },
   "source": [
    "1. <a class=\"jcecodle-mk jcecodle-mk__problem-chip\" data-problem-id=\"85Z2jvqifdo\" href='#jce-judge/open/85Z2jvqifdo' target='_self'><span>판다스 기초 - 시리즈 인덱싱 순번 이용 (1)</span></a>\n",
    "\n",
    "2. <a class=\"jcecodle-mk jcecodle-mk__problem-chip\" data-problem-id=\"mEJX6nUojpk\" href='#jce-judge/open/mEJX6nUojpk' target='_self'><span>상품 시리즈 인덱싱</span></a>\n",
    "\n",
    "3. <a class=\"jcecodle-mk jcecodle-mk__problem-chip\" data-problem-id=\"cyt-JLuGCYI\" href='#jce-judge/open/cyt-JLuGCYI' target='_self'><span>성적 시리즈 인덱싱 (1)</span></a>\n",
    "\n",
    "4. <a class=\"jcecodle-mk jcecodle-mk__problem-chip\" data-problem-id=\"2pC2Zvg9LkY\" href='#jce-judge/open/2pC2Zvg9LkY' target='_self'><span>판다스 기초 - 시리즈 인덱싱 순번 이용 (2)</span></a>\n",
    "\n",
    "5. <a class=\"jcecodle-mk jcecodle-mk__problem-chip\" data-problem-id=\"E4yxB-12C0c\" href='#jce-judge/open/E4yxB-12C0c' target='_self'><span>연속 3줄 인덱싱</span></a>\n",
    "\n",
    "6. <a class=\"jcecodle-mk jcecodle-mk__problem-chip\" data-problem-id=\"IONclzSz0Wo\" href='#jce-judge/open/IONclzSz0Wo' target='_self'><span>장학급 수혜 대상자</span></a>\n",
    "\n",
    "7. <a class=\"jcecodle-mk jcecodle-mk__problem-chip\" data-problem-id=\"YKhP6f05A60\" href='#jce-judge/open/YKhP6f05A60' target='_self'><span>판다스 기초 - 시리즈 인덱싱 불연속한 다수행</span></a>\n",
    "\n",
    "8. <a class=\"jcecodle-mk jcecodle-mk__problem-chip\" data-problem-id=\"4e1mBJFGmCk\" href='#jce-judge/open/4e1mBJFGmCk' target='_self'><span>과일만 모으기(1)</span></a>\n",
    "\n",
    "9. <a class=\"jcecodle-mk jcecodle-mk__problem-chip\" data-problem-id=\"uOUUxOYUevk\" href='#jce-judge/open/uOUUxOYUevk' target='_self'><span>홀수행 인덱싱</span></a>\n",
    "\n",
    "10. <a class=\"jcecodle-mk jcecodle-mk__problem-chip\" data-problem-id=\"-fJrKazhUCc\" href='#jce-judge/open/-fJrKazhUCc' target='_self'><span>판다스 기초 - 시리즈 인덱싱 이름 이용(1)</span></a>\n",
    "\n",
    "11. <a class=\"jcecodle-mk jcecodle-mk__problem-chip\" data-problem-id=\"BW1n3ugNlfc\" href='#jce-judge/open/BW1n3ugNlfc' target='_self'><span>가족 시리즈 인덱싱</span></a>\n",
    "\n",
    "12. <a class=\"jcecodle-mk jcecodle-mk__problem-chip\" data-problem-id=\"O96L51_d4vg\" href='#jce-judge/open/O96L51_d4vg' target='_self'><span>결제 비용 (1)</span></a>\n",
    "\n",
    "13. <a class=\"jcecodle-mk jcecodle-mk__problem-chip\" data-problem-id=\"py3oeSeoqxk\" href='#jce-judge/open/py3oeSeoqxk' target='_self'><span>판다스 기초 - 시리즈 인덱싱 이름 이용 (2)</span></a>\n",
    "\n",
    "14. <a class=\"jcecodle-mk jcecodle-mk__problem-chip\" data-problem-id=\"-kmyKPqL8Qw\" href='#jce-judge/open/-kmyKPqL8Qw' target='_self'><span>성적 시리즈 인덱싱 (2)</span></a>\n",
    "\n",
    "15. <a class=\"jcecodle-mk jcecodle-mk__problem-chip\" data-problem-id=\"pN_CQGS4B8c\" href='#jce-judge/open/pN_CQGS4B8c' target='_self'><span>판다스 기초 - 시리즈 인덱싱 불연속한 다수행 (2)</span></a>\n",
    "\n",
    "16. <a class=\"jcecodle-mk jcecodle-mk__problem-chip\" data-problem-id=\"OWcA8MHupII\" href='#jce-judge/open/OWcA8MHupII' target='_self'><span>결제 비용 (2)</span></a>\n"
   ]
  },
  {
   "cell_type": "markdown",
   "id": "3078d952",
   "metadata": {
    "tags": []
   },
   "source": [
    "# **[4-2] 데이터프레임(DataFrame) 이름 기반 인덱싱**"
   ]
  },
  {
   "cell_type": "markdown",
   "id": "85d5f10c",
   "metadata": {
    "tags": []
   },
   "source": [
    "## **🎯 학습 목표**\n",
    "**이름을 이용해 데이터프레임(DataFrame)에 부분적으로 접근해봅시다.**"
   ]
  },
  {
   "cell_type": "markdown",
   "id": "c00c6119",
   "metadata": {},
   "source": [
    "---"
   ]
  },
  {
   "cell_type": "markdown",
   "id": "1f8b24ed-3071-4afa-98ab-b5d366187a5f",
   "metadata": {
    "jp-MarkdownHeadingCollapsed": true,
    "tags": []
   },
   "source": [
    "데이터프레임도 시리즈와 마찬가지로 특정 부분만 가져와 사용할 경우가 있습니다.  \n",
    "데이터프레임에서는 특정 열, 특정 행, 특정 행과 열을 가지는 데이터를 가져올 수 있습니다.  \n",
    "\n",
    "데이터프레임을 인덱실 할 때에는 열과 행을 잘 구분해야 합니다."
   ]
  },
  {
   "cell_type": "markdown",
   "id": "637f1aa4-bdb1-43d9-ab15-4e0697d84542",
   "metadata": {
    "tags": []
   },
   "source": [
    "## 열이름 정보를 이용해 데이터프레임의 열 인덱싱하기\n",
    "\n",
    "열이름 정보를 이용해 데이터프레임의 원하는 열을 가져올 수 있습니다.\n",
    "\n",
    "1. 하나의 열 인덱싱하기  \n",
    "`DataFrame[\"열이름\"]` : 데이터프레임에서 \"열이름\"에 해당하는 열을 가져옵니다.  \n",
    "\n",
    "<table>\n",
    "<tr>\n",
    "    <th><img src=\"https://tmn-bucket-materials-all.s3.ap-northeast-2.amazonaws.com/image/pandas/material_03_08.gif\" width=\"750\"></th>\n",
    "</tr>\n",
    "<tr>\n",
    "    <th>데이터프레임에서 열이름정보 이용해 하나의 열에 인덱싱</th>\n",
    "</tr>\n",
    "</table>\n",
    "\n",
    "2. 여러개의 열 인덱싱하기  \n",
    "`DataFrame[[\"열이름1\", \"열이름2\"]]` : 데이터프레임에서 \"열이름1\", \"열이름2\"에 해당하는 열을 가져옵니다.  \n",
    "\n",
    "<table>\n",
    "<tr>\n",
    "    <th><img src=\"https://tmn-bucket-materials-all.s3.ap-northeast-2.amazonaws.com/image/pandas/material_03_09.gif\" width=\"750\"></th>\n",
    "</tr>\n",
    "<tr>\n",
    "    <th>데이터프레임에서 열이름정보 이용해 여러개의 열에 인덱싱</th>\n",
    "</tr>\n",
    "</table>\n",
    "\n",
    "> **⛔️ 오류(ERROR):**\n",
    ">\n",
    "> `DataFrame[\"열이름1\":\"열이름2\"]`으로 연속된 열에 접근할 수 없습니다.  \n",
    "> 해당 방법을 사용하면 오류가 발생합니다."
   ]
  },
  {
   "cell_type": "code",
   "execution_count": null,
   "id": "6187c510-fc84-4936-9cf5-551348765d42",
   "metadata": {
    "tags": []
   },
   "outputs": [],
   "source": [
    "# 예제_1_데이터프레임에서_하나의_열에_인덱싱\n",
    "\n",
    "import pandas as pd\n",
    "\n",
    "score = pd.read_csv('https://tmn-bucket-materials-all.s3.ap-northeast-2.amazonaws.com/data/midterm_exam_result.csv')\n",
    "score.index = score['이름']\n",
    "score = score.iloc[:,1:]\n",
    "\n",
    "print('#'*30, f\"{'score':^15s}\" , '#' * 30, '\\n') # 출력되는 결과들을 분리해서 보여주기 위한 코드입니다.\n",
    "print(score)\n",
    "print('\\n','#'*30, \"{:^15s}\".format('score[\"국어\"]') , '#' * 30, '\\n') # 출력되는 결과들을 분리해서 보여주기 위한 코드입니다.\n",
    "print(score[\"국어\"])\n",
    "print('\\n','#'*30, \"{:^15s}\".format('score[\"프로그래밍\"]') , '#' * 30, '\\n') # 출력되는 결과들을 분리해서 보여주기 위한 코드입니다.\n",
    "print(score[\"프로그래밍\"])"
   ]
  },
  {
   "cell_type": "code",
   "execution_count": null,
   "id": "427d0b46-5607-4100-9736-d3a1da2ac3d6",
   "metadata": {
    "tags": []
   },
   "outputs": [],
   "source": [
    "# 예제_2_데이터프레임에서_여러개의_열에_인덱싱\n",
    "\n",
    "import pandas as pd\n",
    "\n",
    "score = pd.read_csv('https://tmn-bucket-materials-all.s3.ap-northeast-2.amazonaws.com/data/midterm_exam_result.csv')\n",
    "score.index = score['이름']\n",
    "score = score.iloc[:,1:]\n",
    "\n",
    "print('#'*30, f\"{'score':^15s}\" , '#' * 30, '\\n') # 출력되는 결과들을 분리해서 보여주기 위한 코드입니다.\n",
    "print(score)\n",
    "print('\\n','#'*30, \"{:^15s}\".format('score[[\"국어\",\"영어\"]]') , '#' * 30, '\\n') # 출력되는 결과들을 분리해서 보여주기 위한 코드입니다.\n",
    "print(score[[\"국어\",\"영어\"]])\n",
    "print('\\n','#'*30, \"{:^15s}\".format('score[[\"국어\",\"영어\",\"프로그래밍\",\"한국사\"]]') , '#' * 30, '\\n') # 출력되는 결과들을 분리해서 보여주기 위한 코드입니다.\n",
    "print(score[[\"국어\",\"영어\",\"프로그래밍\",\"한국사\"]])"
   ]
  },
  {
   "cell_type": "markdown",
   "id": "caf93098-e910-437e-a1d0-c9b6e6e36ffe",
   "metadata": {
    "tags": []
   },
   "source": [
    "## 인덱스 정보를 이용해 데이터프레임의 행 인덱싱하기\n",
    "\n",
    "`loc`을 사용하면 데이터프레임의 인덱스 정보를 이용해 원하는 행을 가져올 수 있습니다.\n",
    "\n",
    "1. 하나의 행 인덱싱하기  \n",
    "`DataFrame.loc['인덱스']`: 데이터프레임의 '인덱스'에 해당하는 행을 가져옵니다.  \n",
    "\n",
    "<table>\n",
    "<tr>\n",
    "    <th><img src=\"https://tmn-bucket-materials-all.s3.ap-northeast-2.amazonaws.com/image/pandas/material_03_10.gif\" width=\"750\"></th>\n",
    "</tr>\n",
    "<tr>\n",
    "    <th>데이터프레임에서 인덱스 정보를 이용해 하나의 행에 인덱싱</th>\n",
    "</tr>\n",
    "</table>\n",
    "\n",
    "2. 연속된 여러개의 행 인덱싱하기  \n",
    "`DataFrame.loc['인덱스1':'인덱스2']`: 데이터프레임의 '인덱스1'부터 '인덱스2'까지 행을 데이터프레임의 형태로 가져옵니다.  \n",
    "\n",
    "<table>\n",
    "<tr>\n",
    "    <th><img src=\"https://tmn-bucket-materials-all.s3.ap-northeast-2.amazonaws.com/image/pandas/material_03_11.gif\" width=\"750\"></th>\n",
    "</tr>\n",
    "<tr>\n",
    "    <th>데이터프레임에서 인덱스 정보를 이용해 연속된 여러개의 행에 인덱싱</th>\n",
    "</tr>\n",
    "</table>\n",
    "\n",
    "3. 연속되지 않은 여러개의 행 인덱싱하기  \n",
    "`DataFrame.loc[['인덱스1', '인덱스2']]`: 데이터프레임의  '인덱스1', '인덱스2'에 해당하는 행을 데이터프레임의 형태로 가져옵니다.  \n",
    "\n",
    "<table>\n",
    "<tr>\n",
    "    <th><img src=\"https://tmn-bucket-materials-all.s3.ap-northeast-2.amazonaws.com/image/pandas/material_03_12.gif\" width=\"750\"></th>\n",
    "</tr>\n",
    "<tr>\n",
    "    <th>데이터프레임에서 인덱스 정보를 이용해 연속되지 않은 여러개의 행에 인덱싱</th>\n",
    "</tr>\n",
    "</table>"
   ]
  },
  {
   "cell_type": "code",
   "execution_count": null,
   "id": "51663e15-e1e9-4eb8-88d4-907692850d9b",
   "metadata": {
    "tags": []
   },
   "outputs": [],
   "source": [
    "# 예제_3_데이터프레임에서_하나의_행에_인덱싱\n",
    "\n",
    "import pandas as pd\n",
    "\n",
    "score = pd.read_csv('https://tmn-bucket-materials-all.s3.ap-northeast-2.amazonaws.com/data/midterm_exam_result.csv')\n",
    "score.index = score['이름']\n",
    "score = score.iloc[:,1:]\n",
    "\n",
    "print('#'*30, f\"{'score':^15s}\" , '#' * 30, '\\n') # 출력되는 결과들을 분리해서 보여주기 위한 코드입니다.\n",
    "print(score)\n",
    "print('\\n','#'*30, \"{:^15s}\".format('score.loc[\"배지우\"]') , '#' * 30, '\\n') # 출력되는 결과들을 분리해서 보여주기 위한 코드입니다.\n",
    "print(score.loc[\"배지우\"])\n",
    "print('\\n','#'*30, \"{:^15s}\".format('score.loc[\"김다은\"]') , '#' * 30, '\\n') # 출력되는 결과들을 분리해서 보여주기 위한 코드입니다.\n",
    "print(score.loc[\"김다은\"])"
   ]
  },
  {
   "cell_type": "code",
   "execution_count": null,
   "id": "eea394f1-b3a6-4ec6-b1f9-d856f74422e2",
   "metadata": {
    "tags": []
   },
   "outputs": [],
   "source": [
    "# 예제_4_데이터프레임에서_연속된_여러개의_행에_인덱싱\n",
    "\n",
    "import pandas as pd\n",
    "\n",
    "score = pd.read_csv('https://tmn-bucket-materials-all.s3.ap-northeast-2.amazonaws.com/data/midterm_exam_result.csv')\n",
    "score.index = score['이름']\n",
    "score = score.iloc[:,1:]\n",
    "\n",
    "print('#'*30, f\"{'score':^15s}\" , '#' * 30, '\\n') # 출력되는 결과들을 분리해서 보여주기 위한 코드입니다.\n",
    "print(score)\n",
    "print('\\n','#'*30, \"{:^15s}\".format('score.loc[\"배지우\":\"한지훈\"]') , '#' * 30, '\\n') # 출력되는 결과들을 분리해서 보여주기 위한 코드입니다.\n",
    "print(score.loc[\"배지우\":\"한지훈\"])\n",
    "print('\\n','#'*30, \"{:^15s}\".format('score.loc[\"김다은\":\"최하은\"]') , '#' * 30, '\\n') # 출력되는 결과들을 분리해서 보여주기 위한 코드입니다.\n",
    "print(score.loc[\"이민준\":\"최하은\"])"
   ]
  },
  {
   "cell_type": "code",
   "execution_count": null,
   "id": "ff3b2491-faa6-447f-99e0-d0e0881873bf",
   "metadata": {
    "tags": []
   },
   "outputs": [],
   "source": [
    "# 예제_5_데이터프레임에서_연속되지_않은_여러개의_행에_인덱싱\n",
    "\n",
    "import pandas as pd\n",
    "\n",
    "score = pd.read_csv('https://tmn-bucket-materials-all.s3.ap-northeast-2.amazonaws.com/data/midterm_exam_result.csv')\n",
    "score.index = score['이름']\n",
    "score = score.iloc[:,1:]\n",
    "\n",
    "print('#'*30, f\"{'score':^15s}\" , '#' * 30, '\\n') # 출력되는 결과들을 분리해서 보여주기 위한 코드입니다.\n",
    "print(score)\n",
    "print('\\n','#'*30, \"{:^15s}\".format('score.loc[[\"배지우\",\"한지훈\",\"김지후\",\"이현우\"]]') , '#' * 30, '\\n') # 출력되는 결과들을 분리해서 보여주기 위한 코드입니다.\n",
    "print(score.loc[[\"배지우\",\"한지훈\",\"김지후\",\"이현우\"]])\n",
    "print('\\n','#'*30, \"{:^15s}\".format('score.loc[[\"이민준\",\"최하은\"]]') , '#' * 30, '\\n') # 출력되는 결과들을 분리해서 보여주기 위한 코드입니다.\n",
    "print(score.loc[[\"이민준\",\"최하은\"]])"
   ]
  },
  {
   "cell_type": "markdown",
   "id": "94acb73c-db63-42b2-a6e7-12e31904fa7e",
   "metadata": {
    "tags": []
   },
   "source": [
    "## 인덱스 정보를 이용해 데이터프레임의 열과 행 동시에 인덱싱하기\n",
    "\n",
    "데이터프레임의 열과 행을 동시에 인덱싱하는 방법은 여러가지가 있습니다.  \n",
    "이번에는 `loc`을 사용해 행과 열을 동시에 인덱싱하는 방법을 배워보겠습니다.\n",
    "\n",
    "1. 행과 열 동시에 인덱싱 하기  \n",
    "`DataFrame.loc[행 인덱싱, 열 인덱싱]` : `loc`을 사용해 행과 열을 동시에 인덱싱 할 수 있습니다.  \n",
    "`행 인덱싱`, `열 인덱싱`의 순서로 지정해 주면 됩니다.  \n",
    "행, 열을 인덱싱 할 때에는 위에서 배운 3가지의 인덱싱 방법을 모두 사용할 수 있습니다.  \n",
    "\n",
    "<table>\n",
    "<tr>\n",
    "    <th><img src=\"https://tmn-bucket-materials-all.s3.ap-northeast-2.amazonaws.com/image/pandas/material_03_13.gif\" width=\"750\"></th>\n",
    "</tr>\n",
    "<tr>\n",
    "    <th>데이터프레임에서 인덱스 정보, 열이름 정보를 이용해 행과 열 동시에 인덱싱</th>\n",
    "</tr>\n",
    "</table>\n",
    "\n",
    "2. 행, 열 전체를 선택하기  \n",
    "`DataFrame.loc[행 인덱싱,:]` : 선택된 행의 모든 열을 가져옵니다.  \n",
    "`DataFrame.loc[:,열 인덱싱]` : 선택된 열의 모든 행을 가져옵니다.  \n",
    "\n",
    "<table>\n",
    "<tr>\n",
    "    <th><img src=\"https://tmn-bucket-materials-all.s3.ap-northeast-2.amazonaws.com/image/pandas/material_03_14.gif\" width=\"750\"></th>\n",
    "</tr>\n",
    "<tr>\n",
    "    <th>데이터프레임에서 loc을 사용할 때에 행, 열 전체 선택하기</th>\n",
    "</tr>\n",
    "</table>\n",
    "\n"
   ]
  },
  {
   "cell_type": "code",
   "execution_count": null,
   "id": "23d9e9cb-1c39-49e4-914d-58cf32fe22db",
   "metadata": {
    "tags": []
   },
   "outputs": [],
   "source": [
    "# 예제_6_데이터프레임에서_loc을_사용한_다양한_인덱싱\n",
    "\n",
    "import pandas as pd\n",
    "\n",
    "score = pd.read_csv('https://tmn-bucket-materials-all.s3.ap-northeast-2.amazonaws.com/data/midterm_exam_result.csv')\n",
    "score.index = score['이름']\n",
    "score = score.iloc[:,1:]\n",
    "\n",
    "print('#'*30, f\"{'score':^15s}\" , '#' * 30, '\\n') # 출력되는 결과들을 분리해서 보여주기 위한 코드입니다.\n",
    "print(score)\n",
    "print('\\n','#'*30, \"{:^15s}\".format('score.loc[\"배지우\",[\"국어\",\"영어\",\"프로그래밍\"]]') , '#' * 30, '\\n') # 출력되는 결과들을 분리해서 보여주기 위한 코드입니다.\n",
    "print(score.loc[\"배지우\",[\"국어\",\"영어\",\"프로그래밍\"]])\n",
    "print('\\n','#'*30, \"{:^15s}\".format('score.loc[[\"배지우\",\"이민준\",\"최하은\"],\"프로그래밍\"]') , '#' * 30, '\\n') # 출력되는 결과들을 분리해서 보여주기 위한 코드입니다.\n",
    "print(score.loc[[\"배지우\",\"이민준\",\"최하은\"],\"프로그래밍\"])\n",
    "print('\\n','#'*30, \"{:^15s}\".format('score.loc[[\"배지우\",\"이민준\",\"최하은\"],[\"프로그래밍\",\"국어\",\"수학\"]]') , '#' * 30, '\\n') # 출력되는 결과들을 분리해서 보여주기 위한 코드입니다.\n",
    "print(score.loc[[\"배지우\",\"이민준\",\"최하은\"],[\"프로그래밍\",\"국어\",\"수학\"]])\n",
    "print('\\n','#'*30, \"{:^15s}\".format('score.loc[[\"배지우\",\"이민준\",\"최하은\"],:]') , '#' * 30, '\\n') # 출력되는 결과들을 분리해서 보여주기 위한 코드입니다.\n",
    "print(score.loc[[\"배지우\",\"이민준\",\"최하은\"],:])\n",
    "print('\\n','#'*30, \"{:^15s}\".format('score.loc[:,[\"프로그래밍\",\"국어\",\"수학\"]]') , '#' * 30, '\\n') # 출력되는 결과들을 분리해서 보여주기 위한 코드입니다.\n",
    "print(score.loc[:,[\"프로그래밍\",\"국어\",\"수학\"]])\n",
    "print('\\n','#'*30, \"{:^15s}\".format('score.loc[:,:]') , '#' * 30, '\\n') # 출력되는 결과들을 분리해서 보여주기 위한 코드입니다.\n",
    "print(score.loc[:,:])"
   ]
  },
  {
   "cell_type": "markdown",
   "id": "6541263e-b0bd-448e-9173-79cea002c54d",
   "metadata": {},
   "source": [
    "> **❓ 생각해보기(QUESTION):**\n",
    ">\n",
    "> 어떠한 경우에 인덱싱을 통해 특정 데이터에 접근해야 할까요?"
   ]
  },
  {
   "cell_type": "raw",
   "id": "e0a1cf77-a170-4d81-b7c7-ff0d5ec9cff5",
   "metadata": {},
   "source": [
    "질문에 대한 대답을 여기에 적어봅시다."
   ]
  },
  {
   "cell_type": "markdown",
   "id": "756d2963-0414-4734-a059-f5c31968287c",
   "metadata": {},
   "source": [
    "### **💯 연습문제를 풀어봅시다**\n",
    "\n"
   ]
  },
  {
   "cell_type": "markdown",
   "id": "1721f1b2-8439-4c1f-9de9-71b3b89ef4c2",
   "metadata": {
    "tags": []
   },
   "source": [
    "1. <a class=\"jcecodle-mk jcecodle-mk__problem-chip\" data-problem-id=\"ryIJK2tzdpY\" href='#jce-judge/open/ryIJK2tzdpY' target='_self'><span>판다스 기초 5 - 데이터프레임 열 이름으로 불러오기</span></a>\n",
    "\n",
    "2. <a class=\"jcecodle-mk jcecodle-mk__problem-chip\" data-problem-id=\"hyZz6FjltlQ\" href='#jce-judge/open/hyZz6FjltlQ' target='_self'><span>탑승객 수 불러오기</span></a>\n",
    "\n",
    "3. <a class=\"jcecodle-mk jcecodle-mk__problem-chip\" data-problem-id=\"P8-2zq1pydI\" href='#jce-judge/open/P8-2zq1pydI' target='_self'><span>지출 확인하기 (1)</span></a>\n",
    "\n",
    "4. <a class=\"jcecodle-mk jcecodle-mk__problem-chip\" data-problem-id=\"R3AMh0eTzDA\" href='#jce-judge/open/R3AMh0eTzDA' target='_self'><span>판다스 기초 - 데이터프레임 열 인덱싱 (여러개)</span></a>\n",
    "\n",
    "5. <a class=\"jcecodle-mk jcecodle-mk__problem-chip\" data-problem-id=\"qSuptxQhUQ8\" href='#jce-judge/open/qSuptxQhUQ8' target='_self'><span>홀수열 불러오기</span></a>\n",
    "\n",
    "6. <a class=\"jcecodle-mk jcecodle-mk__problem-chip\" data-problem-id=\"XS2g21h31uU\" href='#jce-judge/open/XS2g21h31uU' target='_self'><span>지출 확인하기 (2)</span></a>\n",
    "\n",
    "7. <a class=\"jcecodle-mk jcecodle-mk__problem-chip\" data-problem-id=\"NPfqVcJiU2s\" href='#jce-judge/open/NPfqVcJiU2s' target='_self'><span>판다스 기초 - 데이터 프레임 행 이름으로 불러오기</span></a>\n",
    "\n",
    "8. <a class=\"jcecodle-mk jcecodle-mk__problem-chip\" data-problem-id=\"XhmHxvwG71Y\" href='#jce-judge/open/XhmHxvwG71Y' target='_self'><span>데이터 프레임 행 이름으로 불러오기 (2)</span></a>\n",
    "\n",
    "9. <a class=\"jcecodle-mk jcecodle-mk__problem-chip\" data-problem-id=\"cesVayS2x70\" href='#jce-judge/open/cesVayS2x70' target='_self'><span>둘째부터 넷째까지</span></a>\n",
    "\n",
    "10. <a class=\"jcecodle-mk jcecodle-mk__problem-chip\" data-problem-id=\"dJEltjvjDO0\" href='#jce-judge/open/dJEltjvjDO0' target='_self'><span>가족 정보 인덱싱 (1)</span></a>\n",
    "\n",
    "11. <a class=\"jcecodle-mk jcecodle-mk__problem-chip\" data-problem-id=\"V51LDQ08Vqk\" href='#jce-judge/open/V51LDQ08Vqk' target='_self'><span>판다스 기초 - 데이터프레임 2차원 인덱싱 (3)</span></a>\n",
    "\n",
    "12. <a class=\"jcecodle-mk jcecodle-mk__problem-chip\" data-problem-id=\"c-SZQmiXNi0\" href='#jce-judge/open/c-SZQmiXNi0' target='_self'><span>가족 정보 인덱싱 (2) </span></a>\n",
    "\n",
    "13. <a class=\"jcecodle-mk jcecodle-mk__problem-chip\" data-problem-id=\"Sd1hbOkQ9BA\" href='#jce-judge/open/Sd1hbOkQ9BA' target='_self'><span>데이터 통계 정보 인덱싱</span></a>\n"
   ]
  },
  {
   "cell_type": "markdown",
   "id": "3dd92f2e",
   "metadata": {
    "tags": []
   },
   "source": [
    "# **[4-3] 데이터프레임(DataFrame) 위치 기반 인덱싱**"
   ]
  },
  {
   "cell_type": "markdown",
   "id": "95447dda",
   "metadata": {
    "tags": []
   },
   "source": [
    "## **🎯 학습 목표**\n",
    "**위치를 이용해 데이터프레임(DataFrame)에 부분적으로 접근해봅시다.**\n",
    "\n"
   ]
  },
  {
   "cell_type": "markdown",
   "id": "9e04c37d",
   "metadata": {},
   "source": [
    "---"
   ]
  },
  {
   "cell_type": "markdown",
   "id": "ef434e73-cf3b-4a33-ae46-7c026214937b",
   "metadata": {
    "jp-MarkdownHeadingCollapsed": true,
    "tags": []
   },
   "source": [
    "데이터프레임에서 특정 열과 행을 가져오기 위해 위치 기반의 인덱싱도 사용할 수 있습니다."
   ]
  },
  {
   "cell_type": "markdown",
   "id": "d4448725-2f04-4e89-83c0-c3bb0fb030b7",
   "metadata": {
    "tags": []
   },
   "source": [
    "## 위치 정보를 이용해 데이터프레임의 행 인덱싱하기\n",
    "\n",
    "데이터프레임의 행을 순서를 이용해 불러오기 위해서는 `iloc`을 이용해야 합니다.  \n",
    "`iloc`은 interger(정수로 된)-location(위치)를 의미합니다.  \n",
    "\n",
    "> **⚠️ 주의(WARNING):**\n",
    ">\n",
    "> 0부터 시작된다는 것을 기억합니다!\n",
    "\n",
    "1. 하나의 행 인덱싱하기  \n",
    "`DataFrame.iloc[n]` : n+1 번째 행을 Series로 반환  \n",
    "\n",
    "<table>\n",
    "<tr>\n",
    "    <th><img src=\"https://tmn-bucket-materials-all.s3.ap-northeast-2.amazonaws.com/image/pandas/material_03_18.gif\" width=\"750\"></th>\n",
    "</tr>\n",
    "<tr>\n",
    "    <th>데이터프레임에서 위치정보를 이용해 하나의 행에 인덱싱</th>\n",
    "</tr>\n",
    "</table>\n",
    "\n",
    "2. 연속된 여러개의 행 인덱싱하기  \n",
    "`DataFrame.iloc[a:b]` : a+1 번째 ~ b 번째 행을 DataFrame으로 반환  \n",
    "\n",
    "<table>\n",
    "<tr>\n",
    "    <th><img src=\"https://tmn-bucket-materials-all.s3.ap-northeast-2.amazonaws.com/image/pandas/material_03_19.gif\" width=\"750\"></th>\n",
    "</tr>\n",
    "<tr>\n",
    "    <th>데이터프레임에서 위치정보를 이용해 연속된 여러개의 행에 인덱싱</th>\n",
    "</tr>\n",
    "</table>\n",
    "\n",
    "3. 연속되지 않은 여러개의 행 인덱싱하기  \n",
    "`DataFrame.iloc[[a, b]]` : a+1 번째, b+1 번째 행을 DataFrame으로 반환  \n",
    "\n",
    "<table>\n",
    "<tr>\n",
    "    <th><img src=\"https://tmn-bucket-materials-all.s3.ap-northeast-2.amazonaws.com/image/pandas/material_03_20.gif\" width=\"750\"></th>\n",
    "</tr>\n",
    "<tr>\n",
    "    <th>데이터프레임에서 위치정보를 이용해 연속되지 않은 여러개의 행에 인덱싱</th>\n",
    "</tr>\n",
    "</table>"
   ]
  },
  {
   "cell_type": "code",
   "execution_count": null,
   "id": "36aec6a9-23a2-4605-aa92-cc67b0125916",
   "metadata": {
    "tags": []
   },
   "outputs": [],
   "source": [
    "# 예제_1_데이터프레임에서_하나의_행에_인덱싱\n",
    "\n",
    "import pandas as pd\n",
    "\n",
    "score = pd.read_csv('https://tmn-bucket-materials-all.s3.ap-northeast-2.amazonaws.com/data/midterm_exam_result.csv')\n",
    "score.index = score['이름']\n",
    "score = score.iloc[:,1:]\n",
    "\n",
    "print('#'*30, f\"{'score':^15s}\" , '#' * 30, '\\n') # 출력되는 결과들을 분리해서 보여주기 위한 코드입니다.\n",
    "print(score)\n",
    "print('\\n','#'*30, \"{:^15s}\".format('score.iloc[5]') , '#' * 30, '\\n') # 출력되는 결과들을 분리해서 보여주기 위한 코드입니다.\n",
    "print(score.iloc[5])\n",
    "print('\\n','#'*30, \"{:^15s}\".format('score.iloc[10]') , '#' * 30, '\\n') # 출력되는 결과들을 분리해서 보여주기 위한 코드입니다.\n",
    "print(score.iloc[10])"
   ]
  },
  {
   "cell_type": "code",
   "execution_count": null,
   "id": "a60c34fd-f12b-4a8b-9688-4ae4f802f0ed",
   "metadata": {
    "tags": []
   },
   "outputs": [],
   "source": [
    "# 예제_2_데이터프레임에서_연속된_여러개의_행에_인덱싱\n",
    "\n",
    "import pandas as pd\n",
    "\n",
    "score = pd.read_csv('https://tmn-bucket-materials-all.s3.ap-northeast-2.amazonaws.com/data/midterm_exam_result.csv')\n",
    "score.index = score['이름']\n",
    "score = score.iloc[:,1:]\n",
    "\n",
    "print('#'*30, f\"{'score':^15s}\" , '#' * 30, '\\n') # 출력되는 결과들을 분리해서 보여주기 위한 코드입니다.\n",
    "print(score)\n",
    "print('\\n','#'*30, \"{:^15s}\".format('score.iloc[5:10]') , '#' * 30, '\\n') # 출력되는 결과들을 분리해서 보여주기 위한 코드입니다.\n",
    "print(score.iloc[5:10])\n",
    "print('\\n','#'*30, \"{:^15s}\".format('score.iloc[13:20]') , '#' * 30, '\\n') # 출력되는 결과들을 분리해서 보여주기 위한 코드입니다.\n",
    "print(score.iloc[13:20])"
   ]
  },
  {
   "cell_type": "code",
   "execution_count": null,
   "id": "f5724107-e538-41d0-9411-8f5fec7dfa2a",
   "metadata": {
    "tags": []
   },
   "outputs": [],
   "source": [
    "# 예제_3_데이터프레임에서_연속되지_않은_여러개의_행에_인덱싱\n",
    "\n",
    "import pandas as pd\n",
    "\n",
    "score = pd.read_csv('https://tmn-bucket-materials-all.s3.ap-northeast-2.amazonaws.com/data/midterm_exam_result.csv')\n",
    "score.index = score['이름']\n",
    "score = score.iloc[:,1:]\n",
    "\n",
    "print('#'*30, f\"{'score':^15s}\" , '#' * 30, '\\n') # 출력되는 결과들을 분리해서 보여주기 위한 코드입니다.\n",
    "print(score)\n",
    "print('\\n','#'*30, \"{:^15s}\".format('score.iloc[[5,6,10,12]]') , '#' * 30, '\\n') # 출력되는 결과들을 분리해서 보여주기 위한 코드입니다.\n",
    "print(score.iloc[[5,6,10,12]])\n",
    "print('\\n','#'*30, \"{:^15s}\".format('score.iloc[[1,2,4,20,27]]') , '#' * 30, '\\n') # 출력되는 결과들을 분리해서 보여주기 위한 코드입니다.\n",
    "print(score.iloc[[1,2,4,20,27]])"
   ]
  },
  {
   "cell_type": "markdown",
   "id": "e217356b-a890-4f61-bf2e-c23fddb1160b",
   "metadata": {
    "tags": []
   },
   "source": [
    "## 위치 정보를 이용해 데이터프레임의 행과 열 동시에 인덱싱하기\n",
    "\n",
    "데이터프레임에서 위치 정보를 사용해 열만 인덱싱할 수는 없습니다.  \n",
    "따라서 행과 열을 동시에 인덱싱하는 방법을 사용해야 합니다.\n",
    "\n",
    "1. 행과 열 동시에 인덱싱 하기  \n",
    "`DataFrame.iloc[행 인덱싱, 열 인덱싱]` : `iloc`을 사용해 행과 열을 동시에 인덱싱 할 수 있습니다.  \n",
    "`행 인덱싱`, `열 인덱싱`의 순서로 지정해 주면 됩니다.  \n",
    "행, 열을 인덱싱 할 때에는 위에서 배운 3가지의 인덱싱 방법을 모두 사용할 수 있습니다.  \n",
    "\n",
    "<table>\n",
    "<tr>\n",
    "    <th><img src=\"https://tmn-bucket-materials-all.s3.ap-northeast-2.amazonaws.com/image/pandas/material_03_21.gif\" width=\"750\"></th>\n",
    "</tr>\n",
    "<tr>\n",
    "    <th>데이터프레임에서 위치정보를 이용해 행과 열 동시에 인덱싱</th>\n",
    "</tr>\n",
    "</table>\n",
    "\n",
    "2. 행, 열 전체를 선택하기  \n",
    "`DataFrame.iloc[행 인덱싱,:]` : 선택된 행의 모든 열을 가져옵니다.  \n",
    "`DataFrame.iloc[:,열 인덱싱]` : 선택된 열의 모든 행을 가져옵니다.  \n",
    "\n",
    "<table>\n",
    "<tr>\n",
    "    <th><img src=\"https://tmn-bucket-materials-all.s3.ap-northeast-2.amazonaws.com/image/pandas/material_03_22.gif\" width=\"750\"></th>\n",
    "</tr>\n",
    "<tr>\n",
    "    <th>데이터프레임에서 loc을 사용할 때에 행, 열 전체 선택하기</th>\n",
    "</tr>\n",
    "</table>\n",
    "\n",
    "\n"
   ]
  },
  {
   "cell_type": "code",
   "execution_count": null,
   "id": "6f6bb0ba-f4a0-4010-998c-99b0f8606f2f",
   "metadata": {
    "tags": []
   },
   "outputs": [],
   "source": [
    "# 예제_6_데이터프레임에서_iloc을_사용한_다양한_인덱싱\n",
    "\n",
    "import pandas as pd\n",
    "\n",
    "score = pd.read_csv('https://tmn-bucket-materials-all.s3.ap-northeast-2.amazonaws.com/data/midterm_exam_result.csv')\n",
    "score.index = score['이름']\n",
    "score = score.iloc[:,1:]\n",
    "\n",
    "print('#'*30, f\"{'score':^15s}\" , '#' * 30, '\\n') # 출력되는 결과들을 분리해서 보여주기 위한 코드입니다.\n",
    "print(score)\n",
    "print('\\n','#'*30, \"{:^15s}\".format('score.iloc[3,[1,3,4]]') , '#' * 30, '\\n') # 출력되는 결과들을 분리해서 보여주기 위한 코드입니다.\n",
    "print(score.iloc[3,[1,3,4]])\n",
    "print('\\n','#'*30, \"{:^15s}\".format('score.iloc[[3,5,8],3]') , '#' * 30, '\\n') # 출력되는 결과들을 분리해서 보여주기 위한 코드입니다.\n",
    "print(score.iloc[[3,5,8],3])\n",
    "print('\\n','#'*30, \"{:^15s}\".format('score.iloc[[3,5,8],[1,3,4]]') , '#' * 30, '\\n') # 출력되는 결과들을 분리해서 보여주기 위한 코드입니다.\n",
    "print(score.iloc[[3,5,8],[1,3,4]])\n",
    "print('\\n','#'*30, \"{:^15s}\".format('score.iloc[[3,5,8],:]') , '#' * 30, '\\n') # 출력되는 결과들을 분리해서 보여주기 위한 코드입니다.\n",
    "print(score.iloc[[3,5,8],:])\n",
    "print('\\n','#'*30, \"{:^15s}\".format('score.iloc[:,[1,3,4]]') , '#' * 30, '\\n') # 출력되는 결과들을 분리해서 보여주기 위한 코드입니다.\n",
    "print(score.iloc[:,[1,3,4]])\n",
    "print('\\n','#'*30, \"{:^15s}\".format('score.iloc[:,:]') , '#' * 30, '\\n') # 출력되는 결과들을 분리해서 보여주기 위한 코드입니다.\n",
    "print(score.iloc[:,:])"
   ]
  },
  {
   "cell_type": "markdown",
   "id": "ba4a85ee-2bfb-4b52-81da-a125bb581f41",
   "metadata": {},
   "source": [
    "> **❓ 생각해보기(QUESTION):**\n",
    ">\n",
    "> 데이터프레임을 2차원 인덱싱하는 방법은 다양합니다.  \n",
    "> 지금까지 배운 방법 이외에도 행 인덱싱과 열 인덱싱을 조합하면 더 많을 수 있습니다.  \n",
    "> 또 어떤 방법이 있을까요?"
   ]
  },
  {
   "cell_type": "raw",
   "id": "edaf6294-e768-4a01-a1c6-df0391de554f",
   "metadata": {},
   "source": [
    "질문에 대한 대답을 여기에 적어봅시다."
   ]
  },
  {
   "cell_type": "markdown",
   "id": "2eedf977-b33d-47c3-bba9-5153931b4963",
   "metadata": {},
   "source": [
    "### **💯 연습문제를 풀어봅시다**\n",
    "\n"
   ]
  },
  {
   "cell_type": "markdown",
   "id": "a6958479-9312-4e7f-8cb8-b590807dc519",
   "metadata": {
    "tags": []
   },
   "source": [
    "1. <a class=\"jcecodle-mk jcecodle-mk__problem-chip\" data-problem-id=\"xV7nHKLx08A\" href='#jce-judge/open/xV7nHKLx08A' target='_self'><span>판다스 기초 6 - 인덱스로 행 불러오기</span></a>\n",
    "\n",
    "2. <a class=\"jcecodle-mk jcecodle-mk__problem-chip\" data-problem-id=\"Q0bXumIP900\" href='#jce-judge/open/Q0bXumIP900' target='_self'><span>인덱스로 행 불러오기 (2)</span></a>\n",
    "\n",
    "\n",
    "3. <a class=\"jcecodle-mk jcecodle-mk__problem-chip\" data-problem-id=\"lHkUlBzXMac\" href='#jce-judge/open/lHkUlBzXMac' target='_self'><span>n개 행 불러오기</span></a>\n",
    "\n",
    "\n",
    "5. <a class=\"jcecodle-mk jcecodle-mk__problem-chip\" data-problem-id=\"jwp3nh6t6W4\" href='#jce-judge/open/jwp3nh6t6W4' target='_self'><span>거꾸로 불러오기</span></a>\n",
    "\n",
    "\n",
    "7. <a class=\"jcecodle-mk jcecodle-mk__problem-chip\" data-problem-id=\"NB1fXpsBSPM\" href='#jce-judge/open/NB1fXpsBSPM' target='_self'><span>300행 3열</span></a>\n",
    "\n",
    "\n",
    "8. <a class=\"jcecodle-mk jcecodle-mk__problem-chip\" data-problem-id=\"nITxi677FYQ\" href='#jce-judge/open/nITxi677FYQ' target='_self'><span>마지막과 첫번째 행</span></a>\n",
    "\n",
    "\n",
    "6. <a class=\"jcecodle-mk jcecodle-mk__problem-chip\" data-problem-id=\"2wUqFhadkik\" href='#jce-judge/open/2wUqFhadkik' target='_self'><span>판다스 기초 - 데이터프레임 2차원 인덱싱 (2)</span></a>\n",
    "\n"
   ]
  },
  {
   "cell_type": "markdown",
   "id": "e2a62284",
   "metadata": {
    "tags": []
   },
   "source": [
    "# **[5-1] 데이터간의 산술연산**"
   ]
  },
  {
   "cell_type": "markdown",
   "id": "4fd9230e",
   "metadata": {
    "tags": []
   },
   "source": [
    "## **🎯 학습 목표**\n",
    "**Pandas를 사용해 시리즈와 시리즈의 산술연산, 데이터프레임과 데이터프레임의 산술연산을 할 수 있습니다.**"
   ]
  },
  {
   "cell_type": "markdown",
   "id": "3e85436d",
   "metadata": {},
   "source": [
    "---"
   ]
  },
  {
   "cell_type": "markdown",
   "id": "b62f9ec4-a4dc-4da6-95b9-44b031ff13b1",
   "metadata": {
    "jp-MarkdownHeadingCollapsed": true,
    "tags": []
   },
   "source": [
    "여러 데이터를 가지고 있을때, 이들을 조합하여 새로운 결과를 이끌어낼 수 있습니다.  \n",
    "이러한 과정을 연산이라고 합니다.  \n",
    "Pandas의 데이터로 연산을 할 때에는 대상이 되는 데이터들의 shape 혹은 index에 따라 결과가 달라질 수 있습니다.  \n",
    "주의해야 할 점을 잘 확인하며 연산 방법을 배워봅시다.\n",
    "이번 시간에는 산술연산을 통해 데이터들의 합, 차, 곱, 몫을 계산하는 방법을 배웁니다.  "
   ]
  },
  {
   "cell_type": "markdown",
   "id": "3ae7119f-daf9-43cd-8796-ad68026d0a21",
   "metadata": {
    "tags": []
   },
   "source": [
    "## 열, 인덱스가 같은 경우의 산술연산\n",
    "\n",
    "데이터 간의 산술연산은 특별한 함수가 필요하지 않습니다.  \n",
    "시리즈, 데이터프레임 모두 같은 방식으로 연산이 가능합니다.  \n",
    "두 시리즈, 데이터프레임의 인덱스, 열이 같은 경우에는 같은 위치에 있는 데이터끼리 연산됩니다.\n",
    "\n",
    "> **시리즈의 산술연산**\n",
    ">\n",
    "> - **더하기** : Series1 + Series2 \n",
    "> - **빼기** : Series1 - Series2\n",
    "> - **곱하기** : Series1 * Series2\n",
    "> - **나누기** : Series1 / Series2  \n",
    "> - **거듭제곱** : Series1 ** Series2\n",
    "> - **몫** : Series1 // Series2\n",
    "> - **나머지** : Series1 % Series2  \n",
    ">\n",
    " \n",
    "> **데이터프레임의 산술연산**\n",
    ">\n",
    "> - **더하기** : DataFrame1 + DataFrame2 \n",
    "> - **빼기** : DataFrame1 - DataFrame2\n",
    "> - **곱하기** : DataFrame1 * DataFrame2\n",
    "> - **나누기** : DataFrame1 / DataFrame2   \n",
    "> - **거듭제곱** :DataFrame1 ** DataFrame2\n",
    "> - **몫** : DataFrame1 // DataFrame2\n",
    "> - **나머지** : DataFrame1 % DataFrame2\n",
    ">\n",
    "\n",
    "<table>\n",
    "<tr>\n",
    "    <th><img src=\"https://tmn-bucket-materials-all.s3.ap-northeast-2.amazonaws.com/image/pandas/material_05-02.png\" width=\"300\"></th>\n",
    "    <th><img src=\"https://tmn-bucket-materials-all.s3.ap-northeast-2.amazonaws.com/image/pandas/material_05-03.png\" width=\"450\"></th>\n",
    "</tr>\n",
    "<tr>\n",
    "    <th>시리즈간의 산술연산</th>\n",
    "    <th>데이터프레임간의 산술연산</th>\n",
    "</tr>\n",
    "</table>"
   ]
  },
  {
   "cell_type": "code",
   "execution_count": null,
   "id": "b1cf9e3f-bb20-4b76-b54c-5132943c4623",
   "metadata": {},
   "outputs": [],
   "source": [
    "# 예제_1_크기와_인덱스가_같은_시리즈_사이의_산술연산\n",
    "\n",
    "import pandas as pd\n",
    "\n",
    "A = pd.Series([1,2,3])\n",
    "B = pd.Series([4,5,6])\n",
    "\n",
    "print('#'*30, f\"{'A':^15s}\" , '#' * 30, '\\n') # 출력되는 결과들을 분리해서 보여주기 위한 코드입니다.\n",
    "print(A)\n",
    "print('\\n','#'*30, f\"{'B':^15s}\" , '#' * 30, '\\n') # 출력되는 결과들을 분리해서 보여주기 위한 코드입니다.\n",
    "print(B)\n",
    "print('\\n','#'*30, f\"{'A + B':^15s}\" , '#' * 30, '\\n') # 출력되는 결과들을 분리해서 보여주기 위한 코드입니다.\n",
    "print(A+B)\n",
    "print('\\n','#'*30, f\"{'A - B':^15s}\" , '#' * 30, '\\n') # 출력되는 결과들을 분리해서 보여주기 위한 코드입니다.\n",
    "print(A-B)\n",
    "print('\\n','#'*30, f\"{'A * B':^15s}\" , '#' * 30, '\\n') # 출력되는 결과들을 분리해서 보여주기 위한 코드입니다.\n",
    "print(A*B)\n",
    "print('\\n','#'*30, f\"{'A / B':^15s}\" , '#' * 30, '\\n') # 출력되는 결과들을 분리해서 보여주기 위한 코드입니다.\n",
    "print(A/B)\n",
    "print('\\n','#'*30, f\"{'A ** B':^15s}\" , '#' * 30, '\\n') # 출력되는 결과들을 분리해서 보여주기 위한 코드입니다.\n",
    "print(A**B)\n",
    "print('\\n','#'*30, f\"{'A // B':^15s}\" , '#' * 30, '\\n') # 출력되는 결과들을 분리해서 보여주기 위한 코드입니다.\n",
    "print(A//B)\n",
    "print('\\n','#'*30, f\"{'A % B':^15s}\" , '#' * 30, '\\n') # 출력되는 결과들을 분리해서 보여주기 위한 코드입니다.\n",
    "print(A%B)"
   ]
  },
  {
   "cell_type": "code",
   "execution_count": null,
   "id": "ee374497-9e8a-4202-b666-8e8ed3115b99",
   "metadata": {},
   "outputs": [],
   "source": [
    "# 예제_2_형태와_인덱스_열이_같은_데이터프레임_사이의_산술연산\n",
    "\n",
    "import pandas as pd\n",
    "\n",
    "A = pd.DataFrame([[1,2,3],[4,5,6]])\n",
    "B = pd.DataFrame([[6,5,4],[3,2,1]])\n",
    "\n",
    "print('#'*30, f\"{'A':^15s}\" , '#' * 30, '\\n') # 출력되는 결과들을 분리해서 보여주기 위한 코드입니다.\n",
    "print(A)\n",
    "print('\\n','#'*30, f\"{'B':^15s}\" , '#' * 30, '\\n') # 출력되는 결과들을 분리해서 보여주기 위한 코드입니다.\n",
    "print(B)\n",
    "print('\\n','#'*30, f\"{'A + B':^15s}\" , '#' * 30, '\\n') # 출력되는 결과들을 분리해서 보여주기 위한 코드입니다.\n",
    "print(A+B)\n",
    "print('\\n','#'*30, f\"{'A - B':^15s}\" , '#' * 30, '\\n') # 출력되는 결과들을 분리해서 보여주기 위한 코드입니다.\n",
    "print(A-B)\n",
    "print('\\n','#'*30, f\"{'A * B':^15s}\" , '#' * 30, '\\n') # 출력되는 결과들을 분리해서 보여주기 위한 코드입니다.\n",
    "print(A*B)\n",
    "print('\\n','#'*30, f\"{'A / B':^15s}\" , '#' * 30, '\\n') # 출력되는 결과들을 분리해서 보여주기 위한 코드입니다.\n",
    "print(A/B)\n",
    "print('\\n','#'*30, f\"{'A ** B':^15s}\" , '#' * 30, '\\n') # 출력되는 결과들을 분리해서 보여주기 위한 코드입니다.\n",
    "print(A**B)\n",
    "print('\\n','#'*30, f\"{'A // B':^15s}\" , '#' * 30, '\\n') # 출력되는 결과들을 분리해서 보여주기 위한 코드입니다.\n",
    "print(A//B)\n",
    "print('\\n','#'*30, f\"{'A % B':^15s}\" , '#' * 30, '\\n') # 출력되는 결과들을 분리해서 보여주기 위한 코드입니다.\n",
    "print(A%B)"
   ]
  },
  {
   "cell_type": "markdown",
   "id": "bf018a28-2eef-44d2-a11c-3d264145d507",
   "metadata": {},
   "source": [
    "## 열, 인덱스가 다른 경우의 산술연산\n",
    "\n",
    "열, 인덱스가 다른 경우에도 마찬가지의 방법으로 산술연산을 할 수 있습니다.  \n",
    "시리즈, 데이터프레임 모두 같은 방식으로 연산이 가능합니다.  \n",
    "Pandas의 데이터 간 산술연산은 시리즈, 데이터프레임의 모양이 같다고 해서 같은 위치의 데이터끼리 연산되지는 않습니다.  \n",
    "이 때에는 같은 인덱스와 같은 열이름을 가진 데이터끼리 연산됩니다.\n",
    "\n",
    "> **✏️ 알아봅시다(NOTE): NaN은 어떻게 계산되나요?(산술연산)**\n",
    ">\n",
    "> NaN은 비어 있는 값이기 때문에 산술연산 결과를 알 수 없습니다.\n",
    "> 따라서 NaN과의 산술연산은 무조건 NaN이 결과가 됩니다.\n",
    "\n",
    "> **⚠️ 주의(WARNING):**\n",
    ">\n",
    "> 열, 인덱스가 다를 때 산술연산을 할 때 인덱스와 같은 열이름을 가진 데이터가 한쪽에만 존재할 경우, 해당 공간에는 빈 데이터(NaN)가 들어가게 됩니다.  \n",
    "> 이는 해당 인덱스와 열이 없는 시리즈, 데이터프레임에서 데이터가 NaN으로 취급되기 때문입니다.\n",
    "\n",
    "<table>\n",
    "<tr>\n",
    "    <th><img src=\"https://tmn-bucket-materials-all.s3.ap-northeast-2.amazonaws.com/image/pandas/material_05-04.png\" width=\"300\"></th>\n",
    "    <th><img src=\"https://tmn-bucket-materials-all.s3.ap-northeast-2.amazonaws.com/image/pandas/material_05-05.png\" width=\"300\"></th>\n",
    "</tr>\n",
    "<tr>\n",
    "    <th>인덱스가 다른 시리즈 간의 연산</th>\n",
    "    <th>인덱스, 열이 다른 데이터프레임 간의 연산</th>\n",
    "</tr>\n",
    "</table>\n",
    "\n",
    "두 시리즈, 데이터프레임의 형태가 다른 경우에도 마찬가지로 인덱스와 열을 기반으로 연산됩니다. \n",
    "\n",
    "<table>\n",
    "<tr>\n",
    "    <th><img src=\"https://tmn-bucket-materials-all.s3.ap-northeast-2.amazonaws.com/image/pandas/material_05-06.png\" width=\"300\"></th>\n",
    "</tr>\n",
    "<tr>\n",
    "    <th>형태가 다른 데이터프레임 연산</th>\n",
    "</tr>\n",
    "</table>"
   ]
  },
  {
   "cell_type": "code",
   "execution_count": null,
   "id": "571e45ec-7d76-4a11-b077-abeaf2f8c963",
   "metadata": {},
   "outputs": [],
   "source": [
    "# 예제_3_크기는_같지만_인덱스가_다른_시리즈_사이의_산술연산\n",
    "\n",
    "import pandas as pd\n",
    "\n",
    "A = pd.Series([1,2,3], index = [0,1,2])\n",
    "B = pd.Series([4,5,6], index = [3,2,1])\n",
    "\n",
    "print('#'*30, f\"{'A':^15s}\" , '#' * 30, '\\n') # 출력되는 결과들을 분리해서 보여주기 위한 코드입니다.\n",
    "print(A)\n",
    "print('\\n','#'*30, f\"{'B':^15s}\" , '#' * 30, '\\n') # 출력되는 결과들을 분리해서 보여주기 위한 코드입니다.\n",
    "print(B)\n",
    "print('\\n','#'*30, f\"{'A + B':^15s}\" , '#' * 30, '\\n') # 출력되는 결과들을 분리해서 보여주기 위한 코드입니다.\n",
    "print(A+B)\n",
    "print('\\n','#'*30, f\"{'A - B':^15s}\" , '#' * 30, '\\n') # 출력되는 결과들을 분리해서 보여주기 위한 코드입니다.\n",
    "print(A-B)\n",
    "print('\\n','#'*30, f\"{'A * B':^15s}\" , '#' * 30, '\\n') # 출력되는 결과들을 분리해서 보여주기 위한 코드입니다.\n",
    "print(A*B)\n",
    "print('\\n','#'*30, f\"{'A / B':^15s}\" , '#' * 30, '\\n') # 출력되는 결과들을 분리해서 보여주기 위한 코드입니다.\n",
    "print(A/B)\n",
    "print('\\n','#'*30, f\"{'A ** B':^15s}\" , '#' * 30, '\\n') # 출력되는 결과들을 분리해서 보여주기 위한 코드입니다.\n",
    "print(A**B)\n",
    "print('\\n','#'*30, f\"{'A // B':^15s}\" , '#' * 30, '\\n') # 출력되는 결과들을 분리해서 보여주기 위한 코드입니다.\n",
    "print(A//B)\n",
    "print('\\n','#'*30, f\"{'A % B':^15s}\" , '#' * 30, '\\n') # 출력되는 결과들을 분리해서 보여주기 위한 코드입니다.\n",
    "print(A%B)"
   ]
  },
  {
   "cell_type": "code",
   "execution_count": null,
   "id": "5108f6d7-e764-4d92-8afc-eb0978374ec8",
   "metadata": {},
   "outputs": [],
   "source": [
    "# 예제_4_형태는_같지만_인덱스_열이_다른_데이터프레임_사이의_산술연산\n",
    "\n",
    "import pandas as pd\n",
    "\n",
    "A = pd.DataFrame([[1,2,3],[4,5,6]], index = [0,1], columns = ['A', 'B', 'C'])\n",
    "B = pd.DataFrame([[6,5,4],[3,2,1]], index = [0,2], columns = ['B', 'C', 'D'])\n",
    "\n",
    "print('#'*30, f\"{'A':^15s}\" , '#' * 30, '\\n') # 출력되는 결과들을 분리해서 보여주기 위한 코드입니다.\n",
    "print(A)\n",
    "print('\\n','#'*30, f\"{'B':^15s}\" , '#' * 30, '\\n') # 출력되는 결과들을 분리해서 보여주기 위한 코드입니다.\n",
    "print(B)\n",
    "print('\\n','#'*30, f\"{'A + B':^15s}\" , '#' * 30, '\\n') # 출력되는 결과들을 분리해서 보여주기 위한 코드입니다.\n",
    "print(A+B)\n",
    "print('\\n','#'*30, f\"{'A - B':^15s}\" , '#' * 30, '\\n') # 출력되는 결과들을 분리해서 보여주기 위한 코드입니다.\n",
    "print(A-B)\n",
    "print('\\n','#'*30, f\"{'A * B':^15s}\" , '#' * 30, '\\n') # 출력되는 결과들을 분리해서 보여주기 위한 코드입니다.\n",
    "print(A*B)\n",
    "print('\\n','#'*30, f\"{'A / B':^15s}\" , '#' * 30, '\\n') # 출력되는 결과들을 분리해서 보여주기 위한 코드입니다.\n",
    "print(A/B)\n",
    "print('\\n','#'*30, f\"{'A ** B':^15s}\" , '#' * 30, '\\n') # 출력되는 결과들을 분리해서 보여주기 위한 코드입니다.\n",
    "print(A**B)\n",
    "print('\\n','#'*30, f\"{'A // B':^15s}\" , '#' * 30, '\\n') # 출력되는 결과들을 분리해서 보여주기 위한 코드입니다.\n",
    "print(A//B)\n",
    "print('\\n','#'*30, f\"{'A % B':^15s}\" , '#' * 30, '\\n') # 출력되는 결과들을 분리해서 보여주기 위한 코드입니다.\n",
    "print(A%B)"
   ]
  },
  {
   "cell_type": "code",
   "execution_count": null,
   "id": "f4f0ca94-ebad-4b63-87bc-8d2940d8abc5",
   "metadata": {},
   "outputs": [],
   "source": [
    "# 예제_5_형태가_다른_데이터프레임_사이의_산술연산\n",
    "\n",
    "import pandas as pd\n",
    "\n",
    "A = pd.DataFrame([[1,2],[3,4],[5,6]], index = [0,1,2], columns = ['A', 'B'])\n",
    "B = pd.DataFrame([[1,2,3],[4,5,6]], index = [0,1], columns = ['A','B','C'])\n",
    "\n",
    "print('#'*30, f\"{'A':^15s}\" , '#' * 30, '\\n') # 출력되는 결과들을 분리해서 보여주기 위한 코드입니다.\n",
    "print(A)\n",
    "print('\\n','#'*30, f\"{'B':^15s}\" , '#' * 30, '\\n') # 출력되는 결과들을 분리해서 보여주기 위한 코드입니다.\n",
    "print(B)\n",
    "print('\\n','#'*30, f\"{'A + B':^15s}\" , '#' * 30, '\\n') # 출력되는 결과들을 분리해서 보여주기 위한 코드입니다.\n",
    "print(A+B)\n",
    "print('\\n','#'*30, f\"{'A - B':^15s}\" , '#' * 30, '\\n') # 출력되는 결과들을 분리해서 보여주기 위한 코드입니다.\n",
    "print(A-B)\n",
    "print('\\n','#'*30, f\"{'A * B':^15s}\" , '#' * 30, '\\n') # 출력되는 결과들을 분리해서 보여주기 위한 코드입니다.\n",
    "print(A*B)\n",
    "print('\\n','#'*30, f\"{'A / B':^15s}\" , '#' * 30, '\\n') # 출력되는 결과들을 분리해서 보여주기 위한 코드입니다.\n",
    "print(A/B)\n",
    "print('\\n','#'*30, f\"{'A ** B':^15s}\" , '#' * 30, '\\n') # 출력되는 결과들을 분리해서 보여주기 위한 코드입니다.\n",
    "print(A**B)\n",
    "print('\\n','#'*30, f\"{'A // B':^15s}\" , '#' * 30, '\\n') # 출력되는 결과들을 분리해서 보여주기 위한 코드입니다.\n",
    "print(A//B)\n",
    "print('\\n','#'*30, f\"{'A % B':^15s}\" , '#' * 30, '\\n') # 출력되는 결과들을 분리해서 보여주기 위한 코드입니다.\n",
    "print(A%B)"
   ]
  },
  {
   "cell_type": "markdown",
   "id": "fe678dd2-bc93-4de0-b7fb-af2f14f28c4c",
   "metadata": {},
   "source": [
    "### **💯 연습문제를 풀어봅시다**\n",
    "\n"
   ]
  },
  {
   "cell_type": "markdown",
   "id": "e81369d9-b359-4902-b6f9-5064cb41ca75",
   "metadata": {
    "tags": []
   },
   "source": [
    "1. <a class=\"jcecodle-mk jcecodle-mk__problem-chip\" data-problem-id=\"Xtrlc_bCbtE\" href='#jce-judge/open/Xtrlc_bCbtE' target='_self'><span>판다스 - 데이터 간 사칙연산 (1)</span></a>\n",
    "\n",
    "2. <a class=\"jcecodle-mk jcecodle-mk__problem-chip\" data-problem-id=\"Q7oNmKNgX78\" href='#jce-judge/open/Q7oNmKNgX78' target='_self'><span>빼고 곱하기</span></a>\n",
    "\n",
    "\n",
    "3. <a class=\"jcecodle-mk jcecodle-mk__problem-chip\" data-problem-id=\"PZDPU0vB73I\" href='#jce-judge/open/PZDPU0vB73I' target='_self'><span>빼고 더하기</span></a>\n",
    "\n",
    "\n",
    "2. <a class=\"jcecodle-mk jcecodle-mk__problem-chip\" data-problem-id=\"-Vj7ud9-Ozo\" href='#jce-judge/open/-Vj7ud9-Ozo' target='_self'><span>판다스 - 데이터 간 사칙연산 (2)</span></a>\n",
    "\n",
    "4. <a class=\"jcecodle-mk jcecodle-mk__problem-chip\" data-problem-id=\"wvkHK-RzhiU\" href='#jce-judge/open/wvkHK-RzhiU' target='_self'><span>출생연도와 학번</span></a>\n",
    "\n",
    "\n",
    "5. <a class=\"jcecodle-mk jcecodle-mk__problem-chip\" data-problem-id=\"ptPDSw-zES8\" href='#jce-judge/open/ptPDSw-zES8' target='_self'><span>인덱스 다른 데이터 3개</span></a>\n",
    "\n",
    "\n",
    "3. <a class=\"jcecodle-mk jcecodle-mk__problem-chip\" data-problem-id=\"h7X7CbcCYRw\" href='#jce-judge/open/h7X7CbcCYRw' target='_self'><span>판다스 - 데이터 간 사칙연산 (3)</span></a>\n",
    "\n",
    "6. <a class=\"jcecodle-mk jcecodle-mk__problem-chip\" data-problem-id=\"uMaAZRsho9E\" href='#jce-judge/open/uMaAZRsho9E' target='_self'><span>크기가 다른 데이터</span></a>\n",
    "\n",
    "\n",
    "7. <a class=\"jcecodle-mk jcecodle-mk__problem-chip\" data-problem-id=\"UfvzpSUUK1o\" href='#jce-judge/open/UfvzpSUUK1o' target='_self'><span>크기, 인덱스 다른 데이터</span></a>\n"
   ]
  },
  {
   "cell_type": "markdown",
   "id": "366dad9a",
   "metadata": {
    "tags": []
   },
   "source": [
    "# **[5-2] 데이터간의 비교연산**"
   ]
  },
  {
   "cell_type": "markdown",
   "id": "5628df86",
   "metadata": {
    "tags": []
   },
   "source": [
    "## **🎯 학습 목표**\n",
    "**Pandas를 사용해 시리즈와 시리즈의 비교연산, 데이터프레임과 데이터프레임의 비교연산을 할 수 있습니다.**"
   ]
  },
  {
   "cell_type": "markdown",
   "id": "ebe875a9",
   "metadata": {},
   "source": [
    "---"
   ]
  },
  {
   "cell_type": "markdown",
   "id": "6413fa6e-01a1-49f4-b0a6-da78c2945931",
   "metadata": {
    "jp-MarkdownHeadingCollapsed": true,
    "tags": []
   },
   "source": [
    "이번 시간에는 시리즈, 데이터프레임 간의 비교 연산을 배워봅시다."
   ]
  },
  {
   "cell_type": "markdown",
   "id": "de871f9b-5294-4339-8467-8a0b5bb64b61",
   "metadata": {
    "tags": []
   },
   "source": [
    "## 열, 인덱스가 같은 경우의 비교연산\n",
    "\n",
    "시리즈, 데이터프레임 간의 비교 연산의 경우 파이썬에서 사용하는 비교 연산을 그대로 사용할 수 있습니다.  \n",
    "비교하는 2개의 시리즈, 데이터프레임의 열, 인덱스가 동일하면 각각 열과 인덱스가 같은 데이터끼리 비교 연산을 수행하고 그 결과를 True와 False로 반환합니다.\n",
    "\n",
    "> **⛔️ 오류(ERROR):**\n",
    ">\n",
    "> Pandas의 시리즈, 데이터프레임 간 비교연산은 인덱스와 열이 완전히 일치하는 경우에만 사용 가능합니다.  \n",
    "> 비교연산을 할 때에 두 시리즈, 데이터프레임의 인덱스나 열이 다른 경우 오류가 발생합니다.\n",
    "> 사칙연산과는 다르니 주의해야 합니다.\n",
    "\n",
    "> **시리즈의 비교연산**\n",
    ">\n",
    "> - **같다** : Series1 == Series2 \n",
    "> - **다르다** : Series1 != Series2\n",
    "> - **왼쪽이 크다** : Series1 > Series2\n",
    "> - **오른쪽이 크다** : Series1 < Series2  \n",
    "> - **왼쪽이 크거나 같다** : Series1 >= Series2\n",
    "> - **오른쪽이 크거나 같다** : Series1 <= Series2\n",
    " \n",
    "> **데이터프레임의 비교연산**\n",
    ">\n",
    "> - **같다** : DataFrame1 == DataFrame2 \n",
    "> - **다르다** : DataFrame1 != DataFrame2\n",
    "> - **왼쪽이 크다** : DataFrames1 > DataFrame2\n",
    "> - **오른쪽이 크다** : DataFrame1 < DataFrame2  \n",
    "> - **왼쪽이 크거나 같다** : DataFrame1 >= DataFrame2\n",
    "> - **오른쪽이 크거나 같다** : DataFrame1 <= DataFrame2\n",
    "\n",
    "<table>\n",
    "<tr>\n",
    "    <th><img src=\"https://tmn-bucket-materials-all.s3.ap-northeast-2.amazonaws.com/image/pandas/material_05-07.png\" width=\"700\"></th>\n",
    "</tr>\n",
    "<tr>\n",
    "    <th>시리즈간의 비교연산</th>\n",
    "</tr>\n",
    "</table>\n",
    "\n",
    "<table>\n",
    "<tr>\n",
    "    <th><img src=\"https://tmn-bucket-materials-all.s3.ap-northeast-2.amazonaws.com/image/pandas/material_05-08.png\" width=\"700\"></th>\n",
    "    </tr>\n",
    "<tr>\n",
    "    <th>데이터프레임간의 비교연산</th>\n",
    "</tr>\n",
    "</table>\n",
    "\n",
    "> **✏️ 알아봅시다(NOTE): NaN은 어떻게 계산되나요?(비교연산)**\n",
    ">\n",
    "> NaN과의 비교 연산은 어떠한 경우에도 False를 결과로 내보냅니다.  \n",
    "> NaN은 다른 문자열, 실수, 정수등과 비교할 수 없기 때문입니다.\n",
    "\n",
    "비교연산은 정수, 실수 뿐만 아니라 문자열에 대해서도 적용 가능합니다.\n",
    "\n",
    "> **✏️ 알아봅시다(NOTE): 문자열의 크기 비교는 어떻게 이루어지나요?**\n",
    ">\n",
    "> 문자열에서 크기 비교는 사전에서 뒤에 나오는 문자열일수록 큰 문자열로 취급됩니다.  \n",
    "> 예시 : `'abc' < 'abe'` , `'a'<'z'`, `'가방'<'나비'`\n",
    "\n",
    "<table>\n",
    "<tr>\n",
    "    <th><img src=\"https://tmn-bucket-materials-all.s3.ap-northeast-2.amazonaws.com/image/pandas/material_05-09.png\" width=\"700\"></th>\n",
    "    </tr>\n",
    "<tr>\n",
    "    <th>데이터프레임간의 문자열 비교연산</th>\n",
    "</tr>\n",
    "</table>\n",
    "\n",
    "\n"
   ]
  },
  {
   "cell_type": "code",
   "execution_count": null,
   "id": "895054b0-75ea-49d7-a8f1-8db604ae391a",
   "metadata": {},
   "outputs": [],
   "source": [
    "# 예제_1_크기와_인덱스가_같은_시리즈_사이의_비교연산\n",
    "\n",
    "import pandas as pd\n",
    "\n",
    "A = pd.Series([1,1,1])\n",
    "B = pd.Series([0,1,2])\n",
    "\n",
    "print('#'*30, f\"{'A':^15s}\" , '#' * 30, '\\n') # 출력되는 결과들을 분리해서 보여주기 위한 코드입니다.\n",
    "print(A)\n",
    "print('\\n','#'*30, f\"{'B':^15s}\" , '#' * 30, '\\n') # 출력되는 결과들을 분리해서 보여주기 위한 코드입니다.\n",
    "print(B)\n",
    "print('\\n','#'*30, f\"{'A == B':^15s}\" , '#' * 30, '\\n') # 출력되는 결과들을 분리해서 보여주기 위한 코드입니다.\n",
    "print(A==B)\n",
    "print('\\n','#'*30, f\"{'A != B':^15s}\" , '#' * 30, '\\n') # 출력되는 결과들을 분리해서 보여주기 위한 코드입니다.\n",
    "print(A!=B)\n",
    "print('\\n','#'*30, f\"{'A > B':^15s}\" , '#' * 30, '\\n') # 출력되는 결과들을 분리해서 보여주기 위한 코드입니다.\n",
    "print(A>B)\n",
    "print('\\n','#'*30, f\"{'A < B':^15s}\" , '#' * 30, '\\n') # 출력되는 결과들을 분리해서 보여주기 위한 코드입니다.\n",
    "print(A<B)\n",
    "print('\\n','#'*30, f\"{'A >= B':^15s}\" , '#' * 30, '\\n') # 출력되는 결과들을 분리해서 보여주기 위한 코드입니다.\n",
    "print(A>=B)\n",
    "print('\\n','#'*30, f\"{'A <= B':^15s}\" , '#' * 30, '\\n') # 출력되는 결과들을 분리해서 보여주기 위한 코드입니다.\n",
    "print(A<=B)"
   ]
  },
  {
   "cell_type": "code",
   "execution_count": null,
   "id": "aa3c10e5-35e8-4cef-ad95-90725f683f73",
   "metadata": {},
   "outputs": [],
   "source": [
    "# 예제_2_형태와_인덱스_열이_같은_데이터프레임_사이의_비교연산\n",
    "\n",
    "import pandas as pd\n",
    "\n",
    "A = pd.DataFrame([[1,2,3],[4,5,6]])\n",
    "B = pd.DataFrame([[6,5,4],[3,2,1]])\n",
    "\n",
    "print('#'*30, f\"{'A':^15s}\" , '#' * 30, '\\n') # 출력되는 결과들을 분리해서 보여주기 위한 코드입니다.\n",
    "print(A)\n",
    "print('\\n','#'*30, f\"{'B':^15s}\" , '#' * 30, '\\n') # 출력되는 결과들을 분리해서 보여주기 위한 코드입니다.\n",
    "print(B)\n",
    "print('\\n','#'*30, f\"{'A == B':^15s}\" , '#' * 30, '\\n') # 출력되는 결과들을 분리해서 보여주기 위한 코드입니다.\n",
    "print(A==B)\n",
    "print('\\n','#'*30, f\"{'A != B':^15s}\" , '#' * 30, '\\n') # 출력되는 결과들을 분리해서 보여주기 위한 코드입니다.\n",
    "print(A!=B)\n",
    "print('\\n','#'*30, f\"{'A > B':^15s}\" , '#' * 30, '\\n') # 출력되는 결과들을 분리해서 보여주기 위한 코드입니다.\n",
    "print(A>B)\n",
    "print('\\n','#'*30, f\"{'A < B':^15s}\" , '#' * 30, '\\n') # 출력되는 결과들을 분리해서 보여주기 위한 코드입니다.\n",
    "print(A<B)\n",
    "print('\\n','#'*30, f\"{'A >= B':^15s}\" , '#' * 30, '\\n') # 출력되는 결과들을 분리해서 보여주기 위한 코드입니다.\n",
    "print(A>=B)\n",
    "print('\\n','#'*30, f\"{'A <= B':^15s}\" , '#' * 30, '\\n') # 출력되는 결과들을 분리해서 보여주기 위한 코드입니다.\n",
    "print(A<=B)"
   ]
  },
  {
   "cell_type": "code",
   "execution_count": null,
   "id": "a9b94f5a-3ac5-4a89-891d-6e7405c25969",
   "metadata": {},
   "outputs": [],
   "source": [
    "# 예제_2_형태와_인덱스_열이_같은_데이터프레임_사이의_문자열_비교연산\n",
    "\n",
    "import pandas as pd\n",
    "\n",
    "A = pd.DataFrame([['사과','바나나','복숭아'],['수박','딸기','귤']])\n",
    "B = pd.DataFrame([['사과','복숭아','딸기'],['귤','수박','바나나']])\n",
    "\n",
    "print('#'*30, f\"{'A':^15s}\" , '#' * 30, '\\n') # 출력되는 결과들을 분리해서 보여주기 위한 코드입니다.\n",
    "print(A)\n",
    "print('\\n','#'*30, f\"{'B':^15s}\" , '#' * 30, '\\n') # 출력되는 결과들을 분리해서 보여주기 위한 코드입니다.\n",
    "print(B)\n",
    "print('\\n','#'*30, f\"{'A == B':^15s}\" , '#' * 30, '\\n') # 출력되는 결과들을 분리해서 보여주기 위한 코드입니다.\n",
    "print(A==B)\n",
    "print('\\n','#'*30, f\"{'A != B':^15s}\" , '#' * 30, '\\n') # 출력되는 결과들을 분리해서 보여주기 위한 코드입니다.\n",
    "print(A!=B)\n",
    "print('\\n','#'*30, f\"{'A > B':^15s}\" , '#' * 30, '\\n') # 출력되는 결과들을 분리해서 보여주기 위한 코드입니다.\n",
    "print(A>B)\n",
    "print('\\n','#'*30, f\"{'A < B':^15s}\" , '#' * 30, '\\n') # 출력되는 결과들을 분리해서 보여주기 위한 코드입니다.\n",
    "print(A<B)\n",
    "print('\\n','#'*30, f\"{'A >= B':^15s}\" , '#' * 30, '\\n') # 출력되는 결과들을 분리해서 보여주기 위한 코드입니다.\n",
    "print(A>=B)\n",
    "print('\\n','#'*30, f\"{'A <= B':^15s}\" , '#' * 30, '\\n') # 출력되는 결과들을 분리해서 보여주기 위한 코드입니다.\n",
    "print(A<=B)"
   ]
  },
  {
   "cell_type": "code",
   "execution_count": null,
   "id": "51b49d95-5870-41ca-a6d7-2bbf25f371da",
   "metadata": {},
   "outputs": [],
   "source": [
    "# 예제_4_형태는_같지만_인덱스_열이_다른_데이터프레임_사이의_비교연산\n",
    "\n",
    "import pandas as pd\n",
    "\n",
    "A = pd.DataFrame([[1,2,3],[4,5,6]])\n",
    "B = pd.DataFrame([[6,5],[3,2]])\n",
    "\n",
    "print('#'*30, f\"{'A':^15s}\" , '#' * 30, '\\n') # 출력되는 결과들을 분리해서 보여주기 위한 코드입니다.\n",
    "print(A)\n",
    "print('\\n','#'*30, f\"{'B':^15s}\" , '#' * 30, '\\n') # 출력되는 결과들을 분리해서 보여주기 위한 코드입니다.\n",
    "print(B)\n",
    "print('\\n','#'*30, f\"{'A == B':^15s}\" , '#' * 30, '\\n') # 출력되는 결과들을 분리해서 보여주기 위한 코드입니다.\n",
    "print(A==B)\n",
    "print('\\n','#'*30, f\"{'A != B':^15s}\" , '#' * 30, '\\n') # 출력되는 결과들을 분리해서 보여주기 위한 코드입니다.\n",
    "print(A!=B)\n",
    "print('\\n','#'*30, f\"{'A > B':^15s}\" , '#' * 30, '\\n') # 출력되는 결과들을 분리해서 보여주기 위한 코드입니다.\n",
    "print(A>B)\n",
    "print('\\n','#'*30, f\"{'A < B':^15s}\" , '#' * 30, '\\n') # 출력되는 결과들을 분리해서 보여주기 위한 코드입니다.\n",
    "print(A<B)\n",
    "print('\\n','#'*30, f\"{'A >= B':^15s}\" , '#' * 30, '\\n') # 출력되는 결과들을 분리해서 보여주기 위한 코드입니다.\n",
    "print(A>=B)\n",
    "print('\\n','#'*30, f\"{'A <= B':^15s}\" , '#' * 30, '\\n') # 출력되는 결과들을 분리해서 보여주기 위한 코드입니다.\n",
    "print(A<=B)"
   ]
  },
  {
   "cell_type": "markdown",
   "id": "af5f8a0f-991a-408b-b145-ecd0e5253223",
   "metadata": {},
   "source": [
    "### **💯 연습문제를 풀어봅시다**\n",
    "\n"
   ]
  },
  {
   "cell_type": "markdown",
   "id": "47a105bf-0730-44fa-991b-8b6d11cda8fe",
   "metadata": {
    "tags": []
   },
   "source": [
    "1. <a class=\"jcecodle-mk jcecodle-mk__problem-chip\" data-problem-id=\"FUaGcGR4Uj0\" href='#jce-judge/open/FUaGcGR4Uj0' target='_self'><span>판다스 - 데이터 간 비교연산 (숫자)(1)</span></a>\n",
    "\n",
    "2. <a class=\"jcecodle-mk jcecodle-mk__problem-chip\" data-problem-id=\"P9vVm3ZQdNY\" href='#jce-judge/open/P9vVm3ZQdNY' target='_self'><span>다른 숫자</span></a>\n",
    "\n",
    "3. <a class=\"jcecodle-mk jcecodle-mk__problem-chip\" data-problem-id=\"c_ZV7Png7h4\" href='#jce-judge/open/c_ZV7Png7h4' target='_self'><span>같은 숫자</span></a>\n",
    "\n",
    "4. <a class=\"jcecodle-mk jcecodle-mk__problem-chip\" data-problem-id=\"_dhAAA7XWkM\" href='#jce-judge/open/_dhAAA7XWkM' target='_self'><span>판다스 - 데이터 간 비교연산 (숫자) (2)</span></a>\n",
    "\n",
    "5. <a class=\"jcecodle-mk jcecodle-mk__problem-chip\" data-problem-id=\"0a0cgdPrpIE\" href='#jce-judge/open/0a0cgdPrpIE' target='_self'><span>더 큰 데이터</span></a>\n",
    "\n",
    "6. <a class=\"jcecodle-mk jcecodle-mk__problem-chip\" data-problem-id=\"zgWKHWDCxkk\" href='#jce-judge/open/zgWKHWDCxkk' target='_self'><span>크거나 같은 데이터</span></a>\n",
    "\n",
    "7. <a class=\"jcecodle-mk jcecodle-mk__problem-chip\" data-problem-id=\"UH1YOIZHn4c\" href='#jce-judge/open/UH1YOIZHn4c' target='_self'><span>판다스 - 데이터 간 비교연산 (문자)</span></a>\n",
    "\n",
    "8. <a class=\"jcecodle-mk jcecodle-mk__problem-chip\" data-problem-id=\"cCyTQJsBzNE\" href='#jce-judge/open/cCyTQJsBzNE' target='_self'><span>다른 문자</span></a>\n",
    "\n",
    "9. <a class=\"jcecodle-mk jcecodle-mk__problem-chip\" data-problem-id=\"fr9NIKOJ1Sk\" href='#jce-judge/open/fr9NIKOJ1Sk' target='_self'><span>같은 문자</span></a>\n"
   ]
  },
  {
   "cell_type": "markdown",
   "id": "b2e52895",
   "metadata": {
    "tags": []
   },
   "source": [
    "# **[5-3] 데이터간의 논리연산**"
   ]
  },
  {
   "cell_type": "markdown",
   "id": "0f9aaff1",
   "metadata": {
    "tags": []
   },
   "source": [
    "## **🎯 학습 목표**\n",
    "**Pandas를 사용해 시리즈와 시리즈의 논리연산, 데이터프레임과 데이터프레임의 논리연산을 할 수 있습니다.**"
   ]
  },
  {
   "cell_type": "markdown",
   "id": "7064b8dd",
   "metadata": {},
   "source": [
    "---"
   ]
  },
  {
   "cell_type": "markdown",
   "id": "b92f5efc-70ea-48d9-ac9a-205cdcced460",
   "metadata": {
    "jp-MarkdownHeadingCollapsed": true,
    "tags": []
   },
   "source": [
    "이번 시간에는 시리즈, 데이터프레임 간의 논리 연산을 사용하는 방법을 배웁니다."
   ]
  },
  {
   "cell_type": "markdown",
   "id": "b7354505-63d5-42fa-b811-c08f23915b94",
   "metadata": {
    "tags": []
   },
   "source": [
    "## 열, 인덱스가 같은 경우의 논리연산\n",
    "\n",
    "논리연산은 참, 거짓 두가지 값을 가지고 할 수 있는 연산들을 말합니다.  \n",
    "`and`, `or`, `not` 등이 포함됩니다.\n",
    "\n",
    "> **시리즈의 논리연산**\n",
    ">\n",
    "> - **and** : Series1 & Series2 \n",
    "> - **or** : Series1 | Series2\n",
    "> - **not** : ~Series1\n",
    "> - **xor** : Series1 ^ Series2  \n",
    " \n",
    "> **데이터프레임의 논리연산**\n",
    ">\n",
    "> - **and** : DataFrame1 & DataFrame2 \n",
    "> - **or** : DataFrame1 | DataFrame2\n",
    "> - **not** : ~DataFrame1\n",
    "> - **xor** : DataFrame1 ^ DataFrame2  \n",
    "\n",
    "<table>\n",
    "<tr>\n",
    "    <th><img src=\"https://tmn-bucket-materials-all.s3.ap-northeast-2.amazonaws.com/image/pandas/material_05-10.png\" width=\"700\"></th>\n",
    "</tr>\n",
    "<tr>\n",
    "    <th>시리즈간의 논리연산</th>\n",
    "</tr>\n",
    "</table>\n",
    "\n",
    "<table>\n",
    "<tr>\n",
    "    <th><img src=\"https://tmn-bucket-materials-all.s3.ap-northeast-2.amazonaws.com/image/pandas/material_05-11.png\" width=\"700\"></th>\n",
    "    </tr>\n",
    "<tr>\n",
    "    <th>데이터프레임간의 논리연산</th>\n",
    "</tr>\n",
    "</table>\n"
   ]
  },
  {
   "cell_type": "code",
   "execution_count": null,
   "id": "e0033905-2aac-4312-acd7-95bfcd63f0e5",
   "metadata": {},
   "outputs": [],
   "source": [
    "# 예제_1_크기와_인덱스가_같은_시리즈_사이의_논리연산\n",
    "\n",
    "import pandas as pd\n",
    "\n",
    "A = pd.Series([True,False,True,False])\n",
    "B = pd.Series([True,True,False,False])\n",
    "\n",
    "print('#'*30, f\"{'A':^15s}\" , '#' * 30, '\\n') # 출력되는 결과들을 분리해서 보여주기 위한 코드입니다.\n",
    "print(A)\n",
    "print('\\n','#'*30, f\"{'B':^15s}\" , '#' * 30, '\\n') # 출력되는 결과들을 분리해서 보여주기 위한 코드입니다.\n",
    "print(B)\n",
    "print('\\n','#'*30, f\"{'A & B':^15s}\" , '#' * 30, '\\n') # 출력되는 결과들을 분리해서 보여주기 위한 코드입니다.\n",
    "print(A&B)\n",
    "print('\\n','#'*30, f\"{'A | B':^15s}\" , '#' * 30, '\\n') # 출력되는 결과들을 분리해서 보여주기 위한 코드입니다.\n",
    "print(A|B)\n",
    "print('\\n','#'*30, f\"{'~A':^15s}\" , '#' * 30, '\\n') # 출력되는 결과들을 분리해서 보여주기 위한 코드입니다.\n",
    "print(~A)\n",
    "print('\\n','#'*30, f\"{'A ^ B':^15s}\" , '#' * 30, '\\n') # 출력되는 결과들을 분리해서 보여주기 위한 코드입니다.\n",
    "print(A^B)"
   ]
  },
  {
   "cell_type": "code",
   "execution_count": null,
   "id": "08f9df58-e381-4a7d-8842-9c3c48c4953b",
   "metadata": {},
   "outputs": [],
   "source": [
    "# 예제_2_형태와_인덱스_열이_같은_데이터프레임_사이의_논리연산\n",
    "\n",
    "import pandas as pd\n",
    "\n",
    "A = pd.DataFrame([[True,False],[True,False]])\n",
    "B = pd.DataFrame([[True,True],[False,False]])\n",
    "\n",
    "print('#'*30, f\"{'A':^15s}\" , '#' * 30, '\\n') # 출력되는 결과들을 분리해서 보여주기 위한 코드입니다.\n",
    "print(A)\n",
    "print('\\n','#'*30, f\"{'B':^15s}\" , '#' * 30, '\\n') # 출력되는 결과들을 분리해서 보여주기 위한 코드입니다.\n",
    "print(B)\n",
    "print('\\n','#'*30, f\"{'A & B':^15s}\" , '#' * 30, '\\n') # 출력되는 결과들을 분리해서 보여주기 위한 코드입니다.\n",
    "print(A&B)\n",
    "print('\\n','#'*30, f\"{'A | B':^15s}\" , '#' * 30, '\\n') # 출력되는 결과들을 분리해서 보여주기 위한 코드입니다.\n",
    "print(A|B)\n",
    "print('\\n','#'*30, f\"{'~A':^15s}\" , '#' * 30, '\\n') # 출력되는 결과들을 분리해서 보여주기 위한 코드입니다.\n",
    "print(~A)\n",
    "print('\\n','#'*30, f\"{'A ^ B':^15s}\" , '#' * 30, '\\n') # 출력되는 결과들을 분리해서 보여주기 위한 코드입니다.\n",
    "print(A^B)"
   ]
  },
  {
   "cell_type": "markdown",
   "id": "772fa5e0-2a58-4077-9a18-8ad254b1f20e",
   "metadata": {},
   "source": [
    "## 열, 인덱스가 다른 경우의 논리연산\n",
    "\n",
    "열, 인덱스가 다른 경우에도 마찬가지의 방법으로 논리연산을 할 수 있습니다.  \n",
    "시리즈, 데이터프레임 모두 같은 방식으로 연산이 가능합니다.  \n",
    "Pandas의 데이터 간 논리연산은 시리즈, 데이터프레임의 모양이 같다고 해서 같은 위치의 데이터끼리 연산되지는 않습니다.  \n",
    "이 때에는 같은 인덱스와 같은 열이름을 가진 데이터끼리 연산됩니다.\n",
    "\n",
    "> **✏️ 알아봅시다(NOTE): NaN은 어떻게 계산되나요?(논리연산)**\n",
    ">\n",
    "> NaN과의 논리 연산은 한가지 경우를 제외하고 모두 False를 결과로 내보냅니다.  \n",
    "> a | b 에서 a의 값이 True인 경우 유일하게 `True`를 결과로 내보냅니다.  \n",
    "> 이는 `or` 연산에서 or 앞에 나오는 변수가 True이면 뒤에 나오는 변수를 보지 않고 True를 반환하는 파이썬의 규칙 때문입니다.\n",
    "\n",
    "> **⚠️ 주의(WARNING):**\n",
    ">\n",
    "> 열, 인덱스가 다를 때 논리연산을 하게되면 두 데이터프레임을 같은 행과 열을 가지도록 NaN 값을 채워넣고 연산을 하게됩니다.  \n",
    "> 이에 따라  앞에서 언급한 NaN과의 논리연산 결과 값에 해당하는 값이 결과로 나오게됩니다.\n",
    "\n",
    "두 시리즈, 데이터프레임의 크기가 다른 경우에도 마찬가지로 인덱스와 열을 기반으로 연산됩니다. "
   ]
  },
  {
   "cell_type": "code",
   "execution_count": null,
   "id": "a12055d4-a2c3-4c22-ba72-aaa2a916568f",
   "metadata": {},
   "outputs": [],
   "source": [
    "# 예제_3_크기는_같지만_인덱스가_다른_시리즈_사이의_논리연산\n",
    "\n",
    "import pandas as pd\n",
    "\n",
    "A = pd.Series([True,False,True,False], index = [0,1,2,3])\n",
    "B = pd.Series([True,True,False,False], index = [4,3,2,1])\n",
    "\n",
    "print('#'*30, f\"{'A':^15s}\" , '#' * 30, '\\n') # 출력되는 결과들을 분리해서 보여주기 위한 코드입니다.\n",
    "print(A)\n",
    "print('\\n','#'*30, f\"{'B':^15s}\" , '#' * 30, '\\n') # 출력되는 결과들을 분리해서 보여주기 위한 코드입니다.\n",
    "print(B)\n",
    "print('\\n','#'*30, f\"{'A & B':^15s}\" , '#' * 30, '\\n') # 출력되는 결과들을 분리해서 보여주기 위한 코드입니다.\n",
    "print(A&B)\n",
    "print('\\n','#'*30, f\"{'A | B':^15s}\" , '#' * 30, '\\n') # 출력되는 결과들을 분리해서 보여주기 위한 코드입니다.\n",
    "print(A|B)\n",
    "print('\\n','#'*30, f\"{'~A':^15s}\" , '#' * 30, '\\n') # 출력되는 결과들을 분리해서 보여주기 위한 코드입니다.\n",
    "print(~A)\n",
    "print('\\n','#'*30, f\"{'A ^ B':^15s}\" , '#' * 30, '\\n') # 출력되는 결과들을 분리해서 보여주기 위한 코드입니다.\n",
    "print(A^B)"
   ]
  },
  {
   "cell_type": "code",
   "execution_count": null,
   "id": "290ea4d6-d612-4891-8cb4-d24f2de697f8",
   "metadata": {},
   "outputs": [],
   "source": [
    "# 예제_4_형태는_같지만_인덱스_열이_다른_데이터프레임_사이의_논리연산\n",
    "\n",
    "import pandas as pd\n",
    "\n",
    "A = pd.DataFrame([[True,False],[True,False]], index = [0,1], columns = ['A','B'])\n",
    "B = pd.DataFrame([[True,True],[False,False]], index = [0,2], columns = ['A','C'])\n",
    "\n",
    "print('#'*30, f\"{'A':^15s}\" , '#' * 30, '\\n') # 출력되는 결과들을 분리해서 보여주기 위한 코드입니다.\n",
    "print(A)\n",
    "print('\\n','#'*30, f\"{'B':^15s}\" , '#' * 30, '\\n') # 출력되는 결과들을 분리해서 보여주기 위한 코드입니다.\n",
    "print(B)\n",
    "print('\\n','#'*30, f\"{'A & B':^15s}\" , '#' * 30, '\\n') # 출력되는 결과들을 분리해서 보여주기 위한 코드입니다.\n",
    "print(A&B)\n",
    "print('\\n','#'*30, f\"{'A | B':^15s}\" , '#' * 30, '\\n') # 출력되는 결과들을 분리해서 보여주기 위한 코드입니다.\n",
    "print(A|B)\n",
    "print('\\n','#'*30, f\"{'~A':^15s}\" , '#' * 30, '\\n') # 출력되는 결과들을 분리해서 보여주기 위한 코드입니다.\n",
    "print(~A)\n",
    "print('\\n','#'*30, f\"{'A ^ B':^15s}\" , '#' * 30, '\\n') # 출력되는 결과들을 분리해서 보여주기 위한 코드입니다.\n",
    "print(A^B)"
   ]
  },
  {
   "cell_type": "code",
   "execution_count": null,
   "id": "64379eab-189e-45d6-aaad-7fef2acde0a3",
   "metadata": {},
   "outputs": [],
   "source": [
    "# 예제_5_형태가_다른_데이터프레임_사이의_논리연산\n",
    "\n",
    "import pandas as pd\n",
    "\n",
    "A = pd.DataFrame([[True,False],[True,False],[True,False]])\n",
    "B = pd.DataFrame([[True,True,True],[False,False,False]])\n",
    "\n",
    "print('#'*30, f\"{'A':^15s}\" , '#' * 30, '\\n') # 출력되는 결과들을 분리해서 보여주기 위한 코드입니다.\n",
    "print(A)\n",
    "print('\\n','#'*30, f\"{'B':^15s}\" , '#' * 30, '\\n') # 출력되는 결과들을 분리해서 보여주기 위한 코드입니다.\n",
    "print(B)\n",
    "print('\\n','#'*30, f\"{'A & B':^15s}\" , '#' * 30, '\\n') # 출력되는 결과들을 분리해서 보여주기 위한 코드입니다.\n",
    "print(A&B)\n",
    "print('\\n','#'*30, f\"{'A | B':^15s}\" , '#' * 30, '\\n') # 출력되는 결과들을 분리해서 보여주기 위한 코드입니다.\n",
    "print(A|B)\n",
    "print('\\n','#'*30, f\"{'~A':^15s}\" , '#' * 30, '\\n') # 출력되는 결과들을 분리해서 보여주기 위한 코드입니다.\n",
    "print(~A)\n",
    "print('\\n','#'*30, f\"{'A ^ B':^15s}\" , '#' * 30, '\\n') # 출력되는 결과들을 분리해서 보여주기 위한 코드입니다.\n",
    "print(A^B)"
   ]
  },
  {
   "cell_type": "markdown",
   "id": "92a82811-98cb-4d16-a2ce-e714d3d3a10a",
   "metadata": {},
   "source": [
    "### **💯 연습문제를 풀어봅시다**\n",
    "\n"
   ]
  },
  {
   "cell_type": "markdown",
   "id": "38db1753-0a8b-43fa-9c4f-02b99266935c",
   "metadata": {
    "tags": []
   },
   "source": [
    "1. <a class=\"jcecodle-mk jcecodle-mk__problem-chip\" data-problem-id=\"FGg5iMJx6Yg\" href='#jce-judge/open/FGg5iMJx6Yg' target='_self'><span>판다스 기초 - 시리즈의 논리연산</span></a>\n",
    "\n",
    "2. <a class=\"jcecodle-mk jcecodle-mk__problem-chip\" data-problem-id=\"zfwI4RCE4C0\" href='#jce-judge/open/zfwI4RCE4C0' target='_self'><span>판다스 기초 - 시리즈의 비교연산과 논리연산</span></a>\n",
    "\n",
    "3. <a class=\"jcecodle-mk jcecodle-mk__problem-chip\" data-problem-id=\"Szt8scMA26c\" href='#jce-judge/open/Szt8scMA26c' target='_self'><span>판다스 기초 - 데이터 프레임의 논리연산</span></a>\n",
    "\n",
    "4. <a class=\"jcecodle-mk jcecodle-mk__problem-chip\" data-problem-id=\"pRVRIoK0ka4\" href='#jce-judge/open/pRVRIoK0ka4' target='_self'><span>판다스 기초 - 데이터 프레임의 비교연산과 논리연산</span></a>\n",
    "\n",
    "5. <a class=\"jcecodle-mk jcecodle-mk__problem-chip\" data-problem-id=\"sE5fWvumZ3M\" href='#jce-judge/open/sE5fWvumZ3M' target='_self'><span>판다스 기초 - 인덱스가 다른 경우의 논리연산(시리즈)</span></a>\n",
    "\n",
    "6. <a class=\"jcecodle-mk jcecodle-mk__problem-chip\" data-problem-id=\"VUZjN0dOmIA\" href='#jce-judge/open/VUZjN0dOmIA' target='_self'><span>판다스 기초 - 인덱스가 다른 경우의 논리연산(데이터 프레임)</span></a>\n"
   ]
  },
  {
   "cell_type": "markdown",
   "id": "4b901254",
   "metadata": {
    "tags": []
   },
   "source": [
    "# **[5-4] 브로드캐스팅**"
   ]
  },
  {
   "cell_type": "markdown",
   "id": "5d455e71",
   "metadata": {
    "tags": []
   },
   "source": [
    "## **🎯 학습 목표**\n",
    "**Pandas를 사용해 차원이 다른 데이터 사이의 연산을 가능하게 하는 브로드캐스팅의 원리를 알아봅시다.**  \n",
    "**시리즈와 값, 데이터프레임과 값, 데이터프레임과 시리즈의 산술연산, 비교연산, 산술연산을 할 수 있습니다**"
   ]
  },
  {
   "cell_type": "markdown",
   "id": "a61c27dd",
   "metadata": {},
   "source": [
    "---"
   ]
  },
  {
   "cell_type": "markdown",
   "id": "16f8b340-b21a-465b-bc2b-80df6e45f50c",
   "metadata": {
    "jp-MarkdownHeadingCollapsed": true,
    "tags": []
   },
   "source": [
    "차원이 다른 두 데이터를 연산할 때에는 **브로드캐스팅**이 적용됩니다.  \n",
    "브로드캐스팅은 작은 차원의 데이터를 큰 차원의 데이터와 연산할 수 있도록 적절한 형태로 바꾼 뒤 연산이 되는 것을 말합니다."
   ]
  },
  {
   "cell_type": "markdown",
   "id": "15f54ce5-40c5-4bb0-bf6b-72d7ac406b49",
   "metadata": {
    "tags": []
   },
   "source": [
    "## 시리즈, 데이터프레임과 값 사이의 연산\n",
    "\n",
    "특정 값과 시리즈를 연산(사칙연산, 비교연산, 논리연산)하게 되면 특정 값을 시리즈와 같은 형태이고 모든 데이터가 특정 값으로 채워진 시리즈로 바꿔서 연산하게 됩니다.\n",
    "\n",
    "<table>\n",
    "<tr>\n",
    "    <th><img src=\"https://tmn-bucket-materials-all.s3.ap-northeast-2.amazonaws.com/image/pandas/material_05-13.png\" width=\"700\"></th>\n",
    "    </tr>\n",
    "<tr>\n",
    "    <th>시리즈와 값 사이의 연산</th>\n",
    "</tr>\n",
    "</table>\n",
    "\n",
    "특정 값과 데이터프레임을 연산(사칙연산, 비교연산, 논리연산)하게 되면 특정 값을 데이터프레임과 같은 형태이고 모든 데이터가 특정 값으로 채워진 데이터프레임으로 바꿔서 연산하게 됩니다.\n",
    "\n",
    "<table>\n",
    "<tr>\n",
    "    <th><img src=\"https://tmn-bucket-materials-all.s3.ap-northeast-2.amazonaws.com/image/pandas/material_05-14.png\" width=\"700\"></th>\n",
    "    </tr>\n",
    "<tr>\n",
    "    <th>데이터프레임과 값 사이의 연산</th>\n",
    "</tr>\n",
    "</table>"
   ]
  },
  {
   "cell_type": "code",
   "execution_count": null,
   "id": "afa543ec-c182-4b61-b598-db551c78b62b",
   "metadata": {},
   "outputs": [],
   "source": [
    "# 예제_1_시리즈와_값_사이의_연산\n",
    "\n",
    "import pandas as pd\n",
    "\n",
    "A = pd.Series([1,2,3])\n",
    "B = pd.Series(['사과','바나나','딸기'])\n",
    "C = pd.Series([True,False])\n",
    "\n",
    "print('#'*30, f\"{'A':^15s}\" , '#' * 30, '\\n') # 출력되는 결과들을 분리해서 보여주기 위한 코드입니다.\n",
    "print(A)\n",
    "print('\\n','#'*30, f\"{'B':^15s}\" , '#' * 30, '\\n') # 출력되는 결과들을 분리해서 보여주기 위한 코드입니다.\n",
    "print(B)\n",
    "print('\\n','#'*30, f\"{'C':^15s}\" , '#' * 30, '\\n') # 출력되는 결과들을 분리해서 보여주기 위한 코드입니다.\n",
    "print(C)\n",
    "print('\\n','#'*30, f\"{'A + 1':^15s}\" , '#' * 30, '\\n') # 출력되는 결과들을 분리해서 보여주기 위한 코드입니다.\n",
    "print(A+1)\n",
    "print('\\n','#'*30, \"{:^15s}\".format('B == \"사과\"') , '#' * 30, '\\n') # 출력되는 결과들을 분리해서 보여주기 위한 코드입니다.\n",
    "print(B== \"사과\")\n",
    "print('\\n','#'*30, f\"{'~C':^15s}\" , '#' * 30, '\\n') # 출력되는 결과들을 분리해서 보여주기 위한 코드입니다.\n",
    "print(~C)"
   ]
  },
  {
   "cell_type": "code",
   "execution_count": null,
   "id": "fa105ba1-455c-4231-8e98-08eff7ff0ae7",
   "metadata": {},
   "outputs": [],
   "source": [
    "# 예제_2_데이터프레임과_값_사이의_연산\n",
    "\n",
    "import pandas as pd\n",
    "\n",
    "A = pd.DataFrame([[1,2,3],[4,5,6]])\n",
    "B = pd.DataFrame([['사과','바나나'],['딸기','귤']])\n",
    "C = pd.DataFrame([[True,False],[False,True]])\n",
    "\n",
    "print('#'*30, f\"{'A':^15s}\" , '#' * 30, '\\n') # 출력되는 결과들을 분리해서 보여주기 위한 코드입니다.\n",
    "print(A)\n",
    "print('\\n','#'*30, f\"{'B':^15s}\" , '#' * 30, '\\n') # 출력되는 결과들을 분리해서 보여주기 위한 코드입니다.\n",
    "print(B)\n",
    "print('\\n','#'*30, f\"{'C':^15s}\" , '#' * 30, '\\n') # 출력되는 결과들을 분리해서 보여주기 위한 코드입니다.\n",
    "print(C)\n",
    "print('\\n','#'*30, f\"{'A + 1':^15s}\" , '#' * 30, '\\n') # 출력되는 결과들을 분리해서 보여주기 위한 코드입니다.\n",
    "print(A+1)\n",
    "print('\\n','#'*30, \"{:^15s}\".format('B == \"사과\"') , '#' * 30, '\\n') # 출력되는 결과들을 분리해서 보여주기 위한 코드입니다.\n",
    "print(B== \"사과\")\n",
    "print('\\n','#'*30, f\"{'~C':^15s}\" , '#' * 30, '\\n') # 출력되는 결과들을 분리해서 보여주기 위한 코드입니다.\n",
    "print(~C)"
   ]
  },
  {
   "cell_type": "markdown",
   "id": "c0a79b7d-6fa4-419c-87de-fa6d3d23c9dd",
   "metadata": {
    "tags": []
   },
   "source": [
    "## 시리즈와 데이터프레임 사이의 연산\n",
    "\n",
    "시리즈와 데이터프레임의 연산도 시리즈와 값, 데이터프레임과 값의 연산과 마찬가지로 이루어집니다.  \n",
    "두 데이터가 연산될 때 시리즈를 하나의 행으로 하여 데이터프레임의 행의 수와 동일한 행의 수를 가지는 시리즈를 만든 뒤 연산합니다.\n",
    "\n",
    "<table>\n",
    "<tr>\n",
    "    <th><img src=\"https://tmn-bucket-materials-all.s3.ap-northeast-2.amazonaws.com/image/pandas/material_05-15.png\" width=\"700\"></th>\n",
    "    </tr>\n",
    "<tr>\n",
    "    <th>데이터프레임과 시리즈 사이의 연산</th>\n",
    "</tr>\n",
    "</table>\n",
    "\n",
    "> **⚠️ 주의(WARNING):**\n",
    ">\n",
    "> 시리즈를 데이터프레임과 같은 행의 수를 가지는 데이터프레임으로 바꾼 뒤 연산을 진행하기 때문에 이 때의 연산은 데이터프레임의 연산 규칙을 따르게 됩니다.\n",
    "\n",
    "> **⚠️ 주의(WARNING):**\n",
    ">\n",
    "> 브로드캐스팅을 적용하게 되면 데이터프레임간의 비교연산과는 다르게 시리즈에서 만들어진 데이터프레임과 연산하는 데이터프레임의 열이 다르더라도 오류가 발생하지 않습니다."
   ]
  },
  {
   "cell_type": "code",
   "execution_count": null,
   "id": "3b2dc784-beca-4a72-a2e9-dbe36a338fa2",
   "metadata": {},
   "outputs": [],
   "source": [
    "# 예제_3_인덱스가_같은_데이터프레임과_시리즈_사이의_연산\n",
    "\n",
    "import pandas as pd\n",
    "\n",
    "Series_A = pd.Series([1,2,3])\n",
    "Series_B = pd.Series(['사과','바나나'])\n",
    "Series_C = pd.Series([True,False])\n",
    "\n",
    "DataFrame_A = pd.DataFrame([[1,2,3],[4,5,6]])\n",
    "DataFrame_B = pd.DataFrame([['사과','바나나'],['딸기','귤']])\n",
    "DataFrame_C = pd.DataFrame([[True,False],[False,True]])\n",
    "\n",
    "print('#'*30, f\"{'Series_A':^15s}\" , '#' * 30, '\\n') # 출력되는 결과들을 분리해서 보여주기 위한 코드입니다.\n",
    "print(Series_A)\n",
    "print('\\n','#'*30, f\"{'Series_B':^15s}\" , '#' * 30, '\\n') # 출력되는 결과들을 분리해서 보여주기 위한 코드입니다.\n",
    "print(Series_B)\n",
    "print('\\n','#'*30, f\"{'Series_C':^15s}\" , '#' * 30, '\\n') # 출력되는 결과들을 분리해서 보여주기 위한 코드입니다.\n",
    "print(Series_C)\n",
    "print('#'*30, f\"{'DataFrame_A':^15s}\" , '#' * 30, '\\n') # 출력되는 결과들을 분리해서 보여주기 위한 코드입니다.\n",
    "print(DataFrame_A)\n",
    "print('\\n','#'*30, f\"{'DataFrame_B':^15s}\" , '#' * 30, '\\n') # 출력되는 결과들을 분리해서 보여주기 위한 코드입니다.\n",
    "print(DataFrame_B)\n",
    "print('\\n','#'*30, f\"{'DataFrame_C':^15s}\" , '#' * 30, '\\n') # 출력되는 결과들을 분리해서 보여주기 위한 코드입니다.\n",
    "print(DataFrame_C)\n",
    "print('\\n','#'*30, f\"{'DataFrame_A + Series_A':^15s}\" , '#' * 30, '\\n') # 출력되는 결과들을 분리해서 보여주기 위한 코드입니다.\n",
    "print(DataFrame_A + Series_A)\n",
    "print('\\n','#'*30, \"{:^15s}\".format('DataFrame_B == Series_B') , '#' * 30, '\\n') # 출력되는 결과들을 분리해서 보여주기 위한 코드입니다.\n",
    "print(DataFrame_B == Series_B)\n",
    "print('\\n','#'*30, f\"{'DataFrame_C & Series_C':^15s}\" , '#' * 30, '\\n') # 출력되는 결과들을 분리해서 보여주기 위한 코드입니다.\n",
    "print(DataFrame_C & Series_C)"
   ]
  },
  {
   "cell_type": "code",
   "execution_count": null,
   "id": "6328d34c-1099-4e0d-a078-be13574d3bfc",
   "metadata": {},
   "outputs": [],
   "source": [
    "# 예제_4_인덱스가_다른_데이터프레임과_시리즈_사이의_연산\n",
    "\n",
    "import pandas as pd\n",
    "\n",
    "Series_A = pd.Series([1,2,3])\n",
    "DataFrame_A = pd.DataFrame([[1,2],[4,5]])\n",
    "\n",
    "\n",
    "print('#'*30, f\"{'Series_A':^15s}\" , '#' * 30, '\\n') # 출력되는 결과들을 분리해서 보여주기 위한 코드입니다.\n",
    "print(Series_A)\n",
    "print('#'*30, f\"{'DataFrame_A':^15s}\" , '#' * 30, '\\n') # 출력되는 결과들을 분리해서 보여주기 위한 코드입니다.\n",
    "print(DataFrame_A)\n",
    "print('\\n','#'*30, f\"{'DataFrame_A + Series_A':^15s}\" , '#' * 30, '\\n') # 출력되는 결과들을 분리해서 보여주기 위한 코드입니다.\n",
    "print(DataFrame_A + Series_A)"
   ]
  },
  {
   "cell_type": "markdown",
   "id": "b5e2dd9e-7266-417e-8c0f-1d8b2f5aa04b",
   "metadata": {},
   "source": [
    "### **💯 연습문제를 풀어봅시다**\n",
    "\n"
   ]
  },
  {
   "cell_type": "markdown",
   "id": "60ae2b52-3d19-470e-8d63-e7fc2fd00dbe",
   "metadata": {
    "tags": []
   },
   "source": [
    "1. <a class=\"jcecodle-mk jcecodle-mk__problem-chip\" data-problem-id=\"fN-_o4Wr-XQ\" href='#jce-judge/open/fN-_o4Wr-XQ' target='_self'><span>판다스 - 브로드캐스팅 - 시리즈와 값(산술연산)</span></a>\n",
    "\n",
    "2. <a class=\"jcecodle-mk jcecodle-mk__problem-chip\" data-problem-id=\"Lr_sJqEW50w\" href='#jce-judge/open/Lr_sJqEW50w' target='_self'><span>판다스 - 브로드캐스팅 - 시리즈와 값(비교연산)</span></a>\n",
    "\n",
    "3. <a class=\"jcecodle-mk jcecodle-mk__problem-chip\" data-problem-id=\"KU0wjRqH9MM\" href='#jce-judge/open/KU0wjRqH9MM' target='_self'><span>판다스 - 브로드캐스팅 - 시리즈와 값(논리연산)</span></a>\n",
    "\n",
    "4. <a class=\"jcecodle-mk jcecodle-mk__problem-chip\" data-problem-id=\"EJ0tvCSP3-A\" href='#jce-judge/open/EJ0tvCSP3-A' target='_self'><span>판다스 - 브로드캐스팅 - 데이터 프레임과 값(산술연산)</span></a>\n",
    "\n",
    "5. <a class=\"jcecodle-mk jcecodle-mk__problem-chip\" data-problem-id=\"jdVgRsgMBRQ\" href='#jce-judge/open/jdVgRsgMBRQ' target='_self'><span>판다스 - 브로드캐스팅 - 데이터 프레임과 값(비교연산)</span></a>\n",
    "\n",
    "6. <a class=\"jcecodle-mk jcecodle-mk__problem-chip\" data-problem-id=\"VEisoCfy4hg\" href='#jce-judge/open/VEisoCfy4hg' target='_self'><span>판다스 - 브로드캐스팅 - 데이터 프레임과 값(논리연산)</span></a>\n",
    "\n",
    "7. <a class=\"jcecodle-mk jcecodle-mk__problem-chip\" data-problem-id=\"cv3xMiMn6eg\" href='#jce-judge/open/cv3xMiMn6eg' target='_self'><span>판다스 - 브로드캐스팅 - 시리즈와 데이터 프레임 (1)</span></a>\n",
    "\n",
    "8. <a class=\"jcecodle-mk jcecodle-mk__problem-chip\" data-problem-id=\"r7tsm7Z4dPo\" href='#jce-judge/open/r7tsm7Z4dPo' target='_self'><span>판다스 - 브로드캐스팅 - 시리즈와 데이터 프레임 (2)</span></a>\n",
    "\n"
   ]
  },
  {
   "cell_type": "markdown",
   "id": "de037ee8",
   "metadata": {
    "tags": []
   },
   "source": [
    "# **[5-5] 데이터의 어림값 구하기**"
   ]
  },
  {
   "cell_type": "markdown",
   "id": "7dbd7618",
   "metadata": {
    "tags": []
   },
   "source": [
    "## **🎯 학습 목표**\n",
    "**Pandas를 사용해 시리즈, 데이터프레임의 각 데이터를 반올림 해봅시다.**"
   ]
  },
  {
   "cell_type": "markdown",
   "id": "fff9c58b",
   "metadata": {},
   "source": [
    "---"
   ]
  },
  {
   "cell_type": "markdown",
   "id": "7c9a047e-3197-4a70-88f6-167e435913e4",
   "metadata": {
    "tags": []
   },
   "source": [
    "데이터가 정수 또는 실수로 이루어져 있을 때 `round()` 함수를 이용해 간단하게 반올림 할 수 있습니다.\n",
    "\n",
    "> **🔨 함수(FUNCTIONS):**\n",
    ">\n",
    "> **`Series.round(decimals = 정수)`**  \n",
    "> 시리즈의 각각의 데이터들을 반올림하여 소숫점 아래 매개변수로 받은 `정수` 번째 자리까지 나타냅니다.\n",
    ">> **매개변수(parameter)**\n",
    ">>\n",
    ">> **`decimals`** : 정수 형태로 전달됩니다.   \n",
    "> 매개변수가 0보다 작을 경우(-n)에는 반올림하여 n+1 번째 자리 까지 나타냅니다.  \n",
    "> 예를들어 decimals = -2인 경우 4393.1234 -> 4400.0이 됩니다.  \n",
    "> 기본값은 0입니다.\n",
    "> ---\n",
    "> **`DataFrame.round(decimals = 정수)`**  \n",
    "> 데이터프레임의 각각의 데이터들을 반올림하여 소숫점 아래 매개변수로 받은 `정수` 번째 자리까지 나타냅니다.\n",
    ">> **매개변수(parameter)**\n",
    ">>\n",
    ">> **`decimals`** : 정수 형태로 전달됩니다.   \n",
    "> 매개변수가 0보다 작을 경우(-n)에는 반올림하여 n+1 번째 자리 까지 나타냅니다.  \n",
    "> 예를들어 decimals = -2인 경우 4393.1234 -> 4400.0이 됩니다.  \n",
    "> 기본값은 0입니다.\n",
    "\n"
   ]
  },
  {
   "cell_type": "markdown",
   "id": "08d856c2-962d-457e-a311-e6c50b877dc4",
   "metadata": {},
   "source": [
    "## round() 함수로 데이터 반올림하기\n",
    "\n",
    "`round()` 함수를 사용하면 데이터를 반올림 할 수 있습니다.  \n",
    "매개변수를 주어 어디에서 반올림 할 지 정할 수 있습니다.  \n",
    "\n",
    "<table>\n",
    "<tr>\n",
    "    <th><img src=\"https://tmn-bucket-materials-all.s3.ap-northeast-2.amazonaws.com/image/pandas/material_05-17.png\" width=\"700\"></th>\n",
    "    </tr>\n",
    "<tr>\n",
    "    <th>round() 함수를 이용한 반올림</th>\n",
    "</tr>\n",
    "</table>"
   ]
  },
  {
   "cell_type": "code",
   "execution_count": null,
   "id": "d681328d-22f6-41d0-8779-7befe82948c9",
   "metadata": {
    "tags": []
   },
   "outputs": [],
   "source": [
    "# 예제_1_시리즈의_데이터_반올림\n",
    "\n",
    "import pandas as pd\n",
    "\n",
    "A = pd.Series([12.34,56.78, 123, 1234.5678, 1.2, 400])\n",
    "\n",
    "print('#'*30, f\"{'A':^15s}\" , '#' * 30, '\\n') # 출력되는 결과들을 분리해서 보여주기 위한 코드입니다.\n",
    "print(A)\n",
    "print('#'*30, f\"{'A.round(-1)':^15s}\" , '#' * 30, '\\n') # 출력되는 결과들을 분리해서 보여주기 위한 코드입니다.\n",
    "print(A.round(-1))\n",
    "print('\\n','#'*30, f\"{'A.round(2)':^15s}\" , '#' * 30, '\\n') # 출력되는 결과들을 분리해서 보여주기 위한 코드입니다.\n",
    "print(A.round(2))"
   ]
  },
  {
   "cell_type": "code",
   "execution_count": null,
   "id": "4dcb9c92-479e-46a3-9196-a5e16264d2c2",
   "metadata": {
    "tags": []
   },
   "outputs": [],
   "source": [
    "# 예제_2_데이터프레임의_데이터_반올림\n",
    "\n",
    "import pandas as pd\n",
    "\n",
    "A = pd.DataFrame([[12.34,1234.5678],[56.78,1.2], [123,400]])\n",
    "\n",
    "print('#'*30, f\"{'A':^15s}\" , '#' * 30, '\\n') # 출력되는 결과들을 분리해서 보여주기 위한 코드입니다.\n",
    "print(A)\n",
    "print('#'*30, f\"{'A.round(-1)':^15s}\" , '#' * 30, '\\n') # 출력되는 결과들을 분리해서 보여주기 위한 코드입니다.\n",
    "print(A.round(-1))\n",
    "print('\\n','#'*30, f\"{'A.round(2)':^15s}\" , '#' * 30, '\\n') # 출력되는 결과들을 분리해서 보여주기 위한 코드입니다.\n",
    "print(A.round(2))"
   ]
  },
  {
   "cell_type": "markdown",
   "id": "b70b91c4-7975-4c57-b7fe-4b7781e7d62f",
   "metadata": {},
   "source": [
    "### **💯 연습문제를 풀어봅시다**\n",
    "\n"
   ]
  },
  {
   "cell_type": "markdown",
   "id": "3517c362-45b2-4a7f-8506-bd682c1e8cf7",
   "metadata": {
    "tags": []
   },
   "source": [
    "1. <a class=\"jcecodle-mk jcecodle-mk__problem-chip\" data-problem-id=\"6UgfuWGCLOc\" href='#jce-judge/open/6UgfuWGCLOc' target='_self'><span>판다스 - 데이터 연산하기 - round</span></a>\n",
    "\n",
    "3. <a class=\"jcecodle-mk jcecodle-mk__problem-chip\" data-problem-id=\"F9252q3fdLs\" href='#jce-judge/open/F9252q3fdLs' target='_self'><span>판다스 - 데이터 연산하기 - round (2)</span></a>\n",
    "\n",
    "4. <a class=\"jcecodle-mk jcecodle-mk__problem-chip\" data-problem-id=\"QaAWWcHevyw\" href='#jce-judge/open/QaAWWcHevyw' target='_self'><span>판다스 - 데이터 연산하기 - round (3)</span></a>\n",
    "\n",
    "\n",
    "4. <a class=\"jcecodle-mk jcecodle-mk__problem-chip\" data-problem-id=\"kCB3klhNQuU\" href='#jce-judge/open/kCB3klhNQuU' target='_self'><span>성적 평균 반올림</span></a>\n"
   ]
  },
  {
   "cell_type": "markdown",
   "id": "f5637761",
   "metadata": {
    "tags": []
   },
   "source": [
    "# **[5-6] 데이터의 절댓값 구하기**"
   ]
  },
  {
   "cell_type": "markdown",
   "id": "3685598e",
   "metadata": {
    "tags": []
   },
   "source": [
    "## **🎯 학습 목표**\n",
    "**Pandas를 사용해 시리즈, 데이터프레임의 각 데이터의 절댓값을 구해봅시다.**"
   ]
  },
  {
   "cell_type": "markdown",
   "id": "3691c85a",
   "metadata": {},
   "source": [
    "---"
   ]
  },
  {
   "cell_type": "markdown",
   "id": "4202287d-dd36-4db5-9bf6-860e23880767",
   "metadata": {
    "tags": []
   },
   "source": [
    "데이터의 절댓값을 구하고 싶을 때에는 `abs()` 함수를 사용할 수 있습니다.\n",
    "\n",
    "> **🔨 함수(FUNCTIONS):**\n",
    ">\n",
    "> **`Series.abs()`**  \n",
    "> 시리즈의 데이터들의 절댓값을 시리즈로 반환합니다.  \n",
    "> 반환하는 시리즈의 크기는 함수를 적용하는 시리즈와 같습니다.\n",
    "> ---\n",
    "> **`DataFrame.abs()`**  \n",
    "> 데이터프레임의 데이터들의 절댓값을 데이터프레임으로 반환합니다.  \n",
    "> 반환하는 데이터프레임의 형태는 함수를 적용하는 데이터프레임과 같습니다.\n",
    "> ---\n",
    "\n"
   ]
  },
  {
   "cell_type": "markdown",
   "id": "586a7d75-f033-4df0-8cf3-45035f0ecc13",
   "metadata": {},
   "source": [
    "## abs()로 데이터의 절댓값을 계산합니다.\n",
    "\n",
    "`abs()` 함수를 사용하면 데이터의 절댓값을 구할 수 있습니다.  \n",
    "\n",
    "<table>\n",
    "<tr>\n",
    "    <th><img src=\"https://tmn-bucket-materials-all.s3.ap-northeast-2.amazonaws.com/image/pandas/material_05-20.png\" width=\"700\"></th>\n",
    "    </tr>\n",
    "<tr>\n",
    "    <th>abs() 함수를 이용한 절대값 구하기</th>\n",
    "</tr>\n",
    "</table>"
   ]
  },
  {
   "cell_type": "code",
   "execution_count": null,
   "id": "3e5a8d78-6354-4371-9d3f-8c0bd5b74b77",
   "metadata": {
    "tags": []
   },
   "outputs": [],
   "source": [
    "# 예제_1_시리즈의_데이터_절댓값\n",
    "\n",
    "import pandas as pd\n",
    "\n",
    "A = pd.Series([-1,0,1,-3,2,-2])\n",
    "\n",
    "print('#'*30, f\"{'A':^15s}\" , '#' * 30, '\\n') # 출력되는 결과들을 분리해서 보여주기 위한 코드입니다.\n",
    "print(A)\n",
    "print('#'*30, f\"{'A.abs()':^15s}\" , '#' * 30, '\\n') # 출력되는 결과들을 분리해서 보여주기 위한 코드입니다.\n",
    "print(A.abs())"
   ]
  },
  {
   "cell_type": "code",
   "execution_count": null,
   "id": "90b4987f-13b5-447d-9003-89e688d3f154",
   "metadata": {
    "tags": []
   },
   "outputs": [],
   "source": [
    "# 예제_2_데이터프레임의_데이터_절댓값\n",
    "\n",
    "import pandas as pd\n",
    "\n",
    "A = pd.DataFrame([[-1,-3],[0,2], [1,-2]])\n",
    "\n",
    "print('#'*30, f\"{'A':^15s}\" , '#' * 30, '\\n') # 출력되는 결과들을 분리해서 보여주기 위한 코드입니다.\n",
    "print(A)\n",
    "print('#'*30, f\"{'A.abs()':^15s}\" , '#' * 30, '\\n') # 출력되는 결과들을 분리해서 보여주기 위한 코드입니다.\n",
    "print(A.abs())"
   ]
  },
  {
   "cell_type": "markdown",
   "id": "23102c4d-4c85-4d59-bf9e-84502596dc3f",
   "metadata": {},
   "source": [
    "### **💯 연습문제를 풀어봅시다**\n",
    "\n"
   ]
  },
  {
   "cell_type": "markdown",
   "id": "cb46131b-d917-4d5d-9aaf-5666d5f1112b",
   "metadata": {
    "tags": []
   },
   "source": [
    "1. <a class=\"jcecodle-mk jcecodle-mk__problem-chip\" data-problem-id=\"igEUbY7Tfwc\" href='#jce-judge/open/igEUbY7Tfwc' target='_self'><span>판다스 - 데이터 연산하기 - abs</span></a>\n",
    "\n",
    "2. <a class=\"jcecodle-mk jcecodle-mk__problem-chip\" data-problem-id=\"OtAL67kKFJc\" href='#jce-judge/open/OtAL67kKFJc' target='_self'><span>사업실적 절댓값 (1)</span></a>\n",
    "\n",
    "3. <a class=\"jcecodle-mk jcecodle-mk__problem-chip\" data-problem-id=\"PYcUHf3BssQ\" href='#jce-judge/open/PYcUHf3BssQ' target='_self'><span>사업실적 절댓값 (2)</span></a>"
   ]
  },
  {
   "cell_type": "markdown",
   "id": "1290babf",
   "metadata": {
    "tags": []
   },
   "source": [
    "# **[5-7] 데이터의 포함관계 알아보기**"
   ]
  },
  {
   "cell_type": "markdown",
   "id": "391d4712",
   "metadata": {
    "tags": []
   },
   "source": [
    "## **🎯 학습 목표**\n",
    "**Pandas를 사용해 시리즈, 데이터프레임의 데이터들이 주어진 목록에 포함되어 있는지 알아봅시다.**"
   ]
  },
  {
   "cell_type": "markdown",
   "id": "5797bc10",
   "metadata": {},
   "source": [
    "---"
   ]
  },
  {
   "cell_type": "markdown",
   "id": "74b23a29-3387-403c-ba6c-bb0072a6d832",
   "metadata": {
    "tags": []
   },
   "source": [
    "데이터가 특정 목록에 포함되는 지를 `isin()` 함수를 이용해 간단하게 알아볼 수 있습니다.\n",
    "\n",
    "> **🔨 함수(FUNCTIONS):**\n",
    ">\n",
    "> **`Series.isin(values = 리스트)`**  \n",
    "> 시리즈의 각각의 데이터들이 매개변수로 받은 `리스트`에 포함되어 있는 지 여부를 True/False로 반환합니다.\n",
    ">> **매개변수(parameter)**\n",
    ">>\n",
    ">> **`values`** : 리스트 형태로 전달됩니다.   \n",
    "> 각 데이터가 매개변수로 받은 리스트에 포함되어 있을 경우 `True`, 포함되지 않을 경우 `False`로 데이터를 채워 반환합니다.\n",
    "> 반환되는 시리즈의 모양은 함수를 사용하는 시리즈와 동일합니다.  \n",
    "> ---\n",
    "> **`DataFrame.isin(values = 리스트)`**  \n",
    "> 데이터프레임의 각각의 데이터들이 매개변수로 받은 `리스트`에 포함되어 있는 지 여부를 True/False로 반환합니다.\n",
    ">> **매개변수(parameter)**\n",
    ">>\n",
    ">> **`values`** : 리스트 형태로 전달됩니다.   \n",
    "> 각 데이터가 매개변수로 받은 리스트에 포함되어 있을 경우 `True`, 포함되지 않을 경우 `False`로 데이터를 채워 반환합니다.  \n",
    "> 반환되는 데이터프레임의 모양은 함수를 사용하는 데이터프레임와 동일합니다.  \n",
    "\n"
   ]
  },
  {
   "cell_type": "markdown",
   "id": "9d4af332-d874-426d-975a-ba3144c87d25",
   "metadata": {},
   "source": [
    "## isin() 함수로 데이터의 포함 여부 확인하기\n",
    "\n",
    "`isin()` 함수를 사용하면 데이터의 포함 여부를 확인할 수 있습니다.  \n",
    "매개변수로 포함여부를 판단할 목록을 주어야 합니다.\n",
    "\n",
    "<table>\n",
    "<tr>\n",
    "    <th><img src=\"https://tmn-bucket-materials-all.s3.ap-northeast-2.amazonaws.com/image/pandas/material_05-18.png\" width=\"700\"></th>\n",
    "    </tr>\n",
    "<tr>\n",
    "    <th>isin() 함수를 이용한 데이터의 포함 여부 확인</th>\n",
    "</tr>\n",
    "</table>"
   ]
  },
  {
   "cell_type": "code",
   "execution_count": null,
   "id": "60baea6f-3764-4edf-8f1e-9feb40a542a8",
   "metadata": {
    "tags": []
   },
   "outputs": [],
   "source": [
    "# 예제_1_시리즈의_데이터_포함여부\n",
    "\n",
    "import pandas as pd\n",
    "\n",
    "A = pd.Series(['사과','바나나', '고양이', 'apple', 'banana', 'cat'])\n",
    "B = ['사과','banana']\n",
    "\n",
    "print('#'*30, f\"{'A':^15s}\" , '#' * 30, '\\n') # 출력되는 결과들을 분리해서 보여주기 위한 코드입니다.\n",
    "print(A)\n",
    "print('#'*30, f\"{'A.isin(B)':^15s}\" , '#' * 30, '\\n') # 출력되는 결과들을 분리해서 보여주기 위한 코드입니다.\n",
    "print(A.isin(B))"
   ]
  },
  {
   "cell_type": "code",
   "execution_count": null,
   "id": "1a3bd926-852a-4448-b019-8f9b9d874786",
   "metadata": {
    "tags": []
   },
   "outputs": [],
   "source": [
    "# 예제_2_데이터프레임의_데이터_포함여부\n",
    "\n",
    "import pandas as pd\n",
    "\n",
    "A = pd.DataFrame([['사과', 'apple'], ['바나나', 'banana'],['고양이', 'cat']])\n",
    "B = ['사과','banana']\n",
    "\n",
    "print('#'*30, f\"{'A':^15s}\" , '#' * 30, '\\n') # 출력되는 결과들을 분리해서 보여주기 위한 코드입니다.\n",
    "print(A)\n",
    "print('#'*30, f\"{'A.isin(B)':^15s}\" , '#' * 30, '\\n') # 출력되는 결과들을 분리해서 보여주기 위한 코드입니다.\n",
    "print(A.isin(B))"
   ]
  },
  {
   "cell_type": "markdown",
   "id": "f7336d7b-9217-498f-816d-7206d45c0d74",
   "metadata": {},
   "source": [
    "### **💯 연습문제를 풀어봅시다**\n",
    "\n"
   ]
  },
  {
   "cell_type": "markdown",
   "id": "82be737c-bab8-42ad-953a-e1e12e5da1f7",
   "metadata": {
    "tags": []
   },
   "source": [
    "1. <a class=\"jcecodle-mk jcecodle-mk__problem-chip\" data-problem-id=\"rmsBS7UPIBE\" href='#jce-judge/open/rmsBS7UPIBE' target='_self'><span>판다스 - 시리즈 포함관계</span></a>\n",
    "\n",
    "2. <a class=\"jcecodle-mk jcecodle-mk__problem-chip\" data-problem-id=\"PAgT9s6XUZs\" href='#jce-judge/open/PAgT9s6XUZs' target='_self'><span>동물원에 포함된 동물</span></a>\n",
    "\n",
    "3. <a class=\"jcecodle-mk jcecodle-mk__problem-chip\" data-problem-id=\"P-vtszkk64s\" href='#jce-judge/open/P-vtszkk64s' target='_self'><span>판다스 - 데이터 프레임의 포함관계</span></a>\n",
    "\n",
    "4. <a class=\"jcecodle-mk jcecodle-mk__problem-chip\" data-problem-id=\"kW8wfufyjJo\" href='#jce-judge/open/kW8wfufyjJo' target='_self'><span>대회 출전자 확인</span></a>\n",
    "\n",
    "5. <a class=\"jcecodle-mk jcecodle-mk__problem-chip\" data-problem-id=\"iYIyrE6XeXg\" href='#jce-judge/open/iYIyrE6XeXg' target='_self'><span>대회 출전자 중 1반</span></a>\n",
    "\n"
   ]
  },
  {
   "cell_type": "markdown",
   "id": "9856e525",
   "metadata": {
    "tags": []
   },
   "source": [
    "# **[5-8] 데이터에 순위 매기기**"
   ]
  },
  {
   "cell_type": "markdown",
   "id": "87540180",
   "metadata": {
    "tags": []
   },
   "source": [
    "## **🎯 학습 목표**\n",
    "**Pandas를 사용해 시리즈, 데이터프레임 안의 각 데이터들의 크기 순서를 매겨봅시다.**"
   ]
  },
  {
   "cell_type": "markdown",
   "id": "8589a35d",
   "metadata": {},
   "source": [
    "---"
   ]
  },
  {
   "cell_type": "markdown",
   "id": "4a9ea274",
   "metadata": {
    "tags": []
   },
   "source": [
    "데이터의 순위를 매기고 싶을 때에는 `rank()` 함수를 사용할 수 있습니다.\n",
    "\n",
    "> **🔨 함수(FUNCTIONS):**\n",
    ">\n",
    "> **`Series.rank(ascending=True_또는_False)`**  \n",
    "> 시리즈의 데이터를 크기 순으로 정렬하여 순위를 매겨서 그 결과를 시리즈로 반환합니다.\n",
    ">> **매개변수(parameter)**\n",
    ">>\n",
    ">> **`ascending`** : True 또는 False가 전달됩니다.   \n",
    ">> True일 경우 오름차순으로 정렬하여 순위를 매기고 False일 경우 내림차순으로 정렬하여 순위를 매깁니다.  \n",
    ">> 기본값은 True로 오름차순으로 정렬합니다.\n",
    "> ---\n",
    "> **`DataFrame.rank(axis = 0_또는_1, ascending=True_또는_False)`**  \n",
    "> 데이터프레임의 데이터를 크기 순으로 정렬하여 순위를  매겨서 그 결과를 데이터프레임으로 반환합니다.\n",
    ">> **매개변수(parameter)**\n",
    ">>\n",
    ">> **`axis`** : 0 또는 1이 전달됩니다.   \n",
    ">> 0일 경우 열에서의 순위를 반환하고 1일 경우 행에서의 순위를 반환합니다.  \n",
    ">> 기본값은 0으로 열에서 순위가 기본값입니다.  \n",
    ">> **`ascending`** : True 또는 False가 전달됩니다.   \n",
    ">> True일 경우 오름차순으로 정렬하여 순위를 매기고 False일 경우 내림차순으로 정렬하여 순위를 매깁니다.  \n",
    ">> 기본값은 True로 오름차순으로 정렬합니다.\n",
    "> ---\n",
    "\n"
   ]
  },
  {
   "cell_type": "markdown",
   "id": "315563f7",
   "metadata": {},
   "source": [
    "## rank()로 데이터의 순위를 매깁니다.\n",
    "\n",
    "`rank()` 함수를 사용하면 데이터의 순위를 매길 수 있습니다.  \n",
    "매개변수를 주어 순위를 매길 방향, 오름차순, 내림차순 여부 등을 설정할 수 있습니다.  \n",
    "\n",
    "<table>\n",
    "<tr>\n",
    "    <th><img src=\"https://tmn-bucket-materials-all.s3.ap-northeast-2.amazonaws.com/image/pandas/material_05-19.png\" width=\"700\"></th>\n",
    "    </tr>\n",
    "<tr>\n",
    "    <th>rank() 함수를 이용한 순위 매기기</th>\n",
    "</tr>\n",
    "</table>"
   ]
  },
  {
   "cell_type": "code",
   "execution_count": null,
   "id": "94fdb23a",
   "metadata": {
    "tags": []
   },
   "outputs": [],
   "source": [
    "# 예제_1_시리즈의_데이터_순위매기기\n",
    "\n",
    "import pandas as pd\n",
    "\n",
    "A = pd.Series([2,5,3,6,1,4])\n",
    "\n",
    "print('#'*30, f\"{'A':^15s}\" , '#' * 30, '\\n') # 출력되는 결과들을 분리해서 보여주기 위한 코드입니다.\n",
    "print(A)\n",
    "print('#'*30, f\"{'A.rank()':^15s}\" , '#' * 30, '\\n') # 출력되는 결과들을 분리해서 보여주기 위한 코드입니다.\n",
    "print(A.rank(ascending = False))\n",
    "print('#'*30, f\"{'A.rank(ascending = False)':^15s}\" , '#' * 30, '\\n') # 출력되는 결과들을 분리해서 보여주기 위한 코드입니다.\n",
    "print(A.rank(ascending = False))"
   ]
  },
  {
   "cell_type": "code",
   "execution_count": null,
   "id": "f0cd7d67",
   "metadata": {
    "tags": []
   },
   "outputs": [],
   "source": [
    "# 예제_2_데이터프레임의_데이터_순위매기기\n",
    "\n",
    "import pandas as pd\n",
    "\n",
    "A = pd.DataFrame([[2,6], [5,1], [3,4]])\n",
    "\n",
    "print('#'*30, f\"{'A':^15s}\" , '#' * 30, '\\n') # 출력되는 결과들을 분리해서 보여주기 위한 코드입니다.\n",
    "print(A)\n",
    "print('#'*30, f\"{'A.rank()':^15s}\" , '#' * 30, '\\n') # 출력되는 결과들을 분리해서 보여주기 위한 코드입니다.\n",
    "print(A.rank(ascending = False))\n",
    "print('#'*30, f\"{'A.rank(axis = 1)':^15s}\" , '#' * 30, '\\n') # 출력되는 결과들을 분리해서 보여주기 위한 코드입니다.\n",
    "print(A.rank(axis = 1))\n",
    "print('#'*30, f\"{'A.rank(ascending = False)':^15s}\" , '#' * 30, '\\n') # 출력되는 결과들을 분리해서 보여주기 위한 코드입니다.\n",
    "print(A.rank(ascending = False))"
   ]
  },
  {
   "cell_type": "markdown",
   "id": "2cb4f441",
   "metadata": {},
   "source": [
    "### **💯 연습문제를 풀어봅시다**\n",
    "\n"
   ]
  },
  {
   "cell_type": "markdown",
   "id": "1b320254",
   "metadata": {
    "tags": []
   },
   "source": [
    "1. <a class=\"jcecodle-mk jcecodle-mk__problem-chip\" data-problem-id=\"QCIVQ-01EuM\" href='#jce-judge/open/QCIVQ-01EuM' target='_self'><span>판다스 - 데이터 연산하기 - rank</span></a>\n",
    "\n",
    "2. <a class=\"jcecodle-mk jcecodle-mk__problem-chip\" data-problem-id=\"BPIf2PrHeuw\" href='#jce-judge/open/BPIf2PrHeuw' target='_self'><span>판다스 - 데이터 연산하기 - rank (2)</span></a>\n",
    "\n",
    "3. <a class=\"jcecodle-mk jcecodle-mk__problem-chip\" data-problem-id=\"8AzXCaaHMPI\" href='#jce-judge/open/8AzXCaaHMPI' target='_self'><span>키 큰 순으로 (1)</span></a>\n",
    "\n",
    "4. <a class=\"jcecodle-mk jcecodle-mk__problem-chip\" data-problem-id=\"pt-y48i1cig\" href='#jce-judge/open/pt-y48i1cig' target='_self'><span>키 큰 순으로 (2)</span></a>\n",
    "\n",
    "5. <a class=\"jcecodle-mk jcecodle-mk__problem-chip\" data-problem-id=\"ktj0xXAZX54\" href='#jce-judge/open/ktj0xXAZX54' target='_self'><span>학급 성적평균 순위</span></a>\n"
   ]
  },
  {
   "cell_type": "markdown",
   "id": "3882ef43",
   "metadata": {
    "tags": []
   },
   "source": [
    "# **[6-1] 불 인덱싱(Boolean Indexing)을 이용해 필터링하기**"
   ]
  },
  {
   "cell_type": "markdown",
   "id": "4b08985a",
   "metadata": {
    "tags": []
   },
   "source": [
    "## **🎯 학습 목표**\n",
    "**불 인덱싱(Boolean Indexing)을 이용해 데이터를 필터링 해봅시다.**"
   ]
  },
  {
   "cell_type": "markdown",
   "id": "343e21a7",
   "metadata": {},
   "source": [
    "---"
   ]
  },
  {
   "cell_type": "markdown",
   "id": "1edad04c-e984-4b29-92a3-863cd3d4c284",
   "metadata": {
    "jp-MarkdownHeadingCollapsed": true,
    "tags": []
   },
   "source": [
    "데이터프레임에서 특정 행과 특정 열에 접근하는 인덱싱에 대해서 배웠습니다.  \n",
    "이번에는 조건을 만족하는 행과 열을 찾아 접근하는 방법인 불 인덱싱(bool indexing)에 대해서 배워보겠습니다."
   ]
  },
  {
   "cell_type": "markdown",
   "id": "e9db45bd-6750-4edf-868b-e3de6548023b",
   "metadata": {
    "tags": []
   },
   "source": [
    "## 시리즈에 불 인덱싱을 사용해 특정 조건을 만족하는 행에 접근하기\n",
    "\n",
    "시리즈에 불 인덱싱을 사용하기 위해서는 각 행의 포함여부를 True와 False로 저장하고 있는 시리즈 혹은 리스트를 가지고 있어야 합니다.  \n",
    "각 행의 포함여부정보를 가지고 있는 시리즈 혹은 리스트를 `[]`에 넣어주면 해당 포함여부정보가 True인 데이터만으로 이루어진 시리즈를 반환합니다.  \n",
    "`Series[포함여부정보_시리즈_또는_리스트]`\n",
    "\n",
    "> **⛔️ 오류(ERROR):**\n",
    ">\n",
    "> 주어진 시리즈와 각 행의 포함여부 정보를 가지고 있는 시리즈, 리스트의 크기가 다르면 오류가 발생합니다.\n",
    "\n",
    "다음과 같이 이전에 배운 비교연산, 논리연산을 불 인덱싱에 응용할 수 있습니다.\n",
    "\n",
    "1. 포함여부정보를 이용해 필터링 하기  \n",
    "\n",
    "<table>\n",
    "<tr>\n",
    "    <th><img src=\"https://tmn-bucket-materials-all.s3.ap-northeast-2.amazonaws.com/image/pandas/material_06_01.gif\" width=\"750\"></th>\n",
    "</tr>\n",
    "<tr>\n",
    "    <th>포함여부 정보를 이용한 시리즈의 불 인덱싱</th>\n",
    "</tr>\n",
    "</table>\n",
    "\n",
    "2. 비교연산을 사용해 필터링 하기  \n",
    "\n",
    "<table>\n",
    "<tr>\n",
    "    <th><img src=\"https://tmn-bucket-materials-all.s3.ap-northeast-2.amazonaws.com/image/pandas/material_06_02.gif\" width=\"750\"></th>\n",
    "</tr>\n",
    "<tr>\n",
    "    <th>비교연산을 이용한 시리즈의 불 인덱싱</th>\n",
    "</tr>\n",
    "</table>\n",
    "\n",
    "3. 논리연산을 사용해 필터링 하기  \n",
    "\n",
    "<table>\n",
    "<tr>\n",
    "    <th><img src=\"https://tmn-bucket-materials-all.s3.ap-northeast-2.amazonaws.com/image/pandas/material_06_03.gif\" width=\"750\"></th>\n",
    "</tr>\n",
    "<tr>\n",
    "    <th>논리연산을 이용한 시리즈의 불 인덱싱</th>\n",
    "</tr>\n",
    "</table>"
   ]
  },
  {
   "cell_type": "code",
   "execution_count": null,
   "id": "704f23f8-e5f6-4a83-bb33-2a53fd0719cd",
   "metadata": {
    "tags": []
   },
   "outputs": [],
   "source": [
    "# 예제_1_포함여부_정보를_이용한_시리즈의_필터링\n",
    "\n",
    "import pandas as pd\n",
    "\n",
    "df = pd.read_csv('https://tmn-bucket-materials-all.s3.ap-northeast-2.amazonaws.com/data/midterm_exam_result.csv')\n",
    "\n",
    "score = pd.Series(df['프로그래밍'])\n",
    "score.index = df['이름']\n",
    "\n",
    "print('#'*30, f\"{'score':^15s}\" , '#' * 30, '\\n') # 출력되는 결과들을 분리해서 보여주기 위한 코드입니다.\n",
    "print(score)\n",
    "print('\\n','#'*30, \"{:^15s}\".format('score.isin([10,20,30,40,50,60,70,80,90,100])') , '#' * 30, '\\n') # 출력되는 결과들을 분리해서 보여주기 위한 코드입니다.\n",
    "print(score.isin([10,20,30,40,50,60,70,80,90,100]))\n",
    "print('\\n','#'*30, \"{:^15s}\".format('score[score.isin([10,20,30,40,50,60,70,80,90,100])]') , '#' * 30, '\\n') # 출력되는 결과들을 분리해서 보여주기 위한 코드입니다.\n",
    "print(score[score.isin([10,20,30,40,50,60,70,80,90,100])])"
   ]
  },
  {
   "cell_type": "code",
   "execution_count": null,
   "id": "9a80148c-2b59-4d2b-9ce0-0ae06abe3240",
   "metadata": {
    "tags": []
   },
   "outputs": [],
   "source": [
    "# 예제_2_비교함수를_이용한_시리즈의_필터링\n",
    "\n",
    "import pandas as pd\n",
    "\n",
    "df = pd.read_csv('https://tmn-bucket-materials-all.s3.ap-northeast-2.amazonaws.com/data/midterm_exam_result.csv')\n",
    "\n",
    "score = pd.Series(df['프로그래밍'])\n",
    "score.index = df['이름']\n",
    "\n",
    "print('#'*30, f\"{'score':^15s}\" , '#' * 30, '\\n') # 출력되는 결과들을 분리해서 보여주기 위한 코드입니다.\n",
    "print(score)\n",
    "print('\\n','#'*30, \"{:^15s}\".format('score > 60') , '#' * 30, '\\n') # 출력되는 결과들을 분리해서 보여주기 위한 코드입니다.\n",
    "print(score > 60)\n",
    "print('\\n','#'*30, \"{:^15s}\".format('score[score > 60]') , '#' * 30, '\\n') # 출력되는 결과들을 분리해서 보여주기 위한 코드입니다.\n",
    "print(score[score > 60])"
   ]
  },
  {
   "cell_type": "code",
   "execution_count": null,
   "id": "19b47da0-832d-486c-8958-a47e66e33a60",
   "metadata": {
    "tags": []
   },
   "outputs": [],
   "source": [
    "# 예제_3_논리함수를_이용한_시리즈의_필터링\n",
    "\n",
    "import pandas as pd\n",
    "\n",
    "df = pd.read_csv('https://tmn-bucket-materials-all.s3.ap-northeast-2.amazonaws.com/data/midterm_exam_result.csv')\n",
    "\n",
    "score = pd.Series(df['프로그래밍'])\n",
    "score.index = df['이름']\n",
    "\n",
    "print('#'*30, f\"{'score':^15s}\" , '#' * 30, '\\n') # 출력되는 결과들을 분리해서 보여주기 위한 코드입니다.\n",
    "print(score)\n",
    "print('\\n','#'*30, \"{:^15s}\".format('(score > 60) & (score < 90)') , '#' * 30, '\\n') # 출력되는 결과들을 분리해서 보여주기 위한 코드입니다.\n",
    "print((score > 60) & (score < 90))\n",
    "print('\\n','#'*30, \"{:^15s}\".format('score[(score > 60) & (score < 90)]') , '#' * 30, '\\n') # 출력되는 결과들을 분리해서 보여주기 위한 코드입니다.\n",
    "print(score[(score > 60) & (score < 90)])"
   ]
  },
  {
   "cell_type": "markdown",
   "id": "f0e8d53c-5ebc-47ea-9ed6-99864924ba63",
   "metadata": {
    "tags": []
   },
   "source": [
    "## 데이터프레임에 불 인덱싱을 사용해 특정 조건을 만족하는 행에 접근하기\n",
    "\n",
    "데이터프레임에 불 인덱싱을 사용하기 위해서는 각 행의 포함여부를 True와 False로 저장하고 있는 시리즈 혹은 리스트를 가지고 있어야 합니다.  \n",
    "각 행의 포함여부정보를 가지고 있는 시리즈 혹은 리스트를 `.loc[]`에 넣어주면 해당 포함여부정보가 True인 행들로만 이루어진 데이터프레임를 반환합니다.\n",
    "\n",
    "`DataFrame.loc[포함여부정보_시리즈_또는_리스트]`\n",
    "\n",
    "> **⛔️ 오류(ERROR):**\n",
    ">\n",
    "> 주어진 데이터프레임과 포함여부정보를 가지고 있는 데이터프레임의 크기가 다르면 오류가 발생합니다.  \n",
    "\n",
    "다음과 같이 이전에 배운 비교연산, 논리연산을 불 인덱싱에 응용할 수 있습니다.\n",
    "\n",
    "1. 포함여부정보를 이용해 필터링 하기  \n",
    "\n",
    "<table>\n",
    "<tr>\n",
    "    <th><img src=\"https://tmn-bucket-materials-all.s3.ap-northeast-2.amazonaws.com/image/pandas/material_06_04.gif\" width=\"750\"></th>\n",
    "</tr>\n",
    "<tr>\n",
    "    <th>포함여부 정보를 이용한 데이터프레임의 불 인덱싱</th>\n",
    "</tr>\n",
    "</table>\n",
    "\n",
    "2. 비교연산을 사용해 필터링 하기  \n",
    "\n",
    "<table>\n",
    "<tr>\n",
    "    <th><img src=\"https://tmn-bucket-materials-all.s3.ap-northeast-2.amazonaws.com/image/pandas/material_06_05.gif\" width=\"750\"></th>\n",
    "</tr>\n",
    "<tr>\n",
    "    <th>비교연산을 이용한 데이터프레임의 불 인덱싱</th>\n",
    "</tr>\n",
    "</table>\n",
    "\n",
    "3. 논리연산을 사용해 필터링 하기  \n",
    "\n",
    "<table>\n",
    "<tr>\n",
    "    <th><img src=\"https://tmn-bucket-materials-all.s3.ap-northeast-2.amazonaws.com/image/pandas/material_06_06.gif\" width=\"750\"></th>\n",
    "</tr>\n",
    "<tr>\n",
    "    <th>논리연산을 이용한 데이터프레임의 불 인덱싱</th>\n",
    "</tr>\n",
    "</table>"
   ]
  },
  {
   "cell_type": "code",
   "execution_count": null,
   "id": "2473bdaa-d2e2-4630-bccc-0b785bf62dba",
   "metadata": {
    "tags": []
   },
   "outputs": [],
   "source": [
    "# 예제_4_포함여부_정보를_이용한_데이터프레임의_필터링\n",
    "\n",
    "import pandas as pd\n",
    "\n",
    "score = pd.read_csv('https://tmn-bucket-materials-all.s3.ap-northeast-2.amazonaws.com/data/midterm_exam_result.csv')\n",
    "score.index = score['이름']\n",
    "score = score.iloc[:,1:]\n",
    "\n",
    "print('#'*30, f\"{'score':^15s}\" , '#' * 30, '\\n') # 출력되는 결과들을 분리해서 보여주기 위한 코드입니다.\n",
    "print(score)\n",
    "print('\\n','#'*30, \"{:^15s}\".format('score[\"국어\"].isin([50,51,52,53,54,55,56,57,58,59])') , '#' * 30, '\\n') # 출력되는 결과들을 분리해서 보여주기 위한 코드입니다.\n",
    "print(score[\"국어\"].isin([50,51,52,53,54,55,56,57,58,59]))\n",
    "print('\\n','#'*30, \"{:^15s}\".format('score[score[\"국어\"].isin([50,51,52,53,54,55,56,57,58,59])]') , '#' * 30, '\\n') # 출력되는 결과들을 분리해서 보여주기 위한 코드입니다.\n",
    "print(score[score[\"국어\"].isin([50,51,52,53,54,55,56,57,58,59])])"
   ]
  },
  {
   "cell_type": "code",
   "execution_count": null,
   "id": "07342723-3513-42af-8df4-9c107e45bd1e",
   "metadata": {
    "tags": []
   },
   "outputs": [],
   "source": [
    "# 예제_5_비교연산을_이용한_데이터프레임의_필터링\n",
    "\n",
    "import pandas as pd\n",
    "\n",
    "score = pd.read_csv('https://tmn-bucket-materials-all.s3.ap-northeast-2.amazonaws.com/data/midterm_exam_result.csv')\n",
    "score.index = score['이름']\n",
    "score = score.iloc[:,1:]\n",
    "\n",
    "print('#'*30, f\"{'score':^15s}\" , '#' * 30, '\\n') # 출력되는 결과들을 분리해서 보여주기 위한 코드입니다.\n",
    "print(score)\n",
    "print('\\n','#'*30, \"{:^15s}\".format('score[\"국어\"] > 50') , '#' * 30, '\\n') # 출력되는 결과들을 분리해서 보여주기 위한 코드입니다.\n",
    "print(score[\"국어\"] > 50)\n",
    "print('\\n','#'*30, \"{:^15s}\".format('score[score[\"국어\"] > 50]') , '#' * 30, '\\n') # 출력되는 결과들을 분리해서 보여주기 위한 코드입니다.\n",
    "print(score[score[\"국어\"] > 50])"
   ]
  },
  {
   "cell_type": "code",
   "execution_count": null,
   "id": "97738486-2af9-41f3-878b-134a8485dcc3",
   "metadata": {
    "tags": []
   },
   "outputs": [],
   "source": [
    "# 예제_6_논리연산을_이용한_데이터프레임의_필터링\n",
    "\n",
    "import pandas as pd\n",
    "\n",
    "score = pd.read_csv('https://tmn-bucket-materials-all.s3.ap-northeast-2.amazonaws.com/data/midterm_exam_result.csv')\n",
    "score.index = score['이름']\n",
    "score = score.iloc[:,1:]\n",
    "\n",
    "print('#'*30, f\"{'score':^15s}\" , '#' * 30, '\\n') # 출력되는 결과들을 분리해서 보여주기 위한 코드입니다.\n",
    "print(score)\n",
    "print('\\n','#'*30, \"{:^15s}\".format('score[\"국어\"] > 50') , '#' * 30, '\\n') # 출력되는 결과들을 분리해서 보여주기 위한 코드입니다.\n",
    "print((score[\"국어\"] > 50) & (score[\"프로그래밍\"] > 70))\n",
    "print('\\n','#'*30, \"{:^15s}\".format('score[(score[\"국어\"] > 50) & (score[\"프로그래밍\"] > 70)]') , '#' * 30, '\\n') # 출력되는 결과들을 분리해서 보여주기 위한 코드입니다.\n",
    "print(score[(score[\"국어\"] > 50) & (score[\"프로그래밍\"] > 70)])"
   ]
  },
  {
   "cell_type": "markdown",
   "id": "c8423198-bbf4-4e78-b43a-bb01a098f887",
   "metadata": {},
   "source": [
    "### **💯 연습문제를 풀어봅시다**\n",
    "\n"
   ]
  },
  {
   "cell_type": "markdown",
   "id": "69779ce5-32d8-4ace-8399-f226e87838fc",
   "metadata": {
    "tags": []
   },
   "source": [
    "1. <a class=\"jcecodle-mk jcecodle-mk__problem-chip\" data-problem-id=\"nuRAz-IVE_s\" href='#jce-judge/open/nuRAz-IVE_s' target='_self'><span>판다스 - 데이터 나누기 - 행 기준 (비교 연산 1)</span></a>\n",
    "\n",
    "2. <a class=\"jcecodle-mk jcecodle-mk__problem-chip\" data-problem-id=\"BlvfsJPAf0c\" href='#jce-judge/open/BlvfsJPAf0c' target='_self'><span>판다스 - 데이터 나누기 - boolean indexing</span></a>\n",
    "\n",
    "3. <a class=\"jcecodle-mk jcecodle-mk__problem-chip\" data-problem-id=\"bwvFokLhC_Y\" href='#jce-judge/open/bwvFokLhC_Y' target='_self'><span>판다스 - 데이터 나누기 - boolean indexing(2)</span></a>\n",
    "\n",
    "4. <a class=\"jcecodle-mk jcecodle-mk__problem-chip\" data-problem-id=\"ChuKgwqgGus\" href='#jce-judge/open/ChuKgwqgGus' target='_self'><span>판다스 - 데이터 나누기 - 행 기준 (비교 연산 2)</span></a>\n",
    "\n",
    "5. <a class=\"jcecodle-mk jcecodle-mk__problem-chip\" data-problem-id=\"tYDpenjOzyA\" href='#jce-judge/open/tYDpenjOzyA' target='_self'><span>득표수 100이상</span></a>\n",
    "\n",
    "6. <a class=\"jcecodle-mk jcecodle-mk__problem-chip\" data-problem-id=\"KltxWJ2iYbs\" href='#jce-judge/open/KltxWJ2iYbs' target='_self'><span>키 170초과</span></a>\n",
    "\n",
    "7. <a class=\"jcecodle-mk jcecodle-mk__problem-chip\" data-problem-id=\"Dk1xdaA_OTE\" href='#jce-judge/open/Dk1xdaA_OTE' target='_self'><span>판다스 - 데이터 나누기 - 행 기준(비교 연산 3)</span></a>\n",
    "\n",
    "8. <a class=\"jcecodle-mk jcecodle-mk__problem-chip\" data-problem-id=\"j6F4bQcy91w\" href='#jce-judge/open/j6F4bQcy91w' target='_self'><span>판다스 - 데이터 나누기 - 행 기준 (포함 관계)</span></a>\n",
    "\n",
    "9. <a class=\"jcecodle-mk jcecodle-mk__problem-chip\" data-problem-id=\"0jksIko2Wvg\" href='#jce-judge/open/0jksIko2Wvg' target='_self'><span>판다스 - 데이터나누기 - 행 기준(포함관계 2)</span></a>\n",
    "\n",
    "10. <a class=\"jcecodle-mk jcecodle-mk__problem-chip\" data-problem-id=\"f_rtq-NVNxs\" href='#jce-judge/open/f_rtq-NVNxs' target='_self'><span>4반 빼고</span></a>\n",
    "\n",
    "11. <a class=\"jcecodle-mk jcecodle-mk__problem-chip\" data-problem-id=\"Zj3rqV004aU\" href='#jce-judge/open/Zj3rqV004aU' target='_self'><span>판다스 - 데이터 나누기 - 행 기준 (조건 조합)</span></a>\n",
    "\n",
    "12. <a class=\"jcecodle-mk jcecodle-mk__problem-chip\" data-problem-id=\"7SBVgSyGvaE\" href='#jce-judge/open/7SBVgSyGvaE' target='_self'><span>4반이 아니고 170이상</span></a>\n",
    "\n",
    "13. <a class=\"jcecodle-mk jcecodle-mk__problem-chip\" data-problem-id=\"36T7V0SjZtM\" href='#jce-judge/open/36T7V0SjZtM' target='_self'><span>판다스 - 데이터 나누기 - 행 기준(조건 조합 2)</span></a>\n"
   ]
  },
  {
   "cell_type": "markdown",
   "id": "901d4c68",
   "metadata": {
    "tags": []
   },
   "source": [
    "# **[7-1] 인덱싱으로 데이터 값 변경하기**"
   ]
  },
  {
   "cell_type": "markdown",
   "id": "586742b0",
   "metadata": {
    "tags": []
   },
   "source": [
    "## **🎯 학습 목표**\n",
    "**인덱싱으로 데이터 값을 변경해봅시다.**"
   ]
  },
  {
   "cell_type": "markdown",
   "id": "3858dfc9",
   "metadata": {},
   "source": [
    "---"
   ]
  },
  {
   "cell_type": "markdown",
   "id": "40541fd6-77c0-41ca-beb5-9f32741742de",
   "metadata": {},
   "source": [
    "데이터는 오류가 있을 수도 있고, 시간이 흘러 변할 수도 있습니다.  \n",
    "이런 때에는 값을 변경하면 됩니다.  \n",
    "변경할 데이터의 위치를 정확히 알고 있다면 인덱싱을 통해 위치를 지정한 후 새로운 값을 저장할 수 있습니다.  "
   ]
  },
  {
   "cell_type": "markdown",
   "id": "0d6d3711-9a60-42fa-8700-17cfce0c254e",
   "metadata": {
    "tags": []
   },
   "source": [
    "## 데이터프레임을 같은 크기의 데이터로 수정하기\n",
    "\n",
    "데이터프레임의 데이터를 수정하기 위해서는 수정하고 싶은 데이터에 접근하면 됩니다.(인덱싱)  \n",
    "해당 데이터프레임에 인덱싱하고 인덱싱한 데이터프레임에 원하는 값을 할당해주면 됩니다.  \n",
    "이 때 같은 크기의 데이터를 할당하면 기존 데이터가 새로운 데이터로 대체됩니다.\n",
    "\n",
    "> **⛔️ 오류(ERROR):**\n",
    ">\n",
    "> 인덱싱한 데이터프레임과 할당하는 데이터의 크기가 다르고 브로드캐스팅을 적용할 수 없으면 오류가 발생합니다.\n",
    "\n",
    "> **⚠️ 주의(WARNING):**\n",
    ">\n",
    "> 인덱싱으로 데이터프레임을 수정하면 원본 데이터가 수정됩니다.\n",
    "\n",
    "1. 특정위치의 데이터 수정하기  \n",
    "\n",
    "<table>\n",
    "<tr>\n",
    "    <th><img src=\"https://tmn-bucket-materials-all.s3.ap-northeast-2.amazonaws.com/image/pandas/material_07_01.gif\" width=\"750\"></th>\n",
    "</tr>\n",
    "<tr>\n",
    "    <th>데이터프레임 특정위치의 데이터 수정하기</th>\n",
    "</tr>\n",
    "</table>\n",
    "\n",
    "2. 특정 행 하나 수정하기  \n",
    "\n",
    "<table>\n",
    "<tr>\n",
    "    <th><img src=\"https://tmn-bucket-materials-all.s3.ap-northeast-2.amazonaws.com/image/pandas/material_07_02.gif\" width=\"750\"></th>\n",
    "</tr>\n",
    "<tr>\n",
    "    <th>데이터프레임 특정 행 데이터 수정하기</th>\n",
    "</tr>\n",
    "</table>\n",
    "\n",
    "3. 특정 열 하나 수정하기  \n",
    "\n",
    "<table>\n",
    "<tr>\n",
    "    <th><img src=\"https://tmn-bucket-materials-all.s3.ap-northeast-2.amazonaws.com/image/pandas/material_07_03.gif\" width=\"750\"></th>\n",
    "</tr>\n",
    "<tr>\n",
    "    <th>데이터프레임 특정 열 데이터 수정하기</th>\n",
    "</tr>\n",
    "</table>\n",
    "\n",
    "4. 여러개의 행과 열 한번에 수정하기  \n",
    "\n",
    "<table>\n",
    "<tr>\n",
    "    <th><img src=\"https://tmn-bucket-materials-all.s3.ap-northeast-2.amazonaws.com/image/pandas/material_07_04.gif\" width=\"750\"></th>\n",
    "</tr>\n",
    "<tr>\n",
    "    <th>데이터프레임 특정 행,열 데이터 수정하기</th>\n",
    "</tr>\n",
    "</table>"
   ]
  },
  {
   "cell_type": "code",
   "execution_count": null,
   "id": "c5dc7ae6-4271-4b66-b309-6d65307bd0d5",
   "metadata": {
    "tags": []
   },
   "outputs": [],
   "source": [
    "# 예제_1_인덱싱을_이용해_특정위치의_데이터_수정하기\n",
    "\n",
    "import pandas as pd\n",
    "\n",
    "score = pd.read_csv('https://tmn-bucket-materials-all.s3.ap-northeast-2.amazonaws.com/data/midterm_exam_result.csv')\n",
    "score.index = score['이름']\n",
    "score = score.iloc[:,1:]\n",
    "\n",
    "print('#'*30, f\"{'score':^15s}\" , '#' * 30, '\\n') # 출력되는 결과들을 분리해서 보여주기 위한 코드입니다.\n",
    "print(score)\n",
    "print('\\n','#'*30, \"{:^15s}\".format('score.loc[\"이민준\",\"국어\"] = 50') , '#' * 30, '\\n') # 출력되는 결과들을 분리해서 보여주기 위한 코드입니다.\n",
    "score.loc[\"이민준\",\"국어\"] = 50\n",
    "print(score)"
   ]
  },
  {
   "cell_type": "code",
   "execution_count": null,
   "id": "76591704-49cb-4732-ba70-6b08cca3c670",
   "metadata": {
    "tags": []
   },
   "outputs": [],
   "source": [
    "# 예제_2_인덱싱을_이용해_특정_행하나_수정하기\n",
    "\n",
    "import pandas as pd\n",
    "\n",
    "score = pd.read_csv('https://tmn-bucket-materials-all.s3.ap-northeast-2.amazonaws.com/data/midterm_exam_result.csv')\n",
    "score.index = score['이름']\n",
    "score = score.iloc[:,1:]\n",
    "\n",
    "print('#'*30, f\"{'score':^15s}\" , '#' * 30, '\\n') # 출력되는 결과들을 분리해서 보여주기 위한 코드입니다.\n",
    "print(score)\n",
    "print('\\n','#'*30, \"{:^15s}\".format('score.loc[\"이민준\",\"국어\"] = 50') , '#' * 30, '\\n') # 출력되는 결과들을 분리해서 보여주기 위한 코드입니다.\n",
    "score.loc[\"이민준\"] = [100,100,100,100,100]\n",
    "print(score)"
   ]
  },
  {
   "cell_type": "code",
   "execution_count": null,
   "id": "a23d0ef5-640d-43f4-a0c9-841f909c5fb0",
   "metadata": {
    "tags": []
   },
   "outputs": [],
   "source": [
    "# 예제_3_인덱싱을_이용해_특정_열하나_수정하기\n",
    "\n",
    "import pandas as pd\n",
    "import random\n",
    "\n",
    "score = pd.read_csv('https://tmn-bucket-materials-all.s3.ap-northeast-2.amazonaws.com/data/midterm_exam_result.csv')\n",
    "score.index = score['이름']\n",
    "score = score.iloc[:,1:]\n",
    "new_score = [random.randint(0,100) for i in range(30)]\n",
    "\n",
    "print('#'*30, f\"{'score':^15s}\" , '#' * 30, '\\n') # 출력되는 결과들을 분리해서 보여주기 위한 코드입니다.\n",
    "print(score)\n",
    "print('#'*30, f\"{'new_score':^15s}\" , '#' * 30, '\\n') # 출력되는 결과들을 분리해서 보여주기 위한 코드입니다.\n",
    "print(new_score)\n",
    "print('\\n','#'*30, \"{:^15s}\".format('score[\"한국사\"] = new_score') , '#' * 30, '\\n') # 출력되는 결과들을 분리해서 보여주기 위한 코드입니다.\n",
    "score[\"한국사\"] = new_score\n",
    "print(score)"
   ]
  },
  {
   "cell_type": "code",
   "execution_count": null,
   "id": "9b2910b6-3a7b-4298-93a0-b024c89e9b11",
   "metadata": {
    "tags": []
   },
   "outputs": [],
   "source": [
    "# 예제_4_인덱싱을_이용해_행과_열_수정하기\n",
    "\n",
    "import pandas as pd\n",
    "import numpy as np\n",
    "\n",
    "score = pd.read_csv('https://tmn-bucket-materials-all.s3.ap-northeast-2.amazonaws.com/data/midterm_exam_result.csv')\n",
    "score.index = score['이름']\n",
    "score = score.iloc[:,1:]\n",
    "new_score = np.round(np.random.rand(4,2)*100).tolist()\n",
    "\n",
    "print('#'*30, f\"{'score':^15s}\" , '#' * 30, '\\n') # 출력되는 결과들을 분리해서 보여주기 위한 코드입니다.\n",
    "print(score)\n",
    "print('#'*30, f\"{'new_score':^15s}\" , '#' * 30, '\\n') # 출력되는 결과들을 분리해서 보여주기 위한 코드입니다.\n",
    "print(new_score)\n",
    "print('\\n','#'*30, \"{:^15s}\".format('score.iloc[:4,:2] = new_score') , '#' * 30, '\\n') # 출력되는 결과들을 분리해서 보여주기 위한 코드입니다.\n",
    "score.iloc[:4,:2] = new_score\n",
    "print(score)"
   ]
  },
  {
   "cell_type": "markdown",
   "id": "0e38e775-031f-48c7-9728-f09d298e71ab",
   "metadata": {
    "tags": []
   },
   "source": [
    "## 데이터프레임을 브로드캐스팅을 이용하여 수정하기\n",
    "\n",
    "데이터를 할당할 때에 이전 시간에 배운 브로드캐스팅을 적용할 수도 있습니다.\n",
    "\n",
    "1. 데이터를 하나의 값으로 수정하기  \n",
    "\n",
    "<table>\n",
    "<tr>\n",
    "    <th><img src=\"https://tmn-bucket-materials-all.s3.ap-northeast-2.amazonaws.com/image/pandas/material_07_05.gif\" width=\"750\"></th>\n",
    "</tr>\n",
    "<tr>\n",
    "    <th>데이터프레임에 특정 부분을 브로드캐스팅을 이용해 하나의 값으로 수정하기</th>\n",
    "</tr>\n",
    "</table>\n",
    "\n",
    "2. 데이터를 시리즈로 수정하기  \n",
    "\n",
    "<table>\n",
    "<tr>\n",
    "    <th><img src=\"https://tmn-bucket-materials-all.s3.ap-northeast-2.amazonaws.com/image/pandas/material_07_06.gif\" width=\"750\"></th>\n",
    "</tr>\n",
    "<tr>\n",
    "    <th>데이터프레임에 특정 부분을 시리즈 브로드캐스팅을 이용해 수정하기</th>\n",
    "</tr>\n",
    "</table>"
   ]
  },
  {
   "cell_type": "code",
   "execution_count": null,
   "id": "d43406bc-fa87-47e0-8a63-6838c23211da",
   "metadata": {
    "tags": []
   },
   "outputs": [],
   "source": [
    "# 예제_5_브로드캐스팅을_이용해_행과_열_하나의_값으로_수정하기\n",
    "\n",
    "import pandas as pd\n",
    "import numpy as np\n",
    "\n",
    "score = pd.read_csv('https://tmn-bucket-materials-all.s3.ap-northeast-2.amazonaws.com/data/midterm_exam_result.csv')\n",
    "score.index = score['이름']\n",
    "score = score.iloc[:,1:]\n",
    "\n",
    "print('#'*30, f\"{'score':^15s}\" , '#' * 30, '\\n') # 출력되는 결과들을 분리해서 보여주기 위한 코드입니다.\n",
    "print(score)\n",
    "print('\\n','#'*30, \"{:^15s}\".format('score.iloc[:4,:2] = 100') , '#' * 30, '\\n') # 출력되는 결과들을 분리해서 보여주기 위한 코드입니다.\n",
    "score.iloc[:4,:2] = 100\n",
    "print(score)"
   ]
  },
  {
   "cell_type": "code",
   "execution_count": null,
   "id": "b4b398fe-a044-45e0-8213-ace60576487a",
   "metadata": {
    "tags": []
   },
   "outputs": [],
   "source": [
    "# 예제_6_브로드캐스팅을_이용해_행과_열_시리즈로_수정하기\n",
    "\n",
    "import pandas as pd\n",
    "import numpy as np\n",
    "\n",
    "score = pd.read_csv('https://tmn-bucket-materials-all.s3.ap-northeast-2.amazonaws.com/data/midterm_exam_result.csv')\n",
    "score.index = score['이름']\n",
    "score = score.iloc[:,1:]\n",
    "new_score = pd.Series([100,100])\n",
    "\n",
    "print('#'*30, f\"{'score':^15s}\" , '#' * 30, '\\n') # 출력되는 결과들을 분리해서 보여주기 위한 코드입니다.\n",
    "print(score)\n",
    "print('#'*30, f\"{'new_score':^15s}\" , '#' * 30, '\\n') # 출력되는 결과들을 분리해서 보여주기 위한 코드입니다.\n",
    "print(new_score)\n",
    "print('\\n','#'*30, \"{:^15s}\".format('score.iloc[:4,:2] = new_score') , '#' * 30, '\\n') # 출력되는 결과들을 분리해서 보여주기 위한 코드입니다.\n",
    "score.iloc[:4,:2] = new_score\n",
    "print(score)"
   ]
  },
  {
   "cell_type": "markdown",
   "id": "9b667f93-b6bc-4304-9323-3e274406f0c9",
   "metadata": {},
   "source": [
    "### **💯 연습문제를 풀어봅시다**\n",
    "\n"
   ]
  },
  {
   "cell_type": "markdown",
   "id": "10291135-cd99-482b-acaa-1b316318e544",
   "metadata": {
    "tags": []
   },
   "source": [
    "1. <a class=\"jcecodle-mk jcecodle-mk__problem-chip\" data-problem-id=\"pdcOTVxad0k\" href='#jce-judge/open/pdcOTVxad0k' target='_self'><span>판다스 - 데이터 값 변경 - 1개 위치</span></a>\n",
    "\n",
    "1. <a class=\"jcecodle-mk jcecodle-mk__problem-chip\" data-problem-id=\"pF0w3GD4yws\" href='#jce-judge/open/pF0w3GD4yws' target='_self'><span>친구 이름 변경 (1)</span></a>\n",
    "\n",
    "2. <a class=\"jcecodle-mk jcecodle-mk__problem-chip\" data-problem-id=\"UtynmIiHz3Q\" href='#jce-judge/open/UtynmIiHz3Q' target='_self'><span>반평균 성적 변경 (1)</span></a>\n",
    "\n",
    "3. <a class=\"jcecodle-mk jcecodle-mk__problem-chip\" data-problem-id=\"G7uK_Y6fStY\" href='#jce-judge/open/G7uK_Y6fStY' target='_self'><span>아이돌 멤버 변경</span></a>\n",
    "\n",
    "2. <a class=\"jcecodle-mk jcecodle-mk__problem-chip\" data-problem-id=\"vI2-Cplg3VY\" href='#jce-judge/open/vI2-Cplg3VY' target='_self'><span>판다스 - 데이터 값 변경 - 여러 위치(1)</span></a>\n",
    "\n",
    "1. <a class=\"jcecodle-mk jcecodle-mk__problem-chip\" data-problem-id=\"Z4taEsAFFr8\" href='#jce-judge/open/Z4taEsAFFr8' target='_self'><span>친구들 나이 변경</span></a>\n",
    "\n",
    "2. <a class=\"jcecodle-mk jcecodle-mk__problem-chip\" data-problem-id=\"ul7HW3Vv8zI\" href='#jce-judge/open/ul7HW3Vv8zI' target='_self'><span>학교 정보 수정</span></a>\n",
    "\n",
    "3. <a class=\"jcecodle-mk jcecodle-mk__problem-chip\" data-problem-id=\"1cSq2qkpN9k\" href='#jce-judge/open/1cSq2qkpN9k' target='_self'><span>가계부 수정</span></a>\n",
    "\n",
    "3. <a class=\"jcecodle-mk jcecodle-mk__problem-chip\" data-problem-id=\"Lf_f_K08VMY\" href='#jce-judge/open/Lf_f_K08VMY' target='_self'><span>판다스 - 데이터 값 변경 - 여러 위치(2)</span></a>\n",
    "\n",
    "2. <a class=\"jcecodle-mk jcecodle-mk__problem-chip\" data-problem-id=\"e-P2j-3PEJM\" href='#jce-judge/open/e-P2j-3PEJM' target='_self'><span>친구들 정보 변경</span></a>\n",
    "\n",
    "3. <a class=\"jcecodle-mk jcecodle-mk__problem-chip\" data-problem-id=\"6ZrVIlCVAq0\" href='#jce-judge/open/6ZrVIlCVAq0' target='_self'><span>특정 구역 값 변경</span></a>\n"
   ]
  },
  {
   "cell_type": "markdown",
   "id": "5ac0d0f7",
   "metadata": {
    "tags": []
   },
   "source": [
    "# **[7-2] 값 기반으로 데이터 값 변경하기**"
   ]
  },
  {
   "cell_type": "markdown",
   "id": "634e55da",
   "metadata": {
    "tags": []
   },
   "source": [
    "## **🎯 학습 목표**\n",
    "**값 기반으로 데이터 값을 변경해봅시다.**"
   ]
  },
  {
   "cell_type": "markdown",
   "id": "bc2283f4",
   "metadata": {},
   "source": [
    "---"
   ]
  },
  {
   "cell_type": "markdown",
   "id": "a08121dc-75f7-4149-b98b-e24c0d6648bd",
   "metadata": {},
   "source": [
    "데이터를 변경할 때에 인덱싱이 아닌 특정 값들을 가진 데이터를 한번에 수정할 때에는 `replace()` 함수를 사용할 수 있습니다.\n",
    "\n",
    "> **🔨 함수(FUNCTIONS):**\n",
    ">\n",
    "> **`DataFrame.replace(to_replace = 데이터1, value = 데이터2)`**  \n",
    "> 데이터프레임의 데이터1들을 데이터2로 수정한 데이터프레임을 반환합니다.\n",
    ">> **매개변수(parameter)**\n",
    ">>\n",
    ">> **`to_replace`** : 수정할 데이터를 지정합니다.   \n",
    ">> **`value`** : 새롭게 수정될 데이터를 지정합니다.\n",
    "> ---\n",
    "> **`DataFrame.replace(to_replace = 리스트, value = 데이터2)`**  \n",
    "> 데이터프레임의 데이터 중 리스트에 포함된 데이터들을 데이터2로 수정한 데이터프레임을 반환합니다.\n",
    ">> **매개변수(parameter)**\n",
    ">>\n",
    ">> **`to_replace`** : 수정해야 할 데이터의 리스트 입니다.   \n",
    ">> **`value`** : 새롭게 수정될 데이터를 지정합니다.\n",
    "> ---\n",
    "> **`DataFrame.replace(to_replace = 딕셔너리)`**  \n",
    "> 데이터프레임의 데이터 중 매개변수로 받은 딕셔너리의 키에 해당하는 들을 딕셔너리의 벨류에 해당하는 값들로 바꿔줍니다.\n",
    ">> **매개변수(parameter)**\n",
    ">>\n",
    ">> **`to_replace`** : 수정할 값과 수정될 값의 대응을 지정한 딕셔너리입니다.   \n",
    "> ---\n",
    "\n",
    "\n"
   ]
  },
  {
   "cell_type": "markdown",
   "id": "d2f0e5bb-93a4-4012-934d-3be1c8692f7b",
   "metadata": {
    "tags": []
   },
   "source": [
    "## 데이터프레임의 특정 값들을 수정하기\n",
    "\n",
    "`replace()` 함수를 이용하면 데이터프레임의 특정 값들을 원하는 값으로 변경할 수 있습니다.\n",
    "\n",
    "> **⚠️ 주의(WARNING):**\n",
    ">\n",
    "> 인덱싱으로 데이터의 값을 변경할 때와는 다르게 replace로 데이터를 변경할 때에는 데이터프레임 원본이 바뀌지 않습니다.  \n",
    "> 따라서 새로운 변수에 수정된 데이터프레임을 할당해주어야 합니다.\n",
    "\n",
    "`replace(데이터1, 데이터2)` 로 `데이터1`들을 `데이터2`로 한번에 변경할 수 있습니다. \n",
    "\n",
    "<table>\n",
    "<tr>\n",
    "    <th><img src=\"https://tmn-bucket-materials-all.s3.ap-northeast-2.amazonaws.com/image/pandas/material_07_07.png\" width=\"750\"></th>\n",
    "</tr>\n",
    "<tr>\n",
    "    <th>replace() 함수로 특정 데이터 수정하기</th>\n",
    "</tr>\n",
    "</table>\n",
    "\n",
    "`replace(데이터_리스트, 데이터2)` 로 `데이터_리스트`에 포함된 데이터들을 `데이터2`로 한번에 변경할 수 있습니다.  \n",
    "\n",
    "<table>\n",
    "<tr>\n",
    "    <th><img src=\"https://tmn-bucket-materials-all.s3.ap-northeast-2.amazonaws.com/image/pandas/material_07_08.png\" width=\"750\"></th>\n",
    "</tr>\n",
    "<tr>\n",
    "    <th>replace() 함수로 여러 데이터 수정하기</th>\n",
    "</tr>\n",
    "</table>\n",
    "\n",
    "`replace(딕셔너리)` 로 `딕셔너리`의 규칙에 따라 데이터프레임을 변경할 수 있습니다.  \n",
    "\n",
    "<table>\n",
    "<tr>\n",
    "    <th><img src=\"https://tmn-bucket-materials-all.s3.ap-northeast-2.amazonaws.com/image/pandas/material_07_09.png\" width=\"750\"></th>\n",
    "</tr>\n",
    "<tr>\n",
    "    <th>replace() 함수로 여러 데이터 규칙에 따라 수정하기</th>\n",
    "</tr>\n",
    "</table>"
   ]
  },
  {
   "cell_type": "code",
   "execution_count": null,
   "id": "ec84da26-e778-4ee2-92da-a2510d211ee6",
   "metadata": {
    "tags": []
   },
   "outputs": [],
   "source": [
    "# 예제_1_데이터프레임의_특정_값들을_수정하기\n",
    "\n",
    "import pandas as pd\n",
    "\n",
    "score = pd.read_csv('https://tmn-bucket-materials-all.s3.ap-northeast-2.amazonaws.com/data/midterm_exam_result.csv')\n",
    "score.index = score['이름']\n",
    "score = score.iloc[:,1:]\n",
    "\n",
    "print('#'*30, f\"{'score':^15s}\" , '#' * 30, '\\n') # 출력되는 결과들을 분리해서 보여주기 위한 코드입니다.\n",
    "print(score)\n",
    "print('\\n','#'*30, \"{:^15s}\".format('score.replace(18,100)') , '#' * 30, '\\n') # 출력되는 결과들을 분리해서 보여주기 위한 코드입니다.\n",
    "print(score.replace(18,100))"
   ]
  },
  {
   "cell_type": "code",
   "execution_count": null,
   "id": "ca7a8bb6-556b-46dc-bff5-a3755efaa4f6",
   "metadata": {
    "tags": []
   },
   "outputs": [],
   "source": [
    "# 예제_2_데이터프레임의_여러_값들을_하나의_값으로_수정하기\n",
    "\n",
    "import pandas as pd\n",
    "\n",
    "score = pd.read_csv('https://tmn-bucket-materials-all.s3.ap-northeast-2.amazonaws.com/data/midterm_exam_result.csv')\n",
    "score.index = score['이름']\n",
    "score = score.iloc[:,1:]\n",
    "\n",
    "print('#'*30, f\"{'score':^15s}\" , '#' * 30, '\\n') # 출력되는 결과들을 분리해서 보여주기 위한 코드입니다.\n",
    "print(score)\n",
    "print('\\n','#'*30, \"{:^15s}\".format('score.replace([18,95,88,38,7],100)') , '#' * 30, '\\n') # 출력되는 결과들을 분리해서 보여주기 위한 코드입니다.\n",
    "print(score.replace([18,95,88,38,7],100))"
   ]
  },
  {
   "cell_type": "code",
   "execution_count": null,
   "id": "eea67e54-494e-4cfb-a44a-957b87d5bfa4",
   "metadata": {
    "tags": []
   },
   "outputs": [],
   "source": [
    "# 예제_3_데이터프레임의_여러_값들을_정해진_규칙대로_수정하기\n",
    "\n",
    "import pandas as pd\n",
    "\n",
    "score = pd.read_csv('https://tmn-bucket-materials-all.s3.ap-northeast-2.amazonaws.com/data/midterm_exam_result.csv')\n",
    "score.index = score['이름']\n",
    "score = score.iloc[:,1:]\n",
    "\n",
    "print('#'*30, f\"{'score':^15s}\" , '#' * 30, '\\n') # 출력되는 결과들을 분리해서 보여주기 위한 코드입니다.\n",
    "print(score)\n",
    "print('\\n','#'*30, \"{:^15s}\".format('score.replace({18:100, 95:99, 88:98, 38:97, 7:96})') , '#' * 30, '\\n') # 출력되는 결과들을 분리해서 보여주기 위한 코드입니다.\n",
    "print(score.replace({18:100, 95:99, 88:98, 38:97, 7:96}))"
   ]
  },
  {
   "cell_type": "markdown",
   "id": "cc31304b-9cd0-4305-8229-f7e7d6499f0c",
   "metadata": {},
   "source": [
    "### **💯 연습문제를 풀어봅시다**\n",
    "\n"
   ]
  },
  {
   "cell_type": "markdown",
   "id": "aa2d823c-95a3-4dd0-84af-3b7bed2ec84d",
   "metadata": {
    "tags": []
   },
   "source": [
    "1. <a class=\"jcecodle-mk jcecodle-mk__problem-chip\" data-problem-id=\"SzB0uPNXl9Y\" href='#jce-judge/open/SzB0uPNXl9Y' target='_self'><span>판다스 - 데이터 값 변경 - 1가지 값</span></a>\n",
    "\n",
    "1. <a class=\"jcecodle-mk jcecodle-mk__problem-chip\" data-problem-id=\"f4VGEDRxHO4\" href='#jce-judge/open/f4VGEDRxHO4' target='_self'><span>친구 이름 변경 (2)</span></a>\n",
    "\n",
    "2. <a class=\"jcecodle-mk jcecodle-mk__problem-chip\" data-problem-id=\"4egTpZbVMZ4\" href='#jce-judge/open/4egTpZbVMZ4' target='_self'><span>반평균 성적 변경(2)</span></a>\n",
    "\n",
    "\n",
    "2. <a class=\"jcecodle-mk jcecodle-mk__problem-chip\" data-problem-id=\"2xZ3Fs7FMtg\" href='#jce-judge/open/2xZ3Fs7FMtg' target='_self'><span>판다스 - 데이터 값 변경 - 여러가지 값 (1)</span></a>\n",
    "\n",
    "1. <a class=\"jcecodle-mk jcecodle-mk__problem-chip\" data-problem-id=\"uMudTUOpafQ\" href='#jce-judge/open/uMudTUOpafQ' target='_self'><span>아이돌 멤버수 수정</span></a>\n",
    "\n",
    "\n",
    "\n",
    "2. <a class=\"jcecodle-mk jcecodle-mk__problem-chip\" data-problem-id=\"3Be5uuDlrEI\" href='#jce-judge/open/3Be5uuDlrEI' target='_self'><span>가족 직업 변경 (2)</span></a>\n",
    "\n",
    "\n",
    "3. <a class=\"jcecodle-mk jcecodle-mk__problem-chip\" data-problem-id=\"E3Vp2wXS6Hw\" href='#jce-judge/open/E3Vp2wXS6Hw' target='_self'><span>판다스 - 데이터 값 변경 - 여러가지 값 (2)</span></a>\n",
    "\n",
    "\n",
    "2. <a class=\"jcecodle-mk jcecodle-mk__problem-chip\" data-problem-id=\"mL-2BXbypoE\" href='#jce-judge/open/mL-2BXbypoE' target='_self'><span>판다스 - 데이터 값 변경 - 여러가지 값(3)</span></a>\n",
    "\n",
    "1. <a class=\"jcecodle-mk jcecodle-mk__problem-chip\" data-problem-id=\"LBop0grjxDs\" href='#jce-judge/open/LBop0grjxDs' target='_self'><span>타이틀로 업데이트</span></a>\n",
    "\n"
   ]
  },
  {
   "cell_type": "markdown",
   "id": "82f815f8",
   "metadata": {
    "tags": []
   },
   "source": [
    "# **[7-3] 데이터프레임(DataFrame)에 행과 열 추가하기**"
   ]
  },
  {
   "cell_type": "markdown",
   "id": "bbeb41bb",
   "metadata": {
    "tags": []
   },
   "source": [
    "## **🎯 학습 목표**\n",
    "**데이터프레임(DataFrame)에 행과 열을 추가해봅시다.**"
   ]
  },
  {
   "cell_type": "markdown",
   "id": "6adea19f",
   "metadata": {},
   "source": [
    "---"
   ]
  },
  {
   "cell_type": "markdown",
   "id": "cdbb972c-e200-44d0-abb3-f75449f47567",
   "metadata": {
    "jp-MarkdownHeadingCollapsed": true,
    "tags": []
   },
   "source": [
    "데이터를 다루다 보면 새로운 데이터가 필요해 추가해야 하는 경우가 생깁니다.   \n",
    "행이나 열을 기준으로 데이터를 추가하는 방법을 배워봅시다. "
   ]
  },
  {
   "cell_type": "markdown",
   "id": "d5a2041b-568c-4bd1-93b4-659c2c0e0829",
   "metadata": {
    "tags": []
   },
   "source": [
    "## 데이터프레임에 열 추가하기\n",
    "\n",
    "데이터프레임에 열을 추가하기 위해서는 추가하고 싶은 이름의 열을 인덱싱하고 그 열에 같은 사이즈의 데이터를 넣어주면 됩니다.  \n",
    "이렇게 하면 가장 마지막 순서에 지정한 열이 추가됩니다.\n",
    "\n",
    "`DataFrame['추가하고싶은_열이름'] = 리스트_또는_시리즈`\n",
    "\n",
    "> **⚠️ 주의(WARNING):**\n",
    ">\n",
    "> 추가하고싶은 열이름이 이미 존재하면 기존에 존재하는 열에 덮어쓰기 됩니다.\n",
    "\n",
    "> **⚠️ 주의(WARNING):**\n",
    ">\n",
    "> 데이터프레임에 열을 추가하면 원본 데이터가 수정됩니다.\n",
    "\n",
    "> **⛔️ 오류(ERROR):**\n",
    ">\n",
    "> 추가하고 싶은 리스트, 시리즈의 길이와 데이터프레임의 행의 수가 다르면 오류가 발생합니다.\n",
    "\n",
    "<table>\n",
    "<tr>\n",
    "    <th><img src=\"https://tmn-bucket-materials-all.s3.ap-northeast-2.amazonaws.com/image/pandas/material_07_10.gif\" width=\"750\"></th>\n",
    "</tr>\n",
    "<tr>\n",
    "    <th>데이터프레임에 새로운 열 추가하기</th>\n",
    "</tr>\n",
    "</table>\n",
    "  \n",
    "마찬가지로 브로드캐스팅을 적용할 수 있습니다.\n",
    "\n",
    "<table>\n",
    "<tr>\n",
    "    <th><img src=\"https://tmn-bucket-materials-all.s3.ap-northeast-2.amazonaws.com/image/pandas/material_07_11.gif\" width=\"750\"></th>\n",
    "</tr>\n",
    "<tr>\n",
    "    <th>브로드캐스팅 이용해 데이터프레임에 새로운 열 추가하기</th>\n",
    "</tr>\n",
    "</table>\n",
    "\n",
    "시리즈를 사용해 데이터프레임에 열을 추가하면 행 인덱스와 동일한 인덱스를 가진 데이터만 데이터프레임에 추가된다.\n",
    "\n",
    "<table>\n",
    "<tr>\n",
    "    <th><img src=\"https://tmn-bucket-materials-all.s3.ap-northeast-2.amazonaws.com/image/pandas/material_07_12.gif\" width=\"750\"></th>\n",
    "</tr>\n",
    "<tr>\n",
    "    <th>인덱스가 다른 시리즈를 이용해 데이터프레임에 새로운 열 추가하기</th>\n",
    "</tr>\n",
    "</table>"
   ]
  },
  {
   "cell_type": "code",
   "execution_count": null,
   "id": "f9873ea7-53f3-49f8-90a2-5198ed8fc7f5",
   "metadata": {
    "tags": []
   },
   "outputs": [],
   "source": [
    "# 예제_1_데이터프레임의_새로운_열_추가하기\n",
    "\n",
    "import pandas as pd\n",
    "import random\n",
    "\n",
    "score = pd.read_csv('https://tmn-bucket-materials-all.s3.ap-northeast-2.amazonaws.com/data/midterm_exam_result.csv')\n",
    "score.index = score['이름']\n",
    "score = score.iloc[:,1:]\n",
    "new_score = [random.randint(0,100) for i in range(30)]\n",
    "\n",
    "print('#'*30, f\"{'score':^15s}\" , '#' * 30, '\\n') # 출력되는 결과들을 분리해서 보여주기 위한 코드입니다.\n",
    "print(score)\n",
    "print('#'*30, f\"{'new_score':^15s}\" , '#' * 30, '\\n') # 출력되는 결과들을 분리해서 보여주기 위한 코드입니다.\n",
    "print(new_score)\n",
    "print('\\n','#'*30, \"{:^15s}\".format('score[\"사회\"] = new_score') , '#' * 30, '\\n') # 출력되는 결과들을 분리해서 보여주기 위한 코드입니다.\n",
    "score[\"사회\"] = new_score\n",
    "print(score)"
   ]
  },
  {
   "cell_type": "code",
   "execution_count": null,
   "id": "b0ce4287-e6d9-489d-9ceb-5b772be1d7a7",
   "metadata": {},
   "outputs": [],
   "source": [
    "# 예제_2_새로운_열을_브로드캐스팅을_이용해_추가하기\n",
    "\n",
    "import pandas as pd\n",
    "import random\n",
    "\n",
    "score = pd.read_csv('https://tmn-bucket-materials-all.s3.ap-northeast-2.amazonaws.com/data/midterm_exam_result.csv')\n",
    "score.index = score['이름']\n",
    "score = score.iloc[:,1:]\n",
    "new_score = pd.Series([10,20,30,40,50])\n",
    "\n",
    "print('#'*30, f\"{'score':^15s}\" , '#' * 30, '\\n') # 출력되는 결과들을 분리해서 보여주기 위한 코드입니다.\n",
    "print(score)\n",
    "print('#'*30, f\"{'new_score':^15s}\" , '#' * 30, '\\n') # 출력되는 결과들을 분리해서 보여주기 위한 코드입니다.\n",
    "print(new_score)\n",
    "print('\\n','#'*30, \"{:^15s}\".format('score[\"사회\"] = 75') , '#' * 30, '\\n') # 출력되는 결과들을 분리해서 보여주기 위한 코드입니다.\n",
    "score[\"사회\"] = 75\n",
    "print(score)"
   ]
  },
  {
   "cell_type": "code",
   "execution_count": null,
   "id": "e266a701-08ab-44cc-b37e-389a728b4aa7",
   "metadata": {
    "tags": []
   },
   "outputs": [],
   "source": [
    "# 예제_3_새로운_열을_인덱스가_다른_시리즈를_이용해_추가하기\n",
    "\n",
    "import pandas as pd\n",
    "import random\n",
    "\n",
    "score = pd.read_csv('https://tmn-bucket-materials-all.s3.ap-northeast-2.amazonaws.com/data/midterm_exam_result.csv')\n",
    "score.index = score['이름']\n",
    "score = score.iloc[:,1:]\n",
    "new_score = pd.Series([random.randint(0,100) for i in range(15)], list(score.index)[:15])\n",
    "\n",
    "print('#'*30, f\"{'score':^15s}\" , '#' * 30, '\\n') # 출력되는 결과들을 분리해서 보여주기 위한 코드입니다.\n",
    "print(score)\n",
    "print('#'*30, f\"{'new_score':^15s}\" , '#' * 30, '\\n') # 출력되는 결과들을 분리해서 보여주기 위한 코드입니다.\n",
    "print(new_score)\n",
    "print('\\n','#'*30, \"{:^15s}\".format('score[\"사회\"] = new_score') , '#' * 30, '\\n') # 출력되는 결과들을 분리해서 보여주기 위한 코드입니다.\n",
    "score[\"사회\"] = new_score\n",
    "print(score)"
   ]
  },
  {
   "cell_type": "markdown",
   "id": "5486853c-1a78-4f69-bce5-e93698601c5c",
   "metadata": {
    "tags": []
   },
   "source": [
    "## 데이터프레임에 행 추가하기\n",
    "\n",
    "데이터프레임에 행을 추가하기 위해서는 추가하고 싶은 행을 인덱싱하고 그 행에 같은 사이즈의 데이터를 넣어주면 됩니다.  \n",
    "이렇게 하면 가장 마지막 순서에 지정한 행이 추가됩니다.\n",
    "\n",
    "`DataFrame.loc['추가하고싶은_행_인덱스'] = 리스트_또는_시리즈`\n",
    "\n",
    "> **⚠️ 주의(WARNING):**\n",
    ">\n",
    "> 추가하고싶은 행의 인덱스가 이미 존재하면 기존에 존재하는 행에 덮어쓰기 됩니다.\n",
    "\n",
    "> **⚠️ 주의(WARNING):**\n",
    ">\n",
    "> 데이터프레임에 행을 추가하면 원본 데이터가 수정됩니다.\n",
    "\n",
    "> **⛔️ 오류(ERROR):**\n",
    ">\n",
    "> 추가하고 싶은 리스트, 시리즈의 길이와 데이터프레임의 열의 수가 다르면 오류가 발생합니다.\n",
    "\n",
    "<table>\n",
    "<tr>\n",
    "    <th><img src=\"https://tmn-bucket-materials-all.s3.ap-northeast-2.amazonaws.com/image/pandas/material_07_13.gif\" width=\"750\"></th>\n",
    "</tr>\n",
    "<tr>\n",
    "    <th>데이터프레임에 새로운 행 추가하기</th>\n",
    "</tr>\n",
    "</table>\n",
    "  \n",
    "마찬가지로 브로드캐스팅을 적용할 수 있습니다.\n",
    "\n",
    "<table>\n",
    "<tr>\n",
    "    <th><img src=\"https://tmn-bucket-materials-all.s3.ap-northeast-2.amazonaws.com/image/pandas/material_07_14.gif\" width=\"750\"></th>\n",
    "</tr>\n",
    "<tr>\n",
    "    <th>브로드캐스팅 이용해 데이터프레임에 새로운 행 추가하기</th>\n",
    "</tr>\n",
    "</table>\n",
    "  \n",
    "\n",
    "시리즈를 사용해 데이터프레임에 행을 추가하면 열이름과 동일한 인덱스를 가진 데이터만 데이터프레임에 추가된다.\n",
    "\n",
    "<table>\n",
    "<tr>\n",
    "    <th><img src=\"https://tmn-bucket-materials-all.s3.ap-northeast-2.amazonaws.com/image/pandas/material_07_15.gif\" width=\"750\"></th>\n",
    "</tr>\n",
    "<tr>\n",
    "    <th>인덱스가 다른 시리즈를 이용해 데이터프레임에 새로운 행 추가하기</th>\n",
    "</tr>\n",
    "</table>\n",
    "  "
   ]
  },
  {
   "cell_type": "code",
   "execution_count": null,
   "id": "ec133bc3-a920-450d-b27a-9ac6d43cad64",
   "metadata": {
    "tags": []
   },
   "outputs": [],
   "source": [
    "# 예제_4_데이터프레임에_새로운_행_추가하기\n",
    "\n",
    "import pandas as pd\n",
    "import random\n",
    "\n",
    "score = pd.read_csv('https://tmn-bucket-materials-all.s3.ap-northeast-2.amazonaws.com/data/midterm_exam_result.csv')\n",
    "score.index = score['이름']\n",
    "score = score.iloc[:,1:]\n",
    "new_score = [100,100,100,100,100]\n",
    "\n",
    "print('#'*30, f\"{'score':^15s}\" , '#' * 30, '\\n') # 출력되는 결과들을 분리해서 보여주기 위한 코드입니다.\n",
    "print(score)\n",
    "print('#'*30, f\"{'new_score':^15s}\" , '#' * 30, '\\n') # 출력되는 결과들을 분리해서 보여주기 위한 코드입니다.\n",
    "print(new_score)\n",
    "print('\\n','#'*30, \"{:^15s}\".format('score.loc[\"최창호\"] = new_score') , '#' * 30, '\\n') # 출력되는 결과들을 분리해서 보여주기 위한 코드입니다.\n",
    "score.loc[\"최창호\"] = new_score\n",
    "print(score)"
   ]
  },
  {
   "cell_type": "code",
   "execution_count": null,
   "id": "093a22ae-e9a3-45be-a271-c920ad27aab2",
   "metadata": {
    "tags": []
   },
   "outputs": [],
   "source": [
    "# 예제_5_데이터프레임에_새로운_행을_브로드캐스팅을_이용해_추가하기\n",
    "\n",
    "import pandas as pd\n",
    "import random\n",
    "\n",
    "score = pd.read_csv('https://tmn-bucket-materials-all.s3.ap-northeast-2.amazonaws.com/data/midterm_exam_result.csv')\n",
    "score.index = score['이름']\n",
    "score = score.iloc[:,1:]\n",
    "\n",
    "print('#'*30, f\"{'score':^15s}\" , '#' * 30, '\\n') # 출력되는 결과들을 분리해서 보여주기 위한 코드입니다.\n",
    "print(score)\n",
    "print('#'*30, f\"{'new_score':^15s}\" , '#' * 30, '\\n') # 출력되는 결과들을 분리해서 보여주기 위한 코드입니다.\n",
    "print(new_score)\n",
    "print('\\n','#'*30, \"{:^15s}\".format('score.loc[\"최창호\"] = 75') , '#' * 30, '\\n') # 출력되는 결과들을 분리해서 보여주기 위한 코드입니다.\n",
    "score.loc[\"최창호\"] = 75\n",
    "print(score)"
   ]
  },
  {
   "cell_type": "code",
   "execution_count": null,
   "id": "83c37e07-e422-49d1-bab7-d2daf7853d98",
   "metadata": {},
   "outputs": [],
   "source": [
    "# 예제_6_데이터프레임에_새로운_행을_열과_인덱스가_다른_시리즈를_이용해_추가하기\n",
    "\n",
    "import pandas as pd\n",
    "import random\n",
    "\n",
    "score = pd.read_csv('https://tmn-bucket-materials-all.s3.ap-northeast-2.amazonaws.com/data/midterm_exam_result.csv')\n",
    "score.index = score['이름']\n",
    "score = score.iloc[:,1:]\n",
    "new_score = pd.Series({'사회':100, '과학':100, '영어':100, '국어':100})\n",
    "\n",
    "print('#'*30, f\"{'score':^15s}\" , '#' * 30, '\\n') # 출력되는 결과들을 분리해서 보여주기 위한 코드입니다.\n",
    "print(score)\n",
    "print('#'*30, f\"{'new_score':^15s}\" , '#' * 30, '\\n') # 출력되는 결과들을 분리해서 보여주기 위한 코드입니다.\n",
    "print(new_score)\n",
    "print('\\n','#'*30, \"{:^15s}\".format('score.loc[\"최창호\"] = new_score') , '#' * 30, '\\n') # 출력되는 결과들을 분리해서 보여주기 위한 코드입니다.\n",
    "score.loc[\"최창호\"] = new_score\n",
    "print(score)"
   ]
  },
  {
   "cell_type": "markdown",
   "id": "649afa8b-3d66-4bf9-83cf-52f142b43024",
   "metadata": {},
   "source": [
    "### **💯 연습문제를 풀어봅시다**\n",
    "\n"
   ]
  },
  {
   "cell_type": "markdown",
   "id": "60d6c105-ce8e-48a6-be07-2b3f9c96bbe2",
   "metadata": {
    "tags": []
   },
   "source": [
    "1. <a class=\"jcecodle-mk jcecodle-mk__problem-chip\" data-problem-id=\"LIBoGXNmeUo\" href='#jce-judge/open/LIBoGXNmeUo' target='_self'><span>판다스 - 데이터 추가 - 열 추가 (2)</span></a>\n",
    "\n",
    "2. <a class=\"jcecodle-mk jcecodle-mk__problem-chip\" data-problem-id=\"vjh20azyC30\" href='#jce-judge/open/vjh20azyC30' target='_self'><span>그룹 추가 (2)</span></a>\n",
    "\n",
    "\n",
    "2. <a class=\"jcecodle-mk jcecodle-mk__problem-chip\" data-problem-id=\"zyaZmyhT5Nk\" href='#jce-judge/open/zyaZmyhT5Nk' target='_self'><span>판다스 - 데이터 추가 - 행 추가</span></a>\n",
    "\n",
    "1. <a class=\"jcecodle-mk jcecodle-mk__problem-chip\" data-problem-id=\"GISIRUm0KbQ\" href='#jce-judge/open/GISIRUm0KbQ' target='_self'><span>친구들 반 정보 추가</span></a>\n",
    "\n",
    "2. <a class=\"jcecodle-mk jcecodle-mk__problem-chip\" data-problem-id=\"qVixOeC6aio\" href='#jce-judge/open/qVixOeC6aio' target='_self'><span>직무스트레스 조사 추가</span></a>\n",
    "\n"
   ]
  },
  {
   "cell_type": "markdown",
   "id": "10deec90",
   "metadata": {
    "tags": []
   },
   "source": [
    "# **[7-4] 데이터프레임(DataFrame)에 행과 열 삭제하기**"
   ]
  },
  {
   "cell_type": "markdown",
   "id": "f3c2919d",
   "metadata": {
    "tags": []
   },
   "source": [
    "## **🎯 학습 목표**\n",
    "**데이터프레임(DataFrame)에 행과 열을 삭제해봅시다.**"
   ]
  },
  {
   "cell_type": "markdown",
   "id": "7ccaf7e7",
   "metadata": {},
   "source": [
    "---"
   ]
  },
  {
   "cell_type": "markdown",
   "id": "2c063e6a-8e4d-4f9d-ab9a-5a43372bc843",
   "metadata": {},
   "source": [
    "`drop()` 함수를 이용하면 특정 열과 행을 지정해서 삭제할 수 있습니다.\n",
    "\n",
    "> **🔨 함수(FUNCTIONS):**\n",
    ">\n",
    "> **`DataFrame.drop(index = 인덱스_또는_리스트, columns = 열이름_또는_리스트)`**  \n",
    "> index 매개변수로 받은 인덱스의 행과 columns 매개변수로 받은 열이름의 열을 삭제합니다.\n",
    ">> **매개변수(parameter)**\n",
    ">>\n",
    ">> **`index`** : 특정 인덱스를 지정하거나 리스트로 여러 인덱스를 지정할 수 있습니다.  \n",
    ">> 지정된 인덱스를 가진 행들을 삭제합니다.  \n",
    ">> **`columns`** : 특정 열을 지정하거나 리스트로 여러 열을 지정할 수 있습니다.  \n",
    ">> 지정된 열들을 삭제합니다.  \n",
    "> ---\n",
    "\n",
    "\n"
   ]
  },
  {
   "cell_type": "markdown",
   "id": "a984f906-b7c4-4515-9a84-cc844056e404",
   "metadata": {
    "tags": []
   },
   "source": [
    "## 데이터프레임의 특정 행과 열 삭제하기\n",
    "\n",
    "`drop()` 함수를 이용하면 데이터프레임의 특정 행, 열을 삭제할 수 있습니다.\n",
    "\n",
    "> **⚠️ 주의(WARNING):**\n",
    ">\n",
    "> 행이나 열을 추가할 때와는 다르게 `drop()` 함수로로 행이나 열을 삭제할 때에는 데이터프레임 원본이 바뀌지 않습니다.  \n",
    "> 따라서 새로운 변수에 수정된 데이터프레임을 할당해주어야 합니다.\n",
    "\n",
    "`drop(index = 인덱스_리스트)` 로 인덱스_리스트에 포함된 인덱스를 가진 행들을 삭제할 수 있습니다.  \n",
    "\n",
    "<table>\n",
    "<tr>\n",
    "    <th><img src=\"https://tmn-bucket-materials-all.s3.ap-northeast-2.amazonaws.com/image/pandas/material_07_16.gif\" width=\"750\"></th>\n",
    "</tr>\n",
    "<tr>\n",
    "    <th>drop() 함수를 이용해 행 삭제하기</th>\n",
    "</tr>\n",
    "</table>\n",
    "  \n",
    "`drop(columns = 열_리스트)` 로 열_리스트에 포함된 열들을 삭제할 수 있습니다.  \n",
    "\n",
    "<table>\n",
    "<tr>\n",
    "    <th><img src=\"https://tmn-bucket-materials-all.s3.ap-northeast-2.amazonaws.com/image/pandas/material_07_17.gif\" width=\"750\"></th>\n",
    "</tr>\n",
    "<tr>\n",
    "    <th>drop() 함수를 이용해 열 삭제하기</th>\n",
    "</tr>\n",
    "</table>\n",
    "\n",
    "`drop(index = 인덱스_리스트, columns = 열_리스트)` 로 인덱스_리스트에 포함된 인덱스를 가진 행과 열_리스트에 포함된 열들을 삭제할 수 있습니다.  \n",
    "\n",
    "<table>\n",
    "<tr>\n",
    "    <th><img src=\"https://tmn-bucket-materials-all.s3.ap-northeast-2.amazonaws.com/image/pandas/material_07_18.gif\" width=\"750\"></th>\n",
    "</tr>\n",
    "<tr>\n",
    "    <th>drop() 함수를 이용해 행과 열 삭제하기</th>\n",
    "</tr>\n",
    "</table>"
   ]
  },
  {
   "cell_type": "code",
   "execution_count": null,
   "id": "9308c690-ed4f-40bf-ae04-e3502593be59",
   "metadata": {
    "tags": []
   },
   "outputs": [],
   "source": [
    "# 예제_1_데이터프레임의_특정_행_삭제하기\n",
    "\n",
    "import pandas as pd\n",
    "import random\n",
    "\n",
    "score = pd.read_csv('https://tmn-bucket-materials-all.s3.ap-northeast-2.amazonaws.com/data/midterm_exam_result.csv')\n",
    "score.index = score['이름']\n",
    "score = score.iloc[:,1:]\n",
    "\n",
    "print('#'*30, f\"{'score':^15s}\" , '#' * 30, '\\n') # 출력되는 결과들을 분리해서 보여주기 위한 코드입니다.\n",
    "print(score)\n",
    "print('\\n','#'*30, \"{:^15s}\".format('score.drop([\"이민준\",\"양서윤\"])') , '#' * 30, '\\n') # 출력되는 결과들을 분리해서 보여주기 위한 코드입니다.\n",
    "print(score.drop([\"이민준\",\"양서윤\"]))"
   ]
  },
  {
   "cell_type": "code",
   "execution_count": null,
   "id": "ca3b677f-10e9-462e-bacd-8f0307f856d3",
   "metadata": {
    "tags": []
   },
   "outputs": [],
   "source": [
    "# 예제_2_데이터프레임의_특정_열_삭제하기\n",
    "\n",
    "import pandas as pd\n",
    "import random\n",
    "\n",
    "score = pd.read_csv('https://tmn-bucket-materials-all.s3.ap-northeast-2.amazonaws.com/data/midterm_exam_result.csv')\n",
    "score.index = score['이름']\n",
    "score = score.iloc[:,1:]\n",
    "\n",
    "print('#'*30, f\"{'score':^15s}\" , '#' * 30, '\\n') # 출력되는 결과들을 분리해서 보여주기 위한 코드입니다.\n",
    "print(score)\n",
    "print('\\n','#'*30, \"{:^15s}\".format('score.drop(columns = [\"국어\",\"영어\"])') , '#' * 30, '\\n') # 출력되는 결과들을 분리해서 보여주기 위한 코드입니다.\n",
    "print(score.drop(columns = [\"국어\",\"영어\"]))"
   ]
  },
  {
   "cell_type": "code",
   "execution_count": null,
   "id": "27a0234f-d892-4d31-b0ff-1239d3a3b16d",
   "metadata": {
    "tags": []
   },
   "outputs": [],
   "source": [
    "# 예제_3_데이터프레임의_특정_행과_열_삭제하기\n",
    "\n",
    "import pandas as pd\n",
    "import random\n",
    "\n",
    "score = pd.read_csv('https://tmn-bucket-materials-all.s3.ap-northeast-2.amazonaws.com/data/midterm_exam_result.csv')\n",
    "score.index = score['이름']\n",
    "score = score.iloc[:,1:]\n",
    "\n",
    "print('#'*30, f\"{'score':^15s}\" , '#' * 30, '\\n') # 출력되는 결과들을 분리해서 보여주기 위한 코드입니다.\n",
    "print(score)\n",
    "print('\\n','#'*30, \"{:^15s}\".format('score.drop([\"이민준\",\"양서윤\"], columns = [\"국어\",\"영어\"])') , '#' * 30, '\\n') # 출력되는 결과들을 분리해서 보여주기 위한 코드입니다.\n",
    "print(score.drop(index = [\"이민준\",\"양서윤\"], columns = [\"국어\",\"영어\"]))"
   ]
  },
  {
   "cell_type": "markdown",
   "id": "efeea333-dfee-4fe0-8441-f77d8db1a7ec",
   "metadata": {},
   "source": [
    "### **💯 연습문제를 풀어봅시다**\n",
    "\n"
   ]
  },
  {
   "cell_type": "markdown",
   "id": "f941f9a3-7fb0-4c11-aa1d-4cbcbdde3010",
   "metadata": {
    "tags": []
   },
   "source": [
    "1. <a class=\"jcecodle-mk jcecodle-mk__problem-chip\" data-problem-id=\"N-j0ivbRsm0\" href='#jce-judge/open/N-j0ivbRsm0' target='_self'><span>판다스 - 데이터 삭제 - 열 삭제</span></a>\n",
    "\n",
    "1. \n",
    "<a class=\"jcecodle-mk jcecodle-mk__problem-chip\" data-problem-id=\"kWbt-qyizF4\" href='#jce-judge/open/kWbt-qyizF4' target='_self'><span>판다스 - 데이터 삭제 - 열 삭제(2)</span></a>\n",
    "\n",
    "2. <a class=\"jcecodle-mk jcecodle-mk__problem-chip\" data-problem-id=\"HsbXmwoJ7z0\" href='#jce-judge/open/HsbXmwoJ7z0' target='_self'><span>국영수만 남기기</span></a>\n",
    "\n",
    "2. <a class=\"jcecodle-mk jcecodle-mk__problem-chip\" data-problem-id=\"tte1M-sG8tk\" href='#jce-judge/open/tte1M-sG8tk' target='_self'><span>판다스 - 데이터 삭제 - 행 삭제</span></a>\n",
    "\n",
    "1. <a class=\"jcecodle-mk jcecodle-mk__problem-chip\" data-problem-id=\"QlScCXbbxCk\" href='#jce-judge/open/QlScCXbbxCk' target='_self'><span>기권 학생 삭제</span></a>\n",
    "\n",
    "\n"
   ]
  },
  {
   "cell_type": "markdown",
   "id": "64950936",
   "metadata": {
    "tags": []
   },
   "source": [
    "# **[7-5] 여러 데이터 합치기**"
   ]
  },
  {
   "cell_type": "markdown",
   "id": "30be3e50",
   "metadata": {
    "tags": []
   },
   "source": [
    "## **🎯 학습 목표**\n",
    "**여러 데이터를 합쳐봅시다.**"
   ]
  },
  {
   "cell_type": "markdown",
   "id": "c95b314f",
   "metadata": {},
   "source": [
    "---"
   ]
  },
  {
   "cell_type": "markdown",
   "id": "f802fed5-cbe6-4984-85f8-1efb8df138e9",
   "metadata": {},
   "source": [
    "여러 데이터를 합치거나 기존의 데이터에 연산 결과 등의 새로운 정보를 추가하고 싶을 때가 있습니다.  \n",
    "`concat()` 함수는 Pandas 데이터들을 연결하여 하나의 데이터로 만드는데 사용됩니다.   \n",
    "\n",
    "> **🔨 함수(FUNCTIONS):**\n",
    ">\n",
    "> **`pd.concat(objs = 데이터_리스트, axis = 0_또는_1, ignore_index = True_또는_False)`**  \n",
    "> 매개변수로 받은 리스트에 포함된 데이터프레임, 시리즈들을 합쳐줍니다.\n",
    ">> **매개변수(parameter)**\n",
    ">>\n",
    ">> **`objs`** : 합치고 싶은 시리즈, 데이터프레임들의 리스트입니다.  \n",
    ">> **`axis`** : 0 또는 1이 전달됩니다.   \n",
    ">> 0일 경우 행 방향으로 시리즈, 데이터프레임을 합치고 1일 경우 열 방향으로 시리즈, 데이터프레임을 합칩니다.   \n",
    ">> 기본 값은 0으로 행 방향으로 합칩니다.  \n",
    ">> **`ignore_index`** : True 또는 False값이 전달됩니다.  \n",
    ">> True일때는 열방향으로 합하면 열이름을, 행방향으로 합하면 행 인덱스를 초기화합니다.  \n",
    ">> 기본 값 은 False로 행 인덱스나 열이름을 초기화 하지 않습니다.  \n",
    "> ---\n",
    "\n",
    "\n"
   ]
  },
  {
   "cell_type": "markdown",
   "id": "d0a70460-3cf3-497b-8020-896bc76b4376",
   "metadata": {
    "tags": []
   },
   "source": [
    "## 행 방향으로 시리즈, 데이터프레임 합치기\n",
    "\n",
    "`concat(axis = 0)` 함수를 이용하면 시리즈, 데이터프레임을 행 방향으로 합칠 수 있습니다.\n",
    "\n",
    "> **⚠️ 주의(WARNING):**\n",
    ">\n",
    "> 시리즈, 데이터프레임을 행 방향으로 합칠 때는 모든 데이터들의 열들을 포함하도록 각 데이터들을 NaN으로 채우고 데이터를 합칩니다.\n",
    "\n",
    "> **⚠️ 주의(WARNING):**\n",
    ">\n",
    "> 중복된 행 인덱스가 있더라도 하나로 합쳐지지 않습니다.\n",
    "\n",
    "`pd.concat([시리즈, 시리즈], axis = 0)` 으로 시리즈들을 행 방향으로 합칠 수 있습니다.  \n",
    "\n",
    "<table>\n",
    "<tr>\n",
    "    <th><img src=\"https://tmn-bucket-materials-all.s3.ap-northeast-2.amazonaws.com/image/pandas/material_07_19.gif\" width=\"750\"></th>\n",
    "</tr>\n",
    "<tr>\n",
    "    <th>concat() 함수로 행방향으로 시리즈 합치기</th>\n",
    "</tr>\n",
    "</table> \n",
    "\n",
    "`pd.concat([데이터프레임, 데이터프레임], axis = 0)` 으로 데이터프레임들을 행 방향으로 합칠 수 있습니다.  \n",
    "\n",
    "<table>\n",
    "<tr>\n",
    "    <th><img src=\"https://tmn-bucket-materials-all.s3.ap-northeast-2.amazonaws.com/image/pandas/material_07_20.gif\" width=\"750\"></th>\n",
    "</tr>\n",
    "<tr>\n",
    "    <th>concat() 함수로 행방향으로 데이터프레임 합치기</th>\n",
    "</tr>\n",
    "</table>\n",
    "\n",
    "`pd.concat([데이터프레임, 데이터프레임], axis = 0, ignore_index = True)` 으로 행 인덱스들을 초기화 할 수 있습니다.  \n",
    "\n",
    "<table>\n",
    "<tr>\n",
    "    <th><img src=\"https://tmn-bucket-materials-all.s3.ap-northeast-2.amazonaws.com/image/pandas/material_07_21.gif\" width=\"750\"></th>\n",
    "</tr>\n",
    "<tr>\n",
    "    <th>concat() 함수로 행방향으로 데이터프레임 합치고 인덱스 초기화 하기</th>\n",
    "</tr>\n",
    "</table>\n",
    " "
   ]
  },
  {
   "cell_type": "code",
   "execution_count": null,
   "id": "0cc85def-34ce-4f34-8aef-a8350f8898f7",
   "metadata": {
    "tags": []
   },
   "outputs": [],
   "source": [
    "# 예제_1_시리즈와_시리즈_행_방향으로_합치기\n",
    "\n",
    "import pandas as pd\n",
    "import random\n",
    "\n",
    "A = pd.Series([1,2,3])\n",
    "B = pd.Series([4,5,6])\n",
    "\n",
    "print('#'*30, f\"{'A':^15s}\" , '#' * 30, '\\n') # 출력되는 결과들을 분리해서 보여주기 위한 코드입니다.\n",
    "print(A)\n",
    "print('#'*30, f\"{'B':^15s}\" , '#' * 30, '\\n') # 출력되는 결과들을 분리해서 보여주기 위한 코드입니다.\n",
    "print(B)\n",
    "print('\\n','#'*30, \"{:^15s}\".format('pd.concat([A,B])') , '#' * 30, '\\n') # 출력되는 결과들을 분리해서 보여주기 위한 코드입니다.\n",
    "print(pd.concat([A,B]))"
   ]
  },
  {
   "cell_type": "code",
   "execution_count": null,
   "id": "c1df24dc-8f48-47f7-9685-ea19e773c114",
   "metadata": {
    "tags": []
   },
   "outputs": [],
   "source": [
    "# 예제_2_시리즈와_데이터프레임_행_방향으로_합치기\n",
    "\n",
    "import pandas as pd\n",
    "import random\n",
    "\n",
    "A = pd.Series([1,2,3])\n",
    "B = pd.DataFrame([[4,5],[6,7],[8,9]])\n",
    "\n",
    "print('#'*30, f\"{'A':^15s}\" , '#' * 30, '\\n') # 출력되는 결과들을 분리해서 보여주기 위한 코드입니다.\n",
    "print(A)\n",
    "print('#'*30, f\"{'B':^15s}\" , '#' * 30, '\\n') # 출력되는 결과들을 분리해서 보여주기 위한 코드입니다.\n",
    "print(B)\n",
    "print('\\n','#'*30, \"{:^15s}\".format('pd.concat([A,B])') , '#' * 30, '\\n') # 출력되는 결과들을 분리해서 보여주기 위한 코드입니다.\n",
    "print(pd.concat([A,B]))"
   ]
  },
  {
   "cell_type": "code",
   "execution_count": null,
   "id": "875cde8a-c1df-48d2-b212-b9a02a722cb7",
   "metadata": {
    "tags": []
   },
   "outputs": [],
   "source": [
    "# 예제_3_데이터프레임과_데이터프레임_행_방향으로_합치기\n",
    "\n",
    "import pandas as pd\n",
    "import random\n",
    "\n",
    "A = pd.DataFrame([[1,2],[3,4],[5,6]])\n",
    "B = pd.DataFrame([[7,8,9],[10,11,12]])\n",
    "\n",
    "print('#'*30, f\"{'A':^15s}\" , '#' * 30, '\\n') # 출력되는 결과들을 분리해서 보여주기 위한 코드입니다.\n",
    "print(A)\n",
    "print('#'*30, f\"{'B':^15s}\" , '#' * 30, '\\n') # 출력되는 결과들을 분리해서 보여주기 위한 코드입니다.\n",
    "print(B)\n",
    "print('\\n','#'*30, \"{:^15s}\".format('pd.concat([A,B])') , '#' * 30, '\\n') # 출력되는 결과들을 분리해서 보여주기 위한 코드입니다.\n",
    "print(pd.concat([A,B]))"
   ]
  },
  {
   "cell_type": "code",
   "execution_count": null,
   "id": "ca7ce02a-2358-4b35-ba3d-8746a8d6cb06",
   "metadata": {
    "tags": []
   },
   "outputs": [],
   "source": [
    "# 예제_4_데이터프레임과_데이터프레임_행_방향으로_합치고_인덱스_초기화\n",
    "\n",
    "import pandas as pd\n",
    "import random\n",
    "\n",
    "A = pd.DataFrame([[1,2],[3,4],[5,6]])\n",
    "B = pd.DataFrame([[7,8,9],[10,11,12]])\n",
    "\n",
    "print('#'*30, f\"{'A':^15s}\" , '#' * 30, '\\n') # 출력되는 결과들을 분리해서 보여주기 위한 코드입니다.\n",
    "print(A)\n",
    "print('#'*30, f\"{'B':^15s}\" , '#' * 30, '\\n') # 출력되는 결과들을 분리해서 보여주기 위한 코드입니다.\n",
    "print(B)\n",
    "print('\\n','#'*30, \"{:^15s}\".format('pd.concat([A,B], ignore_index = True)') , '#' * 30, '\\n') # 출력되는 결과들을 분리해서 보여주기 위한 코드입니다.\n",
    "print(pd.concat([A,B], ignore_index = True))"
   ]
  },
  {
   "cell_type": "markdown",
   "id": "3726d541-0670-4e46-a489-235630ce1fcc",
   "metadata": {
    "tags": []
   },
   "source": [
    "## 열 방향으로 시리즈, 데이터프레임 합치기\n",
    "\n",
    "`concat(axis = 1)` 함수를 이용하면 시리즈, 데이터프레임을 열 방향으로 합칠 수 있습니다.\n",
    "\n",
    "> **⚠️ 주의(WARNING):**\n",
    ">\n",
    "> 시리즈, 데이터프레임을 열 방향으로 합칠 때는 모든 데이터들의 행들을 포함하도록 각 데이터들을 NaN으로 채우고 데이터를 합칩니다. \n",
    "\n",
    "> **⚠️ 주의(WARNING):**\n",
    ">\n",
    "> 중복된 열이 있더라도 하나로 합쳐지지 않습니다.\n",
    "\n",
    "`pd.concat([시리즈, 시리즈], axis = 1)` 으로 시리즈들을 열 방향으로 합칠 수 있습니다.  \n",
    "\n",
    "<table>\n",
    "<tr>\n",
    "    <th><img src=\"https://tmn-bucket-materials-all.s3.ap-northeast-2.amazonaws.com/image/pandas/material_07_22.gif\" width=\"750\"></th>\n",
    "</tr>\n",
    "<tr>\n",
    "    <th>concat() 함수로 열방향으로 시리즈 합치기</th>\n",
    "</tr>\n",
    "</table>\n",
    "\n",
    "`pd.concat([데이터프레임, 데이터프레임], axis = 1)` 으로 데이터프레임들을 열 방향으로 합칠 수 있습니다.  \n",
    "\n",
    "<table>\n",
    "<tr>\n",
    "    <th><img src=\"https://tmn-bucket-materials-all.s3.ap-northeast-2.amazonaws.com/image/pandas/material_07_23.gif\" width=\"750\"></th>\n",
    "</tr>\n",
    "<tr>\n",
    "    <th>concat() 함수로 열방향으로 데이터프레임 합치기</th>\n",
    "</tr>\n",
    "</table>\n",
    "\n",
    "`pd.concat([데이터프레임, 데이터프레임], axis = 1, ignore_index = True)` 으로 데이터프레임들을 열이름을 초기화 할 수 있습니다..  \n",
    "\n",
    "<table>\n",
    "<tr>\n",
    "    <th><img src=\"https://tmn-bucket-materials-all.s3.ap-northeast-2.amazonaws.com/image/pandas/material_07_24.gif\" width=\"750\"></th>\n",
    "</tr>\n",
    "<tr>\n",
    "    <th>concat() 함수로 열방향으로 데이터프레임 합치고 열이름 초기화 하기</th>\n",
    "</tr>\n",
    "</table>"
   ]
  },
  {
   "cell_type": "code",
   "execution_count": null,
   "id": "d0a0f97d-3e6e-48d2-ab93-04f5e00d7246",
   "metadata": {
    "tags": []
   },
   "outputs": [],
   "source": [
    "# 예제_5_시리즈와_시리즈_열_방향으로_합치기\n",
    "\n",
    "import pandas as pd\n",
    "import random\n",
    "\n",
    "A = pd.Series([1,2,3])\n",
    "B = pd.Series([4,5,6])\n",
    "\n",
    "print('#'*30, f\"{'A':^15s}\" , '#' * 30, '\\n') # 출력되는 결과들을 분리해서 보여주기 위한 코드입니다.\n",
    "print(A)\n",
    "print('#'*30, f\"{'B':^15s}\" , '#' * 30, '\\n') # 출력되는 결과들을 분리해서 보여주기 위한 코드입니다.\n",
    "print(B)\n",
    "print('\\n','#'*30, \"{:^15s}\".format('pd.concat([A,B], axis = 1)') , '#' * 30, '\\n') # 출력되는 결과들을 분리해서 보여주기 위한 코드입니다.\n",
    "print(pd.concat([A,B], axis = 1))"
   ]
  },
  {
   "cell_type": "code",
   "execution_count": null,
   "id": "73a9812e-9800-41df-9a3b-ca168053bc37",
   "metadata": {
    "tags": []
   },
   "outputs": [],
   "source": [
    "# 예제_6_시리즈와_데이터프레임_열_방향으로_합치기\n",
    "\n",
    "import pandas as pd\n",
    "import random\n",
    "\n",
    "A = pd.Series([1,2,3])\n",
    "B = pd.DataFrame([[4,5],[6,7],[8,9]])\n",
    "\n",
    "print('#'*30, f\"{'A':^15s}\" , '#' * 30, '\\n') # 출력되는 결과들을 분리해서 보여주기 위한 코드입니다.\n",
    "print(A)\n",
    "print('#'*30, f\"{'B':^15s}\" , '#' * 30, '\\n') # 출력되는 결과들을 분리해서 보여주기 위한 코드입니다.\n",
    "print(B)\n",
    "print('\\n','#'*30, \"{:^15s}\".format('pd.concat([A,B], axis = 1)') , '#' * 30, '\\n') # 출력되는 결과들을 분리해서 보여주기 위한 코드입니다.\n",
    "print(pd.concat([A,B], axis = 1))"
   ]
  },
  {
   "cell_type": "code",
   "execution_count": null,
   "id": "d824d3f0-3567-47c4-9c01-c25538490ca0",
   "metadata": {
    "tags": []
   },
   "outputs": [],
   "source": [
    "# 예제_7_데이터프레임과_데이터프레임_열_방향으로_합치기\n",
    "\n",
    "import pandas as pd\n",
    "import random\n",
    "\n",
    "A = pd.DataFrame([[1,2],[3,4],[5,6]])\n",
    "B = pd.DataFrame([[7,8,9],[10,11,12]])\n",
    "\n",
    "print('#'*30, f\"{'A':^15s}\" , '#' * 30, '\\n') # 출력되는 결과들을 분리해서 보여주기 위한 코드입니다.\n",
    "print(A)\n",
    "print('#'*30, f\"{'B':^15s}\" , '#' * 30, '\\n') # 출력되는 결과들을 분리해서 보여주기 위한 코드입니다.\n",
    "print(B)\n",
    "print('\\n','#'*30, \"{:^15s}\".format('pd.concat([A,B], axis = 1)') , '#' * 30, '\\n') # 출력되는 결과들을 분리해서 보여주기 위한 코드입니다.\n",
    "print(pd.concat([A,B], axis = 1))"
   ]
  },
  {
   "cell_type": "code",
   "execution_count": null,
   "id": "62121fd2-c3b9-41fd-9232-485403eee7b6",
   "metadata": {
    "tags": []
   },
   "outputs": [],
   "source": [
    "# 예제_8_데이터프레임과_데이터프레임_열_방향으로_합치고_인덱스_초기화\n",
    "\n",
    "import pandas as pd\n",
    "import random\n",
    "\n",
    "A = pd.DataFrame([[1,2],[3,4],[5,6]])\n",
    "B = pd.DataFrame([[7,8,9],[10,11,12]])\n",
    "\n",
    "print('#'*30, f\"{'A':^15s}\" , '#' * 30, '\\n') # 출력되는 결과들을 분리해서 보여주기 위한 코드입니다.\n",
    "print(A)\n",
    "print('#'*30, f\"{'B':^15s}\" , '#' * 30, '\\n') # 출력되는 결과들을 분리해서 보여주기 위한 코드입니다.\n",
    "print(B)\n",
    "print('\\n','#'*30, \"{:^15s}\".format('pd.concat([A,B], axis = 1, ignore_index = True)') , '#' * 30, '\\n') # 출력되는 결과들을 분리해서 보여주기 위한 코드입니다.\n",
    "print(pd.concat([A,B], axis = 1, ignore_index = True))"
   ]
  },
  {
   "cell_type": "markdown",
   "id": "35fee16e-0e8b-4a0d-a3e7-fb1d038fec28",
   "metadata": {},
   "source": [
    "### **💯 연습문제를 풀어봅시다**\n",
    "\n"
   ]
  },
  {
   "cell_type": "markdown",
   "id": "626e55e9-3102-4be7-a23f-12562ed8d3b9",
   "metadata": {
    "tags": []
   },
   "source": [
    "1. <a class=\"jcecodle-mk jcecodle-mk__problem-chip\" data-problem-id=\"iJ3G7ROpeQg\" href='#jce-judge/open/iJ3G7ROpeQg' target='_self'><span>판다스 - 데이터 합치기 - 열 방향 (1)</span></a>\n",
    "\n",
    "1. <a class=\"jcecodle-mk jcecodle-mk__problem-chip\" data-problem-id=\"xgSM9U6IvM0\" href='#jce-judge/open/xgSM9U6IvM0' target='_self'><span>판다스 - 데이터 합치기 - 열 방향 (3)</span></a>\n",
    "\n",
    "2. <a class=\"jcecodle-mk jcecodle-mk__problem-chip\" data-problem-id=\"z_sxdOdbBF4\" href='#jce-judge/open/z_sxdOdbBF4' target='_self'><span>친구들 정보 합치기</span></a>\n",
    "\n",
    "3. <a class=\"jcecodle-mk jcecodle-mk__problem-chip\" data-problem-id=\"d0ns4EaJcwY\" href='#jce-judge/open/d0ns4EaJcwY' target='_self'><span>날씨 정보 합치기</span></a>\n",
    "\n",
    "\n",
    "\n",
    "2. <a class=\"jcecodle-mk jcecodle-mk__problem-chip\" data-problem-id=\"B8nXG7yv_7g\" href='#jce-judge/open/B8nXG7yv_7g' target='_self'><span>판다스 - 데이터 합치기 - 열 방향 (2)</span></a>\n",
    "\n",
    "1. <a class=\"jcecodle-mk jcecodle-mk__problem-chip\" data-problem-id=\"5GM48rolCBA\" href='#jce-judge/open/5GM48rolCBA' target='_self'><span>설문조사 결과 합치기</span></a>\n",
    "\n",
    "2. <a class=\"jcecodle-mk jcecodle-mk__problem-chip\" data-problem-id=\"IZ1qk4DGlL4\" href='#jce-judge/open/IZ1qk4DGlL4' target='_self'><span>국영수, 한국사 합치기</span></a>\n",
    "\n",
    "3. <a class=\"jcecodle-mk jcecodle-mk__problem-chip\" data-problem-id=\"VvK4p--Xuow\" href='#jce-judge/open/VvK4p--Xuow' target='_self'><span>판다스 - 데이터 합치기 - 열 방향 (4)</span></a>\n",
    "\n",
    "\n",
    "\n",
    "3. <a class=\"jcecodle-mk jcecodle-mk__problem-chip\" data-problem-id=\"jscCW3ar_No\" href='#jce-judge/open/jscCW3ar_No' target='_self'><span>판다스 - 데이터 합치기 - 행 방향 (1)</span></a>\n",
    "\n",
    "1. <a class=\"jcecodle-mk jcecodle-mk__problem-chip\" data-problem-id=\"Nv1KNnuFb0E\" href='#jce-judge/open/Nv1KNnuFb0E' target='_self'><span>판다스 - 데이터 합치기 - 행 방향 (3)</span></a>\n",
    "\n",
    "2. <a class=\"jcecodle-mk jcecodle-mk__problem-chip\" data-problem-id=\"7qcV3dTA_k8\" href='#jce-judge/open/7qcV3dTA_k8' target='_self'><span>강수 예측</span></a>\n",
    "\n",
    "3. <a class=\"jcecodle-mk jcecodle-mk__problem-chip\" data-problem-id=\"eayeQepVMBc\" href='#jce-judge/open/eayeQepVMBc' target='_self'><span>행열 바꾸기</span></a>\n",
    "\n",
    "\n",
    "\n",
    "4. <a class=\"jcecodle-mk jcecodle-mk__problem-chip\" data-problem-id=\"s9hpAThbHks\" href='#jce-judge/open/s9hpAThbHks' target='_self'><span>판다스 - 데이터 합치기 - 행 방향 (2)</span></a>\n",
    "\n",
    "\n",
    "1. <a class=\"jcecodle-mk jcecodle-mk__problem-chip\" data-problem-id=\"xJM81yYpu5Y\" href='#jce-judge/open/xJM81yYpu5Y' target='_self'><span>판다스 - 데이터 합치기 - 행 방향 (4)</span></a>\n",
    "\n",
    "2. <a class=\"jcecodle-mk jcecodle-mk__problem-chip\" data-problem-id=\"FH9W86cuDrQ\" href='#jce-judge/open/FH9W86cuDrQ' target='_self'><span>인덱스 순서대로</span></a>\n",
    "\n",
    "3. <a class=\"jcecodle-mk jcecodle-mk__problem-chip\" data-problem-id=\"2WF9lV43UKs\" href='#jce-judge/open/2WF9lV43UKs' target='_self'><span>득표수 데이터 합치기</span></a>\n",
    "\n",
    "\n",
    "\n"
   ]
  },
  {
   "cell_type": "markdown",
   "id": "67cb9953",
   "metadata": {
    "tags": []
   },
   "source": [
    "# **[8-1] 결측값 확인하기**"
   ]
  },
  {
   "cell_type": "markdown",
   "id": "c1926425",
   "metadata": {
    "tags": []
   },
   "source": [
    "## **🎯 학습 목표**\n",
    "**Pandas를 사용해 시리즈, 데이터프레임에 존재하는 결측값들을 확인할 수 있습니다.**"
   ]
  },
  {
   "cell_type": "markdown",
   "id": "82ff6268",
   "metadata": {},
   "source": [
    "---"
   ]
  },
  {
   "cell_type": "markdown",
   "id": "f7f394b4-866d-41b8-9f3c-a5ff7d98d6df",
   "metadata": {},
   "source": [
    "데이터를 활용하기 전에는 반드시 결측값이 있는지 확인해야 합니다.  \n",
    "\n",
    "> **✏️ 알아봅시다(NOTE): 결측값이 무엇인가요?**\n",
    ">\n",
    "> 결측값이란 데이터가 누락되어 존재하지 않는 것으로 NaN, None, NA, null, N/A 등으로 표현됩니다.   \n",
    "> 결측값이 있는 데이터는 통계량 확인이나 인공지능 학습에 바로 사용할 수 없습니다.  \n",
    "> 결측값이 확인되면 제거하거나 값을 지정해주어야합니다.  \n",
    "\n",
    "`isna()` 함수를 이용하면 값이 존재하지 않는 경우 True, 값이 있는 경우 False로 표현된 데이터가 반환됩니다.  \n",
    "`any()` 함수와 함께 사용하면 결측값이 존재하는 행, 열을 확인할 수 있습니다.\n",
    "\n",
    "> **🔨 함수(FUNCTIONS):**\n",
    ">\n",
    "> **`Series.isna()`**  \n",
    "> 시리즈의 각 데이터가 결측값인지 확인합니다. \n",
    "> 결측값이면 True, 결측값이 아니면 False를 반환합니다.  \n",
    "> 반환되는 시리즈의 모양은 함수를 사용하는 시리즈와 동일합니다.  \n",
    "> ---\n",
    "> **`DataFrame.isna()`**  \n",
    "> 데이터프레임의 각 데이터가 결측값인지 확인합니다. \n",
    "> 결측값이면 True, 결측값이 아니면 False를 반환합니다.  \n",
    "> 반환되는 데이터프레임의 모양은 함수를 사용하는 데이터프레임와 동일합니다.   \n",
    "> ---\n",
    "> **`DataFrame.any(axis = 0_또는_1)`**  \n",
    "> axis로 방향을 지정하면 해당 방향에 True가 있는지 여부를 판단해서 반환합니다.   \n",
    ">> **매개변수(parameter)**\n",
    ">>\n",
    ">> **`axis`** : 0 또는 1이 전달됩니다.   \n",
    ">> 0이 전달되면 행 방향으로 각 열에 True가 있는지 여부를 판단합니다.  \n",
    ">> 각 열에 True가 하나라도 있으면 True를 반환합니다.  \n",
    ">> 1이 전달되면 열 방향으로 각 행에 True가 있는지 여부를 판단합니다.  \n",
    ">> 각 행에 True가 하나라도 있으면 True를 반환합니다.  \n",
    ">> 기본값은 0입니다.\n",
    "> ---\n",
    "\n",
    "\n"
   ]
  },
  {
   "cell_type": "markdown",
   "id": "bb68bfd0-dd75-45d8-b6fc-420b1a452522",
   "metadata": {
    "tags": []
   },
   "source": [
    "## 결측값 확인하기\n",
    "\n",
    "`isna()` 함수를 이용하면 데이터의 결측값을 확인할 수 있습니다.\n",
    "\n",
    "`Series.isna()`, `DataFrame.isna()`로 시리즈와 데이터프레임의 데이터들의 결측값 여부를 확인할 수 있습니다.  \n",
    "\n",
    "<table>\n",
    "<tr>\n",
    "    <th><img src=\"https://tmn-bucket-materials-all.s3.ap-northeast-2.amazonaws.com/image/pandas/material_08_01.gif\" width=\"450\"></th>\n",
    "    <th><img src=\"https://tmn-bucket-materials-all.s3.ap-northeast-2.amazonaws.com/image/pandas/material_08_02.gif\" width=\"450\"></th>\n",
    "</tr>\n",
    "<tr>\n",
    "    <th>시리즈의 결측값 확인하기</th>\n",
    "    <th>데이터프레임의 결측값 확인하기</th>\n",
    "</tr>\n",
    "</table>\n",
    "\n",
    "`DataFrame.isna().any(axis = 0)` 으로 결측값이 존재하는 열을 확인할 수 있습니다.  \n",
    "\n",
    "<table>\n",
    "<tr>\n",
    "    <th><img src=\"https://tmn-bucket-materials-all.s3.ap-northeast-2.amazonaws.com/image/pandas/material_08_03.gif\" width=\"750\"></th>\n",
    "</tr>\n",
    "<tr>\n",
    "    <th>데이터프레임에서 결측값이 존재하는 열 확인하기</th>\n",
    "</tr>\n",
    "</table>\n",
    "\n",
    "`DataFrame.isna().any(axis = 1)` 으로 결측값이 존재하는 행을 확인할 수 있습니다.  \n",
    "\n",
    "<table>\n",
    "<tr>\n",
    "    <th><img src=\"https://tmn-bucket-materials-all.s3.ap-northeast-2.amazonaws.com/image/pandas/material_08_04.gif\" width=\"750\"></th>\n",
    "</tr>\n",
    "<tr>\n",
    "    <th>데이터프레임에서 결측값이 존재하는 행 확인하기</th>\n",
    "</tr>\n",
    "</table>\n"
   ]
  },
  {
   "cell_type": "code",
   "execution_count": null,
   "id": "56073e44-94cf-45ee-9190-abf9d33ff78f",
   "metadata": {
    "tags": []
   },
   "outputs": [],
   "source": [
    "# 예제_1_isna_함수를_이용한_시리즈의_결측값확인\n",
    "\n",
    "import pandas as pd\n",
    "\n",
    "A = pd.Series([1,2,None,4,5,None])\n",
    "\n",
    "print('#'*30, f\"{'A':^15s}\" , '#' * 30, '\\n') # 출력되는 결과들을 분리해서 보여주기 위한 코드입니다.\n",
    "print(A)\n",
    "print('\\n','#'*30, f\"{'A.isna()':^15s}\" , '#' * 30, '\\n') # 출력되는 결과들을 분리해서 보여주기 위한 코드입니다.\n",
    "print(A.isna())"
   ]
  },
  {
   "cell_type": "code",
   "execution_count": null,
   "id": "3247d246-2af0-41e2-a0a8-0bbef00b2ba4",
   "metadata": {
    "tags": []
   },
   "outputs": [],
   "source": [
    "# 예제_2_isna_함수를_이용한_데이터프레임의_결측값확인\n",
    "\n",
    "import pandas as pd\n",
    "\n",
    "A = pd.DataFrame([[1,2,None,4,5,None],[None,2,3,None,5,6],[1,None,None,None,5,None]])\n",
    "\n",
    "print('#'*30, f\"{'A':^15s}\" , '#' * 30, '\\n') # 출력되는 결과들을 분리해서 보여주기 위한 코드입니다.\n",
    "print(A)\n",
    "print('\\n','#'*30, f\"{'A.isna()':^15s}\" , '#' * 30, '\\n') # 출력되는 결과들을 분리해서 보여주기 위한 코드입니다.\n",
    "print(A.isna())"
   ]
  },
  {
   "cell_type": "code",
   "execution_count": null,
   "id": "8ab8c1df-5d1d-47b5-9e11-cd9ea33964a1",
   "metadata": {
    "tags": []
   },
   "outputs": [],
   "source": [
    "# 예제_3_isna_함수와_any_함수를_이용한_결측값이_포함된_열확인\n",
    "\n",
    "import pandas as pd\n",
    "\n",
    "A = pd.DataFrame([[1,2,None,4,5,None],[None,2,3,None,5,6],[1,None,None,None,5,None]])\n",
    "\n",
    "print('#'*30, f\"{'A':^15s}\" , '#' * 30, '\\n') # 출력되는 결과들을 분리해서 보여주기 위한 코드입니다.\n",
    "print(A)\n",
    "print('\\n','#'*30, f\"{'A.isna().any(axis = 0)':^15s}\" , '#' * 30, '\\n') # 출력되는 결과들을 분리해서 보여주기 위한 코드입니다.\n",
    "print(A.isna().any(axis = 0))"
   ]
  },
  {
   "cell_type": "code",
   "execution_count": null,
   "id": "4b5b1ac9-9fc5-4f28-b72e-03849785a09c",
   "metadata": {
    "tags": []
   },
   "outputs": [],
   "source": [
    "# 예제_4_isna_함수와_any_함수를_이용한_결측값이_포함된_행확인\n",
    "\n",
    "import pandas as pd\n",
    "\n",
    "A = pd.DataFrame([[1,2,None,4,5,None],[None,2,3,None,5,6],[1,None,None,None,5,None]])\n",
    "\n",
    "print('#'*30, f\"{'A':^15s}\" , '#' * 30, '\\n') # 출력되는 결과들을 분리해서 보여주기 위한 코드입니다.\n",
    "print(A)\n",
    "print('\\n','#'*30, f\"{'A.isna().any(axis = 1)':^15s}\" , '#' * 30, '\\n') # 출력되는 결과들을 분리해서 보여주기 위한 코드입니다.\n",
    "print(A.isna().any(axis = 1))"
   ]
  },
  {
   "cell_type": "markdown",
   "id": "84d5ac2c-16f4-4f36-a139-35ac3138aef7",
   "metadata": {},
   "source": [
    "### **💯 연습문제를 풀어봅시다**\n",
    "\n"
   ]
  },
  {
   "cell_type": "markdown",
   "id": "f4cee1a0-1f69-46fc-8650-9ceb7f8ca286",
   "metadata": {
    "tags": []
   },
   "source": [
    "1. <a class=\"jcecodle-mk jcecodle-mk__problem-chip\" data-problem-id=\"Vk5TA4lAoNw\" href='#jce-judge/open/Vk5TA4lAoNw' target='_self'><span>판다스 - 결측값 처리 - 위치 확인하기</span></a>\n",
    "2. <a class=\"jcecodle-mk jcecodle-mk__problem-chip\" data-problem-id=\"vhrZOf4smVM\" href='#jce-judge/open/vhrZOf4smVM' target='_self'><span>판다스 - 결측값 처리 - 결측값 있는 열 확인</span></a>\n",
    "\n",
    "3. <a class=\"jcecodle-mk jcecodle-mk__problem-chip\" data-problem-id=\"TYOgo47wp-8\" href='#jce-judge/open/TYOgo47wp-8' target='_self'><span>판다스 - 결측값 처리 - 결측값 있는 행 확인</span></a>\n",
    "\n",
    "\n"
   ]
  },
  {
   "cell_type": "markdown",
   "id": "b8ba6bdd",
   "metadata": {
    "tags": []
   },
   "source": [
    "# **[8-2] 결측값 제거하기**"
   ]
  },
  {
   "cell_type": "markdown",
   "id": "20661e84",
   "metadata": {
    "tags": []
   },
   "source": [
    "## **🎯 학습 목표**\n",
    "**Pandas를 사용해 시리즈, 데이터프레임에 존재하는 결측값들을 제거할 수 있습니다.**"
   ]
  },
  {
   "cell_type": "markdown",
   "id": "c170cc6c",
   "metadata": {},
   "source": [
    "---"
   ]
  },
  {
   "cell_type": "markdown",
   "id": "d19ab64a",
   "metadata": {},
   "source": [
    "데이터를 사용하기 전에 결측값을 제거해주어야 합니다.  \n",
    "`dropna()` 함수로 결측값을 제거할 수 있습니다.\n",
    "\n",
    "> **🔨 함수(FUNCTIONS):**\n",
    ">\n",
    "> **`Series.dropna()`**  \n",
    "> 결측값이 있는 행을 모두 제거합니다.\n",
    "> ---\n",
    "> **`DataFrame.dropna(subset = 열_리스트)`**  \n",
    "> 결측값이 있는 행들을 모두 제거합니다.   \n",
    ">> **매개변수(parameter)**\n",
    ">>\n",
    ">> **`subset`** : 열이름들이 포함된 리스트가 전달됩니다.   \n",
    ">> 리스트에 포함된 열에 결측값이 있는 행들을 모두 제거합니다.  \n",
    ">> subset에 아무런 값도 지정하지 않으면 결측값이 있는 행을 모두 제거합니다.\n",
    "> ---\n",
    "> **`DataFrame.dropna(thresh = 정수)`**  \n",
    "> 매개변수로 받은 정수개 보다 적게 값이 존재하는 행을 모두 제거합니다.   \n",
    ">> **매개변수(parameter)**\n",
    ">>\n",
    ">> **`thresh`** : 정수로 값을 전달받습니다.  \n",
    ">> thresh 값보다 적게 값이 존재하는 행을 모두 제거합니다.\n",
    "> ---\n",
    "\n"
   ]
  },
  {
   "cell_type": "markdown",
   "id": "a2657247",
   "metadata": {
    "tags": []
   },
   "source": [
    "## 결측값 확인하기\n",
    "\n",
    "`dropna()` 함수를 이용하면 데이터를 제거할 수 있습니다.\n",
    "\n",
    "`Series.dropna()`, `DataFrame.dropna()` 로 시리즈와 데이터프레임에서 결측값이 있는 행을 모두 제거할 수 있습니다.  \n",
    "\n",
    "<table>\n",
    "<tr>\n",
    "    <th><img src=\"https://tmn-bucket-materials-all.s3.ap-northeast-2.amazonaws.com/image/pandas/material_08_05.gif\" width=\"450\"></th>\n",
    "    <th><img src=\"https://tmn-bucket-materials-all.s3.ap-northeast-2.amazonaws.com/image/pandas/material_08_06.gif\" width=\"450\"></th>\n",
    "</tr>\n",
    "<tr>\n",
    "    <th>시리즈의 결측값 제거하기</th>\n",
    "    <th>데이터프레임의 결측값이 있는 행 제거하기</th>\n",
    "</tr>\n",
    "</table>\n",
    "\n",
    "`DataFrame.dropna(subset = [열_리스트])` 로 데이터프레임에서 열_리스트에 포함되는 열에 결측값이 존재하는 행을 모두 제거할 수 있습니다.  \n",
    "\n",
    "<table>\n",
    "<tr>\n",
    "    <th><img src=\"https://tmn-bucket-materials-all.s3.ap-northeast-2.amazonaws.com/image/pandas/material_08_07.gif\" width=\"750\"></th>\n",
    "</tr>\n",
    "<tr>\n",
    "    <th>데이터프레임에서 열_리스트에 포함되는 열에 결측값이 있는 행 제거하기</th>\n",
    "</tr>\n",
    "</table>\n",
    "\n",
    "`DataFrame.dropna(thresh = 정수)` 으로 데이터프레임에서 행에 값이 thresh 값보다 적게 존재하는 행을 모두 제거할 수 있습니다.   \n",
    "\n",
    "<table>\n",
    "<tr>\n",
    "    <th><img src=\"https://tmn-bucket-materials-all.s3.ap-northeast-2.amazonaws.com/image/pandas/material_08_08.gif\" width=\"750\"></th>\n",
    "</tr>\n",
    "<tr>\n",
    "    <th>데이터프레임에서 결측값의 개수가 thresh보다 큰 행 제거하기</th>\n",
    "</tr>\n",
    "</table>"
   ]
  },
  {
   "cell_type": "code",
   "execution_count": null,
   "id": "80987068",
   "metadata": {
    "tags": []
   },
   "outputs": [],
   "source": [
    "# 예제_1_dropna_함수를_이용한_시리즈의_결측값_제거\n",
    "\n",
    "import pandas as pd\n",
    "\n",
    "A = pd.Series([1,2,None,4,5,None])\n",
    "\n",
    "print('#'*30, f\"{'A':^15s}\" , '#' * 30, '\\n') # 출력되는 결과들을 분리해서 보여주기 위한 코드입니다.\n",
    "print(A)\n",
    "print('\\n','#'*30, f\"{'A.dropna()':^15s}\" , '#' * 30, '\\n') # 출력되는 결과들을 분리해서 보여주기 위한 코드입니다.\n",
    "print(A.dropna())"
   ]
  },
  {
   "cell_type": "code",
   "execution_count": null,
   "id": "2208ba34",
   "metadata": {
    "tags": []
   },
   "outputs": [],
   "source": [
    "# 예제_2_dropna_함수를_이용한_데이터프레임의_결측값_제거\n",
    "\n",
    "import pandas as pd\n",
    "\n",
    "A = pd.DataFrame([[1,2,3,4,5,6],[None,2,3,4,5,6],[1,None,None,4,5,6]])\n",
    "\n",
    "print('#'*30, f\"{'A':^15s}\" , '#' * 30, '\\n') # 출력되는 결과들을 분리해서 보여주기 위한 코드입니다.\n",
    "print(A)\n",
    "print('\\n','#'*30, f\"{'A.dropna()':^15s}\" , '#' * 30, '\\n') # 출력되는 결과들을 분리해서 보여주기 위한 코드입니다.\n",
    "print(A.dropna())"
   ]
  },
  {
   "cell_type": "code",
   "execution_count": null,
   "id": "8b12fb0b",
   "metadata": {
    "tags": []
   },
   "outputs": [],
   "source": [
    "# 예제_3_dropna_함수의_subset_속성을_이용한_결측값_선택적_제거\n",
    "\n",
    "import pandas as pd\n",
    "\n",
    "A = pd.DataFrame([[1,2,3,4,5,6],[None,2,3,4,5,6],[1,None,None,4,5,6]])\n",
    "\n",
    "print('#'*30, f\"{'A':^15s}\" , '#' * 30, '\\n') # 출력되는 결과들을 분리해서 보여주기 위한 코드입니다.\n",
    "print(A)\n",
    "print('\\n','#'*30, f\"{'A.dropna(subset = [1,2,3])':^15s}\" , '#' * 30, '\\n') # 출력되는 결과들을 분리해서 보여주기 위한 코드입니다.\n",
    "print(A.dropna(subset = [1,2,3]))"
   ]
  },
  {
   "cell_type": "code",
   "execution_count": null,
   "id": "2ac8ac03",
   "metadata": {
    "tags": []
   },
   "outputs": [],
   "source": [
    "# 예제_4_dropna_함수의_thresh_속성을_이용한_결측값_선택적_제거\n",
    "\n",
    "import pandas as pd\n",
    "\n",
    "A = pd.DataFrame([[1,None,None,None,5,6],[None,2,3,4,5,6],[1,None,None,4,5,6]])\n",
    "\n",
    "print('#'*30, f\"{'A':^15s}\" , '#' * 30, '\\n') # 출력되는 결과들을 분리해서 보여주기 위한 코드입니다.\n",
    "print(A)\n",
    "print('\\n','#'*30, f\"{'A.dropna(thresh=2)':^15s}\" , '#' * 30, '\\n') # 출력되는 결과들을 분리해서 보여주기 위한 코드입니다.\n",
    "print(A.dropna(thresh=2))"
   ]
  },
  {
   "cell_type": "markdown",
   "id": "cc7a35ab",
   "metadata": {},
   "source": [
    "### **💯 연습문제를 풀어봅시다**\n",
    "\n"
   ]
  },
  {
   "cell_type": "markdown",
   "id": "b8ff0e0e",
   "metadata": {
    "tags": []
   },
   "source": [
    "1. <a class=\"jcecodle-mk jcecodle-mk__problem-chip\" data-problem-id=\"3byVGYRn9Iw\" href='#jce-judge/open/3byVGYRn9Iw' target='_self'><span>판다스 - 결측값 처리 - 열 기준 제거</span></a>\n",
    "2. <a class=\"jcecodle-mk jcecodle-mk__problem-chip\" data-problem-id=\"afipiWToT9s\" href='#jce-judge/open/afipiWToT9s' target='_self'><span>판다스 - 결측값 처리 - 개수 기준 제거</span></a>\n",
    "\n",
    "3. <a class=\"jcecodle-mk jcecodle-mk__problem-chip\" data-problem-id=\"YeBPoVzxddU\" href='#jce-judge/open/YeBPoVzxddU' target='_self'><span>판다스 - 결측값 처리 - 시리즈</span></a>\n",
    "\n",
    "4. <a class=\"jcecodle-mk jcecodle-mk__problem-chip\" data-problem-id=\"vXPtJTZLuJ8\" href='#jce-judge/open/vXPtJTZLuJ8' target='_self'><span>판다스 - 결측값 처리 - 데이터 프레임 (1)</span></a>\n",
    "\n",
    "\n",
    "5. <a class=\"jcecodle-mk jcecodle-mk__problem-chip\" data-problem-id=\"DvZNqrnu4Ic\" href='#jce-judge/open/DvZNqrnu4Ic' target='_self'><span>판다스 - 결측값 처리 - 데이터프레임 (2)</span></a>\n",
    "\n",
    "\n",
    "6. <a class=\"jcecodle-mk jcecodle-mk__problem-chip\" data-problem-id=\"debOT0206AE\" href='#jce-judge/open/debOT0206AE' target='_self'><span>판다스 - 결측값 처리 - 데이터 프레임(subset)</span></a>\n",
    "\n",
    "\n",
    "7. <a class=\"jcecodle-mk jcecodle-mk__problem-chip\" data-problem-id=\"hRBnpX8BDwc\" href='#jce-judge/open/hRBnpX8BDwc' target='_self'><span>판다스 - 결측값 처리 - 데이터 프레임(thresh 1)</span></a>\n",
    "\n",
    "\n",
    "8. <a class=\"jcecodle-mk jcecodle-mk__problem-chip\" data-problem-id=\"c6tjvUjD6zI\" href='#jce-judge/open/c6tjvUjD6zI' target='_self'><span>판다스 - 결측값 처리 - 데이터 프레임(thresh 2)</span></a>\n",
    "\n",
    "\n"
   ]
  },
  {
   "cell_type": "markdown",
   "id": "7239eac0",
   "metadata": {
    "tags": []
   },
   "source": [
    "# **[8-3] 결측값 변경하기**"
   ]
  },
  {
   "cell_type": "markdown",
   "id": "98bc8668",
   "metadata": {
    "tags": []
   },
   "source": [
    "## **🎯 학습 목표**\n",
    "**Pandas를 사용해 시리즈, 데이터프레임에 존재하는 결측값들을 원하는 값으로 변경할 수 있습니다.**"
   ]
  },
  {
   "cell_type": "markdown",
   "id": "ff8d9af3",
   "metadata": {},
   "source": [
    "---"
   ]
  },
  {
   "cell_type": "markdown",
   "id": "680687fd",
   "metadata": {},
   "source": [
    "결측값이 있는 데이터는 정보가 누락되어 통계량을 구하거나 인공지능 학습에 사용될 수 없습니다.  \n",
    "결측값이 있는 데이터를 제거하는게 간단한 방법이지만 너무 많은 데이터를 삭제하게 되면 문제가 생깁니다.   \n",
    "그런때에는 결측값 자리에 새로운 데이터 값을 대체하여 사용할 수 있습니다.  \n",
    "\n",
    "> **🔨 함수(FUNCTIONS):**\n",
    ">\n",
    "> **`Series.fillna(value = 데이터)`**  \n",
    "> 결측값들을 모두 데이터로 변환합니다.\n",
    ">> **매개변수(parameter)**\n",
    ">>\n",
    ">> **`value`** : 문자열 또는 숫자 등이 전달됩니다.   \n",
    ">> 시리즈에 있는 모든 결측값들을 매개변수로 전달받은 값으로 변환합니다.\n",
    "> ---\n",
    "> **`DataFrame.fillna(value = 데이터)`**  \n",
    "> 결측값들을 모두 데이터로 변환합니다.\n",
    ">> **매개변수(parameter)**\n",
    ">>\n",
    ">> **`value`** : 문자열 또는 숫자 등이 전달됩니다.   \n",
    ">> 시리즈에 있는 모든 결측값들을 매개변수로 전달받은 값으로 변환합니다.\n",
    "> ---\n",
    "> **`DataFrame.fillna(value = 딕셔너리)`**  \n",
    "> 각 열의 결측값들을 모두 정해진 값으로 변환합니다.\n",
    ">> **매개변수(parameter)**\n",
    ">>\n",
    ">> **`value`** : 딕셔너리로 값이 전달됩니다.    \n",
    ">> 딕셔너리의 키 값에 해당하는 열의 결측값들을 딕셔너리의 밸류 값으로 변환합니다.\n",
    "> ---\n"
   ]
  },
  {
   "cell_type": "markdown",
   "id": "20abd3a8",
   "metadata": {
    "tags": []
   },
   "source": [
    "## 결측값 확인하기\n",
    "\n",
    "`fillna()` 함수를 이용하면 결측값들을 변환할 수 있습니다.\n",
    "\n",
    "`Series.fillna(value = 값)`, `DataFrame.fillna(value = 값)` 로 결측값들을 모두 주어진 값으로 변환할 수 있습니다.  \n",
    "\n",
    "<table>\n",
    "<tr>\n",
    "    <th><img src=\"https://tmn-bucket-materials-all.s3.ap-northeast-2.amazonaws.com/image/pandas/material_08_09.gif\" width=\"450\"></th>\n",
    "    <th><img src=\"https://tmn-bucket-materials-all.s3.ap-northeast-2.amazonaws.com/image/pandas/material_08_10.gif\" width=\"450\"></th>\n",
    "</tr>\n",
    "<tr>\n",
    "    <th>시리즈의 결측값 변환하기</th>\n",
    "    <th>데이터프레임의 결측값 변환하기</th>\n",
    "</tr>\n",
    "</table>\n",
    "\n",
    "`DataFrame.fillna(value = {딕셔너리})` 로 정해진 규칙에 따라 결측값들을 변환할 수 있습니다.  \n",
    "\n",
    "<table>\n",
    "<tr>\n",
    "    <th><img src=\"https://tmn-bucket-materials-all.s3.ap-northeast-2.amazonaws.com/image/pandas/material_08_11.gif\" width=\"750\"></th>\n",
    "</tr>\n",
    "<tr>\n",
    "    <th>결측값 규칙에 따라 변환하기</th>\n",
    "</tr>\n",
    "</table>"
   ]
  },
  {
   "cell_type": "code",
   "execution_count": null,
   "id": "400ce363",
   "metadata": {
    "tags": []
   },
   "outputs": [],
   "source": [
    "# 예제_1_fillna_함수를_이용한_시리즈의_결측값_변경\n",
    "\n",
    "import pandas as pd\n",
    "\n",
    "A = pd.Series([1,2,None,4,5,None])\n",
    "\n",
    "print('#'*30, f\"{'A':^15s}\" , '#' * 30, '\\n') # 출력되는 결과들을 분리해서 보여주기 위한 코드입니다.\n",
    "print(A)\n",
    "print('\\n','#'*30, f\"{'A.fillna(-1)':^15s}\" , '#' * 30, '\\n') # 출력되는 결과들을 분리해서 보여주기 위한 코드입니다.\n",
    "print(A.fillna(-1))"
   ]
  },
  {
   "cell_type": "code",
   "execution_count": null,
   "id": "21d73f8d",
   "metadata": {
    "tags": []
   },
   "outputs": [],
   "source": [
    "# 예제_2_fillna_함수를_이용한_데이터프레임의_결측값_변경\n",
    "\n",
    "import pandas as pd\n",
    "\n",
    "A = pd.DataFrame([[1,2,None,4,5,None],[None,2,3,None,5,6],[1,None,None,None,5,None]])\n",
    "\n",
    "print('#'*30, f\"{'A':^15s}\" , '#' * 30, '\\n') # 출력되는 결과들을 분리해서 보여주기 위한 코드입니다.\n",
    "print(A)\n",
    "print('\\n','#'*30, f\"{'A.fillna(-1)':^15s}\" , '#' * 30, '\\n') # 출력되는 결과들을 분리해서 보여주기 위한 코드입니다.\n",
    "print(A.fillna(-1))"
   ]
  },
  {
   "cell_type": "code",
   "execution_count": null,
   "id": "ae82bd58",
   "metadata": {
    "tags": []
   },
   "outputs": [],
   "source": [
    "# 예제_2_fillna_함수를_이용한_데이터프레임의_규칙을_포함한_결측값_변경\n",
    "\n",
    "import pandas as pd\n",
    "\n",
    "A = pd.DataFrame([[1,2,None,4,5,None],[None,2,3,None,5,6],[1,None,None,None,5,None]])\n",
    "\n",
    "print('#'*30, f\"{'A':^15s}\" , '#' * 30, '\\n') # 출력되는 결과들을 분리해서 보여주기 위한 코드입니다.\n",
    "print(A)\n",
    "print('\\n','#'*30, f\"{'A.fillna({0:1,1:2,2:3,3:4})':^15s}\" , '#' * 30, '\\n') # 출력되는 결과들을 분리해서 보여주기 위한 코드입니다.\n",
    "print(A.fillna({0:1,1:2,2:3,3:4}))"
   ]
  },
  {
   "cell_type": "markdown",
   "id": "a7522169",
   "metadata": {},
   "source": [
    "### **💯 연습문제를 풀어봅시다**\n",
    "\n"
   ]
  },
  {
   "cell_type": "markdown",
   "id": "9fc9f41d",
   "metadata": {
    "tags": []
   },
   "source": [
    "1. <a class=\"jcecodle-mk jcecodle-mk__problem-chip\" data-problem-id=\"7h23TDPhtbs\" href='#jce-judge/open/7h23TDPhtbs' target='_self'><span>판다스 - 결측값 처리 - 시리즈 결측값 변경</span></a>\n",
    "\n",
    "1. <a class=\"jcecodle-mk jcecodle-mk__problem-chip\" data-problem-id=\"1a5lam-7dW8\" href='#jce-judge/open/1a5lam-7dW8' target='_self'><span>판다스 - 결측값 처리 - 일괄 변경</span></a>\n",
    "\n",
    "4. <a class=\"jcecodle-mk jcecodle-mk__problem-chip\" data-problem-id=\"Rx-lpctLFg4\" href='#jce-judge/open/Rx-lpctLFg4' target='_self'><span>판다스 - 결측값 처리 - 열에 따라 변경 (3)</span></a>\n",
    "\n",
    "5. <a class=\"jcecodle-mk jcecodle-mk__problem-chip\" data-problem-id=\"L42tTfYUbxk\" href='#jce-judge/open/L42tTfYUbxk' target='_self'><span>가계부 결측값 변경</span></a>\n",
    "\n",
    "\n",
    "\n",
    "\n"
   ]
  },
  {
   "cell_type": "markdown",
   "id": "a2ebe465",
   "metadata": {
    "tags": []
   },
   "source": [
    "# **[9-1] 데이터의 대푯값 구하기**"
   ]
  },
  {
   "cell_type": "markdown",
   "id": "95837509",
   "metadata": {
    "tags": []
   },
   "source": [
    "## **🎯 학습 목표**\n",
    "**데이터의 다양한 대푯값을 계산해봅시다.**"
   ]
  },
  {
   "cell_type": "markdown",
   "id": "3630822b",
   "metadata": {},
   "source": [
    "---"
   ]
  },
  {
   "cell_type": "markdown",
   "id": "2e8e39ab-d04d-4988-9e30-6bc3859c53a5",
   "metadata": {},
   "source": [
    "여러 함수를 이용해 데이터의 대푯값을 계산할 수 있습니다.\n",
    "\n",
    "> **✏️ 알아봅시다(NOTE): 대푯값이 무엇인가요?**\n",
    ">\n",
    "> 대푯값은 어떤 데이터를 대표하는 값입니다.  \n",
    "> 평균, 중앙값, 최빈값, 표준편차 등이 있습니다. \n",
    "\n",
    "> **🔨 함수(FUNCTIONS):**\n",
    ">\n",
    "> **`Series.mean()`**  \n",
    "> 시리즈의 평균값을 구합니다.\n",
    "> ---\n",
    "> **`DataFrame.mean(axis = 0_또는_1)`**  \n",
    "> 데이터프레임의 평균값을 구합니다.\n",
    ">> **매개변수(parameter)**\n",
    ">>\n",
    ">> **`axis`** : 0 또는 1이 전달됩니다.   \n",
    ">> axis가 0 일경우 열에서의 평균값을 구하고 axis가 1일 경우 행에서의 평균값을 구합니다.     \n",
    ">> 기본값은 0으로 열 방향으로의 평균값을 구합니다.\n",
    "> ---\n",
    "> **`Series.median()`**  \n",
    "> 데이터프레임의 중앙값을 구합니다.\n",
    "> ---\n",
    "> **`DataFrame.median(axis = 0_또는_1)`**  \n",
    "> 데이터프레임의 중앙값을 구합니다.\n",
    ">> **매개변수(parameter)**\n",
    ">>\n",
    ">> **`axis`** : 0 또는 1이 전달됩니다.   \n",
    ">> axis가 0 일경우 열에서의 중앙값을 구하고 axis가 1일 경우 행에서의 중앙값을 구합니다.     \n",
    ">> 기본값은 0으로 열 방향으로의 중앙값을 구합니다.\n",
    "> ---\n",
    "> **`Series.mode()`**  \n",
    "> 데이터프레임의 최빈값을 구합니다.\n",
    "> ---\n",
    "> **`DataFrame.mode(axis = 0_또는_1)`**  \n",
    "> 데이터프레임의 최빈값을 구합니다.\n",
    ">> **매개변수(parameter)**\n",
    ">>\n",
    ">> **`axis`** : 0 또는 1이 전달됩니다.   \n",
    ">> axis가 0 일경우 열에서의 최빈값을 구하고 axis가 1일 경우 행에서의 최빈값을 구합니다.     \n",
    ">> 기본값은 0으로 열 방향으로의 최빈값을 구합니다.\n",
    "> ---\n",
    "> **`Series.std()`**  \n",
    "> 데이터프레임의 표준편차를 구합니다.\n",
    "> ---\n",
    "> **`DataFrame.std(axis = 0_또는_1)`**  \n",
    "> 데이터프레임의 표준편차를 구합니다.\n",
    ">> **매개변수(parameter)**\n",
    ">>\n",
    ">> **`axis`** : 0 또는 1이 전달됩니다.   \n",
    ">> axis가 0 일경우 열에서의 표준편차 구하고 axis가 1일 경우 행에서의 표준편차를 구합니다.     \n",
    ">> 기본값은 0으로 열 방향으로의 표준편차를 구합니다.\n",
    "> ---\n",
    "\n"
   ]
  },
  {
   "cell_type": "markdown",
   "id": "48f45d52-8fa5-4d93-ac0f-5c9bae752cbb",
   "metadata": {
    "tags": []
   },
   "source": [
    "## 대푯값 구하기\n",
    "\n",
    "시리즈와 데이터프레임에 여러 함수들을 적용해 대푯값을 구할 수 있습니다.\n",
    "\n",
    "<table>\n",
    "<tr>\n",
    "    <th><img src=\"https://tmn-bucket-materials-all.s3.ap-northeast-2.amazonaws.com/image/pandas/material_09_01.gif\" width=\"750\"></th>\n",
    "</tr>\n",
    "<tr>\n",
    "    <th>시리즈에 대푯값 함수 적용하기</th>\n",
    "</tr>\n",
    "</table>\n",
    "\n",
    "<table>\n",
    "<tr>\n",
    "    <th><img src=\"https://tmn-bucket-materials-all.s3.ap-northeast-2.amazonaws.com/image/pandas/material_09_02.gif\" width=\"750\"></th>\n",
    "</tr>\n",
    "<tr>\n",
    "    <th>데이터프레임에 대푯값 함수 적용하기</th>\n",
    "</tr>\n",
    "</table>\n",
    "\n",
    "<table>\n",
    "<tr>\n",
    "    <th><img src=\"https://tmn-bucket-materials-all.s3.ap-northeast-2.amazonaws.com/image/pandas/material_09_03.gif\" width=\"750\"></th>\n",
    "</tr>\n",
    "<tr>\n",
    "    <th>데이터프레임에 열방향으로 대푯값 함수 적용하기</th>\n",
    "</tr>\n",
    "</table>"
   ]
  },
  {
   "cell_type": "code",
   "execution_count": null,
   "id": "f34ee13a-04f9-4d2a-b0f2-6a6b58e0097a",
   "metadata": {
    "tags": []
   },
   "outputs": [],
   "source": [
    "# 예제_1_시리즈의_대푯값_구하기\n",
    "\n",
    "import pandas as pd\n",
    "import random\n",
    "\n",
    "score = pd.read_csv('https://tmn-bucket-materials-all.s3.ap-northeast-2.amazonaws.com/data/midterm_exam_result.csv')\n",
    "score.index = score['이름']\n",
    "score = score.iloc[:,1]\n",
    "\n",
    "print('#'*30, f\"{'score':^15s}\" , '#' * 30, '\\n') # 출력되는 결과들을 분리해서 보여주기 위한 코드입니다.\n",
    "print(score)\n",
    "print('\\n','#'*30, \"{:^15s}\".format('score.mean()') , '#' * 30, '\\n') # 출력되는 결과들을 분리해서 보여주기 위한 코드입니다.\n",
    "print(score.mean())\n",
    "print('\\n','#'*30, \"{:^15s}\".format('score.median()') , '#' * 30, '\\n') # 출력되는 결과들을 분리해서 보여주기 위한 코드입니다.\n",
    "print(score.median())\n",
    "print('\\n','#'*30, \"{:^15s}\".format('score.mode()') , '#' * 30, '\\n') # 출력되는 결과들을 분리해서 보여주기 위한 코드입니다.\n",
    "print(score.mode())\n",
    "print('\\n','#'*30, \"{:^15s}\".format('score.std()') , '#' * 30, '\\n') # 출력되는 결과들을 분리해서 보여주기 위한 코드입니다.\n",
    "print(score.std())"
   ]
  },
  {
   "cell_type": "code",
   "execution_count": null,
   "id": "55a05175-945d-400f-9e17-b67af772e941",
   "metadata": {
    "tags": []
   },
   "outputs": [],
   "source": [
    "# 예제_2_데이터프레임의_대푯값_구하기\n",
    "\n",
    "import pandas as pd\n",
    "import random\n",
    "\n",
    "score = pd.read_csv('https://tmn-bucket-materials-all.s3.ap-northeast-2.amazonaws.com/data/midterm_exam_result.csv')\n",
    "score.index = score['이름']\n",
    "score = score.iloc[:,1:]\n",
    "\n",
    "print('#'*30, f\"{'score':^15s}\" , '#' * 30, '\\n') # 출력되는 결과들을 분리해서 보여주기 위한 코드입니다.\n",
    "print(score)\n",
    "print('\\n','#'*30, \"{:^15s}\".format('score.mean()') , '#' * 30, '\\n') # 출력되는 결과들을 분리해서 보여주기 위한 코드입니다.\n",
    "print(score.mean())\n",
    "print('\\n','#'*30, \"{:^15s}\".format('score.median()') , '#' * 30, '\\n') # 출력되는 결과들을 분리해서 보여주기 위한 코드입니다.\n",
    "print(score.median())\n",
    "print('\\n','#'*30, \"{:^15s}\".format('score.mode()') , '#' * 30, '\\n') # 출력되는 결과들을 분리해서 보여주기 위한 코드입니다.\n",
    "print(score.mode())\n",
    "print('\\n','#'*30, \"{:^15s}\".format('score.std()') , '#' * 30, '\\n') # 출력되는 결과들을 분리해서 보여주기 위한 코드입니다.\n",
    "print(score.std())"
   ]
  },
  {
   "cell_type": "code",
   "execution_count": null,
   "id": "c6a2ca50-3bc9-458d-bdb7-a837a1ce401f",
   "metadata": {
    "tags": []
   },
   "outputs": [],
   "source": [
    "# 예제_2_데이터프레임의_열방향_대푯값_구하기\n",
    "\n",
    "import pandas as pd\n",
    "import random\n",
    "\n",
    "score = pd.read_csv('https://tmn-bucket-materials-all.s3.ap-northeast-2.amazonaws.com/data/midterm_exam_result.csv')\n",
    "score.index = score['이름']\n",
    "score = score.iloc[:,1:]\n",
    "\n",
    "print('#'*30, f\"{'score':^15s}\" , '#' * 30, '\\n') # 출력되는 결과들을 분리해서 보여주기 위한 코드입니다.\n",
    "print(score)\n",
    "print('\\n','#'*30, \"{:^15s}\".format('score.mean(axis = 1)') , '#' * 30, '\\n') # 출력되는 결과들을 분리해서 보여주기 위한 코드입니다.\n",
    "print(score.mean(axis = 1))\n",
    "print('\\n','#'*30, \"{:^15s}\".format('score.median(axis = 1)') , '#' * 30, '\\n') # 출력되는 결과들을 분리해서 보여주기 위한 코드입니다.\n",
    "print(score.median(axis = 1))\n",
    "print('\\n','#'*30, \"{:^15s}\".format('score.mode(axis = 1)') , '#' * 30, '\\n') # 출력되는 결과들을 분리해서 보여주기 위한 코드입니다.\n",
    "print(score.mode(axis = 1))\n",
    "print('\\n','#'*30, \"{:^15s}\".format('score.std(axis = 1)') , '#' * 30, '\\n') # 출력되는 결과들을 분리해서 보여주기 위한 코드입니다.\n",
    "print(score.std(axis = 1))"
   ]
  },
  {
   "cell_type": "markdown",
   "id": "4faf772d-313e-4bb7-995e-a3e5a99cdc1e",
   "metadata": {},
   "source": [
    "### **💯 연습문제를 풀어봅시다**\n",
    "\n"
   ]
  },
  {
   "cell_type": "markdown",
   "id": "bfc63131-846c-4c7e-a4e0-c918c3962b19",
   "metadata": {
    "tags": []
   },
   "source": [
    "1. <a class=\"jcecodle-mk jcecodle-mk__problem-chip\" data-problem-id=\"F6pUd4gvMwM\" href='#jce-judge/open/F6pUd4gvMwM' target='_self'><span>판다스 - 데이터 통계 - median</span></a>\n",
    "\n",
    "1. <a class=\"jcecodle-mk jcecodle-mk__problem-chip\" data-problem-id=\"yAEg4HHoJF8\" href='#jce-judge/open/yAEg4HHoJF8' target='_self'><span>도착시간 중앙값 (1)</span></a>\n",
    "\n",
    "2. <a class=\"jcecodle-mk jcecodle-mk__problem-chip\" data-problem-id=\"uR1NqzwSJvk\" href='#jce-judge/open/uR1NqzwSJvk' target='_self'><span>도착시간 중앙값 (2)</span></a>\n",
    "\n",
    "3. <a class=\"jcecodle-mk jcecodle-mk__problem-chip\" data-problem-id=\"OsKrBBq2TTE\" href='#jce-judge/open/OsKrBBq2TTE' target='_self'><span>성적 중앙값</span></a>\n",
    "\n",
    "2. <a class=\"jcecodle-mk jcecodle-mk__problem-chip\" data-problem-id=\"lHKazuduw5A\" href='#jce-judge/open/lHKazuduw5A' target='_self'><span>판다스 - 데이터 통계 -  mean</span></a>\n",
    "\n",
    "1. <a class=\"jcecodle-mk jcecodle-mk__problem-chip\" data-problem-id=\"XxoGA530lVI\" href='#jce-judge/open/XxoGA530lVI' target='_self'><span>성적 평균값 (1)</span></a>\n",
    "\n",
    "2. <a class=\"jcecodle-mk jcecodle-mk__problem-chip\" data-problem-id=\"2un8j30nlU0\" href='#jce-judge/open/2un8j30nlU0' target='_self'><span>성적 평균값 (3)</span></a>\n",
    "\n",
    "3. <a class=\"jcecodle-mk jcecodle-mk__problem-chip\" data-problem-id=\"19-h_lB1w-I\" href='#jce-judge/open/19-h_lB1w-I' target='_self'><span>판다스 - 결측값 처리 - 열에 따라 변경(1)</span></a>\n",
    "\n",
    "3. <a class=\"jcecodle-mk jcecodle-mk__problem-chip\" data-problem-id=\"SZoWwB5VS24\" href='#jce-judge/open/SZoWwB5VS24' target='_self'><span>판다스 - 데이터 통계 - std</span></a>\n",
    "\n",
    "1. <a class=\"jcecodle-mk jcecodle-mk__problem-chip\" data-problem-id=\"0UyZTrM2eUo\" href='#jce-judge/open/0UyZTrM2eUo' target='_self'><span>매출액 표준편차</span></a>\n",
    "\n",
    "2. <a class=\"jcecodle-mk jcecodle-mk__problem-chip\" data-problem-id=\"IAmEXv9cWrE\" href='#jce-judge/open/IAmEXv9cWrE' target='_self'><span>부동산 표준편차</span></a>\n",
    "\n",
    "3. <a class=\"jcecodle-mk jcecodle-mk__problem-chip\" data-problem-id=\"0Se3NuwFlBE\" href='#jce-judge/open/0Se3NuwFlBE' target='_self'><span>광고 매체 선호도 표준편차</span></a>\n",
    "\n",
    "4. <a class=\"jcecodle-mk jcecodle-mk__problem-chip\" data-problem-id=\"omdpmhnQghk\" href='#jce-judge/open/omdpmhnQghk' target='_self'><span>판다스 - 데이터 통계 - mode</span></a>\n",
    "\n",
    "1. <a class=\"jcecodle-mk jcecodle-mk__problem-chip\" data-problem-id=\"QBymtuzthO0\" href='#jce-judge/open/QBymtuzthO0' target='_self'><span>펭귄의 종과 서식지</span></a>\n",
    "\n",
    "2. <a class=\"jcecodle-mk jcecodle-mk__problem-chip\" data-problem-id=\"-54q2pbV7pQ\" href='#jce-judge/open/-54q2pbV7pQ' target='_self'><span>카페 정보 최빈값</span></a>\n",
    "\n",
    "3. <a class=\"jcecodle-mk jcecodle-mk__problem-chip\" data-problem-id=\"BXTt2Rjlq5w\" href='#jce-judge/open/BXTt2Rjlq5w' target='_self'><span>판다스 - 결측값 처리 - 열에 따라 변경(2)</span></a>"
   ]
  },
  {
   "cell_type": "markdown",
   "id": "bcce47d8",
   "metadata": {
    "tags": []
   },
   "source": [
    "# **[9-2] 데이터의 최댓값, 최솟값 구하기**"
   ]
  },
  {
   "cell_type": "markdown",
   "id": "b4496407",
   "metadata": {
    "tags": []
   },
   "source": [
    "## **🎯 학습 목표**\n",
    "**데이터의 최댓값, 최솟값을 구해봅시다.**"
   ]
  },
  {
   "cell_type": "markdown",
   "id": "615ed306",
   "metadata": {},
   "source": [
    "---"
   ]
  },
  {
   "cell_type": "markdown",
   "id": "4049d798-b79e-476a-b703-ce95e19c9641",
   "metadata": {},
   "source": [
    "여러 함수를 이용해 데이터의 최댓값, 최솟값을 계산할 수 있습니다.\n",
    "\n",
    "> **🔨 함수(FUNCTIONS):**\n",
    ">\n",
    "> **`Series.max()`**  \n",
    "> 시리즈의 최댓값을 구합니다.  \n",
    "> ---\n",
    "> **`DataFrame.max(axis = 0_또는_1)`**  \n",
    "> 데이터프레임의 최댓값을 구합니다.\n",
    ">> **매개변수(parameter)**\n",
    ">>\n",
    ">> **`axis`** : 0 또는 1이 전달됩니다.   \n",
    ">> axis가 0 일경우 열에서의 최댓값을 구하고 axis가 1일 경우 행에서의 최댓값을 구합니다.     \n",
    ">> 기본값은 0으로 열 방향으로의 최댓값을 구합니다.\n",
    "> ---\n",
    "> **`Series.min()`**  \n",
    "> 시리즈의 최솟값을 구합니다.  \n",
    "> ---\n",
    "> **`DataFrame.min(axis = 0_또는_1)`**  \n",
    "> 데이터프레임의 최솟값을 구합니다.\n",
    ">> **매개변수(parameter)**\n",
    ">>\n",
    ">> **`axis`** : 0 또는 1이 전달됩니다.   \n",
    ">> axis가 0 일경우 열에서의 최솟값을 구하고 axis가 1일 경우 행에서의 최솟값을 구합니다.     \n",
    ">> 기본값은 0으로 열 방향으로의 최솟값을 구합니다.\n",
    "> ---\n",
    "> **`Series.idxmax()`**  \n",
    "> 시리즈의 최대값의 인덱스를 구합니다.  \n",
    "> ---\n",
    "> **`DataFrame.idxmax(axis = 0_또는_1)`**  \n",
    "> 데이터프레임의 최대값의 인덱스를 구합니다.\n",
    ">> **매개변수(parameter)**\n",
    ">>\n",
    ">> **`axis`** : 0 또는 1이 전달됩니다.   \n",
    ">> axis가 0 일경우 열에서의 최댓값의 인덱스를 구하고 axis가 1일 경우 행에서의 최댓값의 열을 구합니다.     \n",
    ">> 기본값은 0으로 열 방향으로의 최댓값의 인덱스를 구합니다.\n",
    "> ---\n",
    "> **`Series.idxmin()`**  \n",
    "> 시리즈의 최솟값의 인덱스를 구합니다.  \n",
    "> ---\n",
    "> **`DataFrame.idxmin(axis = 0_또는_1)`**  \n",
    "> 데이터프레임의 최솟값의 인덱스를 구합니다.\n",
    ">> **매개변수(parameter)**\n",
    ">>\n",
    ">> **`axis`** : 0 또는 1이 전달됩니다.   \n",
    ">> axis가 0 일경우 열에서의 최솟값의 인덱스를 구하고 axis가 1일 경우 행에서의 최솟값의 열을 구합니다.     \n",
    ">> 기본값은 0으로 열 방향으로의 최솟값의 인덱스를 구합니다.\n",
    "> ---\n",
    "\n",
    "\n",
    "\n",
    "\n",
    "\n",
    "\n",
    "\n"
   ]
  },
  {
   "cell_type": "markdown",
   "id": "7d3efa65-c79a-42bc-bee1-d2b34e31c5b2",
   "metadata": {
    "tags": []
   },
   "source": [
    "## 최댓값, 최솟값 구하기\n",
    "\n",
    "시리즈와 데이터프레임에 여러 함수들을 적용해 최솟값과 최댓값을 구할 수 있습니다.\n",
    "\n",
    "<table>\n",
    "<tr>\n",
    "    <th><img src=\"https://tmn-bucket-materials-all.s3.ap-northeast-2.amazonaws.com/image/pandas/material_09_04.gif\" width=\"750\"></th>\n",
    "</tr>\n",
    "<tr>\n",
    "    <th>시리즈에 최솟값, 최댓값 함수 적용하기</th>\n",
    "</tr>\n",
    "</table>\n",
    "\n",
    "<table>\n",
    "<tr>\n",
    "    <th><img src=\"https://tmn-bucket-materials-all.s3.ap-northeast-2.amazonaws.com/image/pandas/material_09_05.gif\" width=\"750\"></th>\n",
    "</tr>\n",
    "<tr>\n",
    "    <th>데이터프레임에 최솟값, 최댓값 함수 적용하기</th>\n",
    "</tr>\n",
    "</table>\n",
    "\n",
    "<table>\n",
    "<tr>\n",
    "    <th><img src=\"https://tmn-bucket-materials-all.s3.ap-northeast-2.amazonaws.com/image/pandas/material_09_06.gif\" width=\"750\"></th>\n",
    "</tr>\n",
    "<tr>\n",
    "    <th>데이터프레임에 열방향으로 최솟값, 최댓값 함수 적용하기</th>\n",
    "</tr>\n",
    "</table>"
   ]
  },
  {
   "cell_type": "code",
   "execution_count": null,
   "id": "7e226aaa-d8cb-45cc-8eb7-ca7d09dd3686",
   "metadata": {
    "tags": []
   },
   "outputs": [],
   "source": [
    "# 예제_1_시리즈의_최솟값_최댓값_구하기\n",
    "\n",
    "import pandas as pd\n",
    "import random\n",
    "\n",
    "score = pd.read_csv('https://tmn-bucket-materials-all.s3.ap-northeast-2.amazonaws.com/data/midterm_exam_result.csv')\n",
    "score.index = score['이름']\n",
    "score = score.iloc[:,1]\n",
    "\n",
    "print('#'*30, f\"{'score':^15s}\" , '#' * 30, '\\n') # 출력되는 결과들을 분리해서 보여주기 위한 코드입니다.\n",
    "print(score)\n",
    "print('\\n','#'*30, \"{:^15s}\".format('score.min()') , '#' * 30, '\\n') # 출력되는 결과들을 분리해서 보여주기 위한 코드입니다.\n",
    "print(score.min())\n",
    "print('\\n','#'*30, \"{:^15s}\".format('score.max()') , '#' * 30, '\\n') # 출력되는 결과들을 분리해서 보여주기 위한 코드입니다.\n",
    "print(score.max())\n",
    "print('\\n','#'*30, \"{:^15s}\".format('score.idxmin()') , '#' * 30, '\\n') # 출력되는 결과들을 분리해서 보여주기 위한 코드입니다.\n",
    "print(score.idxmin())\n",
    "print('\\n','#'*30, \"{:^15s}\".format('score.idxmax()') , '#' * 30, '\\n') # 출력되는 결과들을 분리해서 보여주기 위한 코드입니다.\n",
    "print(score.idxmax())"
   ]
  },
  {
   "cell_type": "code",
   "execution_count": null,
   "id": "34367943-6a1d-4425-9f59-a91e799a453d",
   "metadata": {
    "tags": []
   },
   "outputs": [],
   "source": [
    "# 예제_2_데이터프레임의_최솟값_최댓값_구하기\n",
    "\n",
    "import pandas as pd\n",
    "import random\n",
    "\n",
    "score = pd.read_csv('https://tmn-bucket-materials-all.s3.ap-northeast-2.amazonaws.com/data/midterm_exam_result.csv')\n",
    "score.index = score['이름']\n",
    "score = score.iloc[:,1:]\n",
    "\n",
    "print('#'*30, f\"{'score':^15s}\" , '#' * 30, '\\n') # 출력되는 결과들을 분리해서 보여주기 위한 코드입니다.\n",
    "print(score)\n",
    "print('\\n','#'*30, \"{:^15s}\".format('score.min()') , '#' * 30, '\\n') # 출력되는 결과들을 분리해서 보여주기 위한 코드입니다.\n",
    "print(score.min())\n",
    "print('\\n','#'*30, \"{:^15s}\".format('score.max()') , '#' * 30, '\\n') # 출력되는 결과들을 분리해서 보여주기 위한 코드입니다.\n",
    "print(score.max())\n",
    "print('\\n','#'*30, \"{:^15s}\".format('score.idxmin()') , '#' * 30, '\\n') # 출력되는 결과들을 분리해서 보여주기 위한 코드입니다.\n",
    "print(score.idxmin())\n",
    "print('\\n','#'*30, \"{:^15s}\".format('score.idxmax()') , '#' * 30, '\\n') # 출력되는 결과들을 분리해서 보여주기 위한 코드입니다.\n",
    "print(score.idxmax())"
   ]
  },
  {
   "cell_type": "code",
   "execution_count": null,
   "id": "4be00da7-660e-4693-8b02-b81978aba465",
   "metadata": {
    "tags": []
   },
   "outputs": [],
   "source": [
    "# 예제_3_데이터프레임의_열방향_최솟값_최댓값_구하기\n",
    "\n",
    "import pandas as pd\n",
    "import random\n",
    "\n",
    "score = pd.read_csv('https://tmn-bucket-materials-all.s3.ap-northeast-2.amazonaws.com/data/midterm_exam_result.csv')\n",
    "score.index = score['이름']\n",
    "score = score.iloc[:,1:]\n",
    "\n",
    "print('#'*30, f\"{'score':^15s}\" , '#' * 30, '\\n') # 출력되는 결과들을 분리해서 보여주기 위한 코드입니다.\n",
    "print(score)\n",
    "print('\\n','#'*30, \"{:^15s}\".format('score.min(axis = 1)') , '#' * 30, '\\n') # 출력되는 결과들을 분리해서 보여주기 위한 코드입니다.\n",
    "print(score.min(axis = 1))\n",
    "print('\\n','#'*30, \"{:^15s}\".format('score.max(axis = 1)') , '#' * 30, '\\n') # 출력되는 결과들을 분리해서 보여주기 위한 코드입니다.\n",
    "print(score.max(axis = 1))\n",
    "print('\\n','#'*30, \"{:^15s}\".format('score.idxmin(axis = 1)') , '#' * 30, '\\n') # 출력되는 결과들을 분리해서 보여주기 위한 코드입니다.\n",
    "print(score.idxmin(axis = 1))\n",
    "print('\\n','#'*30, \"{:^15s}\".format('score.idxmax(axis = 1)') , '#' * 30, '\\n') # 출력되는 결과들을 분리해서 보여주기 위한 코드입니다.\n",
    "print(score.idxmax(axis = 1))"
   ]
  },
  {
   "cell_type": "markdown",
   "id": "634c9dde-c8e9-47b8-947a-14bb1015b1e1",
   "metadata": {},
   "source": [
    "### **💯 연습문제를 풀어봅시다**\n",
    "\n"
   ]
  },
  {
   "cell_type": "markdown",
   "id": "705efcce-0dc2-401a-8bef-5ca8cf35dad5",
   "metadata": {
    "tags": []
   },
   "source": [
    "1. <a class=\"jcecodle-mk jcecodle-mk__problem-chip\" data-problem-id=\"wof3MOPluTM\" href='#jce-judge/open/wof3MOPluTM' target='_self'><span>판다스 - 데이터 통계 - max</span></a>\n",
    "1. <a class=\"jcecodle-mk jcecodle-mk__problem-chip\" data-problem-id=\"K51KUnww6ME\" href='#jce-judge/open/K51KUnww6ME' target='_self'><span>매출액 최대</span></a>\n",
    "2. <a class=\"jcecodle-mk jcecodle-mk__problem-chip\" data-problem-id=\"Vm59O1HkYv0\" href='#jce-judge/open/Vm59O1HkYv0' target='_self'><span>인적사항 최댓값</span></a>\n",
    "1. <a class=\"jcecodle-mk jcecodle-mk__problem-chip\" data-problem-id=\"WocVHm-2gLs\" href='#jce-judge/open/WocVHm-2gLs' target='_self'><span>판다스 - 데이터 통계 - min</span></a>\n",
    "1. <a class=\"jcecodle-mk jcecodle-mk__problem-chip\" data-problem-id=\"W0G6nPsoNgo\" href='#jce-judge/open/W0G6nPsoNgo' target='_self'><span>매출액 최소</span></a>\n",
    "2. <a class=\"jcecodle-mk jcecodle-mk__problem-chip\" data-problem-id=\"dGLmkowYD18\" href='#jce-judge/open/dGLmkowYD18' target='_self'><span>인적사항 최솟값</span></a>\n",
    "3. <a class=\"jcecodle-mk jcecodle-mk__problem-chip\" data-problem-id=\"_8jUyWKYLHU\" href='#jce-judge/open/_8jUyWKYLHU' target='_self'><span>판다스 - 데이터 연산하기 - idxmax</span></a>\n",
    "1. <a class=\"jcecodle-mk jcecodle-mk__problem-chip\" data-problem-id=\"e3bAUADVQ8k\" href='#jce-judge/open/e3bAUADVQ8k' target='_self'><span>국어 1등</span></a>\n",
    "2. <a class=\"jcecodle-mk jcecodle-mk__problem-chip\" data-problem-id=\"ZqBeUeUkv3Q\" href='#jce-judge/open/ZqBeUeUkv3Q' target='_self'><span>연장자</span></a>\n",
    "4. <a class=\"jcecodle-mk jcecodle-mk__problem-chip\" data-problem-id=\"UyGtM9-My2Q\" href='#jce-judge/open/UyGtM9-My2Q' target='_self'><span>판다스 - 데이터 연산하기 - idxmin</span></a>\n",
    "\n",
    "2. <a class=\"jcecodle-mk jcecodle-mk__problem-chip\" data-problem-id=\"cEF35d3TDqA\" href='#jce-judge/open/cEF35d3TDqA' target='_self'><span>성적 평균이 최소인 과목</span></a>\n"
   ]
  },
  {
   "cell_type": "markdown",
   "id": "dcb0fcd9",
   "metadata": {
    "tags": []
   },
   "source": [
    "# **[9-3] 데이터의 개수,합 구하기**"
   ]
  },
  {
   "cell_type": "markdown",
   "id": "8f7ed558",
   "metadata": {
    "tags": []
   },
   "source": [
    "## **🎯 학습 목표**\n",
    "**데이터의 개수, 합을 구해봅시다.**"
   ]
  },
  {
   "cell_type": "markdown",
   "id": "81436d44",
   "metadata": {},
   "source": [
    "---"
   ]
  },
  {
   "cell_type": "markdown",
   "id": "005f9506-4698-4c2d-b3e0-7ab8ba6e02f3",
   "metadata": {},
   "source": [
    "여러 함수를 이용해 데이터의 개수와 합을 계산할 수 있습니다.\n",
    "\n",
    "> **🔨 함수(FUNCTIONS):**\n",
    ">\n",
    "> **`Series.count()`**  \n",
    "> 시리즈의 데이터의 개수를 구합니다.\n",
    "> ---\n",
    "> **`DataFrame.count(axis = 0_또는_1)`**  \n",
    "> 데이터프레임의 데이터의 개수를 구합니다.\n",
    ">> **매개변수(parameter)**\n",
    ">>\n",
    ">> **`axis`** : 0 또는 1이 전달됩니다.   \n",
    ">> axis가 0 일경우 열에서의 데이터의 개수를 구하고 axis가 1일 경우 행에서의 데이터의 개수를 구합니다.     \n",
    ">> 기본값은 0으로 열 방향으로의 데이터의 개수를 구합니다.\n",
    "> ---\n",
    "> **`Series.sum()`**  \n",
    "> 시리즈의 데이터의 합을 구합니다.\n",
    "> ---\n",
    "> **`DataFrame.sum(axis = 0_또는_1)`**  \n",
    "> 데이터프레임의 데이터의 합을 구합니다.\n",
    ">> **매개변수(parameter)**\n",
    ">>\n",
    ">> **`axis`** : 0 또는 1이 전달됩니다.   \n",
    ">> axis가 0 일경우 열에서의 데이터의 합을 구하고 axis가 1일 경우 행에서의 데이터의 합을 구합니다.     \n",
    ">> 기본값은 0으로 열 방향으로의 데이터의 합을 구합니다.\n",
    "> ---\n",
    "\n",
    "\n",
    "\n"
   ]
  },
  {
   "cell_type": "markdown",
   "id": "30724166-7421-4fb6-be42-813b6bba4bbe",
   "metadata": {
    "tags": []
   },
   "source": [
    "## 데이터의 개수와 합 구하기\n",
    "\n",
    "시리즈와 데이터프레임에 여러 함수들을 적용해 데이터의 개수와 합을 구할 수 있습니다.\n",
    "\n",
    "<table>\n",
    "<tr>\n",
    "    <th><img src=\"https://tmn-bucket-materials-all.s3.ap-northeast-2.amazonaws.com/image/pandas/material_09_07.gif\" width=\"750\"></th>\n",
    "</tr>\n",
    "<tr>\n",
    "    <th>시리즈에 데이터의 합, 개수 함수 적용하기</th>\n",
    "</tr>\n",
    "</table>\n",
    "\n",
    "<table>\n",
    "<tr>\n",
    "    <th><img src=\"https://tmn-bucket-materials-all.s3.ap-northeast-2.amazonaws.com/image/pandas/material_09_08.gif\" width=\"750\"></th>\n",
    "</tr>\n",
    "<tr>\n",
    "    <th>데이터프레임에 데이터의 합, 개수 함수 적용하기</th>\n",
    "</tr>\n",
    "</table>\n",
    "\n",
    "<table>\n",
    "<tr>\n",
    "    <th><img src=\"https://tmn-bucket-materials-all.s3.ap-northeast-2.amazonaws.com/image/pandas/material_09_09.gif\" width=\"750\"></th>\n",
    "</tr>\n",
    "<tr>\n",
    "    <th>데이터프레임에 열방향으로 데이터의 합, 개수 함수 적용하기</th>\n",
    "</tr>\n",
    "</table>"
   ]
  },
  {
   "cell_type": "code",
   "execution_count": null,
   "id": "5ffb06ee-9571-4811-8f38-bbde8cddae79",
   "metadata": {
    "tags": []
   },
   "outputs": [],
   "source": [
    "# 예제_1_시리즈의_합_개수_구하기\n",
    "\n",
    "import pandas as pd\n",
    "import random\n",
    "\n",
    "score = pd.read_csv('https://tmn-bucket-materials-all.s3.ap-northeast-2.amazonaws.com/data/midterm_exam_result.csv')\n",
    "score.index = score['이름']\n",
    "score = score.iloc[:,1]\n",
    "\n",
    "print('#'*30, f\"{'score':^15s}\" , '#' * 30, '\\n') # 출력되는 결과들을 분리해서 보여주기 위한 코드입니다.\n",
    "print(score)\n",
    "print('\\n','#'*30, \"{:^15s}\".format('score.count()') , '#' * 30, '\\n') # 출력되는 결과들을 분리해서 보여주기 위한 코드입니다.\n",
    "print(score.count())\n",
    "print('\\n','#'*30, \"{:^15s}\".format('score.sum()') , '#' * 30, '\\n') # 출력되는 결과들을 분리해서 보여주기 위한 코드입니다.\n",
    "print(score.sum())"
   ]
  },
  {
   "cell_type": "code",
   "execution_count": null,
   "id": "51b8be50-178f-4fc0-ac3e-6994b8b7cafa",
   "metadata": {
    "tags": []
   },
   "outputs": [],
   "source": [
    "# 예제_1_데이터프레임의_합_개수_구하기\n",
    "\n",
    "import pandas as pd\n",
    "import random\n",
    "\n",
    "score = pd.read_csv('https://tmn-bucket-materials-all.s3.ap-northeast-2.amazonaws.com/data/midterm_exam_result.csv')\n",
    "score.index = score['이름']\n",
    "score = score.iloc[:,1:]\n",
    "\n",
    "print('#'*30, f\"{'score':^15s}\" , '#' * 30, '\\n') # 출력되는 결과들을 분리해서 보여주기 위한 코드입니다.\n",
    "print(score)\n",
    "print('\\n','#'*30, \"{:^15s}\".format('score.count()') , '#' * 30, '\\n') # 출력되는 결과들을 분리해서 보여주기 위한 코드입니다.\n",
    "print(score.count())\n",
    "print('\\n','#'*30, \"{:^15s}\".format('score.sum()') , '#' * 30, '\\n') # 출력되는 결과들을 분리해서 보여주기 위한 코드입니다.\n",
    "print(score.sum())"
   ]
  },
  {
   "cell_type": "code",
   "execution_count": null,
   "id": "f0ffea28-b18d-4e5f-bedd-463e9642e2f8",
   "metadata": {
    "tags": []
   },
   "outputs": [],
   "source": [
    "# 예제_1_데이터프레임의_열방향_합_개수_구하기\n",
    "\n",
    "import pandas as pd\n",
    "import random\n",
    "\n",
    "score = pd.read_csv('https://tmn-bucket-materials-all.s3.ap-northeast-2.amazonaws.com/data/midterm_exam_result.csv')\n",
    "score.index = score['이름']\n",
    "score = score.iloc[:,1:]\n",
    "\n",
    "print('#'*30, f\"{'score':^15s}\" , '#' * 30, '\\n') # 출력되는 결과들을 분리해서 보여주기 위한 코드입니다.\n",
    "print(score)\n",
    "print('\\n','#'*30, \"{:^15s}\".format('score.count(axis = 1)') , '#' * 30, '\\n') # 출력되는 결과들을 분리해서 보여주기 위한 코드입니다.\n",
    "print(score.count(axis = 1))\n",
    "print('\\n','#'*30, \"{:^15s}\".format('score.sum(axis = 1)') , '#' * 30, '\\n') # 출력되는 결과들을 분리해서 보여주기 위한 코드입니다.\n",
    "print(score.sum(axis = 1))"
   ]
  },
  {
   "cell_type": "markdown",
   "id": "39d8bcb0-45cc-475b-a0bf-6242a3b7983f",
   "metadata": {},
   "source": [
    "### **💯 연습문제를 풀어봅시다**\n",
    "\n"
   ]
  },
  {
   "cell_type": "markdown",
   "id": "8d0dd8fe-cfd0-4ccb-a3d6-fbf7199fbb98",
   "metadata": {
    "tags": []
   },
   "source": [
    "1. <a class=\"jcecodle-mk jcecodle-mk__problem-chip\" data-problem-id=\"382GQJkEmuY\" href='#jce-judge/open/382GQJkEmuY' target='_self'><span>판다스 - 데이터 연산하기 - count</span></a>\n",
    "\n",
    "1. <a class=\"jcecodle-mk jcecodle-mk__problem-chip\" data-problem-id=\"9S_mUPGOUuM\" href='#jce-judge/open/9S_mUPGOUuM' target='_self'><span>열별 데이터 개수</span></a>\n",
    "2. <a class=\"jcecodle-mk jcecodle-mk__problem-chip\" data-problem-id=\"Ko8ZZWsvwZ4\" href='#jce-judge/open/Ko8ZZWsvwZ4' target='_self'><span>가계부 데이터 개수 (1)</span></a>\n",
    "2. <a class=\"jcecodle-mk jcecodle-mk__problem-chip\" data-problem-id=\"0JU_Sr_2GP0\" href='#jce-judge/open/0JU_Sr_2GP0' target='_self'><span>판다스 - 데이터 연산하기 - sum (1)</span></a>\n",
    "3. <a class=\"jcecodle-mk jcecodle-mk__problem-chip\" data-problem-id=\"nOauwzr8TZU\" href='#jce-judge/open/nOauwzr8TZU' target='_self'><span>판다스 - 데이터 연산하기 - sum (2)</span></a>\n",
    "1. <a class=\"jcecodle-mk jcecodle-mk__problem-chip\" data-problem-id=\"Clzp33-7Wd4\" href='#jce-judge/open/Clzp33-7Wd4' target='_self'><span>광고 매체 저촉 인원 합계</span></a>\n",
    "2. <a class=\"jcecodle-mk jcecodle-mk__problem-chip\" data-problem-id=\"FC1e2M2CMtw\" href='#jce-judge/open/FC1e2M2CMtw' target='_self'><span>전교회장 후보 득표수 합계</span></a>\n",
    "3. <a class=\"jcecodle-mk jcecodle-mk__problem-chip\" data-problem-id=\"l_FykgOTPIM\" href='#jce-judge/open/l_FykgOTPIM' target='_self'><span>전과목 성적 합계</span></a>\n",
    "6. <a class=\"jcecodle-mk jcecodle-mk__problem-chip\" data-problem-id=\"C9BqQGWVB0Y\" href='#jce-judge/open/C9BqQGWVB0Y' target='_self'><span>득표수 정보 찾아 변경하기</span></a>\n",
    "1. <a class=\"jcecodle-mk jcecodle-mk__problem-chip\" data-problem-id=\"XTOwDbSGsZ8\" href='#jce-judge/open/XTOwDbSGsZ8' target='_self'><span>지출 최소인 주</span></a>\n"
   ]
  },
  {
   "cell_type": "markdown",
   "id": "3f25c519",
   "metadata": {
    "tags": []
   },
   "source": [
    "# **[10-1] 데이터 그룹화하기**"
   ]
  },
  {
   "cell_type": "markdown",
   "id": "47ab7fe3",
   "metadata": {
    "tags": []
   },
   "source": [
    "## **🎯 학습 목표**\n",
    "**데이터를 그룹화 해봅시다.**"
   ]
  },
  {
   "cell_type": "markdown",
   "id": "b6ab2217",
   "metadata": {},
   "source": [
    "---"
   ]
  },
  {
   "cell_type": "markdown",
   "id": "3d155da9-67f7-49ec-a82c-f0fd16cf5f23",
   "metadata": {},
   "source": [
    "데이터를 파악할 때 그룹별로 나누어 각각에 대한 정보를 확인할 필요가 있습니다.  \n",
    "가령, 학교의 모든 학생 전체에 대한 데이터를 각 학년 별, 반 별, 성별에 따라 나눌 수 있습니다.    \n",
    "Pandas의 `groupby()` 함수는 데이터를 그룹별로 나누어줍니다.  \n",
    "\n",
    "> **🔨 함수(FUNCTIONS):**\n",
    ">\n",
    "> **`Series.unique()`**  \n",
    "> 시리즈에 포함된 고윳값들을 반환합니다.\n",
    "> ---\n",
    "> **`DataFrame.groupby(by = 열이름_또는_열_리스트)`**  \n",
    "> 데이터프레임을 매개변수로 받은 열들의 값을 기준으로 그룹화하여 그룹을 반환합니다.\n",
    ">> **매개변수(parameter)**\n",
    ">>\n",
    ">> **`by`** : 열이름 또는 열_리스트가 전달됩니다.   \n",
    ">> 매개변수로 받은 열들의 값을 기준으로 그룹화합니다.\n",
    "> ---\n",
    "> **`DataFrame.groupby(by = 열이름_또는_열_리스트).get_group(name = 그룹이름)`**  \n",
    "> 그룹화 된 그룹에서 특정 그룹을 반환합니다.\n",
    ">> **매개변수(parameter)**\n",
    ">>\n",
    ">> **`name`** : 그룹이름이 전달됩니다.   \n",
    ">> 매개변수로 받은 그룹에 포함된 행들을 반환합니다.\n",
    "> ---\n",
    "\n",
    "\n",
    "\n",
    "\n"
   ]
  },
  {
   "cell_type": "markdown",
   "id": "546d8e8a-89d1-4d76-ace0-40ed8f3ac359",
   "metadata": {
    "tags": []
   },
   "source": [
    "## 데이터 그룹 확인하기\n",
    "\n",
    "`unique()` 함수로 특정 열에 포함된 고윳값들을 확인할 수 있습니다.  \n",
    "\n",
    "<table>\n",
    "<tr>\n",
    "    <th><img src=\"https://tmn-bucket-materials-all.s3.ap-northeast-2.amazonaws.com/image/pandas/material_10_01.gif\" width=\"750\"></th>\n",
    "</tr>\n",
    "<tr>\n",
    "    <th>시리즈의 고윳값 확인하기</th>\n",
    "</tr>\n",
    "</table>\n",
    "\n",
    "\n",
    "`groupby()` 함수와 `get_group()` 함수를 같이 사용하여 데이터를 그룹화하고 특정 그룹을 확인할 수 있습니다.  \n",
    "\n",
    "<table>\n",
    "<tr>\n",
    "    <th><img src=\"https://tmn-bucket-materials-all.s3.ap-northeast-2.amazonaws.com/image/pandas/material_10_02.gif\" width=\"750\"></th>\n",
    "</tr>\n",
    "<tr>\n",
    "    <th>데이터프레임 그룹화하고 그룹 확인하기</th>\n",
    "</tr>\n",
    "</table>"
   ]
  },
  {
   "cell_type": "code",
   "execution_count": null,
   "id": "c3528fe4-b465-436f-be16-4e7072fc3651",
   "metadata": {
    "tags": []
   },
   "outputs": [],
   "source": [
    "# 예제_1_시리즈의_고윳값_확인하기\n",
    "\n",
    "import pandas as pd\n",
    "\n",
    "region = pd.read_csv('https://tmn-bucket-materials-all.s3.ap-northeast-2.amazonaws.com/data/%EA%B3%A0%EB%93%B1%ED%95%99%EA%B5%90.csv')['시도교육청']\n",
    "\n",
    "print('#'*30, f\"{'region':^15s}\" , '#' * 30, '\\n') # 출력되는 결과들을 분리해서 보여주기 위한 코드입니다.\n",
    "print(region)\n",
    "print('\\n','#'*30, \"{:^15s}\".format('region.unique()') , '#' * 30, '\\n') # 출력되는 결과들을 분리해서 보여주기 위한 코드입니다.\n",
    "print(region.unique())"
   ]
  },
  {
   "cell_type": "code",
   "execution_count": null,
   "id": "b283d703-4a5f-46ae-ab83-ce8d71a36f5f",
   "metadata": {
    "tags": []
   },
   "outputs": [],
   "source": [
    "# 예제_2_데이터프레임 그룹화하고 그룹 확인하기\n",
    "\n",
    "import pandas as pd\n",
    "\n",
    "region = pd.read_csv('https://tmn-bucket-materials-all.s3.ap-northeast-2.amazonaws.com/data/%EA%B3%A0%EB%93%B1%ED%95%99%EA%B5%90.csv')\n",
    "\n",
    "print('#'*30, f\"{'region':^15s}\" , '#' * 30, '\\n') # 출력되는 결과들을 분리해서 보여주기 위한 코드입니다.\n",
    "print(region)\n",
    "print('\\n','#'*30, \"{:^15s}\".format(\"region.groupby(by='시도교육청').get_group('서울특별시교육청')\") , '#' * 30, '\\n') # 출력되는 결과들을 분리해서 보여주기 위한 코드입니다.\n",
    "print(region.groupby(by='시도교육청').get_group('서울특별시교육청'))"
   ]
  },
  {
   "cell_type": "markdown",
   "id": "26f36b08-a173-4ada-8a87-dbc4c0ee0984",
   "metadata": {},
   "source": [
    "### **💯 연습문제를 풀어봅시다**\n",
    "\n"
   ]
  },
  {
   "cell_type": "markdown",
   "id": "a5e82e78-de32-4f45-bce6-a380a7eeae3e",
   "metadata": {
    "tags": []
   },
   "source": [
    "1. <a class=\"jcecodle-mk jcecodle-mk__problem-chip\" data-problem-id=\"A_cZFNLXp2g\" href='#jce-judge/open/A_cZFNLXp2g' target='_self'><span>판다스 연습 1 - 고유값 확인하기</span></a>\n",
    "\n",
    "1. <a class=\"jcecodle-mk jcecodle-mk__problem-chip\" data-problem-id=\"eCJG9W11jwo\" href='#jce-judge/open/eCJG9W11jwo' target='_self'><span>판다스 연습 - 고유값 확인하기 (2)</span></a>\n",
    "\n",
    "2. <a class=\"jcecodle-mk jcecodle-mk__problem-chip\" data-problem-id=\"6JfDhokaDD8\" href='#jce-judge/open/6JfDhokaDD8' target='_self'><span>판다스 연습 - 고유값 확인하기 (3)</span></a>\n",
    "\n",
    "\n",
    "\n",
    "2. <a class=\"jcecodle-mk jcecodle-mk__problem-chip\" data-problem-id=\"W1lO3m8jNCA\" href='#jce-judge/open/W1lO3m8jNCA' target='_self'><span>판다스 - 데이터 그룹 - 출력하기</span></a>\n",
    "\n",
    "1. <a class=\"jcecodle-mk jcecodle-mk__problem-chip\" data-problem-id=\"XY8NiTglyiU\" href='#jce-judge/open/XY8NiTglyiU' target='_self'><span>판다스 - 데이터 그룹 - 출력하기 (2)</span></a>\n",
    "\n",
    "2. <a class=\"jcecodle-mk jcecodle-mk__problem-chip\" data-problem-id=\"hj-qreiT6CQ\" href='#jce-judge/open/hj-qreiT6CQ' target='_self'><span>가족 인적사항 그룹핑</span></a>\n",
    "\n"
   ]
  },
  {
   "cell_type": "markdown",
   "id": "4ef9e739",
   "metadata": {
    "tags": []
   },
   "source": [
    "# **[10-2] 그룹별로 통계함수 적용하기**"
   ]
  },
  {
   "cell_type": "markdown",
   "id": "2291db3b",
   "metadata": {
    "tags": []
   },
   "source": [
    "## **🎯 학습 목표**\n",
    "**그룹별로 통계함수를 적용해봅시다.**"
   ]
  },
  {
   "cell_type": "markdown",
   "id": "895e343e",
   "metadata": {},
   "source": [
    "---"
   ]
  },
  {
   "cell_type": "markdown",
   "id": "e5cf56ef-5ca3-47a6-9437-0b5a43a92cdb",
   "metadata": {},
   "source": [
    "데이터를 파악할 때 그룹별로 나누어 각각에 대한 정보를 확인할 필요가 있습니다.  \n",
    "앞에서 배운 통계함수들을 각 그룹별로 적용할 수 있습니다.\n",
    "\n",
    "> **🔨 함수(FUNCTIONS):**\n",
    ">\n",
    "> **`DataFrame.groupby(by = 열이름_또는_열_리스트).mean(numeric_only = True)`**  \n",
    "> 그룹화 된 그룹에서 각 그룹의 각 열별로 평균값을 구합니다.\n",
    ">> **매개변수(parameter)**\n",
    ">>\n",
    ">> **`numeric_only`** : True 또는 False가 전달됩니다.   \n",
    ">> True이면 정수, 실수 데이터에 대해서만 통계값을 계산합니다.\n",
    "> ---\n",
    "> **`DataFrame.groupby(by = 열이름_또는_열_리스트).median(numeric_only = True)`**  \n",
    "> 그룹화 된 그룹에서 각 그룹의 각 열별로 중앙값을 구합니다.\n",
    ">> **매개변수(parameter)**\n",
    ">>\n",
    ">> **`numeric_only`** : True 또는 False가 전달됩니다.   \n",
    ">> True이면 정수, 실수 데이터에 대해서만 통계값을 계산합니다.\n",
    "> ---\n",
    "> **`DataFrame.groupby(by = 열이름_또는_열_리스트).std(numeric_only = True)`**  \n",
    "> 그룹화 된 그룹에서 각 그룹의 각 열별로 표준편차를 구합니다.\n",
    ">> **매개변수(parameter)**\n",
    ">>\n",
    ">> **`numeric_only`** : True 또는 False가 전달됩니다.   \n",
    ">> True이면 정수, 실수 데이터에 대해서만 통계값을 계산합니다.\n",
    "> ---\n",
    "> **`DataFrame.groupby(by = 열이름_또는_열_리스트).max(numeric_only = True)`**  \n",
    "> 그룹화 된 그룹에서 각 그룹의 각 열별로 최댓값을 구합니다.\n",
    ">> **매개변수(parameter)**\n",
    ">>\n",
    ">> **`numeric_only`** : True 또는 False가 전달됩니다.   \n",
    ">> True이면 정수, 실수 데이터에 대해서만 통계값을 계산합니다.\n",
    "> ---\n",
    "> **`DataFrame.groupby(by = 열이름_또는_열_리스트).min(numeric_only = True)`**  \n",
    "> 그룹화 된 그룹에서 각 그룹의 각 열별로 최솟값을 구합니다.\n",
    ">> **매개변수(parameter)**\n",
    ">>\n",
    ">> **`numeric_only`** : True 또는 False가 전달됩니다.   \n",
    ">> True이면 정수, 실수 데이터에 대해서만 통계값을 계산합니다.\n",
    "> ---\n",
    "> **`DataFrame.groupby(by = 열이름_또는_열_리스트).argmax(numeric_only = True)`**  \n",
    "> 그룹화 된 그룹에서 각 그룹의 각 열별로 최댓값의 인덱스를 구합니다.\n",
    ">> **매개변수(parameter)**\n",
    ">>\n",
    ">> **`numeric_only`** : True 또는 False가 전달됩니다.   \n",
    ">> True이면 정수, 실수 데이터에 대해서만 통계값을 계산합니다.\n",
    "> ---\n",
    "> **`DataFrame.groupby(by = 열이름_또는_열_리스트).argmin(numeric_only = True)`**  \n",
    "> 그룹화 된 그룹에서 각 그룹의 각 열별로 최솟값의 인덱스를 구합니다.\n",
    ">> **매개변수(parameter)**\n",
    ">>\n",
    ">> **`numeric_only`** : True 또는 False가 전달됩니다.   \n",
    ">> True이면 정수, 실수 데이터에 대해서만 통계값을 계산합니다.\n",
    "> ---\n",
    "> **`DataFrame.groupby(by = 열이름_또는_열_리스트).sum(numeric_only = True)`**  \n",
    "> 그룹화 된 그룹에서 각 그룹의 각 열별로 데이터의 합을 구합니다.\n",
    ">> **매개변수(parameter)**\n",
    ">>\n",
    ">> **`numeric_only`** : True 또는 False가 전달됩니다.   \n",
    ">> True이면 정수, 실수 데이터에 대해서만 통계값을 계산합니다.\n",
    "> ---\n",
    "> **`DataFrame.groupby(by = 열이름_또는_열_리스트).count()`**  \n",
    "> 그룹화 된 그룹에서 각 그룹의 각 열별로 데이터의 개수를 구합니다.\n",
    "> ---\n",
    "\n",
    "> **⚠️ 주의(WARNING):**\n",
    ">\n",
    "> 그룹 통계 함수에서 최빈값함수(mode)는 사용할 수 없습니다.\n",
    "\n",
    "\n"
   ]
  },
  {
   "cell_type": "markdown",
   "id": "70f8792a-b98b-40ea-9adb-260bdace91d7",
   "metadata": {
    "tags": []
   },
   "source": [
    "## 데이터 그룹 확인하기\n",
    "\n",
    "\n",
    "`groupby()` 함수와 통계 함수를 같이 사용하여 데이터의 그룹별 통계를 낼 수 있습니다.  \n",
    "\n",
    "<table>\n",
    "<tr>\n",
    "    <th><img src=\"https://tmn-bucket-materials-all.s3.ap-northeast-2.amazonaws.com/image/pandas/material_10_03.gif\" width=\"750\"></th>\n",
    "</tr>\n",
    "<tr>\n",
    "    <th>데이터프레임 그룹화하고 그룹별 통계 확인하기</th>\n",
    "</tr>\n",
    "</table>"
   ]
  },
  {
   "cell_type": "code",
   "execution_count": null,
   "id": "c44ad056-5718-440e-8088-814a05720e17",
   "metadata": {
    "tags": []
   },
   "outputs": [],
   "source": [
    "# 예제_1_데이터프레임의_그룹별_통계_확인하기\n",
    "\n",
    "import pandas as pd\n",
    "\n",
    "region = pd.read_csv('https://tmn-bucket-materials-all.s3.ap-northeast-2.amazonaws.com/data/%EA%B3%A0%EB%93%B1%ED%95%99%EA%B5%90.csv')\n",
    "\n",
    "print('#'*30, f\"{'region':^15s}\" , '#' * 30, '\\n') # 출력되는 결과들을 분리해서 보여주기 위한 코드입니다.\n",
    "print(region)\n",
    "print('\\n','#'*30, \"{:^15s}\".format('region.groupby(by=\\'시도교육청\\').mean(numeric_only = True)') , '#' * 30, '\\n') # 출력되는 결과들을 분리해서 보여주기 위한 코드입니다.\n",
    "print(region.groupby(by='시도교육청').mean(numeric_only = True))\n",
    "print('\\n','#'*30, \"{:^15s}\".format('region.groupby(by=\\'시도교육청\\').median(numeric_only = True)') , '#' * 30, '\\n') # 출력되는 결과들을 분리해서 보여주기 위한 코드입니다.\n",
    "print(region.groupby(by='시도교육청').median(numeric_only = True))\n",
    "print('\\n','#'*30, \"{:^15s}\".format('region.groupby(by=\\'시도교육청\\').std(numeric_only = True)') , '#' * 30, '\\n') # 출력되는 결과들을 분리해서 보여주기 위한 코드입니다.\n",
    "print(region.groupby(by='시도교육청').std(numeric_only = True))\n",
    "print('\\n','#'*30, \"{:^15s}\".format('region.groupby(by=\\'시도교육청\\').max(numeric_only = True)') , '#' * 30, '\\n') # 출력되는 결과들을 분리해서 보여주기 위한 코드입니다.\n",
    "print(region.groupby(by='시도교육청').max(numeric_only = True))\n",
    "print('\\n','#'*30, \"{:^15s}\".format('region.groupby(by=\\'시도교육청\\').idxmax(numeric_only = True)') , '#' * 30, '\\n') # 출력되는 결과들을 분리해서 보여주기 위한 코드입니다.\n",
    "print(region.groupby(by='시도교육청').idxmax(numeric_only = True))\n",
    "print('\\n','#'*30, \"{:^15s}\".format('region.groupby(by=\\'시도교육청\\').min(numeric_only = True)') , '#' * 30, '\\n') # 출력되는 결과들을 분리해서 보여주기 위한 코드입니다.\n",
    "print(region.groupby(by='시도교육청').min(numeric_only = True))\n",
    "print('\\n','#'*30, \"{:^15s}\".format('region.groupby(by=\\'시도교육청\\').idxmin(numeric_only = True)') , '#' * 30, '\\n') # 출력되는 결과들을 분리해서 보여주기 위한 코드입니다.\n",
    "print(region.groupby(by='시도교육청').idxmin(numeric_only = True))\n",
    "print('\\n','#'*30, \"{:^15s}\".format('region.groupby(by=\\'시도교육청\\').sum(numeric_only = True)') , '#' * 30, '\\n') # 출력되는 결과들을 분리해서 보여주기 위한 코드입니다.\n",
    "print(region.groupby(by='시도교육청').sum(numeric_only = True))\n",
    "print('\\n','#'*30, \"{:^15s}\".format('region.groupby(by=\\'시도교육청\\').count()') , '#' * 30, '\\n') # 출력되는 결과들을 분리해서 보여주기 위한 코드입니다.\n",
    "print(region.groupby(by='시도교육청').count())"
   ]
  },
  {
   "cell_type": "markdown",
   "id": "67b8a509-7541-4fa1-bd14-46add080eabe",
   "metadata": {},
   "source": [
    "### **💯 연습문제를 풀어봅시다**\n",
    "\n"
   ]
  },
  {
   "cell_type": "markdown",
   "id": "1ad0cd3b-e5e5-40f7-8f07-a0e8f11fe536",
   "metadata": {
    "tags": []
   },
   "source": [
    "1. <a class=\"jcecodle-mk jcecodle-mk__problem-chip\" data-problem-id=\"avwM_OdiVH4\" href='#jce-judge/open/avwM_OdiVH4' target='_self'><span>판다스 - 데이터 그룹 - min/median/max</span></a>\n",
    "\n",
    "1. <a class=\"jcecodle-mk jcecodle-mk__problem-chip\" data-problem-id=\"YicYmkkhgg8\" href='#jce-judge/open/YicYmkkhgg8' target='_self'><span>판다스 - 데이터 그룹 - min/max</span></a>\n",
    "\n",
    "2. <a class=\"jcecodle-mk jcecodle-mk__problem-chip\" data-problem-id=\"gJqxmBB03eE\" href='#jce-judge/open/gJqxmBB03eE' target='_self'><span>카페 정보 중앙값</span></a>\n",
    "\n",
    "3. <a class=\"jcecodle-mk jcecodle-mk__problem-chip\" data-problem-id=\"FE8ax_kDL3E\" href='#jce-judge/open/FE8ax_kDL3E' target='_self'><span>날씨 데이터 min/max/median</span></a>\n",
    "\n",
    "\n",
    "\n",
    "2. <a class=\"jcecodle-mk jcecodle-mk__problem-chip\" data-problem-id=\"C85oubW1UHs\" href='#jce-judge/open/C85oubW1UHs' target='_self'><span>판다스 - 데이터 그룹 - mean/std</span></a>\n",
    "\n",
    "1. <a class=\"jcecodle-mk jcecodle-mk__problem-chip\" data-problem-id=\"S5pt2E2mv-A\" href='#jce-judge/open/S5pt2E2mv-A' target='_self'><span>기온, 습도 평균</span></a>\n",
    "\n",
    "2. <a class=\"jcecodle-mk jcecodle-mk__problem-chip\" data-problem-id=\"SA6R7R1iYh0\" href='#jce-judge/open/SA6R7R1iYh0' target='_self'><span>다이어트 데이터 표준편차</span></a>\n",
    "\n"
   ]
  },
  {
   "cell_type": "markdown",
   "id": "47801219",
   "metadata": {
    "tags": []
   },
   "source": [
    "# **[10-3] 그룹별 통계량을 한번에 확인하기**"
   ]
  },
  {
   "cell_type": "markdown",
   "id": "11612984",
   "metadata": {
    "tags": []
   },
   "source": [
    "## **🎯 학습 목표**\n",
    "**그룹별 통계량을 한번에 확인해봅시다.**"
   ]
  },
  {
   "cell_type": "markdown",
   "id": "3cae7602",
   "metadata": {},
   "source": [
    "---"
   ]
  },
  {
   "cell_type": "markdown",
   "id": "f6cfb071-7f3f-471c-80a4-03599d968f0e",
   "metadata": {},
   "source": [
    "이전에 데이터의 기초 통계량을 한번에 확인할 수 있는 `describe`를 배운적이 있습니다.  \n",
    "이것을 `groupby`와 함께 사용하면 그룹별 기초 통계량을 한눈에 확인할 수 있습니다.  \n",
    "\n",
    "> **🔨 함수(FUNCTIONS):**\n",
    ">\n",
    "> **`DataFrame.groupby(by = 열이름_또는_열_리스트).describe()`**  \n",
    "> 그룹화하고 각 그룹의 통계값을 한번에 구합니다.\n",
    "> ---"
   ]
  },
  {
   "cell_type": "markdown",
   "id": "a73a415c-1d23-4ec8-8b1b-7c6e4662647c",
   "metadata": {
    "tags": []
   },
   "source": [
    "## 데이터 그룹 확인하기\n",
    "\n",
    "`groupby()` 함수와 `describe()` 함수를 같이 사용하여 데이터의 그룹별 통계를 낼 수 있습니다.  \n",
    "\n",
    "<table>\n",
    "<tr>\n",
    "    <th><img src=\"https://tmn-bucket-materials-all.s3.ap-northeast-2.amazonaws.com/image/pandas/material_10_04.gif\" width=\"750\"></th>\n",
    "</tr>\n",
    "<tr>\n",
    "    <th>데이터프레임 그룹화하고 describe() 함수로 그룹별 통계 한번에 확인하기</th>\n",
    "</tr>\n",
    "</table>"
   ]
  },
  {
   "cell_type": "code",
   "execution_count": null,
   "id": "e3ac630a-81fd-4e03-b07d-ac5b90873ad0",
   "metadata": {
    "tags": []
   },
   "outputs": [],
   "source": [
    "# 예제_1_데이터프레임_그룹별_통계_한번에_확인하기\n",
    "\n",
    "import pandas as pd\n",
    "\n",
    "region = pd.read_csv('https://tmn-bucket-materials-all.s3.ap-northeast-2.amazonaws.com/data/%EA%B3%A0%EB%93%B1%ED%95%99%EA%B5%90.csv')\n",
    "\n",
    "print('#'*30, f\"{'region':^15s}\" , '#' * 30, '\\n') # 출력되는 결과들을 분리해서 보여주기 위한 코드입니다.\n",
    "print(region)\n",
    "print('\\n','#'*30, \"{:^15s}\".format('region.groupby(by=\\'시도교육청\\').describe()') , '#' * 30, '\\n') # 출력되는 결과들을 분리해서 보여주기 위한 코드입니다.\n",
    "print(region.groupby(by='시도교육청').describe())"
   ]
  },
  {
   "cell_type": "markdown",
   "id": "0790bed0-9914-4275-aba6-9fda033ca32a",
   "metadata": {},
   "source": [
    "### **💯 연습문제를 풀어봅시다**\n",
    "\n"
   ]
  },
  {
   "cell_type": "markdown",
   "id": "f06bbb29-9b91-4ea9-94d0-f494cf515fac",
   "metadata": {
    "tags": []
   },
   "source": [
    "1. <a class=\"jcecodle-mk jcecodle-mk__problem-chip\" data-problem-id=\"qw22bqe0uf4\" href='#jce-judge/open/qw22bqe0uf4' target='_self'><span>판다스 - 데이터 그룹 - describe</span></a>\n",
    "\n",
    "2. <a class=\"jcecodle-mk jcecodle-mk__problem-chip\" data-problem-id=\"So_m24VWMOs\" href='#jce-judge/open/So_m24VWMOs' target='_self'><span>판다스 - 데이터 그룹 - describe (2)</span></a>\n"
   ]
  }
 ],
 "metadata": {
  "kernelspec": {
   "display_name": "Python 3 (ipykernel)",
   "language": "python",
   "name": "python3"
  },
  "language_info": {
   "codemirror_mode": {
    "name": "ipython",
    "version": 3
   },
   "file_extension": ".py",
   "mimetype": "text/x-python",
   "name": "python",
   "nbconvert_exporter": "python",
   "pygments_lexer": "ipython3",
   "version": "3.10.11"
  }
 },
 "nbformat": 4,
 "nbformat_minor": 5
}
